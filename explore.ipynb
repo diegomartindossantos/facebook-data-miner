{
 "nbformat": 4,
 "nbformat_minor": 2,
 "metadata": {
  "language_info": {
   "name": "python",
   "codemirror_mode": {
    "name": "ipython",
    "version": 3
   },
   "version": "3.8.3-final"
  },
  "orig_nbformat": 2,
  "file_extension": ".py",
  "mimetype": "text/x-python",
  "name": "python",
  "npconvert_exporter": "python",
  "pygments_lexer": "ipython3",
  "version": 3,
  "kernelspec": {
   "name": "python38364bitf5358f2379d14c9bb4daf2187bdcd779",
   "display_name": "Python 3.8.3 64-bit"
  }
 },
 "cells": [
  {
   "cell_type": "code",
   "execution_count": 27,
   "metadata": {},
   "outputs": [
    {
     "name": "stdout",
     "output_type": "stream",
     "text": "data\t       __pycache__  test_data\t   todo.txt\nexplore.ipynb  README.md    test_utils.py  utils.py\n"
    }
   ],
   "source": [
    "!ls"
   ]
  },
  {
   "cell_type": "code",
   "execution_count": 28,
   "metadata": {},
   "outputs": [],
   "source": [
    "import reusables\n",
    "from pathlib import Path\n",
    "from reusables.cli import *"
   ]
  },
  {
   "cell_type": "code",
   "execution_count": 29,
   "metadata": {},
   "outputs": [
    {
     "data": {
      "text/plain": "'/home/levente/projects/facebook-data-miner'"
     },
     "execution_count": 29,
     "metadata": {},
     "output_type": "execute_result"
    }
   ],
   "source": [
    "pwd()"
   ]
  },
  {
   "cell_type": "code",
   "execution_count": 30,
   "metadata": {},
   "outputs": [
    {
     "data": {
      "text/plain": "PosixPath('/home/levente/projects/facebook-data-miner/data')"
     },
     "execution_count": 30,
     "metadata": {},
     "output_type": "execute_result"
    }
   ],
   "source": [
    "DATA = Path(f'{pwd()}/data')\n",
    "DATA"
   ]
  },
  {
   "cell_type": "code",
   "execution_count": 31,
   "metadata": {},
   "outputs": [
    {
     "name": "stdout",
     "output_type": "stream",
     "text": ".:\ndata\nexplore.ipynb\n__pycache__\nREADME.md\ntest_data\ntest_utils.py\ntodo.txt\nutils.py\n\n/home/levente/projects/facebook-data-miner/data:\nabout_you\nads_and_businesses\napps_and_websites\ncomments\nevents\nfacebook_gaming\nfiles\nfollowing_and_followers\nfriends\ngroups\ninformation_used_for_recommendations\ninteractions\nlasso\nlikes_and_reactions\nlocation\nmarketplace\nmessages\nother_activity\npages\npayment_history\nphotos_and_videos\nposts\nprofile_information\nsaved_items_and_collections\nsearch_history\nsecurity_and_login_information\nstories\nvoice_recording_and_transcription\nyour_places\n\n"
    }
   ],
   "source": [
    "ls(DATA)"
   ]
  },
  {
   "cell_type": "code",
   "execution_count": 32,
   "metadata": {},
   "outputs": [],
   "source": [
    "messages = DATA/'messages/inbox'\n",
    "#ls(messages)"
   ]
  },
  {
   "cell_type": "code",
   "execution_count": 33,
   "metadata": {},
   "outputs": [
    {
     "name": "stdout",
     "output_type": "stream",
     "text": "1309\n"
    }
   ],
   "source": [
    "!ls -l {messages} | wc -l"
   ]
  },
  {
   "cell_type": "code",
   "execution_count": 34,
   "metadata": {},
   "outputs": [
    {
     "name": "stdout",
     "output_type": "stream",
     "text": "drwx------ 2 levente levente 4096 Jun  1 15:52 boglarkaborcsok_4byfadu1pw\ndrwx------ 2 levente levente 4096 Jun  1 15:52 boglarkaborcsokszabolcsbosnyakgergelysorosand3others_f5h6jkd0la\ndrwx------ 2 levente levente 4096 Jun  1 15:52 csokeboglarka_5a48zi9p1w\ndrwx------ 2 levente levente 4096 Jun  1 15:52 csokeboglarkaandcsokemarta_2sf_9ht5pa\ndrwx------ 2 levente levente 4096 Jun  1 15:52 csokeboglarkaandcsokemarta_esjwai2xea\ndrwx------ 2 levente levente 4096 Jun  1 15:52 csokeboglarkaandcsokemarta_n9vogtosbq\ndrwx------ 2 levente levente 4096 Jun  1 15:52 csokeboglarkazsofihulloandbalinthullo_iz5useyqyw\ndrwx------ 2 levente levente 4096 Jun  1 15:52 csokefloracsokeboglarkaandignaccsoke_m-idwpop5a\ndrwx------ 2 levente levente 4096 Jun  1 15:52 doraboldizsarboglarkaborcsoksimonajevremovand20others_oilzh0zcna\ndrwx------ 2 levente levente 4096 Jun  1 15:52 doraboldizsarflorencemaureauxanikogombasandcsokeboglarka_2k69ldoi5a\ndrwx------ 2 levente levente 4096 Jun  1 15:52 emesevecsiandcsokeboglarka_8uib6jozew\n"
    }
   ],
   "source": [
    "!ls -l {messages} | grep boglarka"
   ]
  },
  {
   "cell_type": "code",
   "execution_count": 35,
   "metadata": {},
   "outputs": [
    {
     "name": "stdout",
     "output_type": "stream",
     "text": ".:\ndata\nexplore.ipynb\n__pycache__\nREADME.md\ntest_data\ntest_utils.py\ntodo.txt\nutils.py\n\n/home/levente/projects/facebook-data-miner/data/messages/inbox/csokeboglarka_5a48zi9p1w:\nmessage_1.json\nmessage_2.json\n\n"
    }
   ],
   "source": [
    "ls(messages/'csokeboglarka_5a48zi9p1w')"
   ]
  },
  {
   "cell_type": "code",
   "execution_count": 36,
   "metadata": {},
   "outputs": [],
   "source": [
    "bogi_msg = Path('/home/levente/projects/facebook-data-miner/data/messages/inbox/csokeboglarka_5a48zi9p1w')"
   ]
  },
  {
   "cell_type": "code",
   "execution_count": 37,
   "metadata": {},
   "outputs": [],
   "source": [
    "from utils import *"
   ]
  },
  {
   "cell_type": "code",
   "execution_count": 38,
   "metadata": {},
   "outputs": [
    {
     "name": "stdout",
     "output_type": "stream",
     "text": "{\n  \"participants\": [\n    {\n      \"name\": \"Cs\\u00c5\\u0091ke Bogl\\u00c3\\u00a1rka\"\n    },\n    {\n      \"name\": \"Levente Cs\\u00c5\\u0091ke\"\n    }\n  ],\n  \"messages\": [\n"
    }
   ],
   "source": [
    "!head {bogi_msg/'message_1.json'}"
   ]
  },
  {
   "cell_type": "code",
   "execution_count": 39,
   "metadata": {},
   "outputs": [],
   "source": [
    "data = get_messages(bogi_msg/'message_1.json', bogi_msg/'message_2.json')"
   ]
  },
  {
   "cell_type": "code",
   "execution_count": 40,
   "metadata": {},
   "outputs": [
    {
     "data": {
      "text/plain": "dict_keys(['participants', 'messages', 'title', 'is_still_participant', 'thread_type', 'thread_path'])"
     },
     "execution_count": 40,
     "metadata": {},
     "output_type": "execute_result"
    }
   ],
   "source": [
    "data.keys()"
   ]
  },
  {
   "cell_type": "code",
   "execution_count": 41,
   "metadata": {},
   "outputs": [],
   "source": [
    "messages = data.get('messages')"
   ]
  },
  {
   "cell_type": "code",
   "execution_count": 42,
   "metadata": {},
   "outputs": [],
   "source": [
    "del data['messages']"
   ]
  },
  {
   "cell_type": "code",
   "execution_count": 43,
   "metadata": {},
   "outputs": [
    {
     "data": {
      "text/plain": "{'participants': [{'name': 'Csőke Boglárka'}, {'name': 'Levente Csőke'}],\n 'title': 'Csőke Boglárka',\n 'is_still_participant': True,\n 'thread_type': 'Regular',\n 'thread_path': 'inbox/CsokeBoglarka_5A48Zi9P1w'}"
     },
     "execution_count": 43,
     "metadata": {},
     "output_type": "execute_result"
    }
   ],
   "source": [
    "data"
   ]
  },
  {
   "cell_type": "code",
   "execution_count": 44,
   "metadata": {},
   "outputs": [
    {
     "data": {
      "text/plain": "(14297, list)"
     },
     "execution_count": 44,
     "metadata": {},
     "output_type": "execute_result"
    }
   ],
   "source": [
    "len(messages), type(messages)"
   ]
  },
  {
   "cell_type": "code",
   "execution_count": 45,
   "metadata": {},
   "outputs": [
    {
     "data": {
      "text/plain": "{'sender_name': 'Csőke Boglárka',\n 'timestamp_ms': 1590999965740,\n 'content': 'Ajd',\n 'type': 'Generic'}"
     },
     "execution_count": 45,
     "metadata": {},
     "output_type": "execute_result"
    }
   ],
   "source": [
    "messages[0]"
   ]
  },
  {
   "cell_type": "code",
   "execution_count": 46,
   "metadata": {},
   "outputs": [],
   "source": [
    "def order_list_of_dicts(lst, key='timestamp_ms'):\n",
    "    return sorted(lst, key=lambda k: k[key]) "
   ]
  },
  {
   "cell_type": "code",
   "execution_count": 47,
   "metadata": {},
   "outputs": [],
   "source": [
    "messages_ordered = order_list_of_dicts(messages)"
   ]
  },
  {
   "cell_type": "code",
   "execution_count": 48,
   "metadata": {},
   "outputs": [
    {
     "data": {
      "text/plain": "{'sender_name': 'Csőke Boglárka',\n 'timestamp_ms': 1280147223000,\n 'content': 'Szia Levi!!! Te jössz filmezni!!!! Jon a Szasa, Nyitri, Dori, Agi és  en remelem nem gond h mek na mind1 szamitunk rad!!! Ha jossz akk majd edzesen megbeszeljuk h mik lesz!!!!',\n 'type': 'Generic'}"
     },
     "execution_count": 48,
     "metadata": {},
     "output_type": "execute_result"
    }
   ],
   "source": [
    "messages_ordered[0]"
   ]
  },
  {
   "cell_type": "code",
   "execution_count": 49,
   "metadata": {},
   "outputs": [],
   "source": [
    "data1 = get_messages(bogi_msg/'message_1.json')\n",
    "data2 = get_messages(bogi_msg/'message_2.json')"
   ]
  },
  {
   "cell_type": "code",
   "execution_count": 50,
   "metadata": {},
   "outputs": [
    {
     "data": {
      "text/plain": "(10000, 4297)"
     },
     "execution_count": 50,
     "metadata": {},
     "output_type": "execute_result"
    }
   ],
   "source": [
    "len(data1.get('messages')), len(data2.get('messages'))"
   ]
  },
  {
   "cell_type": "code",
   "execution_count": 51,
   "metadata": {},
   "outputs": [
    {
     "data": {
      "text/plain": "14297"
     },
     "execution_count": 51,
     "metadata": {},
     "output_type": "execute_result"
    }
   ],
   "source": [
    "len(messages)"
   ]
  },
  {
   "cell_type": "code",
   "execution_count": 52,
   "metadata": {},
   "outputs": [],
   "source": [
    "import pandas as pd"
   ]
  },
  {
   "cell_type": "code",
   "execution_count": 55,
   "metadata": {},
   "outputs": [],
   "source": [
    "df = pd.DataFrame(messages_ordered)"
   ]
  },
  {
   "cell_type": "code",
   "execution_count": 56,
   "metadata": {},
   "outputs": [
    {
     "data": {
      "text/html": "<div>\n<style scoped>\n    .dataframe tbody tr th:only-of-type {\n        vertical-align: middle;\n    }\n\n    .dataframe tbody tr th {\n        vertical-align: top;\n    }\n\n    .dataframe thead th {\n        text-align: right;\n    }\n</style>\n<table border=\"1\" class=\"dataframe\">\n  <thead>\n    <tr style=\"text-align: right;\">\n      <th></th>\n      <th>sender_name</th>\n      <th>timestamp_ms</th>\n      <th>content</th>\n      <th>type</th>\n      <th>share</th>\n      <th>files</th>\n      <th>photos</th>\n      <th>sticker</th>\n      <th>ip</th>\n      <th>call_duration</th>\n      <th>audio_files</th>\n      <th>missed</th>\n      <th>videos</th>\n      <th>reactions</th>\n      <th>gifs</th>\n    </tr>\n  </thead>\n  <tbody>\n    <tr>\n      <th>0</th>\n      <td>Csőke Boglárka</td>\n      <td>1280147223000</td>\n      <td>Szia Levi!!! Te jössz filmezni!!!! Jon a Szasa...</td>\n      <td>Generic</td>\n      <td>NaN</td>\n      <td>NaN</td>\n      <td>NaN</td>\n      <td>NaN</td>\n      <td>NaN</td>\n      <td>NaN</td>\n      <td>NaN</td>\n      <td>NaN</td>\n      <td>NaN</td>\n      <td>NaN</td>\n      <td>NaN</td>\n    </tr>\n    <tr>\n      <th>1</th>\n      <td>Levente Csőke</td>\n      <td>1294080926000</td>\n      <td>Keress egy történelem tanárt aki ezt megmagyar...</td>\n      <td>Generic</td>\n      <td>NaN</td>\n      <td>NaN</td>\n      <td>NaN</td>\n      <td>NaN</td>\n      <td>NaN</td>\n      <td>NaN</td>\n      <td>NaN</td>\n      <td>NaN</td>\n      <td>NaN</td>\n      <td>NaN</td>\n      <td>NaN</td>\n    </tr>\n    <tr>\n      <th>2</th>\n      <td>Csőke Boglárka</td>\n      <td>1306836913000</td>\n      <td>hulye buzi miert?</td>\n      <td>Generic</td>\n      <td>NaN</td>\n      <td>NaN</td>\n      <td>NaN</td>\n      <td>NaN</td>\n      <td>NaN</td>\n      <td>NaN</td>\n      <td>NaN</td>\n      <td>NaN</td>\n      <td>NaN</td>\n      <td>NaN</td>\n      <td>NaN</td>\n    </tr>\n    <tr>\n      <th>3</th>\n      <td>Csőke Boglárka</td>\n      <td>1306836924000</td>\n      <td>am fagyi a mehutobe</td>\n      <td>Generic</td>\n      <td>NaN</td>\n      <td>NaN</td>\n      <td>NaN</td>\n      <td>NaN</td>\n      <td>NaN</td>\n      <td>NaN</td>\n      <td>NaN</td>\n      <td>NaN</td>\n      <td>NaN</td>\n      <td>NaN</td>\n      <td>NaN</td>\n    </tr>\n    <tr>\n      <th>4</th>\n      <td>Csőke Boglárka</td>\n      <td>1306836934000</td>\n      <td>de akk is utallaaaaaaaaaak &gt;(</td>\n      <td>Generic</td>\n      <td>NaN</td>\n      <td>NaN</td>\n      <td>NaN</td>\n      <td>NaN</td>\n      <td>NaN</td>\n      <td>NaN</td>\n      <td>NaN</td>\n      <td>NaN</td>\n      <td>NaN</td>\n      <td>NaN</td>\n      <td>NaN</td>\n    </tr>\n    <tr>\n      <th>...</th>\n      <td>...</td>\n      <td>...</td>\n      <td>...</td>\n      <td>...</td>\n      <td>...</td>\n      <td>...</td>\n      <td>...</td>\n      <td>...</td>\n      <td>...</td>\n      <td>...</td>\n      <td>...</td>\n      <td>...</td>\n      <td>...</td>\n      <td>...</td>\n      <td>...</td>\n    </tr>\n    <tr>\n      <th>14292</th>\n      <td>Levente Csőke</td>\n      <td>1590999441915</td>\n      <td>lenne kerdesem majd toluk</td>\n      <td>Generic</td>\n      <td>NaN</td>\n      <td>NaN</td>\n      <td>NaN</td>\n      <td>NaN</td>\n      <td>NaN</td>\n      <td>NaN</td>\n      <td>NaN</td>\n      <td>NaN</td>\n      <td>NaN</td>\n      <td>NaN</td>\n      <td>NaN</td>\n    </tr>\n    <tr>\n      <th>14293</th>\n      <td>Csőke Boglárka</td>\n      <td>1590999538362</td>\n      <td>NaN</td>\n      <td>Generic</td>\n      <td>NaN</td>\n      <td>NaN</td>\n      <td>NaN</td>\n      <td>NaN</td>\n      <td>NaN</td>\n      <td>NaN</td>\n      <td>NaN</td>\n      <td>NaN</td>\n      <td>NaN</td>\n      <td>[{'reaction': '😆', 'actor': 'Levente Csőke'}]</td>\n      <td>[{'uri': 'messages/inbox/CsokeBoglarka_5A48Zi9...</td>\n    </tr>\n    <tr>\n      <th>14294</th>\n      <td>Levente Csőke</td>\n      <td>1590999797844</td>\n      <td>te nem tudod megvalasozlni ugyhogy most nem ke...</td>\n      <td>Generic</td>\n      <td>NaN</td>\n      <td>NaN</td>\n      <td>NaN</td>\n      <td>NaN</td>\n      <td>NaN</td>\n      <td>NaN</td>\n      <td>NaN</td>\n      <td>NaN</td>\n      <td>NaN</td>\n      <td>[{'reaction': '😆', 'actor': 'Csőke Boglárka'}]</td>\n      <td>NaN</td>\n    </tr>\n    <tr>\n      <th>14295</th>\n      <td>Levente Csőke</td>\n      <td>1590999802359</td>\n      <td>majd megtudod</td>\n      <td>Generic</td>\n      <td>NaN</td>\n      <td>NaN</td>\n      <td>NaN</td>\n      <td>NaN</td>\n      <td>NaN</td>\n      <td>NaN</td>\n      <td>NaN</td>\n      <td>NaN</td>\n      <td>NaN</td>\n      <td>NaN</td>\n      <td>NaN</td>\n    </tr>\n    <tr>\n      <th>14296</th>\n      <td>Csőke Boglárka</td>\n      <td>1590999965740</td>\n      <td>Ajd</td>\n      <td>Generic</td>\n      <td>NaN</td>\n      <td>NaN</td>\n      <td>NaN</td>\n      <td>NaN</td>\n      <td>NaN</td>\n      <td>NaN</td>\n      <td>NaN</td>\n      <td>NaN</td>\n      <td>NaN</td>\n      <td>NaN</td>\n      <td>NaN</td>\n    </tr>\n  </tbody>\n</table>\n<p>14297 rows × 15 columns</p>\n</div>",
      "text/plain": "          sender_name   timestamp_ms  \\\n0      Csőke Boglárka  1280147223000   \n1       Levente Csőke  1294080926000   \n2      Csőke Boglárka  1306836913000   \n3      Csőke Boglárka  1306836924000   \n4      Csőke Boglárka  1306836934000   \n...               ...            ...   \n14292   Levente Csőke  1590999441915   \n14293  Csőke Boglárka  1590999538362   \n14294   Levente Csőke  1590999797844   \n14295   Levente Csőke  1590999802359   \n14296  Csőke Boglárka  1590999965740   \n\n                                                 content     type share files  \\\n0      Szia Levi!!! Te jössz filmezni!!!! Jon a Szasa...  Generic   NaN   NaN   \n1      Keress egy történelem tanárt aki ezt megmagyar...  Generic   NaN   NaN   \n2                                      hulye buzi miert?  Generic   NaN   NaN   \n3                                    am fagyi a mehutobe  Generic   NaN   NaN   \n4                          de akk is utallaaaaaaaaaak >(  Generic   NaN   NaN   \n...                                                  ...      ...   ...   ...   \n14292                          lenne kerdesem majd toluk  Generic   NaN   NaN   \n14293                                                NaN  Generic   NaN   NaN   \n14294  te nem tudod megvalasozlni ugyhogy most nem ke...  Generic   NaN   NaN   \n14295                                      majd megtudod  Generic   NaN   NaN   \n14296                                                Ajd  Generic   NaN   NaN   \n\n      photos sticker   ip  call_duration audio_files missed videos  \\\n0        NaN     NaN  NaN            NaN         NaN    NaN    NaN   \n1        NaN     NaN  NaN            NaN         NaN    NaN    NaN   \n2        NaN     NaN  NaN            NaN         NaN    NaN    NaN   \n3        NaN     NaN  NaN            NaN         NaN    NaN    NaN   \n4        NaN     NaN  NaN            NaN         NaN    NaN    NaN   \n...      ...     ...  ...            ...         ...    ...    ...   \n14292    NaN     NaN  NaN            NaN         NaN    NaN    NaN   \n14293    NaN     NaN  NaN            NaN         NaN    NaN    NaN   \n14294    NaN     NaN  NaN            NaN         NaN    NaN    NaN   \n14295    NaN     NaN  NaN            NaN         NaN    NaN    NaN   \n14296    NaN     NaN  NaN            NaN         NaN    NaN    NaN   \n\n                                            reactions  \\\n0                                                 NaN   \n1                                                 NaN   \n2                                                 NaN   \n3                                                 NaN   \n4                                                 NaN   \n...                                               ...   \n14292                                             NaN   \n14293   [{'reaction': '😆', 'actor': 'Levente Csőke'}]   \n14294  [{'reaction': '😆', 'actor': 'Csőke Boglárka'}]   \n14295                                             NaN   \n14296                                             NaN   \n\n                                                    gifs  \n0                                                    NaN  \n1                                                    NaN  \n2                                                    NaN  \n3                                                    NaN  \n4                                                    NaN  \n...                                                  ...  \n14292                                                NaN  \n14293  [{'uri': 'messages/inbox/CsokeBoglarka_5A48Zi9...  \n14294                                                NaN  \n14295                                                NaN  \n14296                                                NaN  \n\n[14297 rows x 15 columns]"
     },
     "execution_count": 56,
     "metadata": {},
     "output_type": "execute_result"
    }
   ],
   "source": [
    "df"
   ]
  },
  {
   "cell_type": "code",
   "execution_count": 60,
   "metadata": {},
   "outputs": [
    {
     "data": {
      "text/plain": "sender_name      6166\ntimestamp_ms     6166\ncontent          5892\ntype             6166\nshare              18\nfiles               3\nphotos            204\nsticker            38\nip                  0\ncall_duration      30\naudio_files         5\nmissed              6\nvideos             17\nreactions         126\ngifs               11\ndtype: int64"
     },
     "execution_count": 60,
     "metadata": {},
     "output_type": "execute_result"
    }
   ],
   "source": [
    "df.where(df.sender_name == 'Csőke Boglárka').count()"
   ]
  },
  {
   "cell_type": "code",
   "execution_count": 66,
   "metadata": {},
   "outputs": [
    {
     "data": {
      "text/html": "<div>\n<style scoped>\n    .dataframe tbody tr th:only-of-type {\n        vertical-align: middle;\n    }\n\n    .dataframe tbody tr th {\n        vertical-align: top;\n    }\n\n    .dataframe thead th {\n        text-align: right;\n    }\n</style>\n<table border=\"1\" class=\"dataframe\">\n  <thead>\n    <tr style=\"text-align: right;\">\n      <th></th>\n      <th>sender_name</th>\n      <th>timestamp_ms</th>\n      <th>content</th>\n      <th>type</th>\n      <th>share</th>\n      <th>files</th>\n      <th>photos</th>\n      <th>sticker</th>\n      <th>ip</th>\n      <th>call_duration</th>\n      <th>audio_files</th>\n      <th>missed</th>\n      <th>videos</th>\n      <th>reactions</th>\n      <th>gifs</th>\n    </tr>\n  </thead>\n  <tbody>\n    <tr>\n      <th>0</th>\n      <td>Csőke Boglárka</td>\n      <td>1280147223000</td>\n      <td>Szia Levi!!! Te jössz filmezni!!!! Jon a Szasa...</td>\n      <td>Generic</td>\n      <td>NaN</td>\n      <td>NaN</td>\n      <td>NaN</td>\n      <td>NaN</td>\n      <td>NaN</td>\n      <td>NaN</td>\n      <td>NaN</td>\n      <td>NaN</td>\n      <td>NaN</td>\n      <td>NaN</td>\n      <td>NaN</td>\n    </tr>\n    <tr>\n      <th>1</th>\n      <td>Csőke Boglárka</td>\n      <td>1306836913000</td>\n      <td>hulye buzi miert?</td>\n      <td>Generic</td>\n      <td>NaN</td>\n      <td>NaN</td>\n      <td>NaN</td>\n      <td>NaN</td>\n      <td>NaN</td>\n      <td>NaN</td>\n      <td>NaN</td>\n      <td>NaN</td>\n      <td>NaN</td>\n      <td>NaN</td>\n      <td>NaN</td>\n    </tr>\n    <tr>\n      <th>2</th>\n      <td>Csőke Boglárka</td>\n      <td>1306836924000</td>\n      <td>am fagyi a mehutobe</td>\n      <td>Generic</td>\n      <td>NaN</td>\n      <td>NaN</td>\n      <td>NaN</td>\n      <td>NaN</td>\n      <td>NaN</td>\n      <td>NaN</td>\n      <td>NaN</td>\n      <td>NaN</td>\n      <td>NaN</td>\n      <td>NaN</td>\n      <td>NaN</td>\n    </tr>\n    <tr>\n      <th>3</th>\n      <td>Csőke Boglárka</td>\n      <td>1306836934000</td>\n      <td>de akk is utallaaaaaaaaaak &gt;(</td>\n      <td>Generic</td>\n      <td>NaN</td>\n      <td>NaN</td>\n      <td>NaN</td>\n      <td>NaN</td>\n      <td>NaN</td>\n      <td>NaN</td>\n      <td>NaN</td>\n      <td>NaN</td>\n      <td>NaN</td>\n      <td>NaN</td>\n      <td>NaN</td>\n    </tr>\n    <tr>\n      <th>4</th>\n      <td>Csőke Boglárka</td>\n      <td>1317497053218</td>\n      <td>csa</td>\n      <td>Generic</td>\n      <td>NaN</td>\n      <td>NaN</td>\n      <td>NaN</td>\n      <td>NaN</td>\n      <td>NaN</td>\n      <td>NaN</td>\n      <td>NaN</td>\n      <td>NaN</td>\n      <td>NaN</td>\n      <td>NaN</td>\n      <td>NaN</td>\n    </tr>\n    <tr>\n      <th>...</th>\n      <td>...</td>\n      <td>...</td>\n      <td>...</td>\n      <td>...</td>\n      <td>...</td>\n      <td>...</td>\n      <td>...</td>\n      <td>...</td>\n      <td>...</td>\n      <td>...</td>\n      <td>...</td>\n      <td>...</td>\n      <td>...</td>\n      <td>...</td>\n      <td>...</td>\n    </tr>\n    <tr>\n      <th>6161</th>\n      <td>Csőke Boglárka</td>\n      <td>1590966173423</td>\n      <td>Jó ötlet</td>\n      <td>Generic</td>\n      <td>NaN</td>\n      <td>NaN</td>\n      <td>NaN</td>\n      <td>NaN</td>\n      <td>NaN</td>\n      <td>NaN</td>\n      <td>NaN</td>\n      <td>NaN</td>\n      <td>NaN</td>\n      <td>NaN</td>\n      <td>NaN</td>\n    </tr>\n    <tr>\n      <th>6162</th>\n      <td>Csőke Boglárka</td>\n      <td>1590966175780</td>\n      <td>☺️☺️</td>\n      <td>Generic</td>\n      <td>NaN</td>\n      <td>NaN</td>\n      <td>NaN</td>\n      <td>NaN</td>\n      <td>NaN</td>\n      <td>NaN</td>\n      <td>NaN</td>\n      <td>NaN</td>\n      <td>NaN</td>\n      <td>NaN</td>\n      <td>NaN</td>\n    </tr>\n    <tr>\n      <th>6163</th>\n      <td>Csőke Boglárka</td>\n      <td>1590998559037</td>\n      <td>Nincsenek, miért?</td>\n      <td>Generic</td>\n      <td>NaN</td>\n      <td>NaN</td>\n      <td>NaN</td>\n      <td>NaN</td>\n      <td>NaN</td>\n      <td>NaN</td>\n      <td>NaN</td>\n      <td>NaN</td>\n      <td>NaN</td>\n      <td>NaN</td>\n      <td>NaN</td>\n    </tr>\n    <tr>\n      <th>6164</th>\n      <td>Csőke Boglárka</td>\n      <td>1590999538362</td>\n      <td>NaN</td>\n      <td>Generic</td>\n      <td>NaN</td>\n      <td>NaN</td>\n      <td>NaN</td>\n      <td>NaN</td>\n      <td>NaN</td>\n      <td>NaN</td>\n      <td>NaN</td>\n      <td>NaN</td>\n      <td>NaN</td>\n      <td>[{'reaction': '😆', 'actor': 'Levente Csőke'}]</td>\n      <td>[{'uri': 'messages/inbox/CsokeBoglarka_5A48Zi9...</td>\n    </tr>\n    <tr>\n      <th>6165</th>\n      <td>Csőke Boglárka</td>\n      <td>1590999965740</td>\n      <td>Ajd</td>\n      <td>Generic</td>\n      <td>NaN</td>\n      <td>NaN</td>\n      <td>NaN</td>\n      <td>NaN</td>\n      <td>NaN</td>\n      <td>NaN</td>\n      <td>NaN</td>\n      <td>NaN</td>\n      <td>NaN</td>\n      <td>NaN</td>\n      <td>NaN</td>\n    </tr>\n  </tbody>\n</table>\n<p>6166 rows × 15 columns</p>\n</div>",
      "text/plain": "         sender_name   timestamp_ms  \\\n0     Csőke Boglárka  1280147223000   \n1     Csőke Boglárka  1306836913000   \n2     Csőke Boglárka  1306836924000   \n3     Csőke Boglárka  1306836934000   \n4     Csőke Boglárka  1317497053218   \n...              ...            ...   \n6161  Csőke Boglárka  1590966173423   \n6162  Csőke Boglárka  1590966175780   \n6163  Csőke Boglárka  1590998559037   \n6164  Csőke Boglárka  1590999538362   \n6165  Csőke Boglárka  1590999965740   \n\n                                                content     type share files  \\\n0     Szia Levi!!! Te jössz filmezni!!!! Jon a Szasa...  Generic   NaN   NaN   \n1                                     hulye buzi miert?  Generic   NaN   NaN   \n2                                   am fagyi a mehutobe  Generic   NaN   NaN   \n3                         de akk is utallaaaaaaaaaak >(  Generic   NaN   NaN   \n4                                                   csa  Generic   NaN   NaN   \n...                                                 ...      ...   ...   ...   \n6161                                           Jó ötlet  Generic   NaN   NaN   \n6162                                               ☺️☺️  Generic   NaN   NaN   \n6163                                  Nincsenek, miért?  Generic   NaN   NaN   \n6164                                                NaN  Generic   NaN   NaN   \n6165                                                Ajd  Generic   NaN   NaN   \n\n     photos sticker   ip  call_duration audio_files missed videos  \\\n0       NaN     NaN  NaN            NaN         NaN    NaN    NaN   \n1       NaN     NaN  NaN            NaN         NaN    NaN    NaN   \n2       NaN     NaN  NaN            NaN         NaN    NaN    NaN   \n3       NaN     NaN  NaN            NaN         NaN    NaN    NaN   \n4       NaN     NaN  NaN            NaN         NaN    NaN    NaN   \n...     ...     ...  ...            ...         ...    ...    ...   \n6161    NaN     NaN  NaN            NaN         NaN    NaN    NaN   \n6162    NaN     NaN  NaN            NaN         NaN    NaN    NaN   \n6163    NaN     NaN  NaN            NaN         NaN    NaN    NaN   \n6164    NaN     NaN  NaN            NaN         NaN    NaN    NaN   \n6165    NaN     NaN  NaN            NaN         NaN    NaN    NaN   \n\n                                          reactions  \\\n0                                               NaN   \n1                                               NaN   \n2                                               NaN   \n3                                               NaN   \n4                                               NaN   \n...                                             ...   \n6161                                            NaN   \n6162                                            NaN   \n6163                                            NaN   \n6164  [{'reaction': '😆', 'actor': 'Levente Csőke'}]   \n6165                                            NaN   \n\n                                                   gifs  \n0                                                   NaN  \n1                                                   NaN  \n2                                                   NaN  \n3                                                   NaN  \n4                                                   NaN  \n...                                                 ...  \n6161                                                NaN  \n6162                                                NaN  \n6163                                                NaN  \n6164  [{'uri': 'messages/inbox/CsokeBoglarka_5A48Zi9...  \n6165                                                NaN  \n\n[6166 rows x 15 columns]"
     },
     "execution_count": 66,
     "metadata": {},
     "output_type": "execute_result"
    }
   ],
   "source": [
    "bogi_df = df[df.sender_name == 'Csőke Boglárka'].reset_index(drop=True)\n",
    "bogi_df"
   ]
  },
  {
   "cell_type": "code",
   "execution_count": 70,
   "metadata": {},
   "outputs": [
    {
     "data": {
      "text/plain": "0       Szia Levi!!! Te jössz filmezni!!!! Jon a Szasa...\n1                                       hulye buzi miert?\n2                                     am fagyi a mehutobe\n3                           de akk is utallaaaaaaaaaak >(\n4                                                     csa\n                              ...                        \n6161                                             Jó ötlet\n6162                                                 ☺️☺️\n6163                                    Nincsenek, miért?\n6164                                                  NaN\n6165                                                  Ajd\nName: content, Length: 6166, dtype: object"
     },
     "execution_count": 70,
     "metadata": {},
     "output_type": "execute_result"
    }
   ],
   "source": [
    "bogi_df.content"
   ]
  },
  {
   "cell_type": "code",
   "execution_count": 82,
   "metadata": {},
   "outputs": [
    {
     "data": {
      "text/plain": "0       [szia, levi!!!, te, jössz, filmezni!!!!, jon, ...\n1                                   [hulye, buzi, miert?]\n2                                [am, fagyi, a, mehutobe]\n3                     [de, akk, is, utallaaaaaaaaaak, >(]\n4                                                   [csa]\n                              ...                        \n6161                                          [jó, ötlet]\n6162                                               [☺️☺️]\n6163                                 [nincsenek,, miért?]\n6164                                                  NaN\n6165                                                [ajd]\nName: content, Length: 6166, dtype: object"
     },
     "execution_count": 82,
     "metadata": {},
     "output_type": "execute_result"
    }
   ],
   "source": [
    "token_list = bogi_df.content.str.lower().str.split()\n",
    "token_list"
   ]
  },
  {
   "cell_type": "code",
   "execution_count": 85,
   "metadata": {},
   "outputs": [
    {
     "name": "stdout",
     "output_type": "stream",
     "text": "', 'eddig,', 'ő', 'azt', 'mondta', 'hogy', 'egy', '-', 'kettő', 'de', 'teljesen', 'elenyeszo,', 'aztán', 'megkérdezett', 'egy', 'másik', 'lányt,', 'aki', 'sokkal', 'tapasztaltabb', 'volt', 'egy', 'nagyon', 'sokat', 'felsorolt,', 'amit', 'pl', 'én', 'nem', 'is', 'gondoltam', 'volna,', 'hogy', 'az', 'az']\n['és', 'ki', 'akkor', 'mondta', 'a', 'trénerünk', 'hogy', 'figyelnünk', 'kell', 'arra,', 'hogy', 'kinek', 'mi', 'fontos,', 'mert', 'olyan', 'úgy', 'sem', 'lehet', 'hogy', 'mindenkinek', 'ugyanaz']\n['pont', 'erre', 'gondoltam', 'xd', 'angolul', 'ezt', 'a', 'témát', 'jobban', 'ki', 'lehet', 'fejteni']\n['így', 'már', 'érhető', 'hogy', 'mire', 'akarsz', 'ráfeküdni']\n['ajde']\n['mennyire', 'lenne', 'gázos', 'ha', 'magyarul', 'lenne', 'a', 'könyv?']\n['mi?']\n['jaaaah', 'hogy', 'ja', 'xd']\n['oksi']\n['adom', 'adom']\n['oksi,', 'küldjek', 'címet?']\n['6725', 'szeged,', 'semmelweis', 'u', '4']\n['no,', 'beugrott', 'valami', 'aminek', 'örülnék', 'karácsonyra..', 'egy', 'kis', 'hátizsák,', 'ilyen', 'kis', 'partys', 'táska', '🤭🤭']\nnan\n['ilyen', 'egyszerűket']\n['mi', 'most', 'eszünk']\n['aztán?']\n['jaja']\n['oksi']\n['de', 'anyut', 'hívd', 'majd']\n['oki']\n['❤️']\nnan\nnan\n['semmi', '😇😇']\n['már', 'otthon', 'de', 'majd', 'vasárnap', 'este', 'lecheck']\n['épp', 'deninél']\n['3', 'amennyi', 'eddig', 'is', 'volt']\n['most', 'előrébb', 'helyeztem', 'a', 'szakdogához', 'olvasást', 'meg', 'a', 'projektet']\nnan\n['deni:', 'mi', 'is', 'pusziljuk']\n['meg', 'a', 'többiek', 'üdvözölnek']\n['amúgy', 'activitx']\n['❤️']\n['szia', 'makker']\n['megérkezett', 'a', 'csomag']\n['meg', 'van', 'egy', 'ilyen', 'kis', 'füzet', 'ami', 'tök', 'jó', 'csak', 'a', 'végén', 'írja', 'az', 'árakat']\nnan\n['arra', 'gondoltam', 'hogy', 'beragasztom', 'xdd']\n['mert', 'ismerem', 'anyuékat']\n['biztos', 'sokalnák', 'xd']\nnan\n['nem', 'lehet', 'sajna', 'kitépni']\nnan\n['hasznos', 'nap', 'a', 'mai', '😅😅']\n['dékán', 'úrral', 'ittam', 'egy', 'felest', '😂😂😂']\n['tesco', 'fnf']\n['rég', 'kerestem', 'már', 'ilyet', '☺️', 'nem', 'volt', 'a', 'legolcsobb,', 'de', 'worth', 'it,', 'nem', 'repült', 'át', 'fél', 'világon', 'és', 'felesleges', 'csomagolás', 'sem', 'volt', 'rajta', '☺️']\n['☺️☺️']\n['nem', 'tudom']\n['nekem', 'még', 'mindig', 'a', 'fésű', 'gereblye', 'ugrik', 'be', 'xd']\n['nem', 'tudom']\n['esetleg', 'itt', 'radanovácon', 'ami', 'a', 'főúton', 'van']\n['főút', 'xd', 'ott', 'a', 'vulkanizerhez', 'közel']\n['palics', 'irányába']\n['🐵']\n['amúgy', 'xdd']\n['most', 'ugrott', 'be', 'hogy', 'én', 'vettem', 'két', 'agatha', 'cristine', 'könyvet', 'xf']\n['mert', 'szeretik']\n['jaja']\n['apu', 'igen']\n['ha', 'nem', 'is', 'rögtön', 'ünnepek', 'után']\n['de', 'neki', 'lát']\n['🐵']\n['milyen', 'az', 'út', 'kezdete?']\n['trú']\nnan\n['ezt']\n['mladost']\n['nem', 'is', 'mobiloztam,', 'csak', 'épp', 'írtam', 'smst', 'apunak', 'meg', 'válaszolgattam', 'neked', '😇😁']\n['🐵']\n['te', 'makker']\n['pesten', 'maradol?']\n['ki', 'maradt', 'fenn', 'hogy', 'maradsz?']\n['jaaaaa']\n['értem', 'értem']\n['de', 'úgy', 'bulizz', 'hogy', 'holnap', 'időben', 'érj', 'haza', '❤️']\n['jogos']\n['anyu', 'szerintem', 'tegnap', 'xd']\n['1', 'óra?']\n['🐵']\n['you', 'missed', 'a', 'call', 'from', 'boglárka.']\n['you', 'missed', 'a', 'call', 'from', 'boglárka.']\n['jó', 'reggelt', 'királyfi', '😂😃']\n['13:15kor', 'van', 'a', 'kövi']\n['you', 'missed', 'a', 'call', 'from', 'boglárka.']\n['🐵']\n['you', 'missed', 'a', 'call', 'from', 'boglárka.']\n['you', 'missed', 'a', 'call', 'from', 'boglárka.']\n['you', 'missed', 'a', 'call', 'from', 'boglárka.']\n['azon', 'is', 'vagy', '🙄🙄😂']\n['🐵']\n['boglárka', 'called', 'you.']\nnan\n['te', 'micsi', 'ma?']\n['előbb', 'tuti', 'natival', 'találkozok', 'aztán', 'reméltem', 'hogy', 'deninél', 'lesz', 'valami,', 'de', 'ők', 'pókerezni', 'fognak', 'limitált', 'számban', 'xddd']\n['már', 'buszon']\n['blackmail', 'xdd']\nnan\n['🐵']\n['17', 'p']\n['aztán', 'hajmosás']\n['apuek', 'odaadják', 'a', 'kocsit?']\n['16:40?']\n['🐵']\n['🐵']\n['jaja,', 'pill']\n['ezzel', 'csináltam', '😶']\n['ajd', 'meg', 'egy', 'jelszót', 'amit', 'szeretnél', 'ebéd', 'után', 'megprob', 'én']\nnan\n['38muvalong', 'jelszót', 'használtam']\n['😕😕']\n['nt', 'akkor']\n['mi?', 'xd']\n['jaaaa', 'xx']\n['sry']\n['holnap', 'délután', 'mennyire', 'leszel', 'szabad?']\n['a', 'kanári', 'szigetes', 'kutatási', 'tervet', 'le', 'kell', 'fordítanom', 'angolul,', 'lehet', 'majd', 'igényelném', 'a', 'segítséged']\n['❤️']\n['jan', '17!?']\n['voltunk', 'az', 'első', 'orvos', 'talin']\n['nagyon', 'jó', 'felépítésű', 'volt.', 'először', 'megkérdezte,', 'hogy', 'hogyan', 'szeretné,', 'egyedül', 'vagy', 'családdal', '/feleséggel', 'utána', 'szépen', 'átvitte,', 'hogy', 'megtudja', 'milyen', 'alkoholista', 'típus,', 'mik', 'a', 'tapasztalatok,', 'mi', 'van', 'ha', 'iszik,', 'mi', 'van', 'ha', 'baráti', 'társaságban', 'utána', 'adott', 'neki', 'egy', 'bromapozant', '(ha', 'jól', 'írom', 'xdd)', 'és', 'akkor', 'lassan', 'jött', 'az', 'emocionálisabb', 'része,', 'tudja', 'egy', 'mi', 'a', 'legnagyobb', 'problémája,', 'alkohol', 'nélkül', 'mennyire', 'ereje', 'van,', 'elmesélte,', 'hogy', 'vannak', 'jó,', 'pozitív', 'érzések', 'meg', 'vannak', 'negatívak', 'amik', 'közül', 'vannak', 'egészségesek', 'pl', 'olyan', 'szomorúság,', 'amit', 'szeretteink', 'elvesztése', 'során', 'érzünk', 'meg', 'vannak', 'azok', 'a', 'negatívak,', 'amik', 'egészségtelenek', 'és', 'rombolnak', 'végül', 'pedig', 'felírt', 'neki', 'orvosságokat', 'és', 'megbeszéle', 'vele,', 'hogy', 'egy', 'hét', 'múlva', 'hallják', 'egymást,', 'hogy', 'hogyan', 'lesznek', 'a', 'találkozások']\nnan\nnan\n['tudod', 'mire', 'gondoltam', 'batyus?']\n['én', 'már', 'elkezdtem,', 'gondoltam', 'te', 'is', 'csinálhatnád', 'és', 'meglepjük', 'aput']\n['írd', 'le', 'te', 'is', 'mi', 'a', 'pozitív', 'és', 'mi', 'a', 'negatív', 'az', 'életedben']\n['hát', 'jól', '☺️☺️', 'rég', 'óta', 'akartam', 'már', 'beszélni', 'vele,', 'úgy', 'igazán,', 'de', 'nem', 'mertem']\n['jaja', ':/']\nnan\n['apu', 'nem', 'akarta', 'délután,', 'hogy', 'a', 'bende', 'nyavaolyogjon']\n['aha']\n['😂😂']\n['találtam', 'egy', 'eléggé', 'egyszerű', 'de', 'nagyszerű', 'receptet.', 'nyilván', 'a', 'sajt', 'helyett', 'mást', 'használsz', 'de', 'gondoltam', 'elküldöm']\n['https://receptneked.hu/egytaletelek/rakott-krumpli/kremes-francia-rakott-burgonya/?utm_content=buffer4a460&utm_medium=receptneked&utm_source=facebook.com&utm_campaign=buffer']\n['sajt', 'meg', 'tej', 'helyett', '*']\n['tudnál', 'segíteni?']\n['az', 'az', 'eus', 'betegbiztosítással', 'kapcsolatban', 'kéne', 'segítség']\n['én', 'olyat', 'tudok', 'csinálni', 'úgy', 'hogy', 'szerb', 'állandó', 'lakcímem', 'van', 'és', 'magyart', 'nem', 'csinálhatok?']\n['😩😩😩']\n['kell', 'bárkához', 'taj']\n['de', 'miniszteri', 'miatt', 'nem', 'bírok', 'állandó', 'lakcímet', 'csináltatni']\n['nem', 'biztos,', 'hogy', 'meg', 'fogom', 'tudni,', 'anita', 'állítólag', 'már', 'többször', 'próbálta', 'és', 'mindig', 'visszavágták']\n['levike,', 'ez', 'a', 'saját', 'pénzből', 'repjegy', 'fizetés', 'nem', 'volt', 'olcsó', 'mulatság...', 'kérhetek', 'kölcsön', 'x', 'összeget,', 'amit', 'visszautalnék,', 'amikor', 'küldik', 'a', 'pénzt??']\n['mennyi', 'ami', 'már', 'sok', 'lenne?', ':|']\n['én', '150re', 'gondoltam']\n['köszönöm!']\n['11773353-01441462']\n['akkor', 'azt', 'majd', 'otthon']\n['lecheck']\n['jövő', 'héten', 'valamikor?']\n['❤️']\n['szia', 'batyus']\n['tudnál', 'segíteni', 'angolban?']\n['igazából', 'csak', 'két', 'kérdésem', 'van']\n['egyik', 'hogy', 'van', 'eterminus', 'technicus', 'angolul', 'a', 'szomszédos', 'országra?']\n['mmint', 'mi?', 'xd']\n['szakkifejeés']\n['z']\n['hu22', '1177', '3353', '0144', '1462', '0000', '0000']\n['bic:', 'otpvhuhb']\n['igen:(']\n['*:)']\nnan\n['oksi:)']\n['viszont', 'ha', 'még', 'egy', 'pillre', 'maradsz', 'hátha', 'emebben', 'tudsz', 'segíteni']\n['ezt', 'úgy', 'fordítottam:', 'melyik', 'országot', 'jelöli', 'a', 'térkép', '36.', 'számmal', 'jelölt', 'országa?', 'hogy', 'which', 'country', 'is', 'marked', 'by', 'number', '36', 'on', 'the', 'map?']\n['szerinted', 'helyes?']\n['köszi']\n['🐵']\n['sziaa']\n['igen,', 'mmár', 'elég', 'jól']\n['kicsit', 'még', 'köhög', 'meg', 'minden', 'de', 'sokkal', 'jobb']\n['☺️☺️☺️']\n['méz', '-', 'tea', '-', 'gyömbér']\n['mizu', 'veled', 'öreg', 'pajti?']\n['szeva']\n['itt', 'vagy?']\n['apunak', 'akarok', 'venni', 'kositól', 'erőset', 'xd', 'és', 'nem', 'tudom', 'eldönteni', 'hogy', 'szószt', 'vagy', 'őröltet']\n['szerinted?']\n['oksi', 'köszi']\n['és', 'mizu', 'ott?']\n['képzeld', 'beszéltem', 'ma', 'a', 'mamákkal.', 'a', 'csőke', 'mama', 'egész', 'összeesküvés', 'elmétet', 'adott', 'le', 'nekem']\n['hogy', 'a', 'koronát', 'az', 'iszlám', 'állam', 'alkotta', 'meg']\n['jaja', 'van']\n['kosinál', 'vagyok']\n['ajde']\n['kurva', 'jól', 'jártam']\n['kaptam', 'a', 'szósz', 'mellé', 'őrölt', 'grátiszt']\n['😁😁']\n['🐵']\n['amúgy', 'bús', 'levi', 'üzeni', 'hogy', 'levi', 'üdvözli', 'a', 'levit', 'xd']\n['🐵']\n['van', '66k']\n['telekom', ':/']\n['xd', 'megzavartad', 'az', 'egész', 'napos', 'elfoglalásom,', 'lustaság', 'xd']\n['szóval', 'nagyon', 'ráérek']\n['csak', 'segítesz', 'abban', 'hogy', 'hogyan', 'kéne', 'feltölteni?']\n['muva...', '?']\n['értem', ':dd']\n['lassan', 'tölti', 'be', 'a', 'laptop', 'a', 'facet', 'xd', 'szóval', 'még', 'meg', 'sem', 'nyitottam']\n['vágod', 'mit', 'határozott', 'meg', 'ma', 'a', 'vucic?']\n['aki', 'jön', 'be', 'srbbe', 'muszáj', 'karanténba', 'menni', 'vagy', '3', 'év', 'börtön']\n['bíróság', 'nélkül']\n['mmint', 'érted']\n['jaja', 'xd']\n['sőt', 'ha', 'ilyen', 'veszélyes', 'országból', 'jön,ahol', 'nagyon', 'elterjedt', 'a', 'vírus', 'annak', '4', 'hét', 'karantén', 'és', 'nem', '2']\n['kész']\n['easy', '😁😁']\n['de', 'telenor', 'appel', 'nem', 'egyszerűbb?']\n['érdekes', '😃😃']\n['ajde']\n['jelentkezz', 'majd', 'az', 'orvos', 'után']\n['szia']\n['jó', 'éjt', '😘']\n['🐵']\n['tükörbe', 'néztél?']\n['hehe']\n['mizu?']\n['xd']\n['jaja', 'érdekes', 'hogy', 'az', 'emberek', 'agya', 'hogy', 'viselkedik']\n['itt', 'megint', 'szigorítottak']\n['azt', 'is', 'hogy', 'mmár', 'd.u.', '5től', 'reggel', '5ig', 'off?']\n['és', 'ha', 'az', 'ember', 'továbbra', 'sem', 'maradnak', 'otthon', 'akkor', 'd.', 'u.', '3tól', 'és', 'ha', 'az', 'sem', 'akkor', 'végleg']\n['vágesz,', 'nati', 'elküldte']\n['nagyon', 'idióták', 'az', 'emberek']\n['épp', 'azért', 'is', 'kimennek', 'a', 'kijárási', 'tilalom', 'ideje', 'alatt']\n['\"mert', 'nekik', 'nem', 'mondják', 'meg\"']\n['de', 'nem', 'tudják', 'felfogni', 'hogy', 'ez', 'kizárólag', 'az', 'ő', 'érdekük']\n['jaja']\n['tudom', ':(']\n['mama', 'is', 'érted...', 'beszélünk', 'arra', 'hogy', 'haza', 'jöttem', 'a', 'vírus', 'miatt...', 'erre', 'kérdi', 'hogy', 'akkor', 'húsvétig', 'nem', 'is', 'jöttök', 'mi']\n['erre', 'mondom', 'hogy', 'még', 'az', 'sem', 'biztos', 'hogy', 'akkor', 'megyünk']\n['muti']\n['elég', 'fullos!', 'én', 'is', 'használtam', 'hasonlót', 'már', 'egy', 'ideje...', 'de', 'nekem', 'most', 'kell', 'egy', 'kis', 'idő,', 'mert', 'ami', 'az', 'éves', 'tervemen', 'volt', 'annak', 'több,', 'mint', 'fele', 'a', 'corona', 'miatt', 'a', 'füstbe', 'ment']\n['és', 'most', 'tényleg', 'nincs', 'motivációm']\n['egy', 'ppt', '3', 'napja', 'csinálok']\n['de', 'nem', 'tudom', 'rávenni', 'magam', 'hogy', 'befejezzem']\n['szakdoga', 'olvasás', 'maradt']\n['amivel', 'tanulom', 'az', 'angolt']\n['mert', 'angolul', 'van']\n['vágesz,', 'akarok', 'jogázni']\n['én', 'egy', 'appet', 'gondoltam', 'letölteni']\n['de', 'kicsit', 'úgy', 'voltam', 'hogy', 'ez', 'a', 'cheat', 'hetem']\n['amikor', 'nyalogatom', 'a', 'sebeim', 'xd', 'aztán', 'hétfőtől', 'távoktatás...', 'nehezebb', 'is', 'lett', 'így', 'a', 'félév']\n['szóval', 'meg', 'kell', 'találom', 'a', 'motivációt', 'valahogy']\n['http://m.eduline.hu/felsooktatas/20200322_szte_rektor_koronavirus']\n['megtaláltam', 'a', 'motivációm']\n['https://www.youtube.com/watch?v=-bd4gswqe4s&feature=youtu.be&fbclid=iwar28cfc6s94x7mng31cuecjrbgjhf5ab-ujfp4shrlmo-chxycvljptntoa']\n['na', 'és', 'lesz', 'akkor', 'nagy', 'távbeszélgerés?']\n['én', 'nem', 'tudom', 'xd']\n['én', 'csak', 'kérdeztem']\n['anyuval', 'nem', 'beszéltél?']\n['xd']\n['igen']\n['na', 'hívlak', 'és', 'aztán', 'őket']\n['boglárka', 'called', 'you.']\n['🐵']\n['videocamed', 'itthon', 'van?']\n['oksi']\n['tudoood', 'hogy', 'nem', 'xd']\n['majd', 'megkérem', 'anyut', 'hogy', 'adja', 'kölcsön', 'másfél', 'órára']\nnan\nnan\nnan\n['megérkezett', 'a', 'repjegyre', 'a', 'pénz', 'a', 'németektől']\n['most', 'át', 'tudom', 'dobni', 'a', 'kölcsönkért', 'összeget']\n['☺️']\n['tuti?']\n['köszönöm', '😲❤️']\n['de', 'csak', 'ha', 'nagy', 'szarban', 'lesz,', 'mint', 'a', 'tatával']\n['mert?']\n['mi?', 'xd']\n['nem', 'értelek', 'xd']\n['aaah', 'xd']\n['tönkre', 'tettem', ':/']\n['xddd']\n['hát', 'figyu..', 'mérlegelem,', 'hogy', 'mi', 'az,', 'ami', 'valóban', 'hasznos', 'lenne,', 'de', 'kondi', 'teremre', 'nem', 'szeretném']\n['inkább', 'otthon', 'sportolok']\nnan\n['alszasz?']\n['zoom?']\nnan\n['ez', 'meg', 'honnan?', '😅☺️']\n['múltkor', 'azt', 'hiszem', 'ráfutottam', 'párra']\n['bulis', 'meg', 'ilyenek']\n['na', 'ezt', 'nem', 'tudom', '😶😶', 'azt', 'hiszem', 'összevissza']\n['azok', 'megvannak', 'nálam']\n['csináltam', 'egy', 'másik', 'emailcímet', 'amire', 'csak', 'képeket', 'pakoltam', 'fel']\n['osszam', 'meg?']\n['🐵']\n['megkaptad?']\n['🐵']\n['hihi']\n['nem', 'kevés', 'munka', 'van', 'benne,', 'de', 'worth', 'it', '☺️☺️']\nnan\nnan\n['kicsikosi']\n['kijárási', 'tilalomig']\n['örülök', 'is', '😁😁', 'volt', 'rostélyos', 'is', 'és', 'full', 'vegába', 'toltam']\n['apu', 'cukin', 'előkészítette']\n['vega', 'pljesko,', 'vega', 'cevap,', 'laska', 'gomba,', 'tök']\n['☺️😁']\n['mi', 'mást?']\n['csak', 'egy', 'páran,', 'stefan,', 'bence,', 'ármin,', 'toka,', 'dóri', 'meg', 'kosi']\n['jah', 'xddd', 'nem', 'xd']\n['nem', ':d', 'szerintem', 'lusta', 'volt']\n['majd', 'amikor', 'haza', 'jössz', '😌😌']\n['hihi', '😍😍', 'köszönöm', '☺️😘']\n['aaaaa', '🥺😍', 'köszönöm', 'szépen', 'ezeket', 'a', 'kedves', 'szavakat!']\n['én', 'is', 'szeretlek', '❤️']\n['az', 'a', 'terv', '😁😁']\n['neked', 'is', '☺️☺️']\nnan\n['kicsit', 'megkésett', 'húsvéti', 'ajándék']\n['a', 'család', 'fája']\n['nm:d']\nnan\nnan\n['azt', 'hiszem', 'megvan']\n['engem', 'nem', 'zavar', 'a', 'továbbítás', 'és', 'majd', 'te', 'eldöntöd', 'hogy', 'fontos', 'e', 'xd']\nnan\n['régi', 'sapimban', 'tolja', 'xd']\n['hát', 'nekem', 'muszáj', 'beadandot', 'írni']\n['de', 'írj', 'anyunak', 'és', 'közös', 'chatbe', 'hívjuk', 'egymást', 'akkor', 'csatlakozok', 'fent', 'xd']\n['szia', 'lefi:)', 'egy', 'új', 'dologgal', 'kísérletezek', '😊😊', 'van', 'kedved', 'leírni,', 'hogy', 'melyik', 'a', 'kedvenc', 'közös', 'pillanatunk', 'és', '/vagy', 'a', 'legszimpatikusabb', 'tulajdonságom?:)']\n['nem', 'feltétlen', 'kell', 'csak', 'egyet', 'kiválasztani', '😃']\n['először', 'is', 'nagyon', 'szépen', 'köszönöm,', 'amit', 'írtál,', 'nagyon', 'jól', 'esett!!', 'másodszor', 'meg', 'épp', 'azért', 'különbözünk,', 'amit', 'írtál', 'én', 'lány', 'vagyok,', 'te', 'meg', 'fiú.', 'képzéseken', 'folyton', 'erről', 'tanulunk.', 'a', 'nő', 'az', 'emoció,', 'a', 'férfi', 'az', 'erő', 'és', 'ezek', 'folyton', 'találkoznak', 'és', 'ütköznek']\n['lehet', 'primitívnek', 'hangzik', 'de', 'így', 'van']\n['és', 'azért', 'is', 'vagyok', 'családcentrikusabb', 'mert', 'érzelmes', 'vagyok,', 'mert', 'nő', 'vagyok']\n['te', 'meg', 'az', 'erőt', 'képviseled,', 'a', 'családon', 'túli', 'meglétet']\n['és', 'először', 'ezt', 'baráti', 'társaságban', 'találod', 'meg']\n['aztán', 'a', 'saját', 'családod', 'alapításában']\n['nem', 'vagy', 'bárány', 'csak', 'fiú', '😁😁']\n['*,']\n['ami', 'szerintem', 'érthető,', 'hiszen', 'akkor', 'léptél', 'ki', 'valóban', 'a', 'család', 'hétköznapjaiból']\n['egyre', 'több', 'dolgot', 'figyelek', 'meg.', 'tegnap', 'este', 'találtam', 'ki,', 'hogy', 'vajon', 'hogyan', 'reagálnak', 'rá', 'majd.', 'kigondoltam', 'pár', 'embert,', 'hogy', 'kinek', 'küldöm', 'és', 'kb', 'erre', 'aludtam', 'el.', 'azoknak', 'el', 'is', 'küldtem', 'és', 'a', 'visszajelzések', 'annyira', 'feltöltöttek,', 'hogy', 'észre', 'vettem,', 'hogy', 'magamat', 'is', 'megfigyelem..', 'és', 'egyre', 'több', 'bátorságot', 'ad,', 'hogy', 'minél', 'jobban', 'kiszélesítsem', 'a', 'kört.']\n['kíváncsi', 'voltam,', 'hogy', 'lesz', 'e', 'olyan', 'aki', 'kér', 'saját', 'magáról', 'visszaélést', '(volt)', 'és', 'hogy', 'valaki', 'előbb', 'magyarázatot', 'kér', 'e', '(ilyen', 'nem', 'volt)']\n['de', 'alapvetően', 'azt', 'kísérletezem', 'hogy', 'hogyan', 'látnak', 'engem']\n['sokszor', 'az', 'ember', 'nem', 'is', 'sejti', 'hogy', 'milyen', 'lépései', 'lesznek', 'meghatározóak', 'és', 'ezt', 'csak', 'úgy', 'lehet', 'megtudni', 'hogy', 'megkérdezzük']\n['így', 'én', 'ezt', 'tettem']\n['az', 'nem', 'kérdés', '☺️😁']\n['uuu', 'nem', 'is', 'rossz', 'ötlet', '😁']\n['levi,', 'neked', 'volt', 'nagy', 'gábornál', 'regionális', 'földrajzod?']\n['uu', 'eléggé', 'mérges', 'vagyok', 'apura...']\n['nyilván', 'menő,', 'hogy', 'ennyi', 'minden', 'csinál...', 'de', 'van', 'amire', 'nincs', 'kapacitása,', 'amit', 'nem', 'akar', 'elfogadni..', 'az', 'előbb', 'kb', '40', 'percig', 'raktuk', 'vissza', 'a', 'két', 'szoba', 'szúnyoghálóját']\n['hadd', 'fessek', 'egy', 'képet']\n['3', 'rossz', 'letrabol', 'akart', '/csinált', 'egyet']\n['össze', 'vissza', 'csúszkált,', 'anyunak', 'meg', 'nekem', 'kellett', 'tartani', 'a', 'súlyát']\n['sima', 'kézi', 'csavarhúzóval', 'csavarozta', 'be', 'a', 'csavarokat', 'a', 'viszonylag', 'kemény', 'fába']\n['jah', 'és', 'szobapapucsban', 'volt']\n['próbáltuk']\n['amikor', 'a', 'te', 'szobádnál', 'csináltuk', 'az', 'egyik', 'felén', 'nem', 'ment']\n['neki']\n['mondtuk', 'hogy', 'akkor', 'gyere', 'már', 'le,', 'mit', 'csinált?']\n['erőlködött', 'még']\n['új', 'csavarhúzót', 'kért']\n['meg', 'mit', 'tudom', 'én']\n['arról', 'nem', 'is', 'beszélve,', 'hogy', 'a', 'létra', 'egyik', 'lába', 'a', 'betonon', 'a', 'másik', 'a', 'füvön', 'fadarabokkal', 'alátámasztva']\n['amikor', 'az', 'szomszéd', 'felajanlotta', 'a', '4', 'méteres', 'kiváló', 'létráját,', 'nem', 'kell,', 'nem', 'kell,', 'majd', 'máskor']\n['nincs', 'azzal', 'baj,', 'hogy', 'csinálja', 'mert', 'tudja,', 'és', 'egyre', 'ügyesebb', 'de', 'ember', 'nem', 'fogja', 'fel,', 'hogy', 'a', 'rendelkezésre', 'álló', 'eszközök', 'nem', 'felelnek', 'meg', 'ilyesmikre']\n['amikor', 'viszonylag', 'jó', 'árban', 'volt', 'a', 'lidlben', 'furógép', 'azt', 'mondta,', 'hogy', 'ah', 'úgy', 'se', 'használná', 'soha']\n['meg', 'ez', 'a', 'hülye', 'letrak', 'is']\n['amennyire', 'lehetett', 'sikerült']\n['de', 'így', 'is', 'van', 'rés']\n['tudom']\n['teljes', 'mértékben', 'megértem', 'ezt', 'a', 'felét']\n['és', 'azt', 'is,', 'hogy', 'milyen', 'örömet', 'okoz', 'egy', 'újabb', 'munka', 'elvégzése']\n['de', 'azt', 'szeretném,', 'hogy', 'ne', 'legyen', 'ilyen', 'makacs', 'az', 'eszköztárával']\n['és', 'belátná', 'hogy', 'jó', 'befektetés']\n['egy', 'drágább', 'létra', 'pl']\n['na', 'mindegy', 'xd', 'nem', 'tudsz', 'róla', 'xdd']\n['csak', 'leírtam,', 'hogy', 'igazából', 'tudj', 'róla', 'xd']\n['érezte', 'hogy', 'határt', 'feszegetett,', 'látta', 'rajtuk', '😂😂']\nnan\n['épp', 'azon', 'gondolkodok,', 'hogy', 'milyen', 'gondolkodtató', 'feladatot', 'írjak', 'az', 'államháztartás', 'és', 'a', 'monetáris', 'politika', 'kapcsán', 'xd']\n['nem', 'túl', 'kellemes', 'xdd']\n['amúgy', 'majd', 'jövő', 'pénteken', 'szabadulok', 'a', 'legnagyobb', 'terhektől']\n['addig', 'hajtás']\n['és', 'veled', 'mizu?']\n['oki', '❤️']\n['zu?']\n['felhívhatlak', 'hogy', 'mama', 'lásson?']\n['ajde']\n['hívlak', 'xd']\n['you', 'missed', 'a', 'video', 'chat', 'from', 'boglárka.']\n['the', 'video', 'chat', 'ended.']\n['mit', 'szólsz', 'ehhez', 'batyus?', 'nem', 'szoktam', 'ilyet', 'de', 'most', 'írtam', 'az', 'egyik', 'tanárnőnek', 'visszajelzést', 'a', 'félévről', 'és', 'kaptam', 'választ', '☺️☺️']\nnan\n['ezt', 'írtam', 'neki']\n['és', 'ezt', 'kaptam']\nnan\n['jaja']\n['jó', 'szórakozást', '😘']\n['mizu?']\n['meg', 'karlsruheben?']\n['film?']\n['üdvözöl', 'kori']\n['szűcs']\n['jaja']\n['beerpong,', 'kaja', 'ilyesmi']\n['másik', 'fele', 'nép', 'madarason', 'van', 'drogtanyabulin', 'xd']\n['valami', 'teski', 'bulika']\n['hát', 'ők', 'közül', 'annyira', 'nem,', 'mert', 'nagy', 'része', 'moon']\n['bence', 'bús', 'levi', 'papi', 'kosi', 'stb']\n['bajmok', 'közelében']\n['no', 'de', 'lépek']\n['😘']\n['the', 'video', 'chat', 'ended.']\n['oksi']\n['jó', 'ötlet']\n['☺️☺️']\n['nincsenek,', 'miért?']\nnan\n['ajd']\n"
    }
   ],
   "source": [
    "text = []\n",
    "for tokens in token_list:\n",
    "    print(tokens)\n",
    "    if not isinstance(tokens, list):\n",
    "        continue\n",
    "    for token in tokens:\n",
    "        text.append(token)"
   ]
  },
  {
   "cell_type": "code",
   "execution_count": 86,
   "metadata": {},
   "outputs": [
    {
     "data": {
      "text/plain": "['szia',\n 'levi!!!',\n 'te',\n 'jössz',\n 'filmezni!!!!',\n 'jon',\n 'a',\n 'szasa,',\n 'nyitri,',\n 'dori,',\n 'agi',\n 'és',\n 'en',\n 'remelem',\n 'nem',\n 'gond',\n 'h',\n 'mek',\n 'na',\n 'mind1',\n 'szamitunk',\n 'rad!!!',\n 'ha',\n 'jossz',\n 'akk',\n 'majd',\n 'edzesen',\n 'megbeszeljuk',\n 'h',\n 'mik',\n 'lesz!!!!',\n 'hulye',\n 'buzi',\n 'miert?',\n 'am',\n 'fagyi',\n 'a',\n 'mehutobe',\n 'de',\n 'akk',\n 'is',\n 'utallaaaaaaaaaak',\n '>(',\n 'csa',\n 'xd',\n 'micsi??',\n 'xd',\n 'lezbi',\n ':d',\n '<3',\n 'mondj',\n 'egy',\n 'jo',\n 'offspring',\n 'szamot',\n '...',\n 'honfi<<',\n 'o.o',\n '???',\n 'xd',\n 'azt',\n 'nyomatod??',\n 'xd',\n 'mennyi',\n 'pontod',\n 'van?\\\\',\n 'nyertel?',\n 'ugyi',\n 'hat',\n 'meg',\n 'is',\n 'te',\n 'v',\n 'a',\n 'tesom',\n 'xd',\n 'mi',\n 'ááááááá\\xad',\n '\\xad?',\n 'kerdi',\n 'tenyleg???',\n 'tanulok',\n 'http://mbti.tarhely.biz/node/1',\n 'ez',\n 'mi?',\n 'csinaljam',\n 'meg?',\n 'akk',\n 'majd',\n 'este',\n 'oks?',\n 'hmmm?',\n 'izee',\n 'lev...',\n ':p',\n 'vehetek',\n 'egy',\n 'kekszet??',\n 'de',\n 'ettem',\n 'egy',\n 'tejfeles',\n 'kenyeret',\n 'meg',\n 'ket',\n 'csesze',\n 'jogurtot',\n 'tnx',\n 'http://www.youtube.com/watch?v=oqszdj1cj_y&feature=related',\n 'hajra',\n 'batyus',\n 'verd',\n 'el',\n 'a',\n 'nepet',\n 'csa',\n 'nem',\n 'akarsz',\n 'valakinel',\n 'ott',\n 'aludni',\n 'ma??',\n 'pfff',\n 'megyek',\n 'is',\n 'xd',\n 'agi',\n 'kovacs',\n 'agiű',\n 'xd',\n 'vicc',\n 'http://www.youtube.com/watch?v=mdzqjdyask4&feature=list_related&playnext=1&list=av4ovf-d_dwkama7nqhejenuljtirjrupj',\n 'mi',\n 'szolsz',\n 'ehhez??',\n 'kaja\\xad',\n '\\xad',\n 'gyere\\xad',\n '\\xad',\n '!!!\\xad',\n '\\xad',\n 'ok?????\\xad',\n '\\xad',\n ':d\\xad',\n '\\xad',\n 'levi\\xad',\n '\\xad',\n 'leviiiii\\xad',\n '\\xad',\n 'levente\\xad',\n '\\xad',\n 'http://www.youtube.com/watch?nr=1&v=umox5m34soc',\n 'http://www.google.com/imgres?q=sz%c3%b6rny+rt+boo&um=1&hl=hu&client=ubuntu&channel=fs&biw=1358&bih=601&tbm=isch&tbnid=bqvw3ugrcp8iom:&imgrefurl=http://boo.kepeslap.com/&docid=rvshpbujxlgjom&imgurl=http://boo.kepeslap.com/images/13709/logo.jpg&w=167&h=147&ei=5a2ptrrjk8jr4qtbml3ydw&zoom=1&iact=rc&dur=323&sig=108986304892986764166&page=1&tbnh=117&tbnw=133&start=0&ndsp=21&ved=1t:429,r:0,s:0&tx=92&ty=28',\n 'rerhe',\n 'trhh',\n 'levi',\n 'ha',\n 'kell',\n 'a',\n 'laptop',\n 'fenn',\n 'van',\n 'a',\n 'haloszoba',\n 'a',\n 'agytarto',\n 'mogott',\n 'kussolj',\n 'idegesítesz!!!!!!',\n '♥\\xad',\n '\\xad',\n 'jahj',\n 'amr',\n 'megint',\n 'en',\n 'vok',\n 'a',\n 'hibast\\xad',\n '\\xad',\n 'mert',\n 'te',\n 'soha',\n 'nem',\n 'lehetsz',\n 'az',\n 'ugye??\\xad',\n '\\xad',\n 'te',\n 'mr',\n 'perfect',\n 'ugye??\\xad',\n '\\xad',\n 'buods',\n 'paraszt\\xad',\n '\\xad',\n 'neked',\n 'is\\xad',\n '\\xad',\n 'engem',\n 'valoszinuleg\\xad',\n '\\xad',\n 'en',\n '\\xad',\n '\\xad',\n 'altalaba',\n 'ez',\n 'van\\xad',\n '\\xad',\n 'mert',\n 'te',\n 'nem',\n 'lehetsz',\n 'hibas\\xad',\n '\\xad',\n 'dehogy',\n 'nem',\n 'provokalod',\n 'ki',\n 'az',\n 'embereket',\n 'deh\\xad',\n '\\xad',\n 'te\\xad',\n '\\xad',\n 'hát',\n 'biztos',\n 'h',\n 'nem',\n 'én\\xad',\n '\\xad',\n 'persze\\xad',\n '\\xad',\n 'de',\n 'tod',\n 'mindenek',\n 'van',\n 'elozmenye',\n 'annyi',\n 'szart',\n 'csinaltal',\n 'mar..mindig',\n 'beszolsz',\n 'v',\n 'elkezdesz',\n 'verni',\n 'a',\n 'levegoba',\n 'utogetsz',\n 'ami',\n 'idegeseit',\n '\\xad',\n '\\xad',\n 'azt',\n 'mondod',\n 'h',\n 'seggfej',\n 'vok',\n 'hat',\n 'miert',\n 'ne',\n 'tudjak',\n 'meg',\n 'anyuek\\xad',\n '\\xad',\n 'ha',\n 'ezt',\n 'gondolod',\n 'miert',\n 'ne',\n 'mondjam',\n 'meg?\\xad',\n '\\xad',\n 'de',\n 'arra',\n 'aszocsialtal',\n '\\xad',\n '\\xad',\n 'nem',\n 'mondtad',\n 'te',\n 'mutattad?\\xad',\n '\\xad',\n '!\\xad',\n '\\xad',\n 'ak',\n 'mire??\\xad',\n '\\xad',\n ':p',\n 'neem',\n 'neem',\n 'szabaad',\n 'xd',\n 'mentek',\n 'valahova',\n 'este?',\n 'nem',\n 'tmo\\xad',\n '\\xad',\n 'já',\n 'hát',\n 'nem',\n 'tom\\xad',\n '\\xad',\n 'és',\n 'ki',\n 'az?\\xad',\n '\\xad',\n 'já\\xad',\n '\\xad',\n 'cs',\n 'mik',\n 'vn',\n 'busz<',\n '?',\n 'hanykor',\n 'ide',\n 'oda?',\n 'hozza',\n 'hanykoer',\n 'radanovacra',\n 'a',\n '6',\n 'en',\n 'natinal',\n 'vok',\n 'es',\n 'nem',\n 'tudjuk',\n 'hanykor',\n 'er',\n 'ide',\n 'oks',\n 'thx',\n 'tom',\n 'csa',\n 'http://tetszik.eu/kutyuli/',\n 'ekkora',\n 'lesz',\n 'majd',\n 'a',\n 'bendeguzi\\xad',\n '\\xad',\n 'http://www.google.com/imgres?um=1&hl=hu&biw=1024&bih=677&tbm=isch&tbnid=i9ckh905pdprxm:&imgrefurl=http://pokechild.com/7-rules-loser/&docid=r21w8oobhena5m&imgurl=http://pokechild.com/wp-content/uploads/2008/11/loser.jpg&w=300&h=282&ei=4jxxtrkwbu6m4gtyu7xfdq&zoom=1&iact=rc&dur=91&sig=109377529951123996361&page=1&tbnh=153&tbnw=163&start=0&ndsp=15&ved=1t:429,r:0,s:0&tx=100&ty=86\\xad',\n '\\xad',\n 'te',\n 'ez',\n 'v',\n '\\xad',\n '\\xad',\n 'http://www.google.com/imgres?um=1&hl=hu&sa=n&biw=1024&bih=677&tbm=isch&tbnid=59ltnjbh5bjhfm:&imgrefurl=http://nerazzurri.blog.nepsport.hu/archives/2011/05/&docid=a76er205l3zevm&imgurl=http://nerazzurri.blog.nepsport.hu/files/2011/05/loser.jpg&w=300&h=282&ei=_uhctokmn-ah4gsruvdicw&zoom=1\\xad',\n '\\xad',\n 'ready.....row',\n 'upsz',\n 'nezd',\n 'ezt',\n 'akakrtam',\n 'xd',\n 'http://www.humorsziget.hu/post?p_id=4770',\n 'na',\n 'megcsinalod_?',\n 'benga',\n ':p',\n 'http://www.facebook.com/photo.php?v=183806211646980',\n 'nem\\xad',\n '\\xad',\n 'http://www.youtube.com/watch?v=sfk2xwd6cv4&feature=share',\n 'http://baszdmeg.hu/2011/10/06/gondolatolvaso_weboldal',\n 'fejtsd',\n 'meg',\n 'nekem',\n 'ezt:',\n 'világszerte',\n 'egyre',\n 'nagyobb',\n 'rezisztenciát',\n 'mutat',\n 'az',\n 'antibiotikumokkal',\n 'szemben\\xad',\n '\\xad',\n 'ty♥\\xad',\n '\\xad',\n 'szeretsz???',\n ':d\\xad',\n '\\xad',\n 'lehozod',\n 'a',\n 'szemüvegem??',\n '\\xad',\n '\\xad',\n 'lééééccccccccciiiiiiiiiiii\\xad',\n '\\xad',\n 'kérlek',\n 'aludj',\n 'te',\n 'csacsi',\n ':d\\xad',\n '\\xad',\n '♥\\xad',\n '\\xad',\n 'http://terhelt.blog.hu/2011/12/28/keresd_a_hibat_179900\\xad',\n '\\xad',\n 'http://www.google.com/imgres?um=1&hl=hu&sa=n&biw=1024&bih=677&tbm=isch&tbnid=lxrdiqkayjeodm:&imgrefurl=http://www.graphicshunt.com/images/good_night_bear-3811.htm&docid=snxixrtfcckrjm&imgurl=http://images.paraorkut.com/img/pics/glitters/g/good_night_bear-3811.gif&w=303&h=300&ei=kkt9tsjons_iswbhuidxdw&zoom=1&iact=hc&vpx=106&vpy=143&dur=720&hovh=223&hovw=226&tx=150&ty=94&sig=109377529951123996361&page=1&tbnh=150&tbnw=158&start=0&ndsp=15&ved=1t:429,r:0,s:0\\xad',\n '\\xad',\n 'jaaaaaaaaaa',\n 'http://www.demotivalo.net/view/68976/eleted-legjobb-bunyoit',\n 'nem',\n 'nincs',\n 'kedvem',\n 'nem…multkor',\n 'is',\n 'én',\n 'szereltem',\n 'be',\n 'miutan',\n 'felvitted',\n 'plus',\n 'nem',\n 'hoztad',\n 'le',\n 'a',\n 'szemuvegem',\n 'nem',\n 'miert',\n 'nem',\n 'szereled',\n 'be',\n 'a',\n 'fullhallgatot',\n 'és',\n 'hallgatod',\n 'ugy???',\n 'a-a',\n 'multkor',\n 'en',\n 'isw',\n 'ugy',\n 'hallgattam',\n 'es',\n 'nem',\n 'ovlt',\n 'semmi',\n 'csa',\n 'itt',\n 'vok',\n 'mondd',\n 'meg',\n 'anyucinak+szercsizem',\n 'őket..:)',\n 'meg',\n 'téged',\n 'is.:)',\n ':*',\n 'csa',\n 'zrtsz',\n 'korizni?',\n 'szeretsz*',\n 'öööö',\n 'ingyenes',\n 'a',\n 'kori',\n 'nem',\n 'kaakrtok',\n 'korizni?',\n '6',\n 'perces',\n ':(',\n 'ok',\n 'deakartokj',\n 'korizni',\n 'pl',\n 'penteken',\n 'vagz',\n 'csutortokon',\n '?',\n 'teszt',\n 'után',\n 'lenne',\n 'szabi',\n 'jon',\n 'korizni',\n 'es',\n 'te??',\n ':d',\n 'dunnozad',\n 'miiiiiiiiiiii?????',\n 'ez',\n 'komly??????,',\n ':oooooo',\n 'oooomg',\n 'es',\n 'mar',\n 'jartok',\n 'is',\n 'vagy',\n 'mi?',\n ':d',\n 'kis',\n 'pedalos',\n ':p',\n 'de',\n 'ha',\n 'megbantod',\n 'vagy',\n 'ok',\n 'nelkul',\n 'szakitasz',\n 'vele',\n 'nem',\n 'leed',\n 'meg',\n 'az',\n 'kovi',\n 'napcsit',\n 'oks?',\n '*eled',\n 'na',\n 'de',\n 'tenyleg',\n 'ne',\n 'levi',\n 'mert',\n 'dorit',\n 'nagyon',\n 'szeretem',\n 'persze.....-.-\"',\n '(z)',\n '(y)',\n ':42:',\n '.d',\n ':d',\n ',???',\n 'tudom',\n 'hogy',\n 'a',\n 'gyofrit',\n 'tweszed',\n 'ki',\n '-w',\n 'tokre',\n 'gyofri',\n 'pofaja',\n 'van',\n 'nem',\n 'nem',\n 'gyorfi',\n 'hanem',\n 'gyofri',\n 'te',\n 'se',\n 'nagyon',\n 'draga',\n 'olvasd',\n 'el',\n 'mit',\n 'irtal',\n 'neeeeem!',\n 'bendeguz',\n 'alszik',\n 'a',\n 'paholyan?',\n 'miiiiiiiiiiiiiiii????????',\n 'meeeeeeeeeeeeeeeeert',\n ':(',\n 'http://www.youtube.com/watch?v=fthl0mawkmy',\n 'jó',\n 'szám',\n 'cso',\n 'hozol',\n 'edzesre',\n 'aspirint',\n 'vagy',\n 'brufent?',\n '-.-\"',\n 'nem',\n 'hanem',\n 'szét',\n 'orbban',\n 'a',\n 'fejem',\n 'kimegyek',\n 'a',\n 'grepolisodból',\n 'ok?\\xad',\n '\\xad',\n 'csaa',\n 'tudod',\n 'hogy',\n 'mukodik',\n 'a',\n 'most',\n 'eanted',\n 'w',\n 'hat',\n 'ok',\n 'szia',\n 'tanulsz',\n 'mi??',\n 'x',\n 'd',\n '?',\n '-.-\"',\n 'levi',\n 'kérdezhetek',\n 'vmit?',\n 'a',\n 'toni',\n 'meg',\n 'a',\n 'bálint',\n 'verekedtek???',\n 'tutkos??',\n ':d',\n 'véletlen',\n 'vagy',\n 'akakrotból??:o',\n 'http://www.2perc.hu/jobaratok-vs-igy-jartam-anyatokkal/',\n 'http://trollfesz.net/2012/03/28/albus-nem-lattad%e2%80%a6/',\n '?',\n 'syaorm',\n 'le',\n 'z',\n 'es?',\n 'x',\n 'd',\n 'es?',\n 'x',\n 'd',\n 'esdemeny',\n 'elrelytesrol',\n 'enm',\n 'hallotal?',\n 'o.o',\n 'pffff',\n 'aklkkor',\n 'torolj',\n 'ki',\n 'xd',\n 'simogasd',\n 'meg',\n 'helzettem',\n 'a',\n 'bendet',\n 'hianzyik',\n 'koszi',\n 'ne',\n ':)',\n 'levi',\n 'hogy',\n 'halt',\n 'meg',\n 'a',\n 'regenyi?',\n 'mtk-s',\n 'igen',\n 'http://www.hunrowing.hu/hirek/gyasz',\n 'ay',\n 'az',\n 'megyek',\n 'cs',\n 'csa',\n 'anyu',\n 'otthon',\n 'van?',\n 'kerdezd',\n 'meg',\n 'hogy',\n 'mi',\n 'gmail',\n 'cime',\n 'meg',\n 'jelszava!',\n 'marticseke',\n 'es',\n '19640716????',\n 'azt',\n 'mondja',\n 'a',\n 'net',\n 'hogy',\n 'nem',\n 'az',\n 'xd',\n '07',\n 'vagy',\n 'siman',\n '7??',\n '♥',\n 'http://www.youtube.com/watch?v=zd66uv0xg5y&feature=bf_next&list=pl9969a4725077e44c&lf=plpp_video',\n 'http://smile.blog.hu/2012/04/14/ki_ejjel_legeny_1',\n 'beszeltem',\n 'natiekkal',\n 'martin',\n 'masodik',\n 'lett',\n 'elodontobe',\n 'de',\n 'ezzel',\n 'csak',\n 'b',\n 'dontoa',\n 'jutottak',\n 'be',\n 'tudod?',\n ':)',\n 'http://www.vajma.info/cikk/tukor/4872/',\n 'http://www.youtube.com/watch?v=fwnar-rxaic&feature=related',\n 'http://5perc.net/7047',\n 'http://www.2perc.hu/probald-meg-a-fejere-vinni-a-kurzort2/',\n 'http://kep-vilag.hu/index.php/2012/04/a-csalad-kis-kedvence/',\n 'http://lopom.hu/post/2344/apa-gonoszkodik',\n 'neked',\n 'miert',\n 'nem',\n 'kell?',\n 'o.o',\n '.!.',\n 'szerezd',\n 'fel',\n 'a',\n 'laptopot',\n 'muszaj',\n 'meselnem',\n 'natinak',\n 'http://napivicc.com/vicces-kepek/rakd-ide-az-ujjad/',\n '+',\n 'varj',\n '5',\n 'msdpercet',\n 'nem',\n 'ijeszto',\n 'eskuszom',\n ':)',\n '?',\n '-.-',\n 'te',\n 'is!',\n 'pfff',\n 'jol',\n 'va?',\n 'n',\n 'szia',\n 'kell',\n 'mici',\n 'is',\n 'xd',\n 'hat',\n 'ne',\n 'annyira',\n 'feltem',\n 'nagyon',\n 'nagyon...',\n 'de',\n 'levi',\n 'mici',\n 'is',\n 'kell',\n 'olcastad',\n 'v',\n 'nem',\n 'tudom',\n 'patyi',\n 'modta',\n 'n',\n 'de',\n 'megyek',\n 'szia',\n '♥',\n ':*',\n 'jossz?',\n 'am',\n 'hozz',\n 'mar',\n 'fel',\n 'ket',\n 'filter',\n 'teat',\n 'egy',\n 'mentast',\n 'meg',\n 'egy',\n 'erdeit',\n 'gyumiset',\n 'csa',\n 'hnap',\n 'irtok',\n 'vmit',\n 'azert',\n 'nedm',\n 'ojttel',\n 'edzni?',\n ':d',\n 'x',\n 'd',\n 'ki',\n 'tudod',\n 'tölteni?',\n 'o.o',\n 'az',\n '1848-49-es',\n 'forradalom',\n 'és',\n 'szabadságharc',\n 'egyike',\n 'a',\n 'magyar',\n 'történelem',\n 'legjelentősebb',\n 'eseményeinek.',\n 'az',\n 'ország',\n 'ebben',\n 'a',\n 'másfél',\n 'évben',\n 'tette',\n 'meg',\n 'a',\n 'legfontosabb',\n 'lépéseket',\n 'a.......',\n 'rendszerből',\n 'a........társadalom',\n 'felé.',\n 'minderre',\n 'egy',\n 'nagy........folyamat',\n 'keretén',\n 'belül',\n 'került',\n 'sor.',\n 'a',\n 'magyar',\n 'és',\n 'a',\n '.......események',\n 'mindvégig',\n '........voltak',\n 'egymással.',\n 'a',\n 'forradalom',\n 'és',\n 'szabadságharc',\n 'a',\n 'társadalom',\n 'egészének',\n 'élménye',\n 'volt.',\n 'több',\n 'százan',\n 'teljesítettek.....vagy........szolgálatot,',\n 'vettek',\n 'részt',\n 'a',\n 'népgyülésen',\n '-.-\"',\n '-.-\"',\n 'ti',\n 'mikor',\n 'indultok',\n 'szabiol',\n 'el?',\n 'v?',\n 'megmondod',\n 'majd',\n 'szabinak',\n 'hogy',\n 'hozzá',\n 'szeretnénk',\n 'lerakni',\n 'a',\n 'biccajt-?',\n 'o.o',\n 'ellopjak',\n 'hazudsz?',\n ':d',\n 'mi?',\n 'te',\n 'kis',\n 'piszok',\n ':p',\n 'szia…ott',\n 'vagyok',\n 'mar',\n 'zsofieknal',\n 'ugye?',\n 'zsofi',\n 'reka',\n 'balint',\n 'is',\n 'ott',\n 'van?',\n 'mert',\n 'irt',\n 'csaba',\n 'hogy',\n 'mindenkinek',\n 'adjam',\n 'at',\n 'hogy',\n 'bocsanat',\n 'ahogy',\n 'viselkedett*…',\n ':)',\n 'megkerhetlek',\n 'vmire?',\n 'http://onlinewebfilmek.blogspot.com/2012/03/tiltott-szerelem-online-2008.html',\n 'meddig',\n 'neztem',\n 'marmint',\n 'melyik',\n 'szamig',\n 'van',\n 'masik',\n 'szin',\n '8ast',\n 'nem?',\n 'mind1',\n 'köszi',\n ':*',\n '<3',\n 'neked',\n 'szarik',\n 'a',\n 'net?',\n 'nekem',\n 'igen',\n 'a',\n 'youtubeot',\n 'hasznalod?',\n 'probalj',\n 'meg',\n 'egyet',\n 'hogy',\n 'akadozik',\n 'e',\n 'szarrr',\n 'csa',\n 'jön',\n 'dóri?',\n 'dóri',\n 'te',\n 'vagy',\n 'az',\n 'xd?',\n 'tudom',\n 'én!!',\n ':d',\n 'jössz?',\n ':)',\n 'aham…',\n 'szal?',\n 'most',\n 'eleg',\n 'fontos',\n 'lenne!!!',\n 'miert,',\n ':o',\n '?',\n ':(',\n 'az',\n ':)',\n 'de',\n 'mikor',\n 'ersz',\n 'haza?',\n 'okés',\n 'gyere',\n 'ez',\n 'ugy',\n 'is',\n 'hajnalba',\n 'van',\n ':)',\n 'addig',\n 'is',\n 'lesz',\n 'de',\n '3',\n 'korul',\n 'a',\n 'max',\n ':)',\n 'bicaj…',\n 'vagy',\n 'hol',\n 'mentek',\n 'at?',\n 'szard',\n 'le',\n 'xd',\n 'szökj',\n 'meg',\n ':d',\n 'mily',\n 'romantik',\n 'lenne',\n 'ha',\n 'együtt',\n 'nézznétek',\n ...]"
     },
     "execution_count": 86,
     "metadata": {},
     "output_type": "execute_result"
    }
   ],
   "source": [
    "text"
   ]
  },
  {
   "cell_type": "code",
   "execution_count": 87,
   "metadata": {},
   "outputs": [
    {
     "data": {
      "text/plain": "25327"
     },
     "execution_count": 87,
     "metadata": {},
     "output_type": "execute_result"
    }
   ],
   "source": [
    "len(text)"
   ]
  },
  {
   "cell_type": "code",
   "execution_count": 88,
   "metadata": {},
   "outputs": [
    {
     "data": {
      "text/plain": "8161"
     },
     "execution_count": 88,
     "metadata": {},
     "output_type": "execute_result"
    }
   ],
   "source": [
    "len(set(text))"
   ]
  },
  {
   "cell_type": "code",
   "execution_count": null,
   "metadata": {},
   "outputs": [],
   "source": [
    "https://stackoverflow.com/questions/51976328/best-way-to-remove-xad-in-python"
   ]
  },
  {
   "cell_type": "markdown",
   "metadata": {},
   "source": [
    "## checking on friends list"
   ]
  },
  {
   "cell_type": "code",
   "execution_count": 90,
   "metadata": {},
   "outputs": [
    {
     "name": "stdout",
     "output_type": "stream",
     "text": ".:\ndata\nexplore.ipynb\n__pycache__\nREADME.md\ntest_data\ntest_utils.py\ntodo.md\nutils.py\n\n/home/levente/projects/facebook-data-miner/data/friends:\nfriends.json\nreceived_friend_requests.json\nrejected_friend_requests.json\nremoved_friends.json\nsent_friend_requests.json\n\n"
    }
   ],
   "source": [
    "ls(DATA/'friends')"
   ]
  },
  {
   "cell_type": "code",
   "execution_count": 98,
   "metadata": {},
   "outputs": [
    {
     "data": {
      "text/plain": "dict_keys(['friends'])"
     },
     "execution_count": 98,
     "metadata": {},
     "output_type": "execute_result"
    }
   ],
   "source": [
    "friends = decode_text(read_json(DATA/'friends/friends.json'))\n",
    "friends.keys()"
   ]
  },
  {
   "cell_type": "code",
   "execution_count": 99,
   "metadata": {},
   "outputs": [
    {
     "data": {
      "text/html": "<div>\n<style scoped>\n    .dataframe tbody tr th:only-of-type {\n        vertical-align: middle;\n    }\n\n    .dataframe tbody tr th {\n        vertical-align: top;\n    }\n\n    .dataframe thead th {\n        text-align: right;\n    }\n</style>\n<table border=\"1\" class=\"dataframe\">\n  <thead>\n    <tr style=\"text-align: right;\">\n      <th></th>\n      <th>name</th>\n      <th>timestamp</th>\n      <th>contact_info</th>\n    </tr>\n  </thead>\n  <tbody>\n    <tr>\n      <th>0</th>\n      <td>Betti Balázs</td>\n      <td>1590673319</td>\n      <td>NaN</td>\n    </tr>\n    <tr>\n      <th>1</th>\n      <td>Kornél Krivácsi</td>\n      <td>1586461325</td>\n      <td>NaN</td>\n    </tr>\n    <tr>\n      <th>2</th>\n      <td>Rita Torma</td>\n      <td>1584299908</td>\n      <td>NaN</td>\n    </tr>\n    <tr>\n      <th>3</th>\n      <td>Endrina Varga</td>\n      <td>1584219292</td>\n      <td>NaN</td>\n    </tr>\n    <tr>\n      <th>4</th>\n      <td>Karolj Bercek</td>\n      <td>1582409060</td>\n      <td>NaN</td>\n    </tr>\n    <tr>\n      <th>...</th>\n      <td>...</td>\n      <td>...</td>\n      <td>...</td>\n    </tr>\n    <tr>\n      <th>729</th>\n      <td>Dániel Miskolci</td>\n      <td>1254768581</td>\n      <td>NaN</td>\n    </tr>\n    <tr>\n      <th>730</th>\n      <td>Szebenyi Árpád</td>\n      <td>1254751966</td>\n      <td>NaN</td>\n    </tr>\n    <tr>\n      <th>731</th>\n      <td>Andrea Kukla</td>\n      <td>1254595916</td>\n      <td>NaN</td>\n    </tr>\n    <tr>\n      <th>732</th>\n      <td>Szabolcs Bosnyák</td>\n      <td>1254581806</td>\n      <td>NaN</td>\n    </tr>\n    <tr>\n      <th>733</th>\n      <td>Augusztlna Vörös</td>\n      <td>1254576831</td>\n      <td>NaN</td>\n    </tr>\n  </tbody>\n</table>\n<p>734 rows × 3 columns</p>\n</div>",
      "text/plain": "                 name   timestamp contact_info\n0        Betti Balázs  1590673319          NaN\n1     Kornél Krivácsi  1586461325          NaN\n2          Rita Torma  1584299908          NaN\n3       Endrina Varga  1584219292          NaN\n4       Karolj Bercek  1582409060          NaN\n..                ...         ...          ...\n729   Dániel Miskolci  1254768581          NaN\n730    Szebenyi Árpád  1254751966          NaN\n731      Andrea Kukla  1254595916          NaN\n732  Szabolcs Bosnyák  1254581806          NaN\n733  Augusztlna Vörös  1254576831          NaN\n\n[734 rows x 3 columns]"
     },
     "execution_count": 99,
     "metadata": {},
     "output_type": "execute_result"
    }
   ],
   "source": [
    "friends_df = pd.DataFrame(friends.get('friends'))\n",
    "friends_df"
   ]
  },
  {
   "cell_type": "code",
   "execution_count": null,
   "metadata": {},
   "outputs": [],
   "source": []
  }
 ]
}