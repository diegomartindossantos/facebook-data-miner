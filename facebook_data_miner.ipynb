{
 "metadata": {
  "language_info": {
   "codemirror_mode": {
    "name": "ipython",
    "version": 3
   },
   "file_extension": ".py",
   "mimetype": "text/x-python",
   "name": "python",
   "nbconvert_exporter": "python",
   "pygments_lexer": "ipython3",
   "version": "3.8.3-final"
  },
  "orig_nbformat": 2,
  "kernelspec": {
   "name": "python_defaultSpec_1599490874715",
   "display_name": "Python 3.8.3 64-bit ('fb': conda)"
  }
 },
 "nbformat": 4,
 "nbformat_minor": 2,
 "cells": [
  {
   "cell_type": "markdown",
   "metadata": {},
   "source": [
    "# Facebbok Data Miner\n",
    "\n",
    "This notebook is about showcasing the features of this python application. \n",
    "It has a secondary mission, that is by exploring possibilities in this notebook I get insights for designing the interface of the CLI of this app, since it is not totally clear yet, how data relates, and exactly which information can be accessed where."
   ]
  },
  {
   "cell_type": "markdown",
   "metadata": {},
   "source": [
    "## Introduction\n",
    "\n",
    "One day I downloaded my facebook data, and it turned out it's 8.2GBs. That's a lot. Like how is that even possible. I started looking into directories, and found same interesting media files, chat messages and posts. I wanted to dive deeper, but I knew I can't scale it after some point.\n",
    "\n",
    "Then I googled `facebook data analyzer github`, so that I can just download a package and do the analysis. As you can see in this [list](https://github.com/topics/facebook-data-analyzer) there is not a lot. \n",
    "\n",
    "There is a nice library written in Ruby with more than 100 commits and 505 stars, but it's more than 2 years old now. The other thing is that I was looking for a solution with which I can mess around (e.g. maybe use the data getters to do some deep learning on my message history) and I didn't really want to get into Ruby (sorry Ruby users).\n",
    "\n",
    "There are also some python packages, but they offer little-to-no data interfaces. Most of them focus on visualizing the results with plots, and the data getters were desgined around the plotter functions. Although you may want to check out [fviz](https://github.com/itzmeanjan/fviz) which offers really nice plots. Probably nicer then this library would ever have. "
   ]
  },
  {
   "cell_type": "markdown",
   "metadata": {},
   "source": [
    "## Purpose\n",
    "\n",
    "Then I decided that I would write my own library for this, amongst others for two main reasons:\n",
    "\n",
    "1. I want the insights from my facebook data, and I want to have really specific insights.\n",
    "2. I want to improve my Python and get expertise in Python's data science libraries. Gaining some more git and GitHub, software design and project planning skills would also not hurt.\n"
   ]
  },
  {
   "cell_type": "markdown",
   "metadata": {},
   "source": [
    "## Analyzing my Facebook data\n",
    "Let's specify the path of the zip file."
   ]
  },
  {
   "cell_type": "code",
   "execution_count": 2,
   "metadata": {},
   "outputs": [
    {
     "output_type": "execute_result",
     "data": {
      "text/plain": "'/home/levente/projects/facebook-data-miner/data'"
     },
     "metadata": {},
     "execution_count": 2
    }
   ],
   "source": [
    "import os\n",
    "DATA_PATH = f\"{os.getcwd()}/data\"\n",
    "DATA_PATH"
   ]
  },
  {
   "cell_type": "markdown",
   "metadata": {},
   "source": [
    "### Unzip and describe the data"
   ]
  },
  {
   "cell_type": "code",
   "execution_count": 3,
   "metadata": {},
   "outputs": [],
   "source": [
    "#TODO"
   ]
  },
  {
   "cell_type": "markdown",
   "metadata": {},
   "source": [
    "Let's import all the dependencies we will need during the notebook."
   ]
  },
  {
   "cell_type": "code",
   "execution_count": 5,
   "metadata": {},
   "outputs": [
    {
     "output_type": "error",
     "ename": "ModuleNotFoundError",
     "evalue": "No module named 'miner.message.messaging_analyzer'",
     "traceback": [
      "\u001b[0;31m---------------------------------------------------------------------------\u001b[0m",
      "\u001b[0;31mModuleNotFoundError\u001b[0m                       Traceback (most recent call last)",
      "\u001b[0;32m<ipython-input-5-383305c5c2e8>\u001b[0m in \u001b[0;36m<module>\u001b[0;34m\u001b[0m\n\u001b[1;32m      4\u001b[0m \u001b[0;34m\u001b[0m\u001b[0m\n\u001b[1;32m      5\u001b[0m \u001b[0;34m\u001b[0m\u001b[0m\n\u001b[0;32m----> 6\u001b[0;31m \u001b[0;32mfrom\u001b[0m \u001b[0mminer\u001b[0m\u001b[0;34m.\u001b[0m\u001b[0mapp\u001b[0m \u001b[0;32mimport\u001b[0m \u001b[0;34m*\u001b[0m\u001b[0;34m\u001b[0m\u001b[0;34m\u001b[0m\u001b[0m\n\u001b[0m",
      "\u001b[0;32m~/projects/facebook-data-miner/miner/app.py\u001b[0m in \u001b[0;36m<module>\u001b[0;34m\u001b[0m\n\u001b[1;32m      4\u001b[0m \u001b[0;32mfrom\u001b[0m \u001b[0mtyping\u001b[0m \u001b[0;32mimport\u001b[0m \u001b[0mUnion\u001b[0m\u001b[0;34m,\u001b[0m \u001b[0mList\u001b[0m\u001b[0;34m,\u001b[0m \u001b[0mDict\u001b[0m\u001b[0;34m,\u001b[0m \u001b[0mCallable\u001b[0m\u001b[0;34m,\u001b[0m \u001b[0mAny\u001b[0m\u001b[0;34m,\u001b[0m \u001b[0mNamedTuple\u001b[0m\u001b[0;34m\u001b[0m\u001b[0;34m\u001b[0m\u001b[0m\n\u001b[1;32m      5\u001b[0m \u001b[0;32mfrom\u001b[0m \u001b[0mminer\u001b[0m\u001b[0;34m.\u001b[0m\u001b[0mmessage\u001b[0m\u001b[0;34m.\u001b[0m\u001b[0mconversations\u001b[0m \u001b[0;32mimport\u001b[0m \u001b[0mConversations\u001b[0m\u001b[0;34m\u001b[0m\u001b[0;34m\u001b[0m\u001b[0m\n\u001b[0;32m----> 6\u001b[0;31m \u001b[0;32mfrom\u001b[0m \u001b[0mminer\u001b[0m\u001b[0;34m.\u001b[0m\u001b[0mmessage\u001b[0m\u001b[0;34m.\u001b[0m\u001b[0mmessaging_analyzer\u001b[0m \u001b[0;32mimport\u001b[0m \u001b[0mMessagingAnalyzer\u001b[0m\u001b[0;34m\u001b[0m\u001b[0;34m\u001b[0m\u001b[0m\n\u001b[0m\u001b[1;32m      7\u001b[0m \u001b[0;32mfrom\u001b[0m \u001b[0mminer\u001b[0m\u001b[0;34m.\u001b[0m\u001b[0mvisualizer\u001b[0m\u001b[0;34m.\u001b[0m\u001b[0mtable_creator\u001b[0m \u001b[0;32mimport\u001b[0m \u001b[0mTableCreator\u001b[0m\u001b[0;34m\u001b[0m\u001b[0;34m\u001b[0m\u001b[0m\n\u001b[1;32m      8\u001b[0m \u001b[0;32mfrom\u001b[0m \u001b[0mminer\u001b[0m\u001b[0;34m.\u001b[0m\u001b[0mvisualizer\u001b[0m\u001b[0;34m.\u001b[0m\u001b[0mplotter\u001b[0m \u001b[0;32mimport\u001b[0m \u001b[0mPlotter\u001b[0m\u001b[0;34m\u001b[0m\u001b[0;34m\u001b[0m\u001b[0m\n",
      "\u001b[0;31mModuleNotFoundError\u001b[0m: No module named 'miner.message.messaging_analyzer'"
     ]
    }
   ],
   "source": [
    "from datetime import datetime\n",
    "\n",
    "\n",
    "\n",
    "\n",
    "from miner.app import *"
   ]
  },
  {
   "cell_type": "code",
   "execution_count": null,
   "metadata": {},
   "outputs": [],
   "source": []
  }
 ]
}