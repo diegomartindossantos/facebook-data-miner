{
 "cells": [
  {
   "cell_type": "markdown",
   "metadata": {},
   "source": [
    "# Facebbok Data Miner\n",
    "\n",
    "This notebook is about showcasing the features of this python application. \n",
    "It has a secondary mission, that is by exploring possibilities in this notebook I get insights for designing the interface of the CLI of this app, since it is not totally clear yet, how data relates, and exactly which information can be accessed where."
   ]
  },
  {
   "cell_type": "markdown",
   "metadata": {},
   "source": [
    "## Introduction\n",
    "\n",
    "One day I downloaded my facebook data, and it turned out it's 8.2GBs. That's a lot. Like how is that even possible. I started looking into directories, and found same interesting media files, chat messages and posts. I wanted to dive deeper, but I knew I can't scale it after some point.\n",
    "\n",
    "Then I googled `facebook data analyzer github`, so that I can just download a package and do the analysis. As you can see in this [list](https://github.com/topics/facebook-data-analyzer) there is not a lot. \n",
    "\n",
    "There is a nice library written in Ruby with more than 100 commits and 505 stars, but it's more than 2 years old now. The other thing is that I was looking for a solution with which I can mess around (e.g. maybe use the data getters to do some deep learning on my message history) and I didn't really want to get into Ruby (sorry Ruby users).\n",
    "\n",
    "There are also some python packages, but they offer little-to-no data interfaces. Most of them focus on visualizing the results with plots, and the data getters were desgined around the plotter functions. Although you may want to check out [fviz](https://github.com/itzmeanjan/fviz) which offers really nice plots. Probably nicer then this library would ever have. "
   ]
  },
  {
   "cell_type": "markdown",
   "metadata": {},
   "source": [
    "## Purpose\n",
    "\n",
    "Then I decided that I would write my own library for this, amongst others for two main reasons:\n",
    "\n",
    "1. I want the insights from my facebook data, and I want to have really specific insights.\n",
    "2. I want to improve my Python and get expertise in Python's data science libraries. Gaining some more git and GitHub, software design and project planning skills would also not hurt.\n"
   ]
  },
  {
   "cell_type": "markdown",
   "metadata": {},
   "source": [
    "## Analyzing your Facebook data\n",
    "For getting your Facebook data refer to the [README.md](README.md) file. \n",
    "\n",
    "Let's specify the path of the zip file."
   ]
  },
  {
   "cell_type": "code",
   "execution_count": null,
   "metadata": {},
   "outputs": [],
   "source": [
    "import os\n",
    "DATA_PATH = f\"{os.getcwd()}/data\"\n",
    "DATA_PATH"
   ]
  },
  {
   "cell_type": "markdown",
   "metadata": {},
   "source": [
    "### Unzip and describe the data"
   ]
  },
  {
   "cell_type": "code",
   "execution_count": null,
   "metadata": {},
   "outputs": [],
   "source": [
    "# TODO unzip function\n",
    "# TODO test if it is jsons and english"
   ]
  },
  {
   "cell_type": "markdown",
   "metadata": {},
   "source": [
    "Let's see what's in the box."
   ]
  },
  {
   "cell_type": "code",
   "execution_count": null,
   "metadata": {
    "tags": []
   },
   "outputs": [],
   "source": [
    "!ls data"
   ]
  },
  {
   "cell_type": "markdown",
   "metadata": {},
   "source": [
    "These are the categories in which Facebook ordered the data they have on you. \n",
    "\n",
    "In this notebook we will focus on `friends` and `messages`."
   ]
  },
  {
   "cell_type": "markdown",
   "metadata": {},
   "source": [
    "First we import all the dependencies we will need for running the notebook."
   ]
  },
  {
   "cell_type": "code",
   "execution_count": null,
   "metadata": {},
   "outputs": [],
   "source": [
    "from datetime import datetime\n",
    "\n",
    "from IPython.display import Image\n",
    "\n",
    "\n",
    "from miner.app import App\n",
    "from miner import utils"
   ]
  },
  {
   "cell_type": "markdown",
   "metadata": {},
   "source": [
    "## Application\n",
    "The main entrypoint of the application is a class named `App` (not so creatively). It is a CLI, which you can use from the command line, but you can also use it as a module.\n",
    "\n",
    "This notebook will give you a good grasp on how this application works, and how can you use it.\n",
    "\n",
    "Let's dive right into it. The execution of this cell might take a while depending on how much data you have and how fast is your CPU. Right now the constructor of this class reads in the json files we are analyzing, and creates some basic data structures from them."
   ]
  },
  {
   "cell_type": "code",
   "execution_count": null,
   "metadata": {
    "tags": []
   },
   "outputs": [],
   "source": [
    "app = App(DATA_PATH) "
   ]
  },
  {
   "cell_type": "markdown",
   "metadata": {},
   "source": [
    "### Friends\n",
    "The first feature we have is a straightforward one. We get our friends from Facebook, and the date the connection was made.\n",
    "\n",
    "For this Facebook provides us with the `friends` directory/category. Here is what is inside."
   ]
  },
  {
   "cell_type": "code",
   "execution_count": null,
   "metadata": {
    "tags": []
   },
   "outputs": [],
   "source": [
    "!ls data/friends"
   ]
  },
  {
   "cell_type": "code",
   "execution_count": null,
   "metadata": {},
   "outputs": [],
   "source": [
    "friends = app.friends\n",
    "friends"
   ]
  },
  {
   "cell_type": "markdown",
   "metadata": {},
   "source": [
    "We can have a look what kind oh methods and properties does this object expose. We use a wrapper around the `dir` built-in, thus we only see methods and properties which does not start with an underscore."
   ]
  },
  {
   "cell_type": "code",
   "execution_count": null,
   "metadata": {
    "tags": []
   },
   "outputs": [],
   "source": [
    "print(utils.dir_stripped(friends))"
   ]
  },
  {
   "cell_type": "markdown",
   "metadata": {},
   "source": [
    "The `data` property of the `friends` object is a pandas DataFrame that contains all of your Facebook friends. Timestamps refer to the datetime of making the Facebook freinds. \n",
    "\n",
    "Here are 5 samples from the friends DataFrame."
   ]
  },
  {
   "cell_type": "code",
   "execution_count": null,
   "metadata": {},
   "outputs": [],
   "source": [
    "friends.data.sample(5)"
   ]
  },
  {
   "cell_type": "markdown",
   "metadata": {},
   "source": [
    "Let's see what pandas can tell us about the DataFrame."
   ]
  },
  {
   "cell_type": "code",
   "execution_count": null,
   "metadata": {},
   "outputs": [],
   "source": [
    "friends.data.describe()"
   ]
  },
  {
   "cell_type": "code",
   "execution_count": null,
   "metadata": {},
   "outputs": [],
   "source": [
    "# TODO rate of making friends"
   ]
  },
  {
   "cell_type": "markdown",
   "metadata": {},
   "source": [
    "### Conversations\n",
    "\n",
    "`Conversations` is a class that reads and stores conversation data, that is both `private` and `group` messages.\n",
    "\n",
    "Both `private` and `group` properties of the Conversations class has the type of `Dict[str, Conversation]`, where:\n",
    "* a `key` is either private conversation partners or group conversation names (basically the name of the channel),\n",
    "* a `value` is a type of `Conversation`, which is a container class that contains a channel's data and metadata.\n",
    "\n",
    "The difference between `private` and `group` is not at all that big. The reason behind the design decision to deal with them separately comes down to the fact that the relation between participants and channels is different (in private one participant can relate to only one channel, while in group messages one participant can realte to a number of channels). Although symmetry is still kept by using the same classes for both of them (no subclasses)."
   ]
  },
  {
   "cell_type": "code",
   "execution_count": null,
   "metadata": {
    "tags": []
   },
   "outputs": [],
   "source": [
    "conversations = app.conversations\n",
    "conversations"
   ]
  },
  {
   "cell_type": "code",
   "execution_count": null,
   "metadata": {
    "tags": []
   },
   "outputs": [],
   "source": [
    "print(utils.dir_stripped(conversations))"
   ]
  },
  {
   "cell_type": "markdown",
   "metadata": {},
   "source": [
    "We have these two properties to use. We can check how many private and how many group conversations do we have."
   ]
  },
  {
   "cell_type": "code",
   "execution_count": null,
   "metadata": {},
   "outputs": [],
   "source": [
    "len(conversations.private), len(conversations.group)"
   ]
  },
  {
   "cell_type": "markdown",
   "metadata": {},
   "source": [
    "### Messaging Analyzer\n",
    "Now we got to a point where we can actually *analyze* our data. \n",
    "\n",
    "`app.analyzer` returns an instance of MessagingAnalyzerManager which manages the analysis of both `private` and `group` messages, and also the interaction between the two e.g. get all messages for one person (both private and group channels).\n",
    "\n",
    "**IMPORTANT NOTE**: For discover the features of this class and its composite classes, we want to be able to refer to at least one private conversation partner and at least one group conversation. \n",
    "In the next cell you should set this variables to a private conversation partner's name and the name of a group conversation of yours."
   ]
  },
  {
   "cell_type": "code",
   "execution_count": null,
   "metadata": {},
   "outputs": [],
   "source": [
    "PARTNER_NAME = \"Dániel Nagy\"# TODO test if there is a name like this? maybe add suggestions: `no name like this, but amybe this?! like git commands`\n",
    "\n",
    "GROUP_NAME = '420' "
   ]
  },
  {
   "cell_type": "markdown",
   "metadata": {},
   "source": [
    "Now we can go ahead and start our discoveries. "
   ]
  },
  {
   "cell_type": "code",
   "execution_count": null,
   "metadata": {
    "tags": []
   },
   "outputs": [],
   "source": [
    "analyzer = app.analyzer"
   ]
  },
  {
   "cell_type": "markdown",
   "metadata": {},
   "source": [
    "If we run the next cell, we will see that this object has a lot of methods and properties."
   ]
  },
  {
   "cell_type": "code",
   "execution_count": null,
   "metadata": {
    "tags": []
   },
   "outputs": [],
   "source": [
    "print(utils.dir_stripped(analyzer))"
   ]
  },
  {
   "cell_type": "markdown",
   "metadata": {},
   "source": [
    "Let's now take the above group and see amongst its participants who we have private conversation with."
   ]
  },
  {
   "cell_type": "code",
   "execution_count": null,
   "metadata": {},
   "outputs": [],
   "source": [
    "analyzer.get_who_i_have_private_convo_with_from_a_group(GROUP_NAME)"
   ]
  },
  {
   "cell_type": "markdown",
   "metadata": {},
   "source": [
    "Now we can also check how much I speak with these participants."
   ]
  },
  {
   "cell_type": "code",
   "execution_count": null,
   "metadata": {},
   "outputs": [],
   "source": [
    "analyzer.how_much_i_speak_in_private_with_group_members(GROUP_NAME)"
   ]
  },
  {
   "cell_type": "markdown",
   "metadata": {},
   "source": [
    "Let's see if I had first private or group messages first with the above partner."
   ]
  },
  {
   "cell_type": "code",
   "execution_count": null,
   "metadata": {},
   "outputs": [],
   "source": [
    "analyzer.is_priv_msg_first_then_group(PARTNER_NAME)"
   ]
  },
  {
   "cell_type": "markdown",
   "metadata": {},
   "source": [
    "Now let's get all the stats for one person. For this method there are two possible versions, we either look for all the messages that was sent in the private channel and also all the groups the queried partner is in, and all other groups' participants' messages, OR only the messages sent by the partner in either of the channels. \n",
    "\n",
    "`ConversationStats` is a versatile class, we will cover it soon."
   ]
  },
  {
   "cell_type": "code",
   "execution_count": null,
   "metadata": {},
   "outputs": [],
   "source": [
    "stats = analyzer.get_stats_together(PARTNER_NAME, subject='all') # TODO add support for name as a subject!!!\n",
    "stats"
   ]
  },
  {
   "cell_type": "markdown",
   "metadata": {},
   "source": [
    "Now we can print some statistics from this object, just so we see how it is working. But let's not spoil too much from this object."
   ]
  },
  {
   "cell_type": "code",
   "execution_count": null,
   "metadata": {},
   "outputs": [],
   "source": [
    "stats.number_of_channels"
   ]
  },
  {
   "cell_type": "code",
   "execution_count": null,
   "metadata": {},
   "outputs": [],
   "source": [
    "count = 5 if stats.number_of_channels > 5 else stats.number_of_channels\n",
    "stats.channels[:count]"
   ]
  },
  {
   "cell_type": "code",
   "execution_count": null,
   "metadata": {},
   "outputs": [],
   "source": [
    "stats.df.sample(5)"
   ]
  },
  {
   "cell_type": "markdown",
   "metadata": {},
   "source": [
    "### Private and Group Messaging Analyzer\n",
    "\n",
    "\n",
    "So let's finally see the similarities and differences between `private` and `group` analyzers by looking into these objects. \n",
    "\n",
    "It might be helpful for us to know, that both of these objects are created by passing their constructor the `Conversations`' private and group properties. That means: `analyzer.private.data = conversations.private` and `analyzer.group.data = conversations.group`."
   ]
  },
  {
   "cell_type": "code",
   "execution_count": null,
   "metadata": {},
   "outputs": [],
   "source": [
    "private = analyzer.private\n",
    "group = analyzer.group"
   ]
  },
  {
   "cell_type": "code",
   "execution_count": null,
   "metadata": {},
   "outputs": [],
   "source": [
    "assert type(private) == type(group)\n",
    "type(group)"
   ]
  },
  {
   "cell_type": "markdown",
   "metadata": {},
   "source": [
    "As you can see both objects are instances of `MesagingAnalyzer` class. Every property and method is available for both types of conversations, although some properties makes more sense for one or the other. \n",
    "\n",
    "First we get the number of channels."
   ]
  },
  {
   "cell_type": "code",
   "execution_count": null,
   "metadata": {},
   "outputs": [],
   "source": [
    "len(private), len(group)"
   ]
  },
  {
   "cell_type": "markdown",
   "metadata": {},
   "source": [
    "Then let's list all the properties and methods we can use with these objects."
   ]
  },
  {
   "cell_type": "code",
   "execution_count": null,
   "metadata": {
    "tags": []
   },
   "outputs": [],
   "source": [
    "print(utils.dir_stripped(private))"
   ]
  },
  {
   "cell_type": "markdown",
   "metadata": {},
   "source": [
    "We have this `is_group` property, which should be pretty intuitive."
   ]
  },
  {
   "cell_type": "code",
   "execution_count": null,
   "metadata": {},
   "outputs": [],
   "source": [
    "private.is_group, group.is_group"
   ]
  },
  {
   "cell_type": "markdown",
   "metadata": {},
   "source": [
    "Let's see the number of all the messages ever sent from any party in private and in group messages. We do this by inspecting the shape of the DataFrame bound to these objects. \n",
    "\n",
    "Here we should mention, that `private.df` or `group.df` is created by stacking together all the `Conversation` DataFrames these objects contain. "
   ]
  },
  {
   "cell_type": "code",
   "execution_count": null,
   "metadata": {
    "tags": []
   },
   "outputs": [],
   "source": [
    "private.df.shape[0], group.df.shape[0]"
   ]
  },
  {
   "cell_type": "markdown",
   "metadata": {},
   "source": [
    "Let's see the number of participants. Note, that e.g. for me this is not the same as `len(private), len(group)` but it is only because some weird unicode (or not) characters."
   ]
  },
  {
   "cell_type": "code",
   "execution_count": null,
   "metadata": {},
   "outputs": [],
   "source": [
    "len(private.participants), len(group.participants)"
   ]
  },
  {
   "cell_type": "markdown",
   "metadata": {},
   "source": [
    "Let's see the ranking of my friends by messages sent. It could be very different for private and group messages."
   ]
  },
  {
   "cell_type": "code",
   "execution_count": null,
   "metadata": {},
   "outputs": [],
   "source": [
    "by_count, by_percent = private.get_ranking_of_senders_by_convo_stats(statistic='mc', top=10)\n",
    "by_count"
   ]
  },
  {
   "cell_type": "code",
   "execution_count": null,
   "metadata": {},
   "outputs": [],
   "source": [
    "by_count, by_percent = group.get_ranking_of_senders_by_convo_stats(statistic='mc', top=10)\n",
    "by_percent"
   ]
  },
  {
   "cell_type": "markdown",
   "metadata": {},
   "source": [
    "Chances are your name will appear in the group's ranking and it's because of an important difference in how these values get computed. The `private` object calculates the values by a channel, while `group` object calculates it by senders. It can be a bit confusing, but this seemes the most intuitive solution.\n",
    "\n",
    "We can also get the portion of our conversation partners' contribution in percent. Let's look at that."
   ]
  },
  {
   "cell_type": "code",
   "execution_count": null,
   "metadata": {},
   "outputs": [],
   "source": [
    "private.get_portion_of_contribution(top=10)"
   ]
  },
  {
   "cell_type": "markdown",
   "metadata": {},
   "source": [
    "Note that you can also change the metric by which we calculate the portion of contribution. Let's do a calculation based on `character count`."
   ]
  },
  {
   "cell_type": "code",
   "execution_count": null,
   "metadata": {},
   "outputs": [],
   "source": [
    "group.get_portion_of_contribution(statistic='cc', top=10)"
   ]
  },
  {
   "cell_type": "markdown",
   "metadata": {},
   "source": [
    "We have these handy properties as well: `most_contributed`, `least_contributed`. They measure contribution by `message count`."
   ]
  },
  {
   "cell_type": "code",
   "execution_count": null,
   "metadata": {},
   "outputs": [],
   "source": [
    "private.most_contributed, group.most_contributed"
   ]
  },
  {
   "cell_type": "code",
   "execution_count": null,
   "metadata": {},
   "outputs": [],
   "source": [
    "private.least_contributed, group.least_contributed"
   ]
  },
  {
   "cell_type": "markdown",
   "metadata": {},
   "source": [
    "`get_stat_count` is a function with which you can get specific countable statistics for all of your private or group conversations. This function uses the `ConversationStats` class to get statitics from. The nice thing about this function is that you can filter the undelying `ConversationStats` by channel, sender, date range, type of message. \n",
    "\n",
    "Let's now get word count aliased by `wc` of all the messages someone else sent me aliased by `partner`."
   ]
  },
  {
   "cell_type": "code",
   "execution_count": null,
   "metadata": {},
   "outputs": [],
   "source": [
    "private.get_stat_count(attribute='wc', subject='partner')"
   ]
  },
  {
   "cell_type": "code",
   "execution_count": null,
   "metadata": {},
   "outputs": [],
   "source": [
    "group.get_stat_count(attribute='wc', subject='partner')\n",
    "# partner here means: not me"
   ]
  },
  {
   "cell_type": "markdown",
   "metadata": {},
   "source": [
    "We can also count how many conversations was started by me."
   ]
  },
  {
   "cell_type": "code",
   "execution_count": null,
   "metadata": {},
   "outputs": [],
   "source": [
    "private.number_of_convos_created_by_me"
   ]
  },
  {
   "cell_type": "code",
   "execution_count": null,
   "metadata": {},
   "outputs": [],
   "source": [
    "group.number_of_convos_created_by_me"
   ]
  },
  {
   "cell_type": "markdown",
   "metadata": {},
   "source": [
    "We also have a `{min|mean|max}_channels_size` property, which measures the corresponding statistics for the channels registered in the current analyzer. For private messages it makes less sense, then in group, but for the sake of symmetry, we have these properties for both."
   ]
  },
  {
   "cell_type": "code",
   "execution_count": null,
   "metadata": {},
   "outputs": [],
   "source": [
    "private.min_channel_size, private.max_channel_size\n"
   ]
  },
  {
   "cell_type": "code",
   "execution_count": null,
   "metadata": {},
   "outputs": [],
   "source": [
    "group.min_channel_size, group.mean_channel_size, group.max_channel_size"
   ]
  },
  {
   "cell_type": "markdown",
   "metadata": {},
   "source": [
    "#### Filtering\n",
    "You can filter the analyzers. Both `private` and `group` conversation analyzers can be filtered along two dimensions. First is `channels`, which is quite straightforward. The other is `senders`. \n",
    "\n",
    "In case of `private` messages, `channels` and `senders` are exactly the same, altough calculated a bit differently (I suggest using `channels`, which is faster). \n",
    "\n",
    "In case of `group`, `channels` filters by group conversation names, `senders` filters by people who are part of a group message.\n",
    "\n",
    "Both parameters can be passed as string or list of strings.\n",
    "\n",
    "The `filter` method will create a new `Analyzer` instance."
   ]
  },
  {
   "cell_type": "markdown",
   "metadata": {},
   "source": [
    "Let's first filter private messages."
   ]
  },
  {
   "cell_type": "code",
   "execution_count": null,
   "metadata": {},
   "outputs": [],
   "source": [
    "private_filtered_by_channels = private.filter(channels=PARTNER_NAME)\n",
    "private_filtered_by_channels"
   ]
  },
  {
   "cell_type": "code",
   "execution_count": null,
   "metadata": {},
   "outputs": [],
   "source": [
    "private_filtered_by_senders = private.filter(senders=PARTNER_NAME)\n",
    "private_filtered_by_senders"
   ]
  },
  {
   "cell_type": "markdown",
   "metadata": {},
   "source": [
    "Let's see the number of meesages in both."
   ]
  },
  {
   "cell_type": "code",
   "execution_count": null,
   "metadata": {
    "tags": []
   },
   "outputs": [],
   "source": [
    "private_filtered_by_channels.df.shape, private_filtered_by_senders.df.shape"
   ]
  },
  {
   "cell_type": "markdown",
   "metadata": {},
   "source": [
    "To make sure they yield the same result, we will assert some more properies of the two objects."
   ]
  },
  {
   "cell_type": "code",
   "execution_count": null,
   "metadata": {},
   "outputs": [],
   "source": [
    "private_filtered_by_channels.participants, private_filtered_by_senders.participants"
   ]
  },
  {
   "cell_type": "code",
   "execution_count": null,
   "metadata": {},
   "outputs": [],
   "source": [
    "private_filtered_by_channels.number_of_convos_created_by_me, private_filtered_by_senders.number_of_convos_created_by_me"
   ]
  },
  {
   "cell_type": "markdown",
   "metadata": {},
   "source": [
    "Here the `get_all_groups_for_one_person` method makes little sense. It is the same as the `channels` property of the `stats` object."
   ]
  },
  {
   "cell_type": "code",
   "execution_count": null,
   "metadata": {},
   "outputs": [],
   "source": [
    "private_filtered_by_channels.get_all_channels_for_one_person(PARTNER_NAME) == private_filtered_by_senders.stats.channels"
   ]
  },
  {
   "cell_type": "markdown",
   "metadata": {},
   "source": [
    "Now we can filter the group object as well. Here the two possible filtering parameters actually make sense. \n",
    "\n",
    "First we filter by `channels`."
   ]
  },
  {
   "cell_type": "code",
   "execution_count": null,
   "metadata": {},
   "outputs": [],
   "source": [
    "group_filtered_by_channels = group.filter(channels=GROUP_NAME)\n",
    "group_filtered_by_channels"
   ]
  },
  {
   "cell_type": "markdown",
   "metadata": {},
   "source": [
    "The data property should only contian one entry now."
   ]
  },
  {
   "cell_type": "code",
   "execution_count": null,
   "metadata": {},
   "outputs": [],
   "source": [
    "len(group_filtered_by_channels.data.items())"
   ]
  },
  {
   "cell_type": "code",
   "execution_count": null,
   "metadata": {},
   "outputs": [],
   "source": [
    "group_filtered_by_channels.data.items()"
   ]
  },
  {
   "cell_type": "markdown",
   "metadata": {},
   "source": [
    "On the other hand if we filter by our chosen partner (defined in `PARTNER_NAME` variable) we may get several groups. In fact all the groups in which our partner has *particiapted* (not neccesserarily contributed)."
   ]
  },
  {
   "cell_type": "code",
   "execution_count": null,
   "metadata": {},
   "outputs": [],
   "source": [
    "group_filtered_by_senders = group.filter(senders=PARTNER_NAME)\n",
    "group_filtered_by_senders"
   ]
  },
  {
   "cell_type": "code",
   "execution_count": null,
   "metadata": {},
   "outputs": [],
   "source": [
    "len(group_filtered_by_senders.data.items())"
   ]
  },
  {
   "cell_type": "markdown",
   "metadata": {},
   "source": [
    "This should be the same number as the return value of the following property of the Analyzer class."
   ]
  },
  {
   "cell_type": "code",
   "execution_count": null,
   "metadata": {},
   "outputs": [],
   "source": [
    "len(group.get_all_channels_for_one_person(PARTNER_NAME))"
   ]
  },
  {
   "cell_type": "markdown",
   "metadata": {},
   "source": [
    "### ConversationStats\n",
    "As the name suggests this class is a container for holding statsictical data/information about converations. The basic concept is that it does not know general conversation metadata, since it is only constructed by the messages and the metadata of unique messages (who sent it, what kind of messages is it, when was it sent). This object is created by `MessagingAnalyzer` class by passing in the DataFrame as input. The DataFrame is created from all the conversations that the analyzer holds (remember you can filter them, down to a single conversation). \n",
    "\n",
    "So to sum it up, `MessagingAnalyzer` knows about the channels and all the metadata of the conversations, while `ConversationStats` only knows about the messages themselves.\n",
    "\n",
    "`ConversationStats` has a lot of interesting properties and methods, and also a pretty versatile filtering function, so let's discover them."
   ]
  },
  {
   "cell_type": "markdown",
   "metadata": {},
   "source": [
    "#### Private and Group Conversation Stats\n",
    "Note: we follow the strategy of showing private and group conversation stats side-by-side as we did it with the analyzer."
   ]
  },
  {
   "cell_type": "code",
   "execution_count": null,
   "metadata": {},
   "outputs": [],
   "source": [
    "private_stats = private.stats\n",
    "group_stats = group.stats"
   ]
  },
  {
   "cell_type": "markdown",
   "metadata": {},
   "source": [
    "Do both of them have the same properties?"
   ]
  },
  {
   "cell_type": "code",
   "execution_count": null,
   "metadata": {},
   "outputs": [],
   "source": [
    "assert dir(private_stats) == dir(group_stats)"
   ]
  },
  {
   "cell_type": "markdown",
   "metadata": {},
   "source": [
    "Seems so... Let's print out the useful ones."
   ]
  },
  {
   "cell_type": "code",
   "execution_count": null,
   "metadata": {
    "tags": []
   },
   "outputs": [],
   "source": [
    "print(utils.dir_stripped(private_stats))"
   ]
  },
  {
   "cell_type": "markdown",
   "metadata": {},
   "source": [
    "Lets print out one channel from both."
   ]
  },
  {
   "cell_type": "code",
   "execution_count": null,
   "metadata": {},
   "outputs": [],
   "source": [
    "private_stats.channels[0], group_stats.channels[0]"
   ]
  },
  {
   "cell_type": "markdown",
   "metadata": {},
   "source": [
    "Let's see the number of channels for both of them. Note that the numbers can be quite familiar. It's because they should be the same as what we saw in case of the Analyzer class."
   ]
  },
  {
   "cell_type": "code",
   "execution_count": null,
   "metadata": {},
   "outputs": [],
   "source": [
    "private_stats.number_of_channels, group_stats.number_of_channels"
   ]
  },
  {
   "cell_type": "markdown",
   "metadata": {},
   "source": [
    "Contributors are all the people who ever sent a message. Apparently (at least for me) some of them never did. This is because nowadays, when you make a new friend on Facebook you get connected on Messenger automatically, regardless if you have messages or not."
   ]
  },
  {
   "cell_type": "code",
   "execution_count": null,
   "metadata": {},
   "outputs": [],
   "source": [
    "private_stats.number_of_contributors, group_stats.number_of_contributors"
   ]
  },
  {
   "cell_type": "markdown",
   "metadata": {},
   "source": [
    "Your first messages ever (either sent or got)."
   ]
  },
  {
   "cell_type": "code",
   "execution_count": null,
   "metadata": {},
   "outputs": [],
   "source": [
    "private_stats.start, group_stats.start"
   ]
  },
  {
   "cell_type": "markdown",
   "metadata": {},
   "source": [
    "Last messages before download."
   ]
  },
  {
   "cell_type": "code",
   "execution_count": null,
   "metadata": {},
   "outputs": [],
   "source": [
    "private_stats.end,group_stats.end"
   ]
  },
  {
   "cell_type": "markdown",
   "metadata": {},
   "source": [
    "Let's show some samples of our data."
   ]
  },
  {
   "cell_type": "code",
   "execution_count": null,
   "metadata": {},
   "outputs": [],
   "source": [
    "len(private_stats.messages), len(private_stats.df)"
   ]
  },
  {
   "cell_type": "code",
   "execution_count": null,
   "metadata": {},
   "outputs": [],
   "source": [
    "private_stats.messages.sample(5) # TODO this does not have columns"
   ]
  },
  {
   "cell_type": "code",
   "execution_count": null,
   "metadata": {},
   "outputs": [],
   "source": [
    "group_stats.messages.sample(5) # TODO "
   ]
  },
  {
   "cell_type": "markdown",
   "metadata": {},
   "source": [
    "Samples of text messages."
   ]
  },
  {
   "cell_type": "code",
   "execution_count": null,
   "metadata": {},
   "outputs": [],
   "source": [
    "private_stats.text.sample(5)"
   ]
  },
  {
   "cell_type": "code",
   "execution_count": null,
   "metadata": {},
   "outputs": [],
   "source": [
    "group_stats.text.sample(5)"
   ]
  },
  {
   "cell_type": "markdown",
   "metadata": {},
   "source": [
    "A sample of media messages."
   ]
  },
  {
   "cell_type": "code",
   "execution_count": null,
   "metadata": {},
   "outputs": [],
   "source": [
    "private_stats.media.sample(5)"
   ]
  },
  {
   "cell_type": "code",
   "execution_count": null,
   "metadata": {},
   "outputs": [],
   "source": [
    "group_stats.media.sample(5)"
   ]
  },
  {
   "cell_type": "markdown",
   "metadata": {},
   "source": [
    "For me this was really interesting to look back on. Remember this is only a demo, and you can feel free to check out bigger sample sizes, or if you got the skills, maybe play around with these dataframes. They contain more than 90% of all the data we analyze here. "
   ]
  },
  {
   "cell_type": "markdown",
   "metadata": {},
   "source": [
    "We can also get all the words that have ever been sent by anyone to any channel. You could build a language model from this. :)"
   ]
  },
  {
   "cell_type": "code",
   "execution_count": null,
   "metadata": {},
   "outputs": [],
   "source": [
    "private_stats.words"
   ]
  },
  {
   "cell_type": "code",
   "execution_count": null,
   "metadata": {},
   "outputs": [],
   "source": [
    "group_stats.words"
   ]
  },
  {
   "cell_type": "markdown",
   "metadata": {},
   "source": [
    "We can also calulate average word length."
   ]
  },
  {
   "cell_type": "code",
   "execution_count": null,
   "metadata": {},
   "outputs": [],
   "source": [
    "private_stats.average_word_length"
   ]
  },
  {
   "cell_type": "code",
   "execution_count": null,
   "metadata": {},
   "outputs": [],
   "source": [
    "group_stats.average_word_length"
   ]
  },
  {
   "cell_type": "markdown",
   "metadata": {},
   "source": [
    "Now for the numbers. Let's get the message, word and character counts."
   ]
  },
  {
   "cell_type": "code",
   "execution_count": null,
   "metadata": {},
   "outputs": [],
   "source": [
    "private_stats.mc, private_stats.wc, private_stats.cc"
   ]
  },
  {
   "cell_type": "code",
   "execution_count": null,
   "metadata": {},
   "outputs": [],
   "source": [
    "group_stats.mc, group_stats.wc, group_stats.cc"
   ]
  },
  {
   "cell_type": "markdown",
   "metadata": {},
   "source": [
    "Text messages count and media message count."
   ]
  },
  {
   "cell_type": "code",
   "execution_count": null,
   "metadata": {},
   "outputs": [],
   "source": [
    "private_stats.text_mc, private_stats.media_mc"
   ]
  },
  {
   "cell_type": "code",
   "execution_count": null,
   "metadata": {},
   "outputs": [],
   "source": [
    "group_stats.text_mc, group_stats.media_mc"
   ]
  },
  {
   "cell_type": "markdown",
   "metadata": {},
   "source": [
    "Unique message count and unique word count."
   ]
  },
  {
   "cell_type": "code",
   "execution_count": null,
   "metadata": {},
   "outputs": [],
   "source": [
    "private_stats.unique_mc, private_stats.unique_wc"
   ]
  },
  {
   "cell_type": "code",
   "execution_count": null,
   "metadata": {},
   "outputs": [],
   "source": [
    "group_stats.unique_mc, group_stats.unique_wc"
   ]
  },
  {
   "cell_type": "markdown",
   "metadata": {},
   "source": [
    "We can also calculate the percentage of media messages."
   ]
  },
  {
   "cell_type": "code",
   "execution_count": null,
   "metadata": {},
   "outputs": [],
   "source": [
    "private_stats.percentage_of_text_messages, private_stats.percentage_of_media_messages"
   ]
  },
  {
   "cell_type": "code",
   "execution_count": null,
   "metadata": {},
   "outputs": [],
   "source": [
    "group_stats.percentage_of_text_messages, group_stats.percentage_of_media_messages"
   ]
  },
  {
   "cell_type": "markdown",
   "metadata": {},
   "source": [
    "Wow! For me in groups it is a lot more likely to get a media message. What about you?"
   ]
  },
  {
   "cell_type": "markdown",
   "metadata": {},
   "source": [
    "We can also get the most used messages and words in our conversations."
   ]
  },
  {
   "cell_type": "code",
   "execution_count": null,
   "metadata": {},
   "outputs": [],
   "source": [
    "private_stats.most_used_msgs[:10] # TODO remove emoticons?!"
   ]
  },
  {
   "cell_type": "code",
   "execution_count": null,
   "metadata": {},
   "outputs": [],
   "source": [
    "group_stats.most_used_msgs[:10] # TODO remove emoticons?!"
   ]
  },
  {
   "cell_type": "code",
   "execution_count": null,
   "metadata": {},
   "outputs": [],
   "source": [
    "private_stats.most_used_words[:10]"
   ]
  },
  {
   "cell_type": "code",
   "execution_count": null,
   "metadata": {},
   "outputs": [],
   "source": [
    "group_stats.most_used_words[:10]"
   ]
  },
  {
   "cell_type": "markdown",
   "metadata": {},
   "source": [
    "You can also query `files`, `photos`, `videos`, `audios`, `gifs` even."
   ]
  },
  {
   "cell_type": "code",
   "execution_count": null,
   "metadata": {},
   "outputs": [],
   "source": [
    "private_stats.photos"
   ]
  },
  {
   "cell_type": "markdown",
   "metadata": {},
   "source": [
    "And of course you have downloaded those files as well with your facebook data. Let's see one of the photos."
   ]
  },
  {
   "cell_type": "code",
   "execution_count": null,
   "metadata": {
    "tags": []
   },
   "outputs": [],
   "source": [
    "Image(f\"data/{private_stats.photos.iloc[2][0].get('uri')}\")"
   ]
  },
  {
   "cell_type": "markdown",
   "metadata": {},
   "source": [
    "And here are the other media types. Fell free to mess around with them."
   ]
  },
  {
   "cell_type": "code",
   "execution_count": null,
   "metadata": {},
   "outputs": [],
   "source": [
    "len(private_stats.photos), len(private_stats.videos), len(private_stats.audios), len(private_stats.gifs), len(private_stats.files)"
   ]
  },
  {
   "cell_type": "code",
   "execution_count": null,
   "metadata": {},
   "outputs": [],
   "source": [
    "len(group_stats.photos),len(group_stats.videos), len(group_stats.audios), len(group_stats.gifs), len(group_stats.files)"
   ]
  },
  {
   "cell_type": "markdown",
   "metadata": {},
   "source": [
    "##### Date and time related stats\n",
    "The `get_grouped_time_series_data` function let's you group all stats into years, months, days and hours. Change the period parameter to one of these keywords' starting letter (e.g. day='d')."
   ]
  },
  {
   "cell_type": "code",
   "execution_count": null,
   "metadata": {},
   "outputs": [],
   "source": [
    "private_stats.get_grouped_time_series_data(period='y')"
   ]
  },
  {
   "cell_type": "code",
   "execution_count": null,
   "metadata": {},
   "outputs": [],
   "source": [
    "group_stats.get_grouped_time_series_data(period='m')"
   ]
  },
  {
   "cell_type": "markdown",
   "metadata": {},
   "source": [
    "The `stat_per_period` function is another interesting method. You can pass the same period values like in the `get_grouped_time_series_data` method, but here it will group by relative time range. For example group all the messages into 12 months, regardless which year they happened in.\n",
    "\n",
    "You can have a pretty good insight on which parts of the year, week, or day are you active on Facebook Messenger."
   ]
  },
  {
   "cell_type": "code",
   "execution_count": null,
   "metadata": {},
   "outputs": [],
   "source": [
    "private_stats.stat_per_period(period='m')"
   ]
  },
  {
   "cell_type": "code",
   "execution_count": null,
   "metadata": {},
   "outputs": [],
   "source": [
    "private_stats.stat_per_period(period='d')"
   ]
  },
  {
   "cell_type": "code",
   "execution_count": null,
   "metadata": {},
   "outputs": [],
   "source": [
    "group_stats.stat_per_period(period='h')"
   ]
  },
  {
   "cell_type": "markdown",
   "metadata": {},
   "source": [
    "#### Filtering\n",
    "The filtering for `ConversationStats` works the same way as it works for `MessagingAnalyzer`. You can call it like this `stats.filter(**kwargs)` and it will return a narrower instance of itself. \n",
    "\n",
    "With the `.filter()` method we are filtering an underlying DataFrame behind the scenes. Here you can filter along the `channels` and `senders` dimensions, but this gets accompanied by `subject` and `start`, `end` & `period`. All of these are now filtered on the DatFrame itself.\n",
    "\n",
    "Subject is "
   ]
  },
  {
   "cell_type": "code",
   "execution_count": null,
   "metadata": {},
   "outputs": [],
   "source": [
    "# does not make sense for mutiple channels\n",
    "private_stats.creator, group_stats.creator"
   ]
  },
  {
   "cell_type": "code",
   "execution_count": null,
   "metadata": {},
   "outputs": [],
   "source": []
  },
  {
   "cell_type": "code",
   "execution_count": null,
   "metadata": {},
   "outputs": [],
   "source": []
  }
 ],
 "metadata": {
  "kernelspec": {
   "display_name": "Python 3",
   "language": "python",
   "name": "python3"
  },
  "language_info": {
   "codemirror_mode": {
    "name": "ipython",
    "version": 3
   },
   "file_extension": ".py",
   "mimetype": "text/x-python",
   "name": "python",
   "nbconvert_exporter": "python",
   "pygments_lexer": "ipython3",
   "version": "3.8.3"
  }
 },
 "nbformat": 4,
 "nbformat_minor": 4
}
