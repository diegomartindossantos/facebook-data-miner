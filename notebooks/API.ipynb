{
 "cells": [
  {
   "cell_type": "markdown",
   "metadata": {},
   "source": [
    "# Facebook Data Miner\n",
    "\n",
    "This notebook is about showcasing the features of this python application through it's API. \n",
    "\n",
    "## Introduction (skip, if you came for the code)\n",
    "\n",
    "One day I downloaded my facebook data, and it turned out it's 8.2GBs. That's a lot. I started looking into directories, and found same interesting media files, chat messages and posts. I wanted to dive deeper, but I knew I can't scale it after some point.\n",
    "\n",
    "Then I googled `facebook data analyzer github`, so that I can just download a package that does the analysis. As you can see in this [list](https://github.com/topics/facebook-data-analyzer) it - as of September 2020 - is not a whole lot. \n",
    "\n",
    "There is a nice library written in Ruby with more than 100 commits and 505 stars, but it's more than 2 years old now. The other thing is that I was looking for a solution with which I can mess around (e.g. maybe use the data getters to do some basic machine learning on my message history) and I didn't really want to get into Ruby.\n",
    "\n",
    "There are also some Python packages, but they offer little-to-no data interfaces. Most of them focus on visualizing the results with plots, and the data getters were desgined around the plotter functions. Although you may want to check out [fviz](https://github.com/itzmeanjan/fviz) which offers really nice plots. Probably nicer then this library would ever have. "
   ]
  },
  {
   "cell_type": "markdown",
   "metadata": {},
   "source": [
    "## Purpose\n",
    "\n",
    "Then I decided that I would write my own library for this, amongst others for two main reasons:\n",
    "\n",
    "1. I want to have really specific insights from my facebook data.\n",
    "2. I want to improve my Python and get expertise in Python's data science libraries, build and packaging tools. Gaining some more git, GitHub, software design and project planning skills would be a plus."
   ]
  },
  {
   "cell_type": "markdown",
   "metadata": {},
   "source": [
    "## Requirements\n",
    "### Setup env\n",
    "#### Packages\n",
    "\n",
    "Set up the pipenv environment.\n",
    "```\n",
    "pipenv install\n",
    "```\n",
    "\n",
    "In order to run this notebook, you may want a `jupyter lab` or `jupyter notebook` (this is installed with pipenv already).\n",
    "\n",
    "\n",
    "#### Changing shebang in ./miner/cli.py\n",
    "In order to run the notebook cells without explicitly typing python, you need to change this line in the `./miner/cli.py` file's first row:\n",
    "```python\n",
    "#!/home/user/.local/share/virtualenvs/facebook-data-miner--PToUZxx/bin/python\n",
    "```\n",
    "to the path where your virtual environment's python is.\n",
    "\n",
    "\n",
    "#### Env vars\n",
    "\n",
    "Before starting jupyter notebook you will have to export two enviroenment variables. Run these comamnds from the root of the project.\n",
    "\n",
    "For having the project path added to pythhon search $PATH:\n",
    "```bash\n",
    "export PYTHONPATH=\"$PWD\"\n",
    "```\n",
    "Also make sure to set pipenv verbosity, otherwise you will get unncessary info messages from pipenv:\n",
    "```bash\n",
    "export PIPENV_VERBOSITY=-1\n",
    "```\n",
    "\n",
    "### Setting data path\n",
    "\n",
    "In order to run this notebook, you need to specify the data path where your Facebook data is. Search for the file `configuration.yml` in the root of this project, and set the `DATA_PATH` variable either to the zip file's absolute path, or if you have already extracted it, the absolute path of the data directory."
   ]
  },
  {
   "cell_type": "markdown",
   "metadata": {},
   "source": [
    "## Analyzing your Facebook data\n",
    "For getting your Facebook data refer to the [README.md](README.md) file. "
   ]
  },
  {
   "cell_type": "markdown",
   "metadata": {},
   "source": [
    "First we import all the dependencies we will need for running the notebook."
   ]
  },
  {
   "cell_type": "code",
   "execution_count": 1,
   "metadata": {},
   "outputs": [],
   "source": [
    "import os\n",
    "from datetime import datetime\n",
    "from IPython.display import Image\n",
    "from inspect import signature\n",
    "\n",
    "\n",
    "from miner.app import App\n",
    "from miner.utils import utils"
   ]
  },
  {
   "cell_type": "code",
   "execution_count": 2,
   "metadata": {},
   "outputs": [
    {
     "data": {
      "text/plain": [
       "'/home/levente/projects/facebook-data-miner'"
      ]
     },
     "execution_count": 2,
     "metadata": {},
     "output_type": "execute_result"
    }
   ],
   "source": [
    "tmp = !git rev-parse --show-toplevel\n",
    "BASE_PATH = tmp[0]\n",
    "BASE_PATH"
   ]
  },
  {
   "cell_type": "code",
   "execution_count": 3,
   "metadata": {},
   "outputs": [
    {
     "name": "stdout",
     "output_type": "stream",
     "text": [
      "OK! Changed to: /home/levente/projects/facebook-data-miner directory.\n"
     ]
    }
   ],
   "source": [
    "try:\n",
    "    if not os.getcwd() == BASE_PATH:\n",
    "        os.chdir(BASE_PATH)\n",
    "        print(f\"OK! Changed to: {os.getcwd()} directory.\")\n",
    "except:\n",
    "\tprint(f\"WARNING! Couldn't change directory. Current is: {os.getcwd()}\")"
   ]
  },
  {
   "cell_type": "markdown",
   "metadata": {},
   "source": [
    "## Application\n",
    "\n",
    "This notebook will give you a good grasp on how this application works, and how can you use it."
   ]
  },
  {
   "cell_type": "markdown",
   "metadata": {},
   "source": [
    "Let's dive right into it. The execution of this cell might take a while depending on how much data you have and how fast is your CPU. Right now the constructor of this class unzips the zipfile if not unzipped yet, reads in the json files we are analyzing, and creates some basic data structures from them."
   ]
  },
  {
   "cell_type": "code",
   "execution_count": 4,
   "metadata": {
    "tags": []
   },
   "outputs": [],
   "source": [
    "app = App() "
   ]
  },
  {
   "cell_type": "markdown",
   "metadata": {},
   "source": [
    "Let's see what's in the box."
   ]
  },
  {
   "cell_type": "code",
   "execution_count": 5,
   "metadata": {},
   "outputs": [
    {
     "name": "stdout",
     "output_type": "stream",
     "text": [
      "about_you\t\t\t      marketplace\r\n",
      "ads_and_businesses\t\t      messages\r\n",
      "apps_and_websites\t\t      other_activity\r\n",
      "comments\t\t\t      pages\r\n",
      "events\t\t\t\t      payment_history\r\n",
      "facebook_gaming\t\t\t      photos_and_videos\r\n",
      "files\t\t\t\t      posts\r\n",
      "following_and_followers\t\t      profile_information\r\n",
      "friends\t\t\t\t      saved_items_and_collections\r\n",
      "groups\t\t\t\t      search_history\r\n",
      "information_used_for_recommendations  security_and_login_information\r\n",
      "interactions\t\t\t      stories\r\n",
      "lasso\t\t\t\t      voice_recording_and_transcription\r\n",
      "likes_and_reactions\t\t      wordlist-hu-0.3.tar.bz2\r\n",
      "location\t\t\t      your_places\r\n"
     ]
    }
   ],
   "source": [
    "!ls data"
   ]
  },
  {
   "cell_type": "markdown",
   "metadata": {},
   "source": [
    "These are the categories in which Facebook ordered the data they have on you. \n",
    "\n",
    "In this notebook we will focus on `friends` and `messages`."
   ]
  },
  {
   "cell_type": "markdown",
   "metadata": {},
   "source": [
    "### Friends\n",
    "The first feature we have is a straightforward one. We get our friends from Facebook, and the date the connection was made.\n",
    "\n",
    "For this Facebook provides us with the `friends` directory/category. Here is what is inside."
   ]
  },
  {
   "cell_type": "code",
   "execution_count": 6,
   "metadata": {
    "tags": []
   },
   "outputs": [
    {
     "name": "stdout",
     "output_type": "stream",
     "text": [
      "friends.json\t\t       removed_friends.json\r\n",
      "received_friend_requests.json  sent_friend_requests.json\r\n",
      "rejected_friend_requests.json\r\n"
     ]
    }
   ],
   "source": [
    "!ls data/friends"
   ]
  },
  {
   "cell_type": "code",
   "execution_count": 7,
   "metadata": {},
   "outputs": [
    {
     "data": {
      "text/plain": [
       "<Storing 9 friends>"
      ]
     },
     "execution_count": 7,
     "metadata": {},
     "output_type": "execute_result"
    }
   ],
   "source": [
    "friends = app.friends\n",
    "friends"
   ]
  },
  {
   "cell_type": "markdown",
   "metadata": {},
   "source": [
    "We can have a look what kind of methods and properties does this object expose. We use a wrapper around the `dir` built-in, thus we only see methods and properties which does not start with an underscore."
   ]
  },
  {
   "cell_type": "code",
   "execution_count": 8,
   "metadata": {},
   "outputs": [],
   "source": [
    "def dir_stripped(obj):\n",
    "    return [prop for prop in dir(obj) if not prop.startswith('_')]"
   ]
  },
  {
   "cell_type": "code",
   "execution_count": 9,
   "metadata": {
    "tags": []
   },
   "outputs": [
    {
     "name": "stdout",
     "output_type": "stream",
     "text": [
      "['data', 'get', 'metadata', 'path', 'preprocessor', 'reader']\n"
     ]
    }
   ],
   "source": [
    "print(dir_stripped(friends))"
   ]
  },
  {
   "cell_type": "markdown",
   "metadata": {},
   "source": [
    "The `data` property of the `friends` object is a pandas DataFrame that contains all of your Facebook friends. Timestamps refer to the datetime of making the Facebook freinds. \n",
    "\n",
    "Here are 5 samples from the friends DataFrame."
   ]
  },
  {
   "cell_type": "code",
   "execution_count": 10,
   "metadata": {},
   "outputs": [
    {
     "data": {
      "text/html": [
       "<div>\n",
       "<style scoped>\n",
       "    .dataframe tbody tr th:only-of-type {\n",
       "        vertical-align: middle;\n",
       "    }\n",
       "\n",
       "    .dataframe tbody tr th {\n",
       "        vertical-align: top;\n",
       "    }\n",
       "\n",
       "    .dataframe thead th {\n",
       "        text-align: right;\n",
       "    }\n",
       "</style>\n",
       "<table border=\"1\" class=\"dataframe\">\n",
       "  <thead>\n",
       "    <tr style=\"text-align: right;\">\n",
       "      <th></th>\n",
       "      <th>name</th>\n",
       "    </tr>\n",
       "    <tr>\n",
       "      <th>timestamp</th>\n",
       "      <th></th>\n",
       "    </tr>\n",
       "  </thead>\n",
       "  <tbody>\n",
       "    <tr>\n",
       "      <th>2020-05-28 13:41:59+00:00</th>\n",
       "      <td>John Doe</td>\n",
       "    </tr>\n",
       "    <tr>\n",
       "      <th>2020-02-21 13:07:59+00:00</th>\n",
       "      <td>Tőke Hal</td>\n",
       "    </tr>\n",
       "    <tr>\n",
       "      <th>2020-02-06 14:26:40+00:00</th>\n",
       "      <td>Daisy Duck</td>\n",
       "    </tr>\n",
       "    <tr>\n",
       "      <th>2020-03-15 19:18:28+00:00</th>\n",
       "      <td>Szett Droxler</td>\n",
       "    </tr>\n",
       "    <tr>\n",
       "      <th>2020-02-06 14:29:01+00:00</th>\n",
       "      <td>Bugs Bunny</td>\n",
       "    </tr>\n",
       "  </tbody>\n",
       "</table>\n",
       "</div>"
      ],
      "text/plain": [
       "                                    name\n",
       "timestamp                               \n",
       "2020-05-28 13:41:59+00:00       John Doe\n",
       "2020-02-21 13:07:59+00:00       Tőke Hal\n",
       "2020-02-06 14:26:40+00:00     Daisy Duck\n",
       "2020-03-15 19:18:28+00:00  Szett Droxler\n",
       "2020-02-06 14:29:01+00:00     Bugs Bunny"
      ]
     },
     "execution_count": 10,
     "metadata": {},
     "output_type": "execute_result"
    }
   ],
   "source": [
    "friends.data.sample(5)"
   ]
  },
  {
   "cell_type": "markdown",
   "metadata": {},
   "source": [
    "Let's see what pandas can tell us about the DataFrame."
   ]
  },
  {
   "cell_type": "code",
   "execution_count": 11,
   "metadata": {},
   "outputs": [
    {
     "data": {
      "text/html": [
       "<div>\n",
       "<style scoped>\n",
       "    .dataframe tbody tr th:only-of-type {\n",
       "        vertical-align: middle;\n",
       "    }\n",
       "\n",
       "    .dataframe tbody tr th {\n",
       "        vertical-align: top;\n",
       "    }\n",
       "\n",
       "    .dataframe thead th {\n",
       "        text-align: right;\n",
       "    }\n",
       "</style>\n",
       "<table border=\"1\" class=\"dataframe\">\n",
       "  <thead>\n",
       "    <tr style=\"text-align: right;\">\n",
       "      <th></th>\n",
       "      <th>name</th>\n",
       "    </tr>\n",
       "  </thead>\n",
       "  <tbody>\n",
       "    <tr>\n",
       "      <th>count</th>\n",
       "      <td>9</td>\n",
       "    </tr>\n",
       "    <tr>\n",
       "      <th>unique</th>\n",
       "      <td>9</td>\n",
       "    </tr>\n",
       "    <tr>\n",
       "      <th>top</th>\n",
       "      <td>Donald Duck</td>\n",
       "    </tr>\n",
       "    <tr>\n",
       "      <th>freq</th>\n",
       "      <td>1</td>\n",
       "    </tr>\n",
       "  </tbody>\n",
       "</table>\n",
       "</div>"
      ],
      "text/plain": [
       "               name\n",
       "count             9\n",
       "unique            9\n",
       "top     Donald Duck\n",
       "freq              1"
      ]
     },
     "execution_count": 11,
     "metadata": {},
     "output_type": "execute_result"
    }
   ],
   "source": [
    "friends.data.describe()"
   ]
  },
  {
   "cell_type": "markdown",
   "metadata": {},
   "source": [
    "You can also get a string version of this, with the get command. I won't go too much into the details, check out its docstring or check out the CLI notebook.\n",
    "You can also write to file with this, but I will cover this in the next section."
   ]
  },
  {
   "cell_type": "code",
   "execution_count": 12,
   "metadata": {},
   "outputs": [
    {
     "name": "stdout",
     "output_type": "stream",
     "text": [
      "timestamp,name\n",
      "2020-02-06 14:25:00+00:00,Guy Fawkes\n",
      "2020-02-06 14:26:40+00:00,Daisy Duck\n",
      "2020-02-06 14:29:01+00:00,Bugs Bunny\n",
      "2020-02-12 16:01:52+00:00,Dér Dénes\n",
      "2020-02-21 13:07:59+00:00,Tőke Hal\n",
      "2020-03-14 20:54:52+00:00,Foo Bar\n",
      "2020-03-15 19:18:28+00:00,Szett Droxler\n",
      "2020-04-09 19:42:05+00:00,Donald Duck\n",
      "2020-05-28 13:41:59+00:00,John Doe\n",
      "\n"
     ]
    }
   ],
   "source": [
    "print(friends.get())"
   ]
  },
  {
   "cell_type": "markdown",
   "metadata": {},
   "source": [
    "### Conversations\n",
    "\n",
    "`Conversations` is a class that reads and stores conversation data, that is both `private` and `group` messages.\n",
    "\n",
    "Both `private` and `group` properties of the Conversations class has the type of `Dict[str, Conversation]`, where:\n",
    "* a `key` is either private conversation partners or group conversation names (basically the name of the channel),\n",
    "* a `value` is a type of `Conversation`, which is a container class that contains a channel's data and metadata.\n",
    "\n",
    "The difference between `private` and `group` is not at all that big. The reason behind the design decision to deal with them separately comes down to the fact that the relation between participants and channels is different (in private one participant can relate to only one channel, while in group messages one participant can realte to a number of channels). Although symmetry is still kept by using the same classes for both of them (no subclasses)."
   ]
  },
  {
   "cell_type": "code",
   "execution_count": 13,
   "metadata": {
    "tags": []
   },
   "outputs": [
    {
     "data": {
      "text/plain": [
       "<Conversations for private4, group: 3>"
      ]
     },
     "execution_count": 13,
     "metadata": {},
     "output_type": "execute_result"
    }
   ],
   "source": [
    "conversations = app.conversations\n",
    "conversations"
   ]
  },
  {
   "cell_type": "code",
   "execution_count": 14,
   "metadata": {
    "tags": []
   },
   "outputs": [
    {
     "name": "stdout",
     "output_type": "stream",
     "text": [
      "['get', 'group', 'path', 'private']\n"
     ]
    }
   ],
   "source": [
    "print(dir_stripped(conversations))"
   ]
  },
  {
   "cell_type": "markdown",
   "metadata": {},
   "source": [
    "We have these two properties to use. We can check how many private and how many group conversations do we have."
   ]
  },
  {
   "cell_type": "code",
   "execution_count": 15,
   "metadata": {},
   "outputs": [
    {
     "data": {
      "text/plain": [
       "(4, 3)"
      ]
     },
     "execution_count": 15,
     "metadata": {},
     "output_type": "execute_result"
    }
   ],
   "source": [
    "len(conversations.private), len(conversations.group)"
   ]
  },
  {
   "cell_type": "markdown",
   "metadata": {},
   "source": [
    "With conversations.get function you can get the data in a text format You can filter it and write it in a file."
   ]
  },
  {
   "cell_type": "code",
   "execution_count": 16,
   "metadata": {},
   "outputs": [
    {
     "name": "stdout",
     "output_type": "stream",
     "text": [
      "timestamp_ms,content,partner\n",
      "2011-07-17 13:00:06.580000+00:00,test,\"Tőke Hal, Foo Bar, Donald Duck and 2 others\"\n",
      "2011-07-17 13:00:08.580000+00:00,test,\"Foo Bar, John Doe and Bugs Bunny\"\n",
      "2011-07-17 13:00:13.721000+00:00,what do you test,\"Tőke Hal, Foo Bar, Donald Duck and 2 others\"\n",
      "2011-07-17 13:00:13.721000+00:00,what do you test,\"Foo Bar, John Doe and Bugs Bunny\"\n",
      "2011-07-17 13:00:32.011000+00:00,basic group messages,\"Tőke Hal, Foo Bar, Donald Duck and 2 others\"\n",
      "2011-07-17 13:00:32.012000+00:00,blabla,\"Tőke Hal, Foo Bar, Donald Duck and 2 others\"\n",
      "2011-07-17 13:00:32.012000+00:00,basic group messages,\"Foo Bar, John Doe and Bugs Bunny\"\n",
      "2011-07-17 13:02:54.237000+00:00,ok,\"Foo Bar, John Doe and Bugs Bunny\"\n",
      "2011-07-17 13:02:54.237000+00:00,ok,\"Tőke Hal, Foo Bar, Donald Duck and 2 others\"\n",
      "2018-04-19 10:31:42.152000+00:00,marathon?,marathon\n",
      "2018-04-19 10:32:21.074000+00:00,yapp yapp :D,marathon\n",
      "2018-04-19 10:32:35.273000+00:00,You named the group marathon.,marathon\n",
      "2018-04-19 11:35:37.066000+00:00,,marathon\n",
      "2018-04-19 11:35:49.717000+00:00,i start today,marathon\n",
      "2018-04-19 11:37:39.673000+00:00,,marathon\n",
      "2018-04-19 11:38:02.444000+00:00,we could go but running is free,marathon\n",
      "2018-04-19 11:38:32.776000+00:00,hmmm,marathon\n",
      "2018-04-19 12:52:39.709000+00:00,:D,marathon\n",
      "\n"
     ]
    }
   ],
   "source": [
    "print(conversations.get(kind='group', cols=['content', 'partner']))"
   ]
  },
  {
   "cell_type": "markdown",
   "metadata": {},
   "source": [
    "Notice that this ouput is formatted as a CSV. You can aslo format it as a `json`. Just pass `json` as the value of the `--output` flag."
   ]
  },
  {
   "cell_type": "code",
   "execution_count": 17,
   "metadata": {},
   "outputs": [
    {
     "data": {
      "text/plain": [
       "'{\"schema\":{\"fields\":[{\"name\":\"timestamp_ms\",\"type\":\"datetime\",\"tz\":\"UTC\"},{\"name\":\"content\",\"type\":\"string\"},{\"name\":\"partner\",\"type\":\"string\"},{\"name\":\"sender_name\",\"type\":\"string\"}],\"primaryKey\":[\"timestamp_ms\"],\"pandas_version\":\"0.20.0\"},\"data\":[{\"timestamp_ms\":\"2018-04-19T10:31:42.152Z\",\"content\":\"marathon?\",\"partner\":\"marathon\",\"sender_name\":\"Jen\\\\u0151 Rejt\\\\u0151\"},{\"timestamp_ms\":\"2018-04-19T10:32:21.074Z\",\"content\":\"yapp yapp :D\",\"partner\":\"marathon\",\"sender_name\":\"Foo Bar\"},{\"timestamp_ms\":\"2018-04-19T10:32:35.273Z\",\"content\":\"You named the group marathon.\",\"partner\":\"marathon\",\"sender_name\":\"Jen\\\\u0151 Rejt\\\\u0151\"},{\"timestamp_ms\":\"2018-04-19T11:35:37.066Z\",\"content\":null,\"partner\":\"marathon\",\"sender_name\":\"Donald Duck\"},{\"timestamp_ms\":\"2018-04-19T11:35:49.717Z\",\"content\":\"i start today\",\"partner\":\"marathon\",\"sender_name\":\"Donald Duck\"},{\"timestamp_ms\":\"2018-04-19T11:37:39.673Z\",\"content\":null,\"partner\":\"marathon\",\"sender_name\":\"Donald Duck\"},{\"timestamp_ms\":\"2018-04-19T11:38:02.444Z\",\"content\":\"we could go but running is free\",\"partner\":\"marathon\",\"sender_name\":\"Donald Duck\"},{\"timestamp_ms\":\"2018-04-19T11:38:32.776Z\",\"content\":\"hmmm\",\"partner\":\"marathon\",\"sender_name\":\"Jen\\\\u0151 Rejt\\\\u0151\"},{\"timestamp_ms\":\"2018-04-19T12:52:39.709Z\",\"content\":\":D\",\"partner\":\"marathon\",\"sender_name\":\"Donald Duck\"}]}'"
      ]
     },
     "execution_count": 17,
     "metadata": {},
     "output_type": "execute_result"
    }
   ],
   "source": [
    "conversations.get(kind='group', channels='marathon',cols=['content', 'partner', 'sender_name'], output='json')"
   ]
  },
  {
   "cell_type": "markdown",
   "metadata": {},
   "source": [
    "We can also write this to an output file instead of stdout."
   ]
  },
  {
   "cell_type": "code",
   "execution_count": 18,
   "metadata": {},
   "outputs": [
    {
     "data": {
      "text/plain": [
       "'Data was written to /home/levente/projects/facebook-data-miner/convos.csv'"
      ]
     },
     "execution_count": 18,
     "metadata": {},
     "output_type": "execute_result"
    }
   ],
   "source": [
    "conversations.get(kind='group', channels='marathon',cols=['content', 'partner', 'sender_name'], output=f'{BASE_PATH}/convos.csv')"
   ]
  },
  {
   "cell_type": "code",
   "execution_count": 19,
   "metadata": {},
   "outputs": [
    {
     "name": "stdout",
     "output_type": "stream",
     "text": [
      "timestamp_ms,content,partner,sender_name\r\n",
      "2018-04-19 10:31:42.152000+00:00,marathon?,marathon,Jenő Rejtő\r\n",
      "2018-04-19 10:32:21.074000+00:00,yapp yapp :D,marathon,Foo Bar\r\n",
      "2018-04-19 10:32:35.273000+00:00,You named the group marathon.,marathon,Jenő Rejtő\r\n",
      "2018-04-19 11:35:37.066000+00:00,,marathon,Donald Duck\r\n",
      "2018-04-19 11:35:49.717000+00:00,i start today,marathon,Donald Duck\r\n",
      "2018-04-19 11:37:39.673000+00:00,,marathon,Donald Duck\r\n",
      "2018-04-19 11:38:02.444000+00:00,we could go but running is free,marathon,Donald Duck\r\n",
      "2018-04-19 11:38:32.776000+00:00,hmmm,marathon,Jenő Rejtő\r\n",
      "2018-04-19 12:52:39.709000+00:00,:D,marathon,Donald Duck\r\n"
     ]
    }
   ],
   "source": [
    "!cat $BASE_PATH/convos.csv"
   ]
  },
  {
   "cell_type": "code",
   "execution_count": 20,
   "metadata": {},
   "outputs": [],
   "source": [
    "!rm $BASE_PATH/convos.csv"
   ]
  },
  {
   "cell_type": "markdown",
   "metadata": {},
   "source": [
    "### Messaging Analyzer\n",
    "Now we got to a point where we can actually *analyze* our data. \n",
    "\n",
    "`app.analyzer` returns an instance of `MessagingAnalyzerManager` which manages the analysis of both `private` and `group` messages, and also the interaction between the two e.g. get all messages for one person (both private and all the group channels).\n",
    "\n",
    "**IMPORTANT NOTE**: For discover the features of this class and its composite classes, we want to be able to refer to at least one private conversation partner and at least one group conversation. \n",
    "In the next cell you should set this variables to a private conversation partner's name and the name of a group conversation of yours."
   ]
  },
  {
   "cell_type": "code",
   "execution_count": 21,
   "metadata": {},
   "outputs": [],
   "source": [
    "PARTNER_NAME = \"Foo Bar\"\n",
    "\n",
    "GROUP_NAME = 'marathon' "
   ]
  },
  {
   "cell_type": "markdown",
   "metadata": {},
   "source": [
    "Now we can go ahead and start our discoveries. "
   ]
  },
  {
   "cell_type": "code",
   "execution_count": 22,
   "metadata": {
    "tags": []
   },
   "outputs": [],
   "source": [
    "analyzer = app.analyzer"
   ]
  },
  {
   "cell_type": "markdown",
   "metadata": {},
   "source": [
    "If we run the next cell, we will see that this object has a lot of methods and properties."
   ]
  },
  {
   "cell_type": "code",
   "execution_count": 23,
   "metadata": {
    "tags": []
   },
   "outputs": [
    {
     "name": "stdout",
     "output_type": "stream",
     "text": [
      "['all_interactions', 'config', 'conversations', 'get_stats_together', 'get_who_i_have_private_convo_with_from_a_group', 'group', 'group_messaging_analyzer', 'how_much_i_speak_in_private_with_group_members', 'is_private_convo_first_then_group', 'people_i_have_group_convo_with', 'people_i_have_private_convo_with', 'private', 'private_messaging_analyzer']\n"
     ]
    }
   ],
   "source": [
    "print(dir_stripped(analyzer))"
   ]
  },
  {
   "cell_type": "markdown",
   "metadata": {},
   "source": [
    "Let's now take the above group and see amongst its participants who we have private conversation with."
   ]
  },
  {
   "cell_type": "code",
   "execution_count": 24,
   "metadata": {},
   "outputs": [
    {
     "data": {
      "text/plain": [
       "['Bugs Bunny', 'Foo Bar']"
      ]
     },
     "execution_count": 24,
     "metadata": {},
     "output_type": "execute_result"
    }
   ],
   "source": [
    "analyzer.get_who_i_have_private_convo_with_from_a_group(GROUP_NAME)"
   ]
  },
  {
   "cell_type": "markdown",
   "metadata": {},
   "source": [
    "Now we can also check how much I speak with these participants."
   ]
  },
  {
   "cell_type": "code",
   "execution_count": 25,
   "metadata": {},
   "outputs": [
    {
     "data": {
      "text/plain": [
       "{'Bugs Bunny': 6, 'Foo Bar': 15}"
      ]
     },
     "execution_count": 25,
     "metadata": {},
     "output_type": "execute_result"
    }
   ],
   "source": [
    "analyzer.how_much_i_speak_in_private_with_group_members(GROUP_NAME)"
   ]
  },
  {
   "cell_type": "markdown",
   "metadata": {},
   "source": [
    "Let's see if I had first private or group messages first with the above partner."
   ]
  },
  {
   "cell_type": "code",
   "execution_count": 26,
   "metadata": {},
   "outputs": [
    {
     "data": {
      "text/plain": [
       "True"
      ]
     },
     "execution_count": 26,
     "metadata": {},
     "output_type": "execute_result"
    }
   ],
   "source": [
    "analyzer.is_private_convo_first_then_group(PARTNER_NAME)"
   ]
  },
  {
   "cell_type": "markdown",
   "metadata": {},
   "source": [
    "Now let's get all the stats for one person. The return value of `get_stats_together` is only the `ConversationStats` calulated on messages sent by the partner in either of the channels. \n",
    "\n",
    "Note: we will cover `ConversationStats` soon."
   ]
  },
  {
   "cell_type": "code",
   "execution_count": 27,
   "metadata": {},
   "outputs": [],
   "source": [
    "stats = analyzer.get_stats_together(PARTNER_NAME)"
   ]
  },
  {
   "cell_type": "markdown",
   "metadata": {},
   "source": [
    "Now we can print some statistics from this object, just so we see how it is working. But let's not spoil too much from this object."
   ]
  },
  {
   "cell_type": "code",
   "execution_count": 28,
   "metadata": {},
   "outputs": [
    {
     "data": {
      "text/plain": [
       "4"
      ]
     },
     "execution_count": 28,
     "metadata": {},
     "output_type": "execute_result"
    }
   ],
   "source": [
    "stats.number_of_channels"
   ]
  },
  {
   "cell_type": "code",
   "execution_count": 29,
   "metadata": {},
   "outputs": [
    {
     "data": {
      "text/plain": [
       "['Tőke Hal, Foo Bar, Donald Duck and 2 others',\n",
       " 'Foo Bar, John Doe and Bugs Bunny',\n",
       " 'marathon',\n",
       " 'Foo Bar']"
      ]
     },
     "execution_count": 29,
     "metadata": {},
     "output_type": "execute_result"
    }
   ],
   "source": [
    "count = 5 if stats.number_of_channels > 5 else stats.number_of_channels\n",
    "stats.channels[:count]"
   ]
  },
  {
   "cell_type": "code",
   "execution_count": 30,
   "metadata": {},
   "outputs": [
    {
     "data": {
      "text/html": [
       "<div>\n",
       "<style scoped>\n",
       "    .dataframe tbody tr th:only-of-type {\n",
       "        vertical-align: middle;\n",
       "    }\n",
       "\n",
       "    .dataframe tbody tr th {\n",
       "        vertical-align: top;\n",
       "    }\n",
       "\n",
       "    .dataframe thead th {\n",
       "        text-align: right;\n",
       "    }\n",
       "</style>\n",
       "<table border=\"1\" class=\"dataframe\">\n",
       "  <thead>\n",
       "    <tr style=\"text-align: right;\">\n",
       "      <th></th>\n",
       "      <th>sender_name</th>\n",
       "      <th>content</th>\n",
       "      <th>type</th>\n",
       "      <th>audio_files</th>\n",
       "      <th>gifs</th>\n",
       "      <th>reactions</th>\n",
       "      <th>files</th>\n",
       "      <th>partner</th>\n",
       "    </tr>\n",
       "    <tr>\n",
       "      <th>timestamp_ms</th>\n",
       "      <th></th>\n",
       "      <th></th>\n",
       "      <th></th>\n",
       "      <th></th>\n",
       "      <th></th>\n",
       "      <th></th>\n",
       "      <th></th>\n",
       "      <th></th>\n",
       "    </tr>\n",
       "  </thead>\n",
       "  <tbody>\n",
       "    <tr>\n",
       "      <th>2018-04-19 10:32:21.074000+00:00</th>\n",
       "      <td>Foo Bar</td>\n",
       "      <td>yapp yapp :D</td>\n",
       "      <td>Generic</td>\n",
       "      <td>NaN</td>\n",
       "      <td>NaN</td>\n",
       "      <td>NaN</td>\n",
       "      <td>NaN</td>\n",
       "      <td>marathon</td>\n",
       "    </tr>\n",
       "    <tr>\n",
       "      <th>2011-07-17 13:00:13.721000+00:00</th>\n",
       "      <td>Foo Bar</td>\n",
       "      <td>what do you test</td>\n",
       "      <td>Generic</td>\n",
       "      <td>NaN</td>\n",
       "      <td>NaN</td>\n",
       "      <td>NaN</td>\n",
       "      <td>NaN</td>\n",
       "      <td>Foo Bar, John Doe and Bugs Bunny</td>\n",
       "    </tr>\n",
       "    <tr>\n",
       "      <th>2020-02-13 05:15:38.715000+00:00</th>\n",
       "      <td>Foo Bar</td>\n",
       "      <td>Ut akar ... consequat. oO wow :P xd :D</td>\n",
       "      <td>Generic</td>\n",
       "      <td>NaN</td>\n",
       "      <td>NaN</td>\n",
       "      <td>[{'reaction': '❤', 'actor': 'Jenő Rejtő'}]</td>\n",
       "      <td>NaN</td>\n",
       "      <td>Foo Bar</td>\n",
       "    </tr>\n",
       "    <tr>\n",
       "      <th>2020-02-14 03:28:48.047000+00:00</th>\n",
       "      <td>Foo Bar</td>\n",
       "      <td>NaN</td>\n",
       "      <td>Generic</td>\n",
       "      <td>NaN</td>\n",
       "      <td>NaN</td>\n",
       "      <td>NaN</td>\n",
       "      <td>[{'uri': 'messages/inbox/FooBar_n5fd6gG50h/fil...</td>\n",
       "      <td>Foo Bar</td>\n",
       "    </tr>\n",
       "    <tr>\n",
       "      <th>2020-03-09 10:48:48.047000+00:00</th>\n",
       "      <td>Foo Bar</td>\n",
       "      <td>NaN</td>\n",
       "      <td>Generic</td>\n",
       "      <td>[{'uri': 'messages/inbox/FooBar_n5fd6gG50h/aud...</td>\n",
       "      <td>NaN</td>\n",
       "      <td>NaN</td>\n",
       "      <td>NaN</td>\n",
       "      <td>Foo Bar</td>\n",
       "    </tr>\n",
       "  </tbody>\n",
       "</table>\n",
       "</div>"
      ],
      "text/plain": [
       "                                 sender_name  \\\n",
       "timestamp_ms                                   \n",
       "2018-04-19 10:32:21.074000+00:00     Foo Bar   \n",
       "2011-07-17 13:00:13.721000+00:00     Foo Bar   \n",
       "2020-02-13 05:15:38.715000+00:00     Foo Bar   \n",
       "2020-02-14 03:28:48.047000+00:00     Foo Bar   \n",
       "2020-03-09 10:48:48.047000+00:00     Foo Bar   \n",
       "\n",
       "                                                                 content  \\\n",
       "timestamp_ms                                                               \n",
       "2018-04-19 10:32:21.074000+00:00                            yapp yapp :D   \n",
       "2011-07-17 13:00:13.721000+00:00                        what do you test   \n",
       "2020-02-13 05:15:38.715000+00:00  Ut akar ... consequat. oO wow :P xd :D   \n",
       "2020-02-14 03:28:48.047000+00:00                                     NaN   \n",
       "2020-03-09 10:48:48.047000+00:00                                     NaN   \n",
       "\n",
       "                                     type  \\\n",
       "timestamp_ms                                \n",
       "2018-04-19 10:32:21.074000+00:00  Generic   \n",
       "2011-07-17 13:00:13.721000+00:00  Generic   \n",
       "2020-02-13 05:15:38.715000+00:00  Generic   \n",
       "2020-02-14 03:28:48.047000+00:00  Generic   \n",
       "2020-03-09 10:48:48.047000+00:00  Generic   \n",
       "\n",
       "                                                                        audio_files  \\\n",
       "timestamp_ms                                                                          \n",
       "2018-04-19 10:32:21.074000+00:00                                                NaN   \n",
       "2011-07-17 13:00:13.721000+00:00                                                NaN   \n",
       "2020-02-13 05:15:38.715000+00:00                                                NaN   \n",
       "2020-02-14 03:28:48.047000+00:00                                                NaN   \n",
       "2020-03-09 10:48:48.047000+00:00  [{'uri': 'messages/inbox/FooBar_n5fd6gG50h/aud...   \n",
       "\n",
       "                                 gifs  \\\n",
       "timestamp_ms                            \n",
       "2018-04-19 10:32:21.074000+00:00  NaN   \n",
       "2011-07-17 13:00:13.721000+00:00  NaN   \n",
       "2020-02-13 05:15:38.715000+00:00  NaN   \n",
       "2020-02-14 03:28:48.047000+00:00  NaN   \n",
       "2020-03-09 10:48:48.047000+00:00  NaN   \n",
       "\n",
       "                                                                   reactions  \\\n",
       "timestamp_ms                                                                   \n",
       "2018-04-19 10:32:21.074000+00:00                                         NaN   \n",
       "2011-07-17 13:00:13.721000+00:00                                         NaN   \n",
       "2020-02-13 05:15:38.715000+00:00  [{'reaction': '❤', 'actor': 'Jenő Rejtő'}]   \n",
       "2020-02-14 03:28:48.047000+00:00                                         NaN   \n",
       "2020-03-09 10:48:48.047000+00:00                                         NaN   \n",
       "\n",
       "                                                                              files  \\\n",
       "timestamp_ms                                                                          \n",
       "2018-04-19 10:32:21.074000+00:00                                                NaN   \n",
       "2011-07-17 13:00:13.721000+00:00                                                NaN   \n",
       "2020-02-13 05:15:38.715000+00:00                                                NaN   \n",
       "2020-02-14 03:28:48.047000+00:00  [{'uri': 'messages/inbox/FooBar_n5fd6gG50h/fil...   \n",
       "2020-03-09 10:48:48.047000+00:00                                                NaN   \n",
       "\n",
       "                                                           partner  \n",
       "timestamp_ms                                                        \n",
       "2018-04-19 10:32:21.074000+00:00                          marathon  \n",
       "2011-07-17 13:00:13.721000+00:00  Foo Bar, John Doe and Bugs Bunny  \n",
       "2020-02-13 05:15:38.715000+00:00                           Foo Bar  \n",
       "2020-02-14 03:28:48.047000+00:00                           Foo Bar  \n",
       "2020-03-09 10:48:48.047000+00:00                           Foo Bar  "
      ]
     },
     "execution_count": 30,
     "metadata": {},
     "output_type": "execute_result"
    }
   ],
   "source": [
    "stats.df.sample(5)"
   ]
  },
  {
   "cell_type": "markdown",
   "metadata": {},
   "source": [
    "### Private and Group Messaging Analyzer\n",
    "\n",
    "\n",
    "So let's finally see the similarities and differences between `private` and `group` analyzers by looking into these objects. \n",
    "\n",
    "It might be helpful for us to know, that both of these objects are created by passing their constructor the `Conversations`' private and group properties. That means: `analyzer.private.data = conversations.private` and `analyzer.group.data = conversations.group`."
   ]
  },
  {
   "cell_type": "code",
   "execution_count": 31,
   "metadata": {},
   "outputs": [],
   "source": [
    "private = analyzer.private\n",
    "group = analyzer.group"
   ]
  },
  {
   "cell_type": "code",
   "execution_count": 32,
   "metadata": {},
   "outputs": [
    {
     "data": {
      "text/plain": [
       "<Group-MessagingAnalyzer for 3 channels>"
      ]
     },
     "execution_count": 32,
     "metadata": {},
     "output_type": "execute_result"
    }
   ],
   "source": [
    "assert type(private) == type(group)\n",
    "group"
   ]
  },
  {
   "cell_type": "markdown",
   "metadata": {},
   "source": [
    "As you can see both objects are instances of `MesagingAnalyzer` class. Every property and method is available for both types of conversations, although some properties makes more sense for one or the other. \n",
    "\n",
    "First we get the number of channels."
   ]
  },
  {
   "cell_type": "code",
   "execution_count": 33,
   "metadata": {},
   "outputs": [
    {
     "data": {
      "text/plain": [
       "(4, 3)"
      ]
     },
     "execution_count": 33,
     "metadata": {},
     "output_type": "execute_result"
    }
   ],
   "source": [
    "len(private), len(group)"
   ]
  },
  {
   "cell_type": "markdown",
   "metadata": {},
   "source": [
    "Then let's list all the properties and methods we can use with these objects."
   ]
  },
  {
   "cell_type": "code",
   "execution_count": 34,
   "metadata": {
    "tags": []
   },
   "outputs": [
    {
     "name": "stdout",
     "output_type": "stream",
     "text": [
      "['config', 'data', 'df', 'filter', 'get_all_channels_for_one_person', 'get_ranking_of_people_by_convo_stats', 'get_stat_count', 'is_group', 'max_channel_size', 'mean_channel_size', 'min_channel_size', 'number_of_convos_created_by_me', 'participant_to_channel_map', 'participants', 'stats', 'stats_per_channel', 'stats_per_participant']\n"
     ]
    }
   ],
   "source": [
    "print(dir_stripped(private))"
   ]
  },
  {
   "cell_type": "markdown",
   "metadata": {},
   "source": [
    "We have this `is_group` property, which should be pretty intuitive."
   ]
  },
  {
   "cell_type": "code",
   "execution_count": 35,
   "metadata": {},
   "outputs": [
    {
     "data": {
      "text/plain": [
       "(False, True)"
      ]
     },
     "execution_count": 35,
     "metadata": {},
     "output_type": "execute_result"
    }
   ],
   "source": [
    "private.is_group, group.is_group"
   ]
  },
  {
   "cell_type": "markdown",
   "metadata": {},
   "source": [
    "Let's see the number of all the messages ever sent from any party in private and in group messages. We do this by inspecting the shape of the DataFrame bound to these objects. \n",
    "\n",
    "Here we should mention, that `private.df` or `group.df` is created by stacking together all the `Conversation` DataFrames these objects contain. "
   ]
  },
  {
   "cell_type": "code",
   "execution_count": 36,
   "metadata": {
    "tags": []
   },
   "outputs": [
    {
     "data": {
      "text/plain": [
       "(31, 18)"
      ]
     },
     "execution_count": 36,
     "metadata": {},
     "output_type": "execute_result"
    }
   ],
   "source": [
    "private.df.shape[0], group.df.shape[0]"
   ]
  },
  {
   "cell_type": "markdown",
   "metadata": {},
   "source": [
    "Let's see the number of participants. Note, that e.g. for me this is not the same as `len(private), len(group)` but it is only because some weird unicode (or not) characters."
   ]
  },
  {
   "cell_type": "code",
   "execution_count": 37,
   "metadata": {},
   "outputs": [
    {
     "data": {
      "text/plain": [
       "(5, 8)"
      ]
     },
     "execution_count": 37,
     "metadata": {},
     "output_type": "execute_result"
    }
   ],
   "source": [
    "len(private.participants), len(group.participants)"
   ]
  },
  {
   "cell_type": "markdown",
   "metadata": {},
   "source": [
    "Let's see the ranking of my friends by messages sent. It could be very different for private and group messages."
   ]
  },
  {
   "cell_type": "code",
   "execution_count": 38,
   "metadata": {},
   "outputs": [
    {
     "data": {
      "text/plain": [
       "'count'"
      ]
     },
     "execution_count": 38,
     "metadata": {},
     "output_type": "execute_result"
    }
   ],
   "source": [
    "by_count, by_percent = private.get_ranking_of_people_by_convo_stats(statistic='mc', top=10)\n",
    "by_count"
   ]
  },
  {
   "cell_type": "code",
   "execution_count": 39,
   "metadata": {},
   "outputs": [
    {
     "data": {
      "text/plain": [
       "'percent'"
      ]
     },
     "execution_count": 39,
     "metadata": {},
     "output_type": "execute_result"
    }
   ],
   "source": [
    "by_count, by_percent = group.get_ranking_of_people_by_convo_stats(statistic='mc', top=10)\n",
    "by_percent"
   ]
  },
  {
   "cell_type": "markdown",
   "metadata": {},
   "source": [
    "Chances are your name will appear in the group's ranking and it's because of an important difference in how these values get computed. The `private` object calculates the values by a channel, while `group` object calculates it by senders. It can be a bit confusing, but this seemes the most intuitive solution."
   ]
  },
  {
   "cell_type": "markdown",
   "metadata": {},
   "source": [
    "Note that you can also change the metric by which we calculate the portion of contribution. Let's do a calculation based on `character count`."
   ]
  },
  {
   "cell_type": "code",
   "execution_count": 40,
   "metadata": {},
   "outputs": [
    {
     "data": {
      "text/plain": [
       "{'count': {'Donald Duck': 42,\n",
       "  'Jenő Rejtő': 42,\n",
       "  'Foo Bar': 36,\n",
       "  'Bugs Bunny': 18,\n",
       "  'Tőke Hal': 18,\n",
       "  'Dér Dénes': 6,\n",
       "  'Facebook User': 2,\n",
       "  'John Doe': 2},\n",
       " 'percent': {'Donald Duck': 25.301204819277107,\n",
       "  'Jenő Rejtő': 25.301204819277107,\n",
       "  'Foo Bar': 21.686746987951807,\n",
       "  'Bugs Bunny': 10.843373493975903,\n",
       "  'Tőke Hal': 10.843373493975903,\n",
       "  'Dér Dénes': 3.6144578313253013,\n",
       "  'Facebook User': 1.2048192771084338,\n",
       "  'John Doe': 1.2048192771084338}}"
      ]
     },
     "execution_count": 40,
     "metadata": {},
     "output_type": "execute_result"
    }
   ],
   "source": [
    "group.get_ranking_of_people_by_convo_stats(statistic='cc', top=10)"
   ]
  },
  {
   "cell_type": "markdown",
   "metadata": {},
   "source": [
    "`get_stat_count` is a function with which you can get specific countable statistics for all of your private or group conversations. This function uses the `ConversationStats` class to get statitics from. The nice thing about this function is that you can filter the undelying `ConversationStats` by channel, sender, date range, type of message. \n",
    "\n",
    "Let's now get word count aliased by `wc` of all the messages someone else sent me aliased by `partner`."
   ]
  },
  {
   "cell_type": "code",
   "execution_count": 41,
   "metadata": {},
   "outputs": [
    {
     "data": {
      "text/plain": [
       "20"
      ]
     },
     "execution_count": 41,
     "metadata": {},
     "output_type": "execute_result"
    }
   ],
   "source": [
    "private.get_stat_count(attr='wc', senders='partner')"
   ]
  },
  {
   "cell_type": "code",
   "execution_count": 42,
   "metadata": {},
   "outputs": [
    {
     "data": {
      "text/plain": [
       "32"
      ]
     },
     "execution_count": 42,
     "metadata": {},
     "output_type": "execute_result"
    }
   ],
   "source": [
    "group.get_stat_count(attr='wc', senders='partner')\n",
    "# partner here means: not me"
   ]
  },
  {
   "cell_type": "markdown",
   "metadata": {},
   "source": [
    "We can also count how many conversations was started by me."
   ]
  },
  {
   "cell_type": "code",
   "execution_count": 43,
   "metadata": {},
   "outputs": [
    {
     "data": {
      "text/plain": [
       "4"
      ]
     },
     "execution_count": 43,
     "metadata": {},
     "output_type": "execute_result"
    }
   ],
   "source": [
    "private.number_of_convos_created_by_me"
   ]
  },
  {
   "cell_type": "code",
   "execution_count": 44,
   "metadata": {},
   "outputs": [
    {
     "data": {
      "text/plain": [
       "2"
      ]
     },
     "execution_count": 44,
     "metadata": {},
     "output_type": "execute_result"
    }
   ],
   "source": [
    "group.number_of_convos_created_by_me"
   ]
  },
  {
   "cell_type": "markdown",
   "metadata": {},
   "source": [
    "We also have a `{min|mean|max}_channels_size` property, which measures the corresponding statistics for the channels registered in the current analyzer. For private messages it makes less sense, then in group, but for the sake of symmetry, we have these properties for both."
   ]
  },
  {
   "cell_type": "code",
   "execution_count": 45,
   "metadata": {},
   "outputs": [
    {
     "data": {
      "text/plain": [
       "(2, 2)"
      ]
     },
     "execution_count": 45,
     "metadata": {},
     "output_type": "execute_result"
    }
   ],
   "source": [
    "private.min_channel_size, private.max_channel_size\n"
   ]
  },
  {
   "cell_type": "code",
   "execution_count": 46,
   "metadata": {},
   "outputs": [
    {
     "data": {
      "text/plain": [
       "(4, 4.666666666666667, 6)"
      ]
     },
     "execution_count": 46,
     "metadata": {},
     "output_type": "execute_result"
    }
   ],
   "source": [
    "group.min_channel_size, group.mean_channel_size, group.max_channel_size"
   ]
  },
  {
   "cell_type": "markdown",
   "metadata": {},
   "source": [
    "#### Filtering\n",
    "You can filter the analyzers. Both `private` and `group` conversation analyzers can be filtered along two dimensions. First is `channels`, which is quite straightforward. The other is `senders`. \n",
    "\n",
    "In case of `private` messages, `channels` and `senders` are exactly the same, altough calculated a bit differently (I suggest using `channels`, which is faster). \n",
    "\n",
    "In case of `group`, `channels` filters by group conversation names, `senders` filters by people who are part of a group message.\n",
    "\n",
    "Both parameters can be passed as string or list of strings.\n",
    "\n",
    "The `filter` method will create a new `Analyzer` instance."
   ]
  },
  {
   "cell_type": "markdown",
   "metadata": {},
   "source": [
    "Let's first filter private messages."
   ]
  },
  {
   "cell_type": "code",
   "execution_count": 47,
   "metadata": {},
   "outputs": [
    {
     "data": {
      "text/plain": [
       "<Private-MessagingAnalyzer for 1 channels>"
      ]
     },
     "execution_count": 47,
     "metadata": {},
     "output_type": "execute_result"
    }
   ],
   "source": [
    "private_filtered_by_channels = private.filter(channels=PARTNER_NAME)\n",
    "private_filtered_by_channels"
   ]
  },
  {
   "cell_type": "code",
   "execution_count": 48,
   "metadata": {},
   "outputs": [
    {
     "data": {
      "text/plain": [
       "<Private-MessagingAnalyzer for 1 channels>"
      ]
     },
     "execution_count": 48,
     "metadata": {},
     "output_type": "execute_result"
    }
   ],
   "source": [
    "private_filtered_by_participants = private.filter(participants=PARTNER_NAME)\n",
    "private_filtered_by_participants"
   ]
  },
  {
   "cell_type": "markdown",
   "metadata": {},
   "source": [
    "Let's see the number of meesages in both."
   ]
  },
  {
   "cell_type": "code",
   "execution_count": 49,
   "metadata": {
    "tags": []
   },
   "outputs": [
    {
     "data": {
      "text/plain": [
       "((15, 10), (15, 10))"
      ]
     },
     "execution_count": 49,
     "metadata": {},
     "output_type": "execute_result"
    }
   ],
   "source": [
    "private_filtered_by_channels.df.shape, private_filtered_by_participants.df.shape"
   ]
  },
  {
   "cell_type": "markdown",
   "metadata": {},
   "source": [
    "To make sure they yield the same result, we will assert some more properies of the two objects."
   ]
  },
  {
   "cell_type": "code",
   "execution_count": 50,
   "metadata": {},
   "outputs": [
    {
     "data": {
      "text/plain": [
       "(['Foo Bar', 'Jenő Rejtő'], ['Foo Bar', 'Jenő Rejtő'])"
      ]
     },
     "execution_count": 50,
     "metadata": {},
     "output_type": "execute_result"
    }
   ],
   "source": [
    "private_filtered_by_channels.participants, private_filtered_by_participants.participants"
   ]
  },
  {
   "cell_type": "code",
   "execution_count": 51,
   "metadata": {},
   "outputs": [
    {
     "data": {
      "text/plain": [
       "(1, 1)"
      ]
     },
     "execution_count": 51,
     "metadata": {},
     "output_type": "execute_result"
    }
   ],
   "source": [
    "private_filtered_by_channels.number_of_convos_created_by_me, \\\n",
    "private_filtered_by_participants.number_of_convos_created_by_me"
   ]
  },
  {
   "cell_type": "markdown",
   "metadata": {},
   "source": [
    "Here the `get_all_groups_for_one_person` method makes little sense. It is the same as the `channels` property of the `stats` object."
   ]
  },
  {
   "cell_type": "code",
   "execution_count": 53,
   "metadata": {},
   "outputs": [
    {
     "data": {
      "text/plain": [
       "True"
      ]
     },
     "execution_count": 53,
     "metadata": {},
     "output_type": "execute_result"
    }
   ],
   "source": [
    "private_filtered_by_channels.get_all_channels_for_one_person(PARTNER_NAME) == private_filtered_by_participants.stats.channels"
   ]
  },
  {
   "cell_type": "markdown",
   "metadata": {},
   "source": [
    "Now we can filter the group object as well. Here the two possible filtering parameters actually make sense. \n",
    "\n",
    "First we filter by `channels`."
   ]
  },
  {
   "cell_type": "code",
   "execution_count": 54,
   "metadata": {},
   "outputs": [
    {
     "data": {
      "text/plain": [
       "<Group-MessagingAnalyzer for 1 channels>"
      ]
     },
     "execution_count": 54,
     "metadata": {},
     "output_type": "execute_result"
    }
   ],
   "source": [
    "group_filtered_by_channels = group.filter(channels=GROUP_NAME)\n",
    "group_filtered_by_channels"
   ]
  },
  {
   "cell_type": "markdown",
   "metadata": {},
   "source": [
    "The data property should only contian one entry now."
   ]
  },
  {
   "cell_type": "code",
   "execution_count": 55,
   "metadata": {},
   "outputs": [
    {
     "data": {
      "text/plain": [
       "1"
      ]
     },
     "execution_count": 55,
     "metadata": {},
     "output_type": "execute_result"
    }
   ],
   "source": [
    "len(group_filtered_by_channels.data.items())"
   ]
  },
  {
   "cell_type": "code",
   "execution_count": 56,
   "metadata": {},
   "outputs": [
    {
     "data": {
      "text/plain": [
       "dict_items([('marathon', <miner.message.conversation.Conversation object at 0x7f3009637760>)])"
      ]
     },
     "execution_count": 56,
     "metadata": {},
     "output_type": "execute_result"
    }
   ],
   "source": [
    "group_filtered_by_channels.data.items()"
   ]
  },
  {
   "cell_type": "markdown",
   "metadata": {},
   "source": [
    "On the other hand if we filter by our chosen partner (defined in `PARTNER_NAME` variable) we may get several groups. In fact all the groups in which our partner has *particiapted* (not neccesserarily contributed)."
   ]
  },
  {
   "cell_type": "code",
   "execution_count": 57,
   "metadata": {},
   "outputs": [
    {
     "data": {
      "text/plain": [
       "<Group-MessagingAnalyzer for 3 channels>"
      ]
     },
     "execution_count": 57,
     "metadata": {},
     "output_type": "execute_result"
    }
   ],
   "source": [
    "group_filtered_by_participants = group.filter(participants=PARTNER_NAME)\n",
    "group_filtered_by_participants"
   ]
  },
  {
   "cell_type": "code",
   "execution_count": 58,
   "metadata": {},
   "outputs": [
    {
     "data": {
      "text/plain": [
       "3"
      ]
     },
     "execution_count": 58,
     "metadata": {},
     "output_type": "execute_result"
    }
   ],
   "source": [
    "len(group_filtered_by_participants.data.items())"
   ]
  },
  {
   "cell_type": "markdown",
   "metadata": {},
   "source": [
    "This should be the same number as the return value of the following property of the Analyzer class."
   ]
  },
  {
   "cell_type": "code",
   "execution_count": 59,
   "metadata": {},
   "outputs": [
    {
     "data": {
      "text/plain": [
       "3"
      ]
     },
     "execution_count": 59,
     "metadata": {},
     "output_type": "execute_result"
    }
   ],
   "source": [
    "len(group.get_all_channels_for_one_person(PARTNER_NAME))"
   ]
  },
  {
   "cell_type": "markdown",
   "metadata": {},
   "source": [
    "### ConversationStats\n",
    "As the name suggests this class is a container for holding statsictical data/information about converations. The basic concept is that it does not know general conversation metadata, since it is only constructed by the messages and the metadata of unique messages (who sent it, what kind of messages is it, when was it sent). This object is created by `MessagingAnalyzer` class by passing in the DataFrame as input. The DataFrame is created from all the conversations that the analyzer holds (remember you can filter them, down to a single conversation). \n",
    "\n",
    "So to sum it up, `MessagingAnalyzer` knows about the channels and all the metadata of the conversations, while `ConversationStats` only knows about the messages themselves.\n",
    "\n",
    "`ConversationStats` has a lot of interesting properties and methods, and also a pretty versatile filtering function, so let's discover them."
   ]
  },
  {
   "cell_type": "markdown",
   "metadata": {},
   "source": [
    "#### Private and Group Conversation Stats\n",
    "Note: we follow the strategy of showing private and group conversation stats side-by-side as we did it with the analyzer."
   ]
  },
  {
   "cell_type": "code",
   "execution_count": 60,
   "metadata": {},
   "outputs": [],
   "source": [
    "private_stats = private.stats\n",
    "group_stats = group.stats"
   ]
  },
  {
   "cell_type": "markdown",
   "metadata": {},
   "source": [
    "Do both of them have the same properties?"
   ]
  },
  {
   "cell_type": "code",
   "execution_count": 61,
   "metadata": {},
   "outputs": [],
   "source": [
    "assert dir(private_stats) == dir(group_stats)"
   ]
  },
  {
   "cell_type": "markdown",
   "metadata": {},
   "source": [
    "Seems so... Let's print out the useful ones."
   ]
  },
  {
   "cell_type": "code",
   "execution_count": 62,
   "metadata": {
    "tags": []
   },
   "outputs": [
    {
     "name": "stdout",
     "output_type": "stream",
     "text": [
      "['audios', 'average_word_length', 'cc', 'cc_in_messages', 'channels', 'config', 'contributors', 'created_by_me', 'creator', 'df', 'end', 'files', 'filter', 'get_grouped_time_series_data', 'gifs', 'mc', 'media', 'media_mc', 'message_language_map', 'message_language_ratio', 'messages', 'most_used_msgs', 'most_used_words', 'number_of_channels', 'number_of_contributors', 'percentage_of_media_messages', 'percentage_of_reacted_messages', 'percentage_of_text_messages', 'photos', 'reacted_messages', 'start', 'stats_per_timeframe', 'text', 'text_mc', 'unique_mc', 'unique_wc', 'videos', 'wc', 'wc_in_messages', 'words']\n"
     ]
    }
   ],
   "source": [
    "print(dir_stripped(private_stats))"
   ]
  },
  {
   "cell_type": "markdown",
   "metadata": {},
   "source": [
    "Lets print out one channel from both."
   ]
  },
  {
   "cell_type": "code",
   "execution_count": 63,
   "metadata": {},
   "outputs": [
    {
     "data": {
      "text/plain": [
       "('Bugs Bunny', 'Tőke Hal, Foo Bar, Donald Duck and 2 others')"
      ]
     },
     "execution_count": 63,
     "metadata": {},
     "output_type": "execute_result"
    }
   ],
   "source": [
    "private_stats.channels[0], group_stats.channels[0]"
   ]
  },
  {
   "cell_type": "markdown",
   "metadata": {},
   "source": [
    "Let's see the number of channels for both of them. Note that the numbers can be quite familiar. It's because they should be the same as what we saw in case of the Analyzer class."
   ]
  },
  {
   "cell_type": "code",
   "execution_count": 64,
   "metadata": {},
   "outputs": [
    {
     "data": {
      "text/plain": [
       "(4, 3)"
      ]
     },
     "execution_count": 64,
     "metadata": {},
     "output_type": "execute_result"
    }
   ],
   "source": [
    "private_stats.number_of_channels, group_stats.number_of_channels"
   ]
  },
  {
   "cell_type": "markdown",
   "metadata": {},
   "source": [
    "Contributors are all the people who ever sent a message. Apparently (at least for me) some of them never did. This is because nowadays, when you make a new friend on Facebook you get connected on Messenger automatically, regardless if you have messages or not."
   ]
  },
  {
   "cell_type": "code",
   "execution_count": 65,
   "metadata": {},
   "outputs": [
    {
     "data": {
      "text/plain": [
       "(5, 8)"
      ]
     },
     "execution_count": 65,
     "metadata": {},
     "output_type": "execute_result"
    }
   ],
   "source": [
    "private_stats.number_of_contributors, group_stats.number_of_contributors"
   ]
  },
  {
   "cell_type": "markdown",
   "metadata": {},
   "source": [
    "Your first messages ever (either sent or got)."
   ]
  },
  {
   "cell_type": "code",
   "execution_count": 66,
   "metadata": {},
   "outputs": [
    {
     "data": {
      "text/plain": [
       "(Timestamp('2014-09-24 15:02:08.715000+0000', tz='UTC'),\n",
       " Timestamp('2011-07-17 13:00:06.580000+0000', tz='UTC'))"
      ]
     },
     "execution_count": 66,
     "metadata": {},
     "output_type": "execute_result"
    }
   ],
   "source": [
    "private_stats.start, group_stats.start"
   ]
  },
  {
   "cell_type": "markdown",
   "metadata": {},
   "source": [
    "Last messages before download."
   ]
  },
  {
   "cell_type": "code",
   "execution_count": 67,
   "metadata": {},
   "outputs": [
    {
     "data": {
      "text/plain": [
       "(Timestamp('2020-08-08 18:22:08.321000+0000', tz='UTC'),\n",
       " Timestamp('2018-04-19 12:52:39.709000+0000', tz='UTC'))"
      ]
     },
     "execution_count": 67,
     "metadata": {},
     "output_type": "execute_result"
    }
   ],
   "source": [
    "private_stats.end,group_stats.end"
   ]
  },
  {
   "cell_type": "markdown",
   "metadata": {},
   "source": [
    "Let's show some samples of our data."
   ]
  },
  {
   "cell_type": "code",
   "execution_count": 68,
   "metadata": {},
   "outputs": [
    {
     "data": {
      "text/plain": [
       "(31, 31)"
      ]
     },
     "execution_count": 68,
     "metadata": {},
     "output_type": "execute_result"
    }
   ],
   "source": [
    "len(private_stats.messages), len(private_stats.df)"
   ]
  },
  {
   "cell_type": "code",
   "execution_count": 69,
   "metadata": {},
   "outputs": [
    {
     "data": {
      "text/html": [
       "<div>\n",
       "<style scoped>\n",
       "    .dataframe tbody tr th:only-of-type {\n",
       "        vertical-align: middle;\n",
       "    }\n",
       "\n",
       "    .dataframe tbody tr th {\n",
       "        vertical-align: top;\n",
       "    }\n",
       "\n",
       "    .dataframe thead th {\n",
       "        text-align: right;\n",
       "    }\n",
       "</style>\n",
       "<table border=\"1\" class=\"dataframe\">\n",
       "  <thead>\n",
       "    <tr style=\"text-align: right;\">\n",
       "      <th></th>\n",
       "      <th>sender_name</th>\n",
       "      <th>content</th>\n",
       "      <th>type</th>\n",
       "      <th>partner</th>\n",
       "      <th>videos</th>\n",
       "      <th>audio_files</th>\n",
       "      <th>photos</th>\n",
       "      <th>gifs</th>\n",
       "      <th>reactions</th>\n",
       "      <th>files</th>\n",
       "    </tr>\n",
       "    <tr>\n",
       "      <th>timestamp_ms</th>\n",
       "      <th></th>\n",
       "      <th></th>\n",
       "      <th></th>\n",
       "      <th></th>\n",
       "      <th></th>\n",
       "      <th></th>\n",
       "      <th></th>\n",
       "      <th></th>\n",
       "      <th></th>\n",
       "      <th></th>\n",
       "    </tr>\n",
       "  </thead>\n",
       "  <tbody>\n",
       "    <tr>\n",
       "      <th>2014-11-10 11:21:46.047000+00:00</th>\n",
       "      <td>Tőke Hal</td>\n",
       "      <td>zup</td>\n",
       "      <td>Generic</td>\n",
       "      <td>Tőke Hal</td>\n",
       "      <td>NaN</td>\n",
       "      <td>NaN</td>\n",
       "      <td>NaN</td>\n",
       "      <td>NaN</td>\n",
       "      <td>NaN</td>\n",
       "      <td>NaN</td>\n",
       "    </tr>\n",
       "    <tr>\n",
       "      <th>2014-11-09 22:13:48.715000+00:00</th>\n",
       "      <td>Jenő Rejtő</td>\n",
       "      <td>yo</td>\n",
       "      <td>Generic</td>\n",
       "      <td>Tőke Hal</td>\n",
       "      <td>NaN</td>\n",
       "      <td>NaN</td>\n",
       "      <td>NaN</td>\n",
       "      <td>NaN</td>\n",
       "      <td>NaN</td>\n",
       "      <td>NaN</td>\n",
       "    </tr>\n",
       "    <tr>\n",
       "      <th>2014-11-09 22:13:48.715000+00:00</th>\n",
       "      <td>Jenő Rejtő</td>\n",
       "      <td>are you the real Bugs Bunny?</td>\n",
       "      <td>Generic</td>\n",
       "      <td>Bugs Bunny</td>\n",
       "      <td>NaN</td>\n",
       "      <td>NaN</td>\n",
       "      <td>NaN</td>\n",
       "      <td>NaN</td>\n",
       "      <td>NaN</td>\n",
       "      <td>NaN</td>\n",
       "    </tr>\n",
       "    <tr>\n",
       "      <th>2020-02-26 12:42:08.145000+00:00</th>\n",
       "      <td>Jenő Rejtő</td>\n",
       "      <td>NaN</td>\n",
       "      <td>Generic</td>\n",
       "      <td>Foo Bar</td>\n",
       "      <td>NaN</td>\n",
       "      <td>NaN</td>\n",
       "      <td>[{'uri': 'messages/inbox/FooBar_n5fd6gG50h/pho...</td>\n",
       "      <td>NaN</td>\n",
       "      <td>NaN</td>\n",
       "      <td>NaN</td>\n",
       "    </tr>\n",
       "    <tr>\n",
       "      <th>2014-11-10 11:21:46.047000+00:00</th>\n",
       "      <td>Bugs Bunny</td>\n",
       "      <td>no</td>\n",
       "      <td>Generic</td>\n",
       "      <td>Bugs Bunny</td>\n",
       "      <td>NaN</td>\n",
       "      <td>NaN</td>\n",
       "      <td>NaN</td>\n",
       "      <td>NaN</td>\n",
       "      <td>NaN</td>\n",
       "      <td>NaN</td>\n",
       "    </tr>\n",
       "  </tbody>\n",
       "</table>\n",
       "</div>"
      ],
      "text/plain": [
       "                                 sender_name                       content  \\\n",
       "timestamp_ms                                                                 \n",
       "2014-11-10 11:21:46.047000+00:00    Tőke Hal                           zup   \n",
       "2014-11-09 22:13:48.715000+00:00  Jenő Rejtő                            yo   \n",
       "2014-11-09 22:13:48.715000+00:00  Jenő Rejtő  are you the real Bugs Bunny?   \n",
       "2020-02-26 12:42:08.145000+00:00  Jenő Rejtő                           NaN   \n",
       "2014-11-10 11:21:46.047000+00:00  Bugs Bunny                            no   \n",
       "\n",
       "                                     type     partner videos audio_files  \\\n",
       "timestamp_ms                                                               \n",
       "2014-11-10 11:21:46.047000+00:00  Generic    Tőke Hal    NaN         NaN   \n",
       "2014-11-09 22:13:48.715000+00:00  Generic    Tőke Hal    NaN         NaN   \n",
       "2014-11-09 22:13:48.715000+00:00  Generic  Bugs Bunny    NaN         NaN   \n",
       "2020-02-26 12:42:08.145000+00:00  Generic     Foo Bar    NaN         NaN   \n",
       "2014-11-10 11:21:46.047000+00:00  Generic  Bugs Bunny    NaN         NaN   \n",
       "\n",
       "                                                                             photos  \\\n",
       "timestamp_ms                                                                          \n",
       "2014-11-10 11:21:46.047000+00:00                                                NaN   \n",
       "2014-11-09 22:13:48.715000+00:00                                                NaN   \n",
       "2014-11-09 22:13:48.715000+00:00                                                NaN   \n",
       "2020-02-26 12:42:08.145000+00:00  [{'uri': 'messages/inbox/FooBar_n5fd6gG50h/pho...   \n",
       "2014-11-10 11:21:46.047000+00:00                                                NaN   \n",
       "\n",
       "                                 gifs reactions files  \n",
       "timestamp_ms                                           \n",
       "2014-11-10 11:21:46.047000+00:00  NaN       NaN   NaN  \n",
       "2014-11-09 22:13:48.715000+00:00  NaN       NaN   NaN  \n",
       "2014-11-09 22:13:48.715000+00:00  NaN       NaN   NaN  \n",
       "2020-02-26 12:42:08.145000+00:00  NaN       NaN   NaN  \n",
       "2014-11-10 11:21:46.047000+00:00  NaN       NaN   NaN  "
      ]
     },
     "execution_count": 69,
     "metadata": {},
     "output_type": "execute_result"
    }
   ],
   "source": [
    "private_stats.messages.sample(5)"
   ]
  },
  {
   "cell_type": "code",
   "execution_count": 70,
   "metadata": {},
   "outputs": [
    {
     "data": {
      "text/html": [
       "<div>\n",
       "<style scoped>\n",
       "    .dataframe tbody tr th:only-of-type {\n",
       "        vertical-align: middle;\n",
       "    }\n",
       "\n",
       "    .dataframe tbody tr th {\n",
       "        vertical-align: top;\n",
       "    }\n",
       "\n",
       "    .dataframe thead th {\n",
       "        text-align: right;\n",
       "    }\n",
       "</style>\n",
       "<table border=\"1\" class=\"dataframe\">\n",
       "  <thead>\n",
       "    <tr style=\"text-align: right;\">\n",
       "      <th></th>\n",
       "      <th>sender_name</th>\n",
       "      <th>content</th>\n",
       "      <th>type</th>\n",
       "      <th>partner</th>\n",
       "      <th>photos</th>\n",
       "      <th>gifs</th>\n",
       "    </tr>\n",
       "    <tr>\n",
       "      <th>timestamp_ms</th>\n",
       "      <th></th>\n",
       "      <th></th>\n",
       "      <th></th>\n",
       "      <th></th>\n",
       "      <th></th>\n",
       "      <th></th>\n",
       "    </tr>\n",
       "  </thead>\n",
       "  <tbody>\n",
       "    <tr>\n",
       "      <th>2018-04-19 11:38:32.776000+00:00</th>\n",
       "      <td>Jenő Rejtő</td>\n",
       "      <td>hmmm</td>\n",
       "      <td>Generic</td>\n",
       "      <td>marathon</td>\n",
       "      <td>NaN</td>\n",
       "      <td>NaN</td>\n",
       "    </tr>\n",
       "    <tr>\n",
       "      <th>2011-07-17 13:00:13.721000+00:00</th>\n",
       "      <td>Foo Bar</td>\n",
       "      <td>what do you test</td>\n",
       "      <td>Generic</td>\n",
       "      <td>Foo Bar, John Doe and Bugs Bunny</td>\n",
       "      <td>NaN</td>\n",
       "      <td>NaN</td>\n",
       "    </tr>\n",
       "    <tr>\n",
       "      <th>2011-07-17 13:00:32.012000+00:00</th>\n",
       "      <td>Dér Dénes</td>\n",
       "      <td>blabla</td>\n",
       "      <td>Generic</td>\n",
       "      <td>Tőke Hal, Foo Bar, Donald Duck and 2 others</td>\n",
       "      <td>NaN</td>\n",
       "      <td>NaN</td>\n",
       "    </tr>\n",
       "    <tr>\n",
       "      <th>2011-07-17 13:00:32.012000+00:00</th>\n",
       "      <td>Bugs Bunny</td>\n",
       "      <td>basic group messages</td>\n",
       "      <td>Generic</td>\n",
       "      <td>Foo Bar, John Doe and Bugs Bunny</td>\n",
       "      <td>NaN</td>\n",
       "      <td>NaN</td>\n",
       "    </tr>\n",
       "    <tr>\n",
       "      <th>2011-07-17 13:02:54.237000+00:00</th>\n",
       "      <td>Facebook User</td>\n",
       "      <td>ok</td>\n",
       "      <td>Generic</td>\n",
       "      <td>Tőke Hal, Foo Bar, Donald Duck and 2 others</td>\n",
       "      <td>NaN</td>\n",
       "      <td>NaN</td>\n",
       "    </tr>\n",
       "  </tbody>\n",
       "</table>\n",
       "</div>"
      ],
      "text/plain": [
       "                                    sender_name               content  \\\n",
       "timestamp_ms                                                            \n",
       "2018-04-19 11:38:32.776000+00:00     Jenő Rejtő                  hmmm   \n",
       "2011-07-17 13:00:13.721000+00:00        Foo Bar      what do you test   \n",
       "2011-07-17 13:00:32.012000+00:00      Dér Dénes                blabla   \n",
       "2011-07-17 13:00:32.012000+00:00     Bugs Bunny  basic group messages   \n",
       "2011-07-17 13:02:54.237000+00:00  Facebook User                    ok   \n",
       "\n",
       "                                     type  \\\n",
       "timestamp_ms                                \n",
       "2018-04-19 11:38:32.776000+00:00  Generic   \n",
       "2011-07-17 13:00:13.721000+00:00  Generic   \n",
       "2011-07-17 13:00:32.012000+00:00  Generic   \n",
       "2011-07-17 13:00:32.012000+00:00  Generic   \n",
       "2011-07-17 13:02:54.237000+00:00  Generic   \n",
       "\n",
       "                                                                      partner  \\\n",
       "timestamp_ms                                                                    \n",
       "2018-04-19 11:38:32.776000+00:00                                     marathon   \n",
       "2011-07-17 13:00:13.721000+00:00             Foo Bar, John Doe and Bugs Bunny   \n",
       "2011-07-17 13:00:32.012000+00:00  Tőke Hal, Foo Bar, Donald Duck and 2 others   \n",
       "2011-07-17 13:00:32.012000+00:00             Foo Bar, John Doe and Bugs Bunny   \n",
       "2011-07-17 13:02:54.237000+00:00  Tőke Hal, Foo Bar, Donald Duck and 2 others   \n",
       "\n",
       "                                 photos gifs  \n",
       "timestamp_ms                                  \n",
       "2018-04-19 11:38:32.776000+00:00    NaN  NaN  \n",
       "2011-07-17 13:00:13.721000+00:00    NaN  NaN  \n",
       "2011-07-17 13:00:32.012000+00:00    NaN  NaN  \n",
       "2011-07-17 13:00:32.012000+00:00    NaN  NaN  \n",
       "2011-07-17 13:02:54.237000+00:00    NaN  NaN  "
      ]
     },
     "execution_count": 70,
     "metadata": {},
     "output_type": "execute_result"
    }
   ],
   "source": [
    "group_stats.messages.sample(5)"
   ]
  },
  {
   "cell_type": "markdown",
   "metadata": {},
   "source": [
    "Samples of text messages."
   ]
  },
  {
   "cell_type": "code",
   "execution_count": 71,
   "metadata": {},
   "outputs": [
    {
     "data": {
      "text/plain": [
       "timestamp_ms\n",
       "2020-04-02 18:08:48.047000+00:00                                 Whet? Check this! :P\n",
       "2014-11-09 22:13:48.715000+00:00                                                   yo\n",
       "2014-09-24 15:02:08.715000+00:00                         are you the real Bugs Bunny?\n",
       "2020-02-17 23:08:48.047000+00:00                            What the hack? xdddddd :D\n",
       "2018-01-10 08:00:28.715000+00:00    yo Legyen az, hogy most megprobalok ekezet nel...\n",
       "Name: content, dtype: object"
      ]
     },
     "execution_count": 71,
     "metadata": {},
     "output_type": "execute_result"
    }
   ],
   "source": [
    "private_stats.text.sample(5)"
   ]
  },
  {
   "cell_type": "code",
   "execution_count": 72,
   "metadata": {},
   "outputs": [
    {
     "data": {
      "text/plain": [
       "timestamp_ms\n",
       "2011-07-17 13:02:54.237000+00:00                                 ok\n",
       "2018-04-19 11:38:02.444000+00:00    we could go but running is free\n",
       "2011-07-17 13:00:32.012000+00:00               basic group messages\n",
       "2011-07-17 13:00:32.011000+00:00               basic group messages\n",
       "2011-07-17 13:00:13.721000+00:00                   what do you test\n",
       "Name: content, dtype: object"
      ]
     },
     "execution_count": 72,
     "metadata": {},
     "output_type": "execute_result"
    }
   ],
   "source": [
    "group_stats.text.sample(5)"
   ]
  },
  {
   "cell_type": "markdown",
   "metadata": {},
   "source": [
    "A sample of media messages."
   ]
  },
  {
   "cell_type": "code",
   "execution_count": 73,
   "metadata": {},
   "outputs": [
    {
     "data": {
      "text/html": [
       "<div>\n",
       "<style scoped>\n",
       "    .dataframe tbody tr th:only-of-type {\n",
       "        vertical-align: middle;\n",
       "    }\n",
       "\n",
       "    .dataframe tbody tr th {\n",
       "        vertical-align: top;\n",
       "    }\n",
       "\n",
       "    .dataframe thead th {\n",
       "        text-align: right;\n",
       "    }\n",
       "</style>\n",
       "<table border=\"1\" class=\"dataframe\">\n",
       "  <thead>\n",
       "    <tr style=\"text-align: right;\">\n",
       "      <th></th>\n",
       "      <th>photos</th>\n",
       "      <th>gifs</th>\n",
       "      <th>files</th>\n",
       "      <th>videos</th>\n",
       "      <th>audio_files</th>\n",
       "    </tr>\n",
       "    <tr>\n",
       "      <th>timestamp_ms</th>\n",
       "      <th></th>\n",
       "      <th></th>\n",
       "      <th></th>\n",
       "      <th></th>\n",
       "      <th></th>\n",
       "    </tr>\n",
       "  </thead>\n",
       "  <tbody>\n",
       "    <tr>\n",
       "      <th>2020-04-25 21:42:08.047000+00:00</th>\n",
       "      <td>NaN</td>\n",
       "      <td>NaN</td>\n",
       "      <td>NaN</td>\n",
       "      <td>[{'uri': 'messages/inbox/FooBar_n5fd6gG50h/vid...</td>\n",
       "      <td>NaN</td>\n",
       "    </tr>\n",
       "    <tr>\n",
       "      <th>2020-02-26 12:42:08.145000+00:00</th>\n",
       "      <td>[{'uri': 'messages/inbox/FooBar_n5fd6gG50h/pho...</td>\n",
       "      <td>NaN</td>\n",
       "      <td>NaN</td>\n",
       "      <td>NaN</td>\n",
       "      <td>NaN</td>\n",
       "    </tr>\n",
       "    <tr>\n",
       "      <th>2020-02-18 07:28:48.145000+00:00</th>\n",
       "      <td>NaN</td>\n",
       "      <td>[{'uri': 'messages/inbox/FooBar_n5fd6gG50h/gif...</td>\n",
       "      <td>NaN</td>\n",
       "      <td>NaN</td>\n",
       "      <td>NaN</td>\n",
       "    </tr>\n",
       "    <tr>\n",
       "      <th>2020-02-14 03:28:48.047000+00:00</th>\n",
       "      <td>NaN</td>\n",
       "      <td>NaN</td>\n",
       "      <td>[{'uri': 'messages/inbox/FooBar_n5fd6gG50h/fil...</td>\n",
       "      <td>NaN</td>\n",
       "      <td>NaN</td>\n",
       "    </tr>\n",
       "    <tr>\n",
       "      <th>2014-12-26 19:01:46.047000+00:00</th>\n",
       "      <td>NaN</td>\n",
       "      <td>NaN</td>\n",
       "      <td>[{'uri': 'messages/inbox/TeflonMusk_fSD454F/fi...</td>\n",
       "      <td>NaN</td>\n",
       "      <td>NaN</td>\n",
       "    </tr>\n",
       "  </tbody>\n",
       "</table>\n",
       "</div>"
      ],
      "text/plain": [
       "                                                                             photos  \\\n",
       "timestamp_ms                                                                          \n",
       "2020-04-25 21:42:08.047000+00:00                                                NaN   \n",
       "2020-02-26 12:42:08.145000+00:00  [{'uri': 'messages/inbox/FooBar_n5fd6gG50h/pho...   \n",
       "2020-02-18 07:28:48.145000+00:00                                                NaN   \n",
       "2020-02-14 03:28:48.047000+00:00                                                NaN   \n",
       "2014-12-26 19:01:46.047000+00:00                                                NaN   \n",
       "\n",
       "                                                                               gifs  \\\n",
       "timestamp_ms                                                                          \n",
       "2020-04-25 21:42:08.047000+00:00                                                NaN   \n",
       "2020-02-26 12:42:08.145000+00:00                                                NaN   \n",
       "2020-02-18 07:28:48.145000+00:00  [{'uri': 'messages/inbox/FooBar_n5fd6gG50h/gif...   \n",
       "2020-02-14 03:28:48.047000+00:00                                                NaN   \n",
       "2014-12-26 19:01:46.047000+00:00                                                NaN   \n",
       "\n",
       "                                                                              files  \\\n",
       "timestamp_ms                                                                          \n",
       "2020-04-25 21:42:08.047000+00:00                                                NaN   \n",
       "2020-02-26 12:42:08.145000+00:00                                                NaN   \n",
       "2020-02-18 07:28:48.145000+00:00                                                NaN   \n",
       "2020-02-14 03:28:48.047000+00:00  [{'uri': 'messages/inbox/FooBar_n5fd6gG50h/fil...   \n",
       "2014-12-26 19:01:46.047000+00:00  [{'uri': 'messages/inbox/TeflonMusk_fSD454F/fi...   \n",
       "\n",
       "                                                                             videos  \\\n",
       "timestamp_ms                                                                          \n",
       "2020-04-25 21:42:08.047000+00:00  [{'uri': 'messages/inbox/FooBar_n5fd6gG50h/vid...   \n",
       "2020-02-26 12:42:08.145000+00:00                                                NaN   \n",
       "2020-02-18 07:28:48.145000+00:00                                                NaN   \n",
       "2020-02-14 03:28:48.047000+00:00                                                NaN   \n",
       "2014-12-26 19:01:46.047000+00:00                                                NaN   \n",
       "\n",
       "                                 audio_files  \n",
       "timestamp_ms                                  \n",
       "2020-04-25 21:42:08.047000+00:00         NaN  \n",
       "2020-02-26 12:42:08.145000+00:00         NaN  \n",
       "2020-02-18 07:28:48.145000+00:00         NaN  \n",
       "2020-02-14 03:28:48.047000+00:00         NaN  \n",
       "2014-12-26 19:01:46.047000+00:00         NaN  "
      ]
     },
     "execution_count": 73,
     "metadata": {},
     "output_type": "execute_result"
    }
   ],
   "source": [
    "private_stats.media.sample(5)"
   ]
  },
  {
   "cell_type": "markdown",
   "metadata": {},
   "source": [
    "For me this was really interesting to look back on. Remember this is only a demo, and you can feel free to check out bigger sample sizes, or if you got the skills, maybe play around with these dataframes. They contain more than 90% of all the data we analyze here. "
   ]
  },
  {
   "cell_type": "markdown",
   "metadata": {},
   "source": [
    "We can also get all the words that have ever been sent by anyone to any channel. You could build a language model from this. :)"
   ]
  },
  {
   "cell_type": "code",
   "execution_count": 74,
   "metadata": {},
   "outputs": [
    {
     "data": {
      "text/plain": [
       "0       are\n",
       "1       you\n",
       "2       the\n",
       "3      real\n",
       "4      bugs\n",
       "      ...  \n",
       "86    this!\n",
       "87       :p\n",
       "88     out!\n",
       "89     out!\n",
       "90        ❤\n",
       "Length: 91, dtype: object"
      ]
     },
     "execution_count": 74,
     "metadata": {},
     "output_type": "execute_result"
    }
   ],
   "source": [
    "private_stats.words"
   ]
  },
  {
   "cell_type": "code",
   "execution_count": 75,
   "metadata": {},
   "outputs": [
    {
     "data": {
      "text/plain": [
       "0          test\n",
       "1          test\n",
       "2          what\n",
       "3            do\n",
       "4           you\n",
       "5          test\n",
       "6          what\n",
       "7            do\n",
       "8           you\n",
       "9          test\n",
       "10        basic\n",
       "11        group\n",
       "12     messages\n",
       "13       blabla\n",
       "14        basic\n",
       "15        group\n",
       "16     messages\n",
       "17           ok\n",
       "18           ok\n",
       "19    marathon?\n",
       "20         yapp\n",
       "21         yapp\n",
       "22           :d\n",
       "23          you\n",
       "24        named\n",
       "25          the\n",
       "26        group\n",
       "27    marathon.\n",
       "28            i\n",
       "29        start\n",
       "30        today\n",
       "31           we\n",
       "32        could\n",
       "33           go\n",
       "34          but\n",
       "35      running\n",
       "36           is\n",
       "37         free\n",
       "38         hmmm\n",
       "39           :d\n",
       "dtype: object"
      ]
     },
     "execution_count": 75,
     "metadata": {},
     "output_type": "execute_result"
    }
   ],
   "source": [
    "group_stats.words"
   ]
  },
  {
   "cell_type": "markdown",
   "metadata": {},
   "source": [
    "We can also calulate average word length."
   ]
  },
  {
   "cell_type": "code",
   "execution_count": 76,
   "metadata": {},
   "outputs": [
    {
     "data": {
      "text/plain": [
       "4.472527472527473"
      ]
     },
     "execution_count": 76,
     "metadata": {},
     "output_type": "execute_result"
    }
   ],
   "source": [
    "private_stats.average_word_length"
   ]
  },
  {
   "cell_type": "code",
   "execution_count": 77,
   "metadata": {},
   "outputs": [
    {
     "data": {
      "text/plain": [
       "4.15"
      ]
     },
     "execution_count": 77,
     "metadata": {},
     "output_type": "execute_result"
    }
   ],
   "source": [
    "group_stats.average_word_length"
   ]
  },
  {
   "cell_type": "markdown",
   "metadata": {},
   "source": [
    "Now for the numbers. Let's get the message, word and character counts."
   ]
  },
  {
   "cell_type": "code",
   "execution_count": 78,
   "metadata": {},
   "outputs": [
    {
     "data": {
      "text/plain": [
       "(31, 91, 407)"
      ]
     },
     "execution_count": 78,
     "metadata": {},
     "output_type": "execute_result"
    }
   ],
   "source": [
    "private_stats.mc, private_stats.wc, private_stats.cc"
   ]
  },
  {
   "cell_type": "code",
   "execution_count": 79,
   "metadata": {},
   "outputs": [
    {
     "data": {
      "text/plain": [
       "(18, 40, 166)"
      ]
     },
     "execution_count": 79,
     "metadata": {},
     "output_type": "execute_result"
    }
   ],
   "source": [
    "group_stats.mc, group_stats.wc, group_stats.cc"
   ]
  },
  {
   "cell_type": "markdown",
   "metadata": {},
   "source": [
    "Text messages count and media message count."
   ]
  },
  {
   "cell_type": "code",
   "execution_count": 80,
   "metadata": {},
   "outputs": [
    {
     "data": {
      "text/plain": [
       "(22, 9)"
      ]
     },
     "execution_count": 80,
     "metadata": {},
     "output_type": "execute_result"
    }
   ],
   "source": [
    "private_stats.text_mc, private_stats.media_mc"
   ]
  },
  {
   "cell_type": "code",
   "execution_count": 81,
   "metadata": {},
   "outputs": [
    {
     "data": {
      "text/plain": [
       "(16, 2)"
      ]
     },
     "execution_count": 81,
     "metadata": {},
     "output_type": "execute_result"
    }
   ],
   "source": [
    "group_stats.text_mc, group_stats.media_mc"
   ]
  },
  {
   "cell_type": "markdown",
   "metadata": {},
   "source": [
    "Unique message count and unique word count."
   ]
  },
  {
   "cell_type": "code",
   "execution_count": 82,
   "metadata": {},
   "outputs": [
    {
     "data": {
      "text/plain": [
       "(17, 70)"
      ]
     },
     "execution_count": 82,
     "metadata": {},
     "output_type": "execute_result"
    }
   ],
   "source": [
    "private_stats.unique_mc, private_stats.unique_wc"
   ]
  },
  {
   "cell_type": "code",
   "execution_count": 83,
   "metadata": {},
   "outputs": [
    {
     "data": {
      "text/plain": [
       "(12, 26)"
      ]
     },
     "execution_count": 83,
     "metadata": {},
     "output_type": "execute_result"
    }
   ],
   "source": [
    "group_stats.unique_mc, group_stats.unique_wc"
   ]
  },
  {
   "cell_type": "markdown",
   "metadata": {},
   "source": [
    "We can also calculate the percentage of media messages."
   ]
  },
  {
   "cell_type": "code",
   "execution_count": 84,
   "metadata": {},
   "outputs": [
    {
     "data": {
      "text/plain": [
       "(70.96774193548387, 29.032258064516128)"
      ]
     },
     "execution_count": 84,
     "metadata": {},
     "output_type": "execute_result"
    }
   ],
   "source": [
    "private_stats.percentage_of_text_messages, private_stats.percentage_of_media_messages"
   ]
  },
  {
   "cell_type": "code",
   "execution_count": 85,
   "metadata": {},
   "outputs": [
    {
     "data": {
      "text/plain": [
       "(88.88888888888889, 11.111111111111114)"
      ]
     },
     "execution_count": 85,
     "metadata": {},
     "output_type": "execute_result"
    }
   ],
   "source": [
    "group_stats.percentage_of_text_messages, group_stats.percentage_of_media_messages"
   ]
  },
  {
   "cell_type": "markdown",
   "metadata": {},
   "source": [
    "Wow! For me in groups it is a lot more likely to get a media message. What about you?"
   ]
  },
  {
   "cell_type": "markdown",
   "metadata": {},
   "source": [
    "We can also get the most used messages and words in our conversations."
   ]
  },
  {
   "cell_type": "code",
   "execution_count": 86,
   "metadata": {},
   "outputs": [
    {
     "data": {
      "text/html": [
       "<div>\n",
       "<style scoped>\n",
       "    .dataframe tbody tr th:only-of-type {\n",
       "        vertical-align: middle;\n",
       "    }\n",
       "\n",
       "    .dataframe tbody tr th {\n",
       "        vertical-align: top;\n",
       "    }\n",
       "\n",
       "    .dataframe thead th {\n",
       "        text-align: right;\n",
       "    }\n",
       "</style>\n",
       "<table border=\"1\" class=\"dataframe\">\n",
       "  <thead>\n",
       "    <tr style=\"text-align: right;\">\n",
       "      <th></th>\n",
       "      <th>unique_values</th>\n",
       "      <th>counts</th>\n",
       "    </tr>\n",
       "  </thead>\n",
       "  <tbody>\n",
       "    <tr>\n",
       "      <th>0</th>\n",
       "      <td>no</td>\n",
       "      <td>2</td>\n",
       "    </tr>\n",
       "    <tr>\n",
       "      <th>1</th>\n",
       "      <td>zup</td>\n",
       "      <td>2</td>\n",
       "    </tr>\n",
       "    <tr>\n",
       "      <th>2</th>\n",
       "      <td>not much</td>\n",
       "      <td>2</td>\n",
       "    </tr>\n",
       "    <tr>\n",
       "      <th>3</th>\n",
       "      <td>are you the real Bugs Bunny?</td>\n",
       "      <td>2</td>\n",
       "    </tr>\n",
       "    <tr>\n",
       "      <th>4</th>\n",
       "      <td>yo</td>\n",
       "      <td>2</td>\n",
       "    </tr>\n",
       "    <tr>\n",
       "      <th>5</th>\n",
       "      <td>What the hack? xdddddd :D</td>\n",
       "      <td>1</td>\n",
       "    </tr>\n",
       "    <tr>\n",
       "      <th>6</th>\n",
       "      <td>Ut akar ... consequat. oO wow :P xd :D</td>\n",
       "      <td>1</td>\n",
       "    </tr>\n",
       "    <tr>\n",
       "      <th>7</th>\n",
       "      <td>yo Legyen az, hogy most megprobalok ekezet nel...</td>\n",
       "      <td>1</td>\n",
       "    </tr>\n",
       "    <tr>\n",
       "      <th>8</th>\n",
       "      <td>not</td>\n",
       "      <td>1</td>\n",
       "    </tr>\n",
       "    <tr>\n",
       "      <th>9</th>\n",
       "      <td>Lorem lorim.. foo bar 😡😡😡</td>\n",
       "      <td>1</td>\n",
       "    </tr>\n",
       "  </tbody>\n",
       "</table>\n",
       "</div>"
      ],
      "text/plain": [
       "                                       unique_values  counts\n",
       "0                                                 no       2\n",
       "1                                                zup       2\n",
       "2                                           not much       2\n",
       "3                       are you the real Bugs Bunny?       2\n",
       "4                                                 yo       2\n",
       "5                          What the hack? xdddddd :D       1\n",
       "6             Ut akar ... consequat. oO wow :P xd :D       1\n",
       "7  yo Legyen az, hogy most megprobalok ekezet nel...       1\n",
       "8                                                not       1\n",
       "9                          Lorem lorim.. foo bar 😡😡😡       1"
      ]
     },
     "execution_count": 86,
     "metadata": {},
     "output_type": "execute_result"
    }
   ],
   "source": [
    "private_stats.most_used_msgs[:10]"
   ]
  },
  {
   "cell_type": "code",
   "execution_count": 87,
   "metadata": {},
   "outputs": [
    {
     "data": {
      "text/html": [
       "<div>\n",
       "<style scoped>\n",
       "    .dataframe tbody tr th:only-of-type {\n",
       "        vertical-align: middle;\n",
       "    }\n",
       "\n",
       "    .dataframe tbody tr th {\n",
       "        vertical-align: top;\n",
       "    }\n",
       "\n",
       "    .dataframe thead th {\n",
       "        text-align: right;\n",
       "    }\n",
       "</style>\n",
       "<table border=\"1\" class=\"dataframe\">\n",
       "  <thead>\n",
       "    <tr style=\"text-align: right;\">\n",
       "      <th></th>\n",
       "      <th>unique_values</th>\n",
       "      <th>counts</th>\n",
       "    </tr>\n",
       "  </thead>\n",
       "  <tbody>\n",
       "    <tr>\n",
       "      <th>0</th>\n",
       "      <td>ok</td>\n",
       "      <td>2</td>\n",
       "    </tr>\n",
       "    <tr>\n",
       "      <th>1</th>\n",
       "      <td>test</td>\n",
       "      <td>2</td>\n",
       "    </tr>\n",
       "    <tr>\n",
       "      <th>2</th>\n",
       "      <td>what do you test</td>\n",
       "      <td>2</td>\n",
       "    </tr>\n",
       "    <tr>\n",
       "      <th>3</th>\n",
       "      <td>basic group messages</td>\n",
       "      <td>2</td>\n",
       "    </tr>\n",
       "    <tr>\n",
       "      <th>4</th>\n",
       "      <td>You named the group marathon.</td>\n",
       "      <td>1</td>\n",
       "    </tr>\n",
       "    <tr>\n",
       "      <th>5</th>\n",
       "      <td>blabla</td>\n",
       "      <td>1</td>\n",
       "    </tr>\n",
       "    <tr>\n",
       "      <th>6</th>\n",
       "      <td>:D</td>\n",
       "      <td>1</td>\n",
       "    </tr>\n",
       "    <tr>\n",
       "      <th>7</th>\n",
       "      <td>yapp yapp :D</td>\n",
       "      <td>1</td>\n",
       "    </tr>\n",
       "    <tr>\n",
       "      <th>8</th>\n",
       "      <td>marathon?</td>\n",
       "      <td>1</td>\n",
       "    </tr>\n",
       "    <tr>\n",
       "      <th>9</th>\n",
       "      <td>i start today</td>\n",
       "      <td>1</td>\n",
       "    </tr>\n",
       "  </tbody>\n",
       "</table>\n",
       "</div>"
      ],
      "text/plain": [
       "                   unique_values  counts\n",
       "0                             ok       2\n",
       "1                           test       2\n",
       "2               what do you test       2\n",
       "3           basic group messages       2\n",
       "4  You named the group marathon.       1\n",
       "5                         blabla       1\n",
       "6                             :D       1\n",
       "7                   yapp yapp :D       1\n",
       "8                      marathon?       1\n",
       "9                  i start today       1"
      ]
     },
     "execution_count": 87,
     "metadata": {},
     "output_type": "execute_result"
    }
   ],
   "source": [
    "group_stats.most_used_msgs[:10]"
   ]
  },
  {
   "cell_type": "code",
   "execution_count": 88,
   "metadata": {},
   "outputs": [
    {
     "data": {
      "text/html": [
       "<div>\n",
       "<style scoped>\n",
       "    .dataframe tbody tr th:only-of-type {\n",
       "        vertical-align: middle;\n",
       "    }\n",
       "\n",
       "    .dataframe tbody tr th {\n",
       "        vertical-align: top;\n",
       "    }\n",
       "\n",
       "    .dataframe thead th {\n",
       "        text-align: right;\n",
       "    }\n",
       "</style>\n",
       "<table border=\"1\" class=\"dataframe\">\n",
       "  <thead>\n",
       "    <tr style=\"text-align: right;\">\n",
       "      <th></th>\n",
       "      <th>unique_values</th>\n",
       "      <th>counts</th>\n",
       "    </tr>\n",
       "  </thead>\n",
       "  <tbody>\n",
       "    <tr>\n",
       "      <th>0</th>\n",
       "      <td>:d</td>\n",
       "      <td>4</td>\n",
       "    </tr>\n",
       "    <tr>\n",
       "      <th>1</th>\n",
       "      <td>not</td>\n",
       "      <td>3</td>\n",
       "    </tr>\n",
       "    <tr>\n",
       "      <th>2</th>\n",
       "      <td>the</td>\n",
       "      <td>3</td>\n",
       "    </tr>\n",
       "    <tr>\n",
       "      <th>3</th>\n",
       "      <td>yo</td>\n",
       "      <td>3</td>\n",
       "    </tr>\n",
       "    <tr>\n",
       "      <th>4</th>\n",
       "      <td>zup</td>\n",
       "      <td>2</td>\n",
       "    </tr>\n",
       "    <tr>\n",
       "      <th>5</th>\n",
       "      <td>out!</td>\n",
       "      <td>2</td>\n",
       "    </tr>\n",
       "    <tr>\n",
       "      <th>6</th>\n",
       "      <td>real</td>\n",
       "      <td>2</td>\n",
       "    </tr>\n",
       "    <tr>\n",
       "      <th>7</th>\n",
       "      <td>are</td>\n",
       "      <td>2</td>\n",
       "    </tr>\n",
       "    <tr>\n",
       "      <th>8</th>\n",
       "      <td>a</td>\n",
       "      <td>2</td>\n",
       "    </tr>\n",
       "    <tr>\n",
       "      <th>9</th>\n",
       "      <td>xdddddd</td>\n",
       "      <td>2</td>\n",
       "    </tr>\n",
       "  </tbody>\n",
       "</table>\n",
       "</div>"
      ],
      "text/plain": [
       "  unique_values  counts\n",
       "0            :d       4\n",
       "1           not       3\n",
       "2           the       3\n",
       "3            yo       3\n",
       "4           zup       2\n",
       "5          out!       2\n",
       "6          real       2\n",
       "7           are       2\n",
       "8             a       2\n",
       "9       xdddddd       2"
      ]
     },
     "execution_count": 88,
     "metadata": {},
     "output_type": "execute_result"
    }
   ],
   "source": [
    "private_stats.most_used_words[:10]"
   ]
  },
  {
   "cell_type": "code",
   "execution_count": 89,
   "metadata": {},
   "outputs": [
    {
     "data": {
      "text/html": [
       "<div>\n",
       "<style scoped>\n",
       "    .dataframe tbody tr th:only-of-type {\n",
       "        vertical-align: middle;\n",
       "    }\n",
       "\n",
       "    .dataframe tbody tr th {\n",
       "        vertical-align: top;\n",
       "    }\n",
       "\n",
       "    .dataframe thead th {\n",
       "        text-align: right;\n",
       "    }\n",
       "</style>\n",
       "<table border=\"1\" class=\"dataframe\">\n",
       "  <thead>\n",
       "    <tr style=\"text-align: right;\">\n",
       "      <th></th>\n",
       "      <th>unique_values</th>\n",
       "      <th>counts</th>\n",
       "    </tr>\n",
       "  </thead>\n",
       "  <tbody>\n",
       "    <tr>\n",
       "      <th>0</th>\n",
       "      <td>test</td>\n",
       "      <td>4</td>\n",
       "    </tr>\n",
       "    <tr>\n",
       "      <th>1</th>\n",
       "      <td>you</td>\n",
       "      <td>3</td>\n",
       "    </tr>\n",
       "    <tr>\n",
       "      <th>2</th>\n",
       "      <td>group</td>\n",
       "      <td>3</td>\n",
       "    </tr>\n",
       "    <tr>\n",
       "      <th>3</th>\n",
       "      <td>basic</td>\n",
       "      <td>2</td>\n",
       "    </tr>\n",
       "    <tr>\n",
       "      <th>4</th>\n",
       "      <td>:d</td>\n",
       "      <td>2</td>\n",
       "    </tr>\n",
       "    <tr>\n",
       "      <th>5</th>\n",
       "      <td>yapp</td>\n",
       "      <td>2</td>\n",
       "    </tr>\n",
       "    <tr>\n",
       "      <th>6</th>\n",
       "      <td>messages</td>\n",
       "      <td>2</td>\n",
       "    </tr>\n",
       "    <tr>\n",
       "      <th>7</th>\n",
       "      <td>ok</td>\n",
       "      <td>2</td>\n",
       "    </tr>\n",
       "    <tr>\n",
       "      <th>8</th>\n",
       "      <td>do</td>\n",
       "      <td>2</td>\n",
       "    </tr>\n",
       "    <tr>\n",
       "      <th>9</th>\n",
       "      <td>what</td>\n",
       "      <td>2</td>\n",
       "    </tr>\n",
       "  </tbody>\n",
       "</table>\n",
       "</div>"
      ],
      "text/plain": [
       "  unique_values  counts\n",
       "0          test       4\n",
       "1           you       3\n",
       "2         group       3\n",
       "3         basic       2\n",
       "4            :d       2\n",
       "5          yapp       2\n",
       "6      messages       2\n",
       "7            ok       2\n",
       "8            do       2\n",
       "9          what       2"
      ]
     },
     "execution_count": 89,
     "metadata": {},
     "output_type": "execute_result"
    }
   ],
   "source": [
    "group_stats.most_used_words[:10]"
   ]
  },
  {
   "cell_type": "markdown",
   "metadata": {},
   "source": [
    "You can also query `files`, `photos`, `videos`, `audios`, `gifs` even."
   ]
  },
  {
   "cell_type": "code",
   "execution_count": 90,
   "metadata": {},
   "outputs": [
    {
     "data": {
      "text/plain": [
       "timestamp_ms\n",
       "2014-11-22 01:17:25.145000+00:00    [{'uri': 'messages/inbox/TeflonMusk_fSD454F/ph...\n",
       "2020-02-14 00:42:08.145000+00:00    [{'uri': 'messages/inbox/FooBar_n5fd6gG50h/pho...\n",
       "2020-02-26 12:42:08.145000+00:00    [{'uri': 'messages/inbox/FooBar_n5fd6gG50h/pho...\n",
       "Name: photos, dtype: object"
      ]
     },
     "execution_count": 90,
     "metadata": {},
     "output_type": "execute_result"
    }
   ],
   "source": [
    "private_stats.photos"
   ]
  },
  {
   "cell_type": "markdown",
   "metadata": {},
   "source": [
    "And of course you have downloaded those files as well with your facebook data. Let's see one of the photos."
   ]
  },
  {
   "cell_type": "code",
   "execution_count": 91,
   "metadata": {
    "tags": []
   },
   "outputs": [
    {
     "data": {
      "image/jpeg": "[encoded data removed]",
      "text/plain": [
       "<IPython.core.display.Image object>"
      ]
     },
     "execution_count": 91,
     "metadata": {},
     "output_type": "execute_result"
    }
   ],
   "source": [
    "Image(f\"tests/test_data/{private_stats.photos.iloc[0][0].get('uri')}\")"
   ]
  },
  {
   "cell_type": "markdown",
   "metadata": {},
   "source": [
    "And here are the other media types. Fell free to mess around with them."
   ]
  },
  {
   "cell_type": "code",
   "execution_count": 92,
   "metadata": {},
   "outputs": [
    {
     "data": {
      "text/plain": [
       "(3, 1, 1, 2, 2)"
      ]
     },
     "execution_count": 92,
     "metadata": {},
     "output_type": "execute_result"
    }
   ],
   "source": [
    "len(private_stats.photos), len(private_stats.videos), len(private_stats.audios), len(private_stats.gifs), len(private_stats.files)"
   ]
  },
  {
   "cell_type": "code",
   "execution_count": 93,
   "metadata": {},
   "outputs": [
    {
     "data": {
      "text/plain": [
       "(1, 0, 0, 1, 0)"
      ]
     },
     "execution_count": 93,
     "metadata": {},
     "output_type": "execute_result"
    }
   ],
   "source": [
    "len(group_stats.photos),len(group_stats.videos), len(group_stats.audios), len(group_stats.gifs), len(group_stats.files)"
   ]
  },
  {
   "cell_type": "markdown",
   "metadata": {},
   "source": [
    "##### Date and time related stats\n",
    "The `get_grouped_time_series_data` function let's you group all stats into years, months, days and hours. Change the period parameter to one of these keywords' starting letter (e.g. day='d')."
   ]
  },
  {
   "cell_type": "code",
   "execution_count": 94,
   "metadata": {},
   "outputs": [
    {
     "data": {
      "text/html": [
       "<div>\n",
       "<style scoped>\n",
       "    .dataframe tbody tr th:only-of-type {\n",
       "        vertical-align: middle;\n",
       "    }\n",
       "\n",
       "    .dataframe tbody tr th {\n",
       "        vertical-align: top;\n",
       "    }\n",
       "\n",
       "    .dataframe thead th {\n",
       "        text-align: right;\n",
       "    }\n",
       "</style>\n",
       "<table border=\"1\" class=\"dataframe\">\n",
       "  <thead>\n",
       "    <tr style=\"text-align: right;\">\n",
       "      <th></th>\n",
       "      <th>mc</th>\n",
       "      <th>text_mc</th>\n",
       "      <th>media_mc</th>\n",
       "      <th>wc</th>\n",
       "      <th>cc</th>\n",
       "    </tr>\n",
       "    <tr>\n",
       "      <th>timestamp</th>\n",
       "      <th></th>\n",
       "      <th></th>\n",
       "      <th></th>\n",
       "      <th></th>\n",
       "      <th></th>\n",
       "    </tr>\n",
       "  </thead>\n",
       "  <tbody>\n",
       "    <tr>\n",
       "      <th>2014-01-01</th>\n",
       "      <td>13</td>\n",
       "      <td>11</td>\n",
       "      <td>2</td>\n",
       "      <td>25</td>\n",
       "      <td>97</td>\n",
       "    </tr>\n",
       "    <tr>\n",
       "      <th>2018-01-01</th>\n",
       "      <td>3</td>\n",
       "      <td>3</td>\n",
       "      <td>0</td>\n",
       "      <td>32</td>\n",
       "      <td>170</td>\n",
       "    </tr>\n",
       "    <tr>\n",
       "      <th>2020-01-01</th>\n",
       "      <td>15</td>\n",
       "      <td>8</td>\n",
       "      <td>7</td>\n",
       "      <td>34</td>\n",
       "      <td>140</td>\n",
       "    </tr>\n",
       "  </tbody>\n",
       "</table>\n",
       "</div>"
      ],
      "text/plain": [
       "            mc  text_mc  media_mc  wc   cc\n",
       "timestamp                                 \n",
       "2014-01-01  13       11         2  25   97\n",
       "2018-01-01   3        3         0  32  170\n",
       "2020-01-01  15        8         7  34  140"
      ]
     },
     "execution_count": 94,
     "metadata": {},
     "output_type": "execute_result"
    }
   ],
   "source": [
    "private_stats.get_grouped_time_series_data(timeframe='y')"
   ]
  },
  {
   "cell_type": "code",
   "execution_count": 95,
   "metadata": {},
   "outputs": [
    {
     "data": {
      "text/html": [
       "<div>\n",
       "<style scoped>\n",
       "    .dataframe tbody tr th:only-of-type {\n",
       "        vertical-align: middle;\n",
       "    }\n",
       "\n",
       "    .dataframe tbody tr th {\n",
       "        vertical-align: top;\n",
       "    }\n",
       "\n",
       "    .dataframe thead th {\n",
       "        text-align: right;\n",
       "    }\n",
       "</style>\n",
       "<table border=\"1\" class=\"dataframe\">\n",
       "  <thead>\n",
       "    <tr style=\"text-align: right;\">\n",
       "      <th></th>\n",
       "      <th>mc</th>\n",
       "      <th>text_mc</th>\n",
       "      <th>media_mc</th>\n",
       "      <th>wc</th>\n",
       "      <th>cc</th>\n",
       "    </tr>\n",
       "    <tr>\n",
       "      <th>timestamp</th>\n",
       "      <th></th>\n",
       "      <th></th>\n",
       "      <th></th>\n",
       "      <th></th>\n",
       "      <th></th>\n",
       "    </tr>\n",
       "  </thead>\n",
       "  <tbody>\n",
       "    <tr>\n",
       "      <th>2011-07-01</th>\n",
       "      <td>9</td>\n",
       "      <td>9</td>\n",
       "      <td>0</td>\n",
       "      <td>19</td>\n",
       "      <td>80</td>\n",
       "    </tr>\n",
       "    <tr>\n",
       "      <th>2018-04-01</th>\n",
       "      <td>9</td>\n",
       "      <td>7</td>\n",
       "      <td>2</td>\n",
       "      <td>21</td>\n",
       "      <td>86</td>\n",
       "    </tr>\n",
       "  </tbody>\n",
       "</table>\n",
       "</div>"
      ],
      "text/plain": [
       "            mc  text_mc  media_mc  wc  cc\n",
       "timestamp                                \n",
       "2011-07-01   9        9         0  19  80\n",
       "2018-04-01   9        7         2  21  86"
      ]
     },
     "execution_count": 95,
     "metadata": {},
     "output_type": "execute_result"
    }
   ],
   "source": [
    "group_stats.get_grouped_time_series_data(timeframe='m')"
   ]
  },
  {
   "cell_type": "markdown",
   "metadata": {},
   "source": [
    "The `stat_per_period` function is another interesting method. You can pass the same period values like in the `get_grouped_time_series_data` method, but here it will group by relative time range. For example group all the messages into 12 months, regardless which year they happened in.\n",
    "\n",
    "You can have a pretty good insight on which parts of the year, week, or day are you active on Facebook Messenger."
   ]
  },
  {
   "cell_type": "code",
   "execution_count": 96,
   "metadata": {},
   "outputs": [
    {
     "data": {
      "text/plain": [
       "{'january': 3,\n",
       " 'february': 10,\n",
       " 'march': 1,\n",
       " 'april': 2,\n",
       " 'may': 1,\n",
       " 'june': 0,\n",
       " 'july': 0,\n",
       " 'august': 1,\n",
       " 'september': 1,\n",
       " 'october': 0,\n",
       " 'november': 10,\n",
       " 'december': 2}"
      ]
     },
     "execution_count": 96,
     "metadata": {},
     "output_type": "execute_result"
    }
   ],
   "source": [
    "private_stats.stats_per_timeframe(timeframe='m')"
   ]
  },
  {
   "cell_type": "code",
   "execution_count": 97,
   "metadata": {},
   "outputs": [
    {
     "data": {
      "text/plain": [
       "{'monday': 7,\n",
       " 'tuesday': 1,\n",
       " 'wednesday': 6,\n",
       " 'thursday': 3,\n",
       " 'friday': 6,\n",
       " 'saturday': 3,\n",
       " 'sunday': 5}"
      ]
     },
     "execution_count": 97,
     "metadata": {},
     "output_type": "execute_result"
    }
   ],
   "source": [
    "private_stats.stats_per_timeframe(timeframe='d')"
   ]
  },
  {
   "cell_type": "code",
   "execution_count": 98,
   "metadata": {},
   "outputs": [
    {
     "data": {
      "text/plain": [
       "{0: 0,\n",
       " 1: 0,\n",
       " 2: 0,\n",
       " 3: 0,\n",
       " 4: 0,\n",
       " 5: 0,\n",
       " 6: 0,\n",
       " 7: 0,\n",
       " 8: 0,\n",
       " 9: 0,\n",
       " 10: 3,\n",
       " 11: 5,\n",
       " 12: 1,\n",
       " 13: 9,\n",
       " 14: 0,\n",
       " 15: 0,\n",
       " 16: 0,\n",
       " 17: 0,\n",
       " 18: 0,\n",
       " 19: 0,\n",
       " 20: 0,\n",
       " 21: 0,\n",
       " 22: 0,\n",
       " 23: 0}"
      ]
     },
     "execution_count": 98,
     "metadata": {},
     "output_type": "execute_result"
    }
   ],
   "source": [
    "group_stats.stats_per_timeframe(timeframe='h')"
   ]
  },
  {
   "cell_type": "markdown",
   "metadata": {},
   "source": [
    "#### Filtering\n",
    "The filtering for `ConversationStats` works the same way as it works for `MessagingAnalyzer`. You can call it like this `stats.filter(**kwargs)` and it will return a narrower instance of itself. \n",
    "\n",
    "With the `.filter()` method we are filtering an underlying DataFrame behind the scenes. Here you can filter along the `channels` and `senders` dimensions, but this gets accompanied by `start`, `end` & `period`. All of these are now filtered on the DataFrame itself.\n",
    "\n",
    "Let's start with `channels`."
   ]
  },
  {
   "cell_type": "code",
   "execution_count": 99,
   "metadata": {},
   "outputs": [
    {
     "data": {
      "text/plain": [
       "['Foo Bar']"
      ]
     },
     "execution_count": 99,
     "metadata": {},
     "output_type": "execute_result"
    }
   ],
   "source": [
    "prv_filtered_by_channel = private_stats.filter(channels=PARTNER_NAME)\n",
    "prv_filtered_by_channel.channels"
   ]
  },
  {
   "cell_type": "code",
   "execution_count": 100,
   "metadata": {},
   "outputs": [
    {
     "data": {
      "text/plain": [
       "['marathon']"
      ]
     },
     "execution_count": 100,
     "metadata": {},
     "output_type": "execute_result"
    }
   ],
   "source": [
    "grp_filtered_by_channel = group_stats.filter(channels=GROUP_NAME)\n",
    "grp_filtered_by_channel.channels"
   ]
  },
  {
   "cell_type": "markdown",
   "metadata": {},
   "source": [
    "Offtopic: now that we managed to get a single channel, we should mention that `ConversationStats` has the `creator` propery as well, that indicates who started the convo. Use it like this."
   ]
  },
  {
   "cell_type": "code",
   "execution_count": 101,
   "metadata": {},
   "outputs": [
    {
     "data": {
      "text/plain": [
       "('Jenő Rejtő', 'Jenő Rejtő')"
      ]
     },
     "execution_count": 101,
     "metadata": {},
     "output_type": "execute_result"
    }
   ],
   "source": [
    "prv_filtered_by_channel.creator, grp_filtered_by_channel.creator"
   ]
  },
  {
   "cell_type": "markdown",
   "metadata": {},
   "source": [
    "As you can see both of the above `ConversationStats` objects is filtered down to one convo. Let's now filter for senders."
   ]
  },
  {
   "cell_type": "code",
   "execution_count": 102,
   "metadata": {},
   "outputs": [
    {
     "data": {
      "text/plain": [
       "['Foo Bar']"
      ]
     },
     "execution_count": 102,
     "metadata": {},
     "output_type": "execute_result"
    }
   ],
   "source": [
    "prv_filtered_by_sender = private_stats.filter(senders=PARTNER_NAME)\n",
    "prv_filtered_by_sender.channels"
   ]
  },
  {
   "cell_type": "code",
   "execution_count": 103,
   "metadata": {},
   "outputs": [
    {
     "data": {
      "text/plain": [
       "['Tőke Hal, Foo Bar, Donald Duck and 2 others',\n",
       " 'Foo Bar, John Doe and Bugs Bunny',\n",
       " 'marathon']"
      ]
     },
     "execution_count": 103,
     "metadata": {},
     "output_type": "execute_result"
    }
   ],
   "source": [
    "grp_filtered_by_sender = group_stats.filter(senders=PARTNER_NAME)\n",
    "grp_filtered_by_sender.channels"
   ]
  },
  {
   "cell_type": "markdown",
   "metadata": {},
   "source": [
    "On the other hand here, the number of groups can be more. As many as the number of groups the person whos name is stored in `PERSON_NAME` is in. Now all of the messages this person sent in these conversations are in one single DataFrame and `ConversationStats` operates on this huge DataFrame. Let's check the dimensions of this df."
   ]
  },
  {
   "cell_type": "code",
   "execution_count": 104,
   "metadata": {},
   "outputs": [
    {
     "data": {
      "text/plain": [
       "(3, 4)"
      ]
     },
     "execution_count": 104,
     "metadata": {},
     "output_type": "execute_result"
    }
   ],
   "source": [
    "grp_filtered_by_sender.df.shape"
   ]
  },
  {
   "cell_type": "markdown",
   "metadata": {},
   "source": [
    "What you can also do now, is get all the messages from these groups, not just the one sent by `PARTNER_NAME`. Here is how."
   ]
  },
  {
   "cell_type": "code",
   "execution_count": 105,
   "metadata": {},
   "outputs": [
    {
     "data": {
      "text/plain": [
       "(3, 3)"
      ]
     },
     "execution_count": 105,
     "metadata": {},
     "output_type": "execute_result"
    }
   ],
   "source": [
    "grp_filtered_for_channels = group_stats.filter(channels=grp_filtered_by_sender.channels)\n",
    "\n",
    "len(grp_filtered_for_channels.channels), len(grp_filtered_by_sender.channels)"
   ]
  },
  {
   "cell_type": "markdown",
   "metadata": {},
   "source": [
    "As you will see this new object has much greater dimensions."
   ]
  },
  {
   "cell_type": "code",
   "execution_count": 106,
   "metadata": {},
   "outputs": [
    {
     "data": {
      "text/plain": [
       "(18, 6)"
      ]
     },
     "execution_count": 106,
     "metadata": {},
     "output_type": "execute_result"
    }
   ],
   "source": [
    "grp_filtered_for_channels.df.shape"
   ]
  },
  {
   "cell_type": "markdown",
   "metadata": {},
   "source": [
    "Anyway, I think you get the idea now. These filtering methods are pretty flexible, maybe a bit less intuitive. Further developments may improve on this.\n",
    "\n",
    "But let's see now how can you filter by date. There are several ways actually. You can start by applying no filters."
   ]
  },
  {
   "cell_type": "code",
   "execution_count": 107,
   "metadata": {},
   "outputs": [
    {
     "data": {
      "text/plain": [
       "((15, 10), (15, 10))"
      ]
     },
     "execution_count": 107,
     "metadata": {},
     "output_type": "execute_result"
    }
   ],
   "source": [
    "private_stats_for_partner = private_stats.filter(channels=PARTNER_NAME)\n",
    "private_stats_filtered_by_date = private_stats_for_partner.filter(channels=PARTNER_NAME, start=None, end=None, period=None)\n",
    "\n",
    "private_stats_for_partner.df.shape, private_stats_filtered_by_date.df.shape"
   ]
  },
  {
   "cell_type": "markdown",
   "metadata": {},
   "source": [
    "Filter by `start` and `end` is pretty intuitive. You can use both datetime objects and strings (however note that you can only use strings in this format `%Y-%m-%d` as defined in [ISO_8601](https://en.wikipedia.org/wiki/ISO_8601)). Feel free to play areound with these filter parameters."
   ]
  },
  {
   "cell_type": "code",
   "execution_count": 108,
   "metadata": {},
   "outputs": [
    {
     "data": {
      "text/plain": [
       "(0, 0)"
      ]
     },
     "execution_count": 108,
     "metadata": {},
     "output_type": "execute_result"
    }
   ],
   "source": [
    "stats_by_start_end = private_stats_for_partner.filter(start='2015-05-05', end='2016-05-05')\n",
    "stats_by_start_end.df.shape"
   ]
  },
  {
   "cell_type": "code",
   "execution_count": 109,
   "metadata": {},
   "outputs": [
    {
     "data": {
      "text/plain": [
       "(0, 0)"
      ]
     },
     "execution_count": 109,
     "metadata": {},
     "output_type": "execute_result"
    }
   ],
   "source": [
    "start =datetime(year=2015, month=5, day=5)\n",
    "end = datetime(year=2016, month=6, day=6)\n",
    "stats_by_start_end = private_stats_for_partner.filter(start=start, end=end)\n",
    "stats_by_start_end.df.shape"
   ]
  },
  {
   "cell_type": "markdown",
   "metadata": {},
   "source": [
    "We can filter only by start. That means we will get all the messages from start entil the last message."
   ]
  },
  {
   "cell_type": "code",
   "execution_count": 110,
   "metadata": {},
   "outputs": [],
   "source": [
    "stats_by_start = private_stats_for_partner.filter(start='2015-05-05')"
   ]
  },
  {
   "cell_type": "markdown",
   "metadata": {},
   "source": [
    "Filtering only by end means you gety all the messages from the first one until the end timestamp."
   ]
  },
  {
   "cell_type": "code",
   "execution_count": 111,
   "metadata": {},
   "outputs": [],
   "source": [
    "stats_by_end = private_stats_for_partner.filter(end='2016-06-06')"
   ]
  },
  {
   "cell_type": "markdown",
   "metadata": {},
   "source": [
    "Filtering by `period` is less intuitive. `period` in this context means a year, a month, a day, an hour. It is not so flexible, but pretty comfortable to use. You have to use `period` with either `start` or `end`. With `start` it's like the following equation `from start to start+period` and with `end` it's like `from end-period to end`."
   ]
  },
  {
   "cell_type": "code",
   "execution_count": 112,
   "metadata": {},
   "outputs": [],
   "source": [
    "stats_by_start_period = private_stats_for_partner.filter(start='2015-05-05', period='y')"
   ]
  },
  {
   "cell_type": "code",
   "execution_count": 113,
   "metadata": {},
   "outputs": [],
   "source": [
    "stats_by_end_period = private_stats_for_partner.filter(end='2016-05-05', period='y')"
   ]
  },
  {
   "cell_type": "markdown",
   "metadata": {},
   "source": [
    "These should have the same dimensions."
   ]
  },
  {
   "cell_type": "code",
   "execution_count": 114,
   "metadata": {},
   "outputs": [
    {
     "data": {
      "text/plain": [
       "((0, 0), (0, 0))"
      ]
     },
     "execution_count": 114,
     "metadata": {},
     "output_type": "execute_result"
    }
   ],
   "source": [
    "stats_by_start_period.df.shape, stats_by_end_period.df.shape"
   ]
  },
  {
   "cell_type": "markdown",
   "metadata": {},
   "source": [
    "### Report\n",
    "...soon"
   ]
  },
  {
   "cell_type": "markdown",
   "metadata": {},
   "source": [
    "### People\n",
    "...soon"
   ]
  },
  {
   "cell_type": "markdown",
   "metadata": {},
   "source": [
    "### Plots\n",
    "...soon"
   ]
  },
  {
   "cell_type": "markdown",
   "metadata": {},
   "source": [
    "## Final words\n",
    "So that is about it. Hope this notebook helped a little bit in understanding how this application works and what can you do with it.\n",
    "\n",
    "I'm sure the capabilities/features would change in the future, but I would like to keep this interface as much as I can. On the other hand, I'm open to new/better ideas."
   ]
  }
 ],
 "metadata": {
  "kernelspec": {
   "display_name": "Python 3",
   "language": "python",
   "name": "python3"
  },
  "language_info": {
   "codemirror_mode": {
    "name": "ipython",
    "version": 3
   },
   "file_extension": ".py",
   "mimetype": "text/x-python",
   "name": "python",
   "nbconvert_exporter": "python",
   "pygments_lexer": "ipython3",
   "version": "3.8.2"
  }
 },
 "nbformat": 4,
 "nbformat_minor": 4
}
