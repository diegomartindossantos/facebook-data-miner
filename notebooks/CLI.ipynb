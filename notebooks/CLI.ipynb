{
 "cells": [
  {
   "cell_type": "markdown",
   "metadata": {},
   "source": [
    "# Facebook Data Miner Command-Line Interface\n",
    "\n",
    "This notebook has basically two main purposes:\n",
    "1. show-off the CLI by examples,\n",
    "2. serve as a reference for testing the CLI.\n",
    "\n",
    "The application has a well-defined CLI. The combinations of all the functions we wanted to expose was far too much to use [Click](https://click.palletsprojects.com/en/7.x/) and its deorators. Instead we went for the simple-stupid [Python Fire](https://google.github.io/python-fire/guide/). It's simple-stupid, because beside the functions and some facade classes that we wanted to expose the only thing we had to do is to pass the application's main entrypoint to Python Fire like this:\n",
    "```\n",
    "app = App(DATA_PATH)c\n",
    "Fire(app, name='Facebook-Data-Miner')\n",
    "```\n",
    "\n",
    "**Be aware**, that every cell starts a new CLI instance, thus, with your own Facebook data (not the test data) this notebook may take *up to an hour or more* to run. Until a database is used for this app to store your data, CLI calls, may be painfully slow.\n",
    "\n",
    "**However** `Python Fire` has a feature to run a CLI app in interctive mode. To use it, refer to the [docs](https://google.github.io/python-fire/using-cli/#python-fires-flags). But basically what you want to do is e.g. `./miner/cli.py analyzer -- --interactive`.\n",
    "\n",
    "Happy coding!"
   ]
  },
  {
   "cell_type": "markdown",
   "metadata": {},
   "source": [
    "## Requirements\n",
    "\n",
    "### Setup env\n",
    "#### Packages\n",
    "\n",
    "Set up the pipenv environment.\n",
    "```\n",
    "pipenv install\n",
    "```\n",
    "\n",
    "In order to run this notebook, you may want a `jupyter lab` or `jupyter notebook` (this is installed with pipenv already).\n",
    "\n",
    "\n",
    "#### Changing shebang in ./miner/cli.py\n",
    "In order to run the notebook cells without explicitly typing python, you need to change this line in the `./miner/cli.py` file's first row:\n",
    "```python\n",
    "#!/home/user/.local/share/virtualenvs/facebook-data-miner--PToUZxx/bin/python\n",
    "```\n",
    "to the path where your virtual environment's python is.\n",
    "\n",
    "\n",
    "#### Env vars\n",
    "\n",
    "Before starting jupyter notebook you will have to export two enviroenment variables. Run these comamnds from the root of the project.\n",
    "\n",
    "For having the project path added to pythhon search $PATH:\n",
    "```bash\n",
    "export PYTHONPATH=\"$PWD\"\n",
    "```\n",
    "Also make sure to set pipenv verbosity, otherwise you will get unncessary info messages from pipenv:\n",
    "```bash\n",
    "export PIPENV_VERBOSITY=-1\n",
    "```\n",
    "\n",
    "### Setting data path\n",
    "\n",
    "In order to run this notebook, you need to specify the data path where your Facebook data is. Search for the file `configuration.yml` in the root of this project, and set the `DATA_PATH` variable either to the zip file's absolute path, or if you have already extracted it, the absolute path of the data directory."
   ]
  },
  {
   "cell_type": "code",
   "execution_count": 1,
   "metadata": {},
   "outputs": [],
   "source": [
    "import os"
   ]
  },
  {
   "cell_type": "code",
   "execution_count": 2,
   "metadata": {},
   "outputs": [
    {
     "data": {
      "text/plain": [
       "'/home/levente/projects/facebook-data-miner'"
      ]
     },
     "execution_count": 2,
     "metadata": {},
     "output_type": "execute_result"
    }
   ],
   "source": [
    "tmp = !git rev-parse --show-toplevel\n",
    "BASE_PATH = tmp[0]\n",
    "BASE_PATH"
   ]
  },
  {
   "cell_type": "markdown",
   "metadata": {},
   "source": [
    "We navigate to directory, if we are not yet in."
   ]
  },
  {
   "cell_type": "code",
   "execution_count": 3,
   "metadata": {},
   "outputs": [
    {
     "name": "stdout",
     "output_type": "stream",
     "text": [
      "OK! Changed to: /home/levente/projects/facebook-data-miner directory.\n"
     ]
    }
   ],
   "source": [
    "try:\n",
    "    if not os.getcwd() == BASE_PATH:\n",
    "        os.chdir(BASE_PATH)\n",
    "        print(f\"OK! Changed to: {os.getcwd()} directory.\")\n",
    "except:\n",
    "\tprint(f\"WARNING! Couldn't change directory. Current is: {os.getcwd()}\")"
   ]
  },
  {
   "cell_type": "markdown",
   "metadata": {},
   "source": [
    "Make cli file executable."
   ]
  },
  {
   "cell_type": "code",
   "execution_count": 4,
   "metadata": {},
   "outputs": [],
   "source": [
    "!chmod +x $BASE_PATH/miner/cli.py # TODO what about windows"
   ]
  },
  {
   "cell_type": "markdown",
   "metadata": {},
   "source": [
    "## Features of the CLI"
   ]
  },
  {
   "cell_type": "markdown",
   "metadata": {},
   "source": [
    "Now we can start with the CLI tool. Python Fire takes an object and lets the user to call all of the objects public method (in Python that means: methods without a starting underscore).\n",
    "\n",
    "In this notebook we will cover the following groups of methods:\n",
    "- friends,\n",
    "- conversations,\n",
    "- analyzer,\n",
    "- people,\n",
    "- report,\n",
    "- plot.\n",
    "\n",
    "This means you can get detailed information for these groups once you add these keywords after the file's name you are calling: that is `./miner/app.py`. Let's get the help for the main entrypoint (NOTE: Python Fire pipes the output of the `help` into an interactive file reader, thus the output will be cut after one screen)."
   ]
  },
  {
   "cell_type": "code",
   "execution_count": 5,
   "metadata": {},
   "outputs": [
    {
     "name": "stdout",
     "output_type": "stream",
     "text": [
      "INFO: Showing help with the command 'Facebook-Data-Miner -- --help'.\n",
      "\n",
      "\u001b[1mNAME\u001b[0m\n",
      "    Facebook-Data-Miner - Entrypoint for the Command-Line Interface.\n",
      "\n",
      "\u001b[1mSYNOPSIS\u001b[0m\n",
      "    Facebook-Data-Miner \u001b[4mCOMMAND\u001b[0m\n",
      "\n",
      "\u001b[1mDESCRIPTION\u001b[0m\n",
      "    Entrypoint for the Command-Line Interface.\n",
      "\n",
      "\u001b[1mCOMMANDS\u001b[0m\n",
      "    \u001b[1m\u001b[4mCOMMAND\u001b[0m\u001b[0m is one of the following:\n",
      "\n",
      "     analyzer\n",
      "       Messaging analyzer.\n",
      "\n",
      "     conversations\n",
      "       Conversations.\n",
      "\n",
      "     friends\n",
      "       Exposed function for getting data on our Facebook friends.\n",
      "\n",
      "     people\n",
      "       Exposed function for getting data on people.\n",
      "\n",
      "     plot\n",
      "       @return: a Plotter instance's exposed methods.\n",
      "\n",
      "     report\n",
      "       @return: a TableCreator instance's exposed methods.\n"
     ]
    }
   ],
   "source": [
    "!./miner/cli.py  --help"
   ]
  },
  {
   "cell_type": "markdown",
   "metadata": {},
   "source": [
    "### Friends"
   ]
  },
  {
   "cell_type": "code",
   "execution_count": 6,
   "metadata": {},
   "outputs": [
    {
     "name": "stdout",
     "output_type": "stream",
     "text": [
      "INFO: Showing help with the command 'Facebook-Data-Miner friends -- --help'.\r\n",
      "\r\n",
      "\u001b[1mNAME\u001b[0m\r\n",
      "    Facebook-Data-Miner friends - Exposed function for getting data on our Facebook friends.\r\n",
      "\r\n",
      "\u001b[1mSYNOPSIS\u001b[0m\r\n",
      "    Facebook-Data-Miner friends <flags>\r\n",
      "\r\n",
      "\u001b[1mDESCRIPTION\u001b[0m\r\n",
      "    @param sort: the column we want to sort by.\r\n",
      "    Can be either of {date|name}. Default is `dates`.\r\n",
      "    @param dates: boolean flag on do we want the dates column.\r\n",
      "    Default is `True`.\r\n",
      "    @param output: where do we want to write the return value,\r\n",
      "    can be any of: {csv|json|/some/path.{json|csv}}.\r\n",
      "    @return: either the data formatted as csv or json,\r\n",
      "    or a success message about where was the data saved.\r\n",
      "\r\n",
      "\u001b[1mFLAGS\u001b[0m\r\n",
      "    --sort=\u001b[4mSORT\u001b[0m\r\n",
      "    --dates=\u001b[4mDATES\u001b[0m\r\n",
      "    --output=\u001b[4mOUTPUT\u001b[0m\r\n"
     ]
    }
   ],
   "source": [
    "!./miner/cli.py friends --help"
   ]
  },
  {
   "cell_type": "markdown",
   "metadata": {},
   "source": [
    "As you can see friends does not have further executable commands you can follow it up with. The description should be quite clear about what these params/flags can do. Let's just first use it without flags."
   ]
  },
  {
   "cell_type": "code",
   "execution_count": 7,
   "metadata": {},
   "outputs": [
    {
     "name": "stdout",
     "output_type": "stream",
     "text": [
      "timestamp,name\r\n",
      "2020-02-06 14:25:00+00:00,Guy Fawkes\r\n",
      "2020-02-06 14:26:40+00:00,Daisy Duck\r\n",
      "2020-02-06 14:29:01+00:00,Bugs Bunny\r\n",
      "2020-02-12 16:01:52+00:00,Dér Dénes\r\n",
      "2020-02-21 13:07:59+00:00,Tőke Hal\r\n",
      "2020-03-14 20:54:52+00:00,Foo Bar\r\n",
      "2020-03-15 19:18:28+00:00,Szett Droxler\r\n",
      "2020-04-09 19:42:05+00:00,Donald Duck\r\n",
      "2020-05-28 13:41:59+00:00,John Doe\r\n",
      "\r\n"
     ]
    }
   ],
   "source": [
    "!./miner/cli.py friends"
   ]
  },
  {
   "cell_type": "code",
   "execution_count": 8,
   "metadata": {},
   "outputs": [
    {
     "name": "stdout",
     "output_type": "stream",
     "text": [
      "timestamp,name\r\n",
      "2020-02-06 14:29:01+00:00,Bugs Bunny\r\n",
      "2020-02-06 14:26:40+00:00,Daisy Duck\r\n",
      "2020-04-09 19:42:05+00:00,Donald Duck\r\n",
      "2020-02-12 16:01:52+00:00,Dér Dénes\r\n",
      "2020-03-14 20:54:52+00:00,Foo Bar\r\n",
      "2020-02-06 14:25:00+00:00,Guy Fawkes\r\n",
      "2020-05-28 13:41:59+00:00,John Doe\r\n",
      "2020-03-15 19:18:28+00:00,Szett Droxler\r\n",
      "2020-02-21 13:07:59+00:00,Tőke Hal\r\n",
      "\r\n"
     ]
    }
   ],
   "source": [
    "!./miner/cli.py friends --sort=name"
   ]
  },
  {
   "cell_type": "code",
   "execution_count": 9,
   "metadata": {},
   "outputs": [
    {
     "name": "stdout",
     "output_type": "stream",
     "text": [
      ",name\r\n",
      "0,Bugs Bunny\r\n",
      "1,Daisy Duck\r\n",
      "2,Donald Duck\r\n",
      "3,Dér Dénes\r\n",
      "4,Foo Bar\r\n",
      "5,Guy Fawkes\r\n",
      "6,John Doe\r\n",
      "7,Szett Droxler\r\n",
      "8,Tőke Hal\r\n",
      "\r\n"
     ]
    }
   ],
   "source": [
    "!./miner/cli.py friends --sort=name --dates=False"
   ]
  },
  {
   "cell_type": "markdown",
   "metadata": {},
   "source": [
    "Notice that this ouput is formatted as a CSV. You can aslo format it as a `json`. Just pass `json` as the value of the `--output` flag."
   ]
  },
  {
   "cell_type": "code",
   "execution_count": 10,
   "metadata": {},
   "outputs": [
    {
     "name": "stdout",
     "output_type": "stream",
     "text": [
      "{\"schema\":{\"fields\":[{\"name\":\"timestamp\",\"type\":\"datetime\",\"tz\":\"UTC\"},{\"name\":\"name\",\"type\":\"string\"}],\"primaryKey\":[\"timestamp\"],\"pandas_version\":\"0.20.0\"},\"data\":[{\"timestamp\":\"2020-02-06T14:29:01.000Z\",\"name\":\"Bugs Bunny\"},{\"timestamp\":\"2020-02-06T14:26:40.000Z\",\"name\":\"Daisy Duck\"},{\"timestamp\":\"2020-04-09T19:42:05.000Z\",\"name\":\"Donald Duck\"},{\"timestamp\":\"2020-02-12T16:01:52.000Z\",\"name\":\"D\\u00e9r D\\u00e9nes\"},{\"timestamp\":\"2020-03-14T20:54:52.000Z\",\"name\":\"Foo Bar\"},{\"timestamp\":\"2020-02-06T14:25:00.000Z\",\"name\":\"Guy Fawkes\"},{\"timestamp\":\"2020-05-28T13:41:59.000Z\",\"name\":\"John Doe\"},{\"timestamp\":\"2020-03-15T19:18:28.000Z\",\"name\":\"Szett Droxler\"},{\"timestamp\":\"2020-02-21T13:07:59.000Z\",\"name\":\"T\\u0151ke Hal\"}]}\r\n"
     ]
    }
   ],
   "source": [
    "!./miner/cli.py friends --sort=name --output=json"
   ]
  },
  {
   "cell_type": "markdown",
   "metadata": {},
   "source": [
    "We can also write this to an `output` file instead of `stdout`."
   ]
  },
  {
   "cell_type": "code",
   "execution_count": 11,
   "metadata": {},
   "outputs": [
    {
     "name": "stdout",
     "output_type": "stream",
     "text": [
      "Data was written to /home/levente/projects/facebook-data-miner/notebooks/out.csv\r\n"
     ]
    }
   ],
   "source": [
    "!./miner/cli.py friends --sort=name --output=$PWD/notebooks/out.csv"
   ]
  },
  {
   "cell_type": "code",
   "execution_count": 12,
   "metadata": {},
   "outputs": [
    {
     "name": "stdout",
     "output_type": "stream",
     "text": [
      "timestamp,name\r\n",
      "2020-02-06 14:29:01+00:00,Bugs Bunny\r\n",
      "2020-02-06 14:26:40+00:00,Daisy Duck\r\n",
      "2020-04-09 19:42:05+00:00,Donald Duck\r\n",
      "2020-02-12 16:01:52+00:00,Dér Dénes\r\n",
      "2020-03-14 20:54:52+00:00,Foo Bar\r\n",
      "2020-02-06 14:25:00+00:00,Guy Fawkes\r\n",
      "2020-05-28 13:41:59+00:00,John Doe\r\n",
      "2020-03-15 19:18:28+00:00,Szett Droxler\r\n",
      "2020-02-21 13:07:59+00:00,Tőke Hal\r\n"
     ]
    }
   ],
   "source": [
    "!cat $PWD/notebooks/out.csv"
   ]
  },
  {
   "cell_type": "markdown",
   "metadata": {},
   "source": [
    "Or you can write it to a json, just add a filename that ends with `.json`."
   ]
  },
  {
   "cell_type": "code",
   "execution_count": 13,
   "metadata": {},
   "outputs": [
    {
     "name": "stdout",
     "output_type": "stream",
     "text": [
      "Data was written to /home/levente/projects/facebook-data-miner/notebooks/out.json\r\n"
     ]
    }
   ],
   "source": [
    "!./miner/cli.py friends --sort=name --output=$PWD/notebooks/out.json"
   ]
  },
  {
   "cell_type": "code",
   "execution_count": 14,
   "metadata": {},
   "outputs": [
    {
     "name": "stdout",
     "output_type": "stream",
     "text": [
      "{\"name\":{\"1580999341000\":\"Bugs Bunny\",\"1580999200000\":\"Daisy Duck\",\"1586461325000\":\"Donald Duck\",\"1581523312000\":\"D\\u00e9r D\\u00e9nes\",\"1584219292000\":\"Foo Bar\",\"1580999100000\":\"Guy Fawkes\",\"1590673319000\":\"John Doe\",\"1584299908000\":\"Szett Droxler\",\"1582290479000\":\"T\\u0151ke Hal\"}}"
     ]
    }
   ],
   "source": [
    "!cat $PWD/notebooks/out.json"
   ]
  },
  {
   "cell_type": "markdown",
   "metadata": {},
   "source": [
    "Let's clear up."
   ]
  },
  {
   "cell_type": "code",
   "execution_count": 15,
   "metadata": {},
   "outputs": [],
   "source": [
    "!rm $PWD/notebooks/out.csv\n",
    "!rm $PWD/notebooks/out.json"
   ]
  },
  {
   "cell_type": "markdown",
   "metadata": {},
   "source": [
    "### Conversations\n",
    "Conversations is also an interface that points to a single function. So let's dive into it."
   ]
  },
  {
   "cell_type": "code",
   "execution_count": 16,
   "metadata": {},
   "outputs": [
    {
     "name": "stdout",
     "output_type": "stream",
     "text": [
      "INFO: Showing help with the command 'Facebook-Data-Miner conversations -- --help'.\r\n",
      "\r\n",
      "\u001b[1mNAME\u001b[0m\r\n",
      "    Facebook-Data-Miner conversations - Conversations.\r\n",
      "\r\n",
      "\u001b[1mSYNOPSIS\u001b[0m\r\n",
      "    Facebook-Data-Miner conversations <flags>\r\n",
      "\r\n",
      "\u001b[1mDESCRIPTION\u001b[0m\r\n",
      "    @param kind: one of private or group,\r\n",
      "    depending on which messaging do you want to analyze.\r\n",
      "    @param channels: channel names you want to filter for.\r\n",
      "    @param cols: column names you want to include in the output.\r\n",
      "    @param output: where do we want to write the return value,\r\n",
      "    can be any of: {csv|json|/some/path.{json|csv}}.\r\n",
      "    @return: either the data formatted as csv or json,\r\n",
      "    or a success message about where was the data saved.\r\n",
      "\r\n",
      "\u001b[1mFLAGS\u001b[0m\r\n",
      "    --kind=\u001b[4mKIND\u001b[0m\r\n",
      "    --channels=\u001b[4mCHANNELS\u001b[0m\r\n",
      "    --cols=\u001b[4mCOLS\u001b[0m\r\n",
      "    --output=\u001b[4mOUTPUT\u001b[0m\r\n"
     ]
    }
   ],
   "source": [
    "!./miner/cli.py conversations --help"
   ]
  },
  {
   "cell_type": "code",
   "execution_count": 17,
   "metadata": {},
   "outputs": [
    {
     "name": "stdout",
     "output_type": "stream",
     "text": [
      "timestamp_ms,sender_name,content,type,partner,videos,audio_files,photos,gifs,reactions,files\r\n",
      "2014-09-24 15:02:08.715000+00:00,Jenő Rejtő,are you the real Bugs Bunny?,Generic,Bugs Bunny,,,,,,\r\n",
      "2014-11-09 18:56:46.047000+00:00,Jenő Rejtő,older stuff,Generic,Tőke Hal,,,,,,\r\n",
      "2014-11-09 19:13:26.047000+00:00,Tőke Hal,testing multiple files,Generic,Tőke Hal,,,,,,\r\n",
      "2014-11-09 22:13:48.715000+00:00,Jenő Rejtő,yo,Generic,Tőke Hal,,,,,,\r\n",
      "2014-11-09 22:13:48.715000+00:00,Jenő Rejtő,are you the real Bugs Bunny?,Generic,Bugs Bunny,,,,,,\r\n",
      "2014-11-10 11:20:06.047000+00:00,Tőke Hal,yo,Generic,Tőke Hal,,,,,,\r\n",
      "2014-11-10 11:21:46.047000+00:00,Tőke Hal,zup,Generic,Tőke Hal,,,,,,\r\n",
      "2014-11-10 11:21:46.047000+00:00,Bugs Bunny,no,Generic,Bugs Bunny,,,,,,\r\n",
      "2014-11-10 11:26:46.047000+00:00,Bugs Bunny,no,Generic,Bugs Bunny,,,,,,\r\n",
      "2014-11-10 11:30:45.145000+00:00,Jenő Rejtő,not much,Generic,Tőke Hal,,,,,,\r\n",
      "2014-11-22 01:17:25.145000+00:00,Jenő Rejtő,,Generic,Bugs Bunny,,,[{'uri': 'messages/inbox/TeflonMusk_fSD454F/photos/index.jpeg'}],,,\r\n",
      "2014-12-03 15:07:25.145000+00:00,Jenő Rejtő,not,Generic,Tőke Hal,,,,,,\r\n",
      "2014-12-26 19:01:46.047000+00:00,Bugs Bunny,,Generic,Bugs Bunny,,,,,,[{'uri': 'messages/inbox/TeflonMusk_fSD454F/files/1810.04805.pdf'}]\r\n",
      "2018-01-10 08:00:28.715000+00:00,Jenő Rejtő,\"yo Legyen az, hogy most megprobalok ekezet nelkul irni. Seems pretty easy. I need some english words in here. Right? A magyar szavak felismereset probalom tesztelni ezzekkel a mondatokkal.\",Generic,Benedek Elek,,,,,,\r\n",
      "2018-01-10 21:08:26.047000+00:00,Benedek Elek,zup,Generic,Benedek Elek,,,,,,\r\n",
      "2018-01-10 21:17:25.145000+00:00,Jenő Rejtő,not much,Generic,Benedek Elek,,,,,,\r\n",
      "2020-02-13 05:15:28.715000+00:00,Jenő Rejtő,Lorem lorim.. foo bar 😡😡😡,Generic,Foo Bar,,,,,,\r\n",
      "2020-02-13 05:15:38.715000+00:00,Foo Bar,Ut akar ... consequat. oO wow :P xd :D,Generic,Foo Bar,,,,,\"[{'reaction': '❤', 'actor': 'Jenő Rejtő'}]\",\r\n",
      "2020-02-14 00:42:08.145000+00:00,Jenő Rejtő,,Generic,Foo Bar,,,[{'uri': 'messages/inbox/FooBar_n5fd6gG50h/photos/blueberry-5417154_960_720.jpg'}],,,\r\n",
      "2020-02-14 03:28:48.047000+00:00,Foo Bar,,Generic,Foo Bar,,,,,,[{'uri': 'messages/inbox/FooBar_n5fd6gG50h/files/1810.04805.pdf'}]\r\n",
      "2020-02-14 11:48:48.047000+00:00,Jenő Rejtő,Duis duia .. ! xdddddd :D,Generic,Foo Bar,,,,,,\r\n",
      "2020-02-14 14:35:28.047000+00:00,Foo Bar,Excepteur...laborum. :D,Generic,Foo Bar,,,,,,\r\n",
      "2020-02-14 17:22:08.145000+00:00,Jenő Rejtő,,Generic,Foo Bar,,,,[{'uri': 'messages/inbox/FooBar_n5fd6gG50h/gifs/97999627_1419172538270405_8596479473619042304_n_2963870430335255.gif'}],\"[{'reaction': '😮', 'actor': 'Foo Bar'}]\",\r\n",
      "2020-02-17 23:08:48.047000+00:00,Jenő Rejtő,What the hack? xdddddd :D,Generic,Foo Bar,,,,,,\r\n",
      "2020-02-18 07:28:48.145000+00:00,Foo Bar,,Generic,Foo Bar,,,,[{'uri': 'messages/inbox/FooBar_n5fd6gG50h/gifs/19349964_1624604560892442_7457726181358436352_n_487109582171361.gif'}],\"[{'reaction': '❤', 'actor': 'Jenő Rejtő'}]\",\r\n",
      "2020-02-26 12:42:08.145000+00:00,Jenő Rejtő,,Generic,Foo Bar,,,[{'uri': 'messages/inbox/FooBar_n5fd6gG50h/photos/apple-5391076_960_720.jpg'}],,,\r\n",
      "2020-03-09 10:48:48.047000+00:00,Foo Bar,,Generic,Foo Bar,,\"[{'uri': 'messages/inbox/FooBar_n5fd6gG50h/audio/audioclip15905232600004598_2621787141481389.mp4', 'creation_timestamp': 1583750927}]\",,,,\r\n",
      "2020-04-02 18:08:48.047000+00:00,Jenő Rejtő,Whet? Check this! :P,Generic,Foo Bar,,,,,,\r\n",
      "2020-04-25 21:42:08.047000+00:00,Jenő Rejtő,,Generic,Foo Bar,\"[{'uri': 'messages/inbox/FooBar_n5fd6gG50h/videos/video1501528035_1573509826004448.mp4', 'creation_timestamp': 1587850940, 'thumbnail': {'uri': 'messages/inbox/FooBar_n5fd6gG50h/videos/thumbnails/20562500_1414664788613193_5052712665724834582_n.jpg'}}]\",,,,,\r\n",
      "2020-05-03 10:15:28.123000+00:00,Foo Bar,OUT!,Generic,Foo Bar,,,,,,\r\n",
      "2020-08-08 18:22:08.321000+00:00,Jenő Rejtő,OUT! ❤,Generic,Foo Bar,,,,,,\r\n",
      "\r\n"
     ]
    }
   ],
   "source": [
    "!./miner/cli.py conversations"
   ]
  },
  {
   "cell_type": "markdown",
   "metadata": {},
   "source": [
    "As you can see calling this node of the interfacer prints out all the data private conversation data we have. We don's see, but the parameter `kind` itnernally defaults to `private`. We can change this to `group`."
   ]
  },
  {
   "cell_type": "code",
   "execution_count": 18,
   "metadata": {},
   "outputs": [
    {
     "name": "stdout",
     "output_type": "stream",
     "text": [
      "timestamp_ms,sender_name,content,type,partner,photos,gifs\r\n",
      "2011-07-17 13:00:06.580000+00:00,Donald Duck,test,Generic,\"Tőke Hal, Foo Bar, Donald Duck and 2 others\",,\r\n",
      "2011-07-17 13:00:08.580000+00:00,Jenő Rejtő,test,Generic,\"Foo Bar, John Doe and Bugs Bunny\",,\r\n",
      "2011-07-17 13:00:13.721000+00:00,Foo Bar,what do you test,Generic,\"Tőke Hal, Foo Bar, Donald Duck and 2 others\",,\r\n",
      "2011-07-17 13:00:13.721000+00:00,Foo Bar,what do you test,Generic,\"Foo Bar, John Doe and Bugs Bunny\",,\r\n",
      "2011-07-17 13:00:32.011000+00:00,Tőke Hal,basic group messages,Generic,\"Tőke Hal, Foo Bar, Donald Duck and 2 others\",,\r\n",
      "2011-07-17 13:00:32.012000+00:00,Dér Dénes,blabla,Generic,\"Tőke Hal, Foo Bar, Donald Duck and 2 others\",,\r\n",
      "2011-07-17 13:00:32.012000+00:00,Bugs Bunny,basic group messages,Generic,\"Foo Bar, John Doe and Bugs Bunny\",,\r\n",
      "2011-07-17 13:02:54.237000+00:00,John Doe,ok,Generic,\"Foo Bar, John Doe and Bugs Bunny\",,\r\n",
      "2011-07-17 13:02:54.237000+00:00,Facebook User,ok,Generic,\"Tőke Hal, Foo Bar, Donald Duck and 2 others\",,\r\n",
      "2018-04-19 10:31:42.152000+00:00,Jenő Rejtő,marathon?,Generic,marathon,,\r\n",
      "2018-04-19 10:32:21.074000+00:00,Foo Bar,yapp yapp :D,Generic,marathon,,\r\n",
      "2018-04-19 10:32:35.273000+00:00,Jenő Rejtő,You named the group marathon.,Generic,marathon,,\r\n",
      "2018-04-19 11:35:37.066000+00:00,Donald Duck,,Generic,marathon,,[{'uri': 'messages/inbox/marathon_sfFSFiD76/gifs/21297336_10214236646047101_8870179296803553280_n_2116299178397271.gif'}]\r\n",
      "2018-04-19 11:35:49.717000+00:00,Donald Duck,i start today,Generic,marathon,,\r\n",
      "2018-04-19 11:37:39.673000+00:00,Donald Duck,,Generic,marathon,\"[{'uri': 'messages/inbox/marathon_sfFSFiD76/photos/index.jpeg', 'creation_timestamp': 1524137857}]\",\r\n",
      "2018-04-19 11:38:02.444000+00:00,Donald Duck,we could go but running is free,Generic,marathon,,\r\n",
      "2018-04-19 11:38:32.776000+00:00,Jenő Rejtő,hmmm,Generic,marathon,,\r\n",
      "2018-04-19 12:52:39.709000+00:00,Donald Duck,:D,Generic,marathon,,\r\n",
      "\r\n"
     ]
    }
   ],
   "source": [
    "!./miner/cli.py conversations --kind=group"
   ]
  },
  {
   "cell_type": "markdown",
   "metadata": {},
   "source": [
    "You can also filter the conversations to some specific channels. Note that you can provide more values to one flag, but the separation of these values is really clunky. The separator is `;!;`. The reason for this is that group names can actually contain a number of characters. This combination makes it so, that the separation works 99.99% of the time. "
   ]
  },
  {
   "cell_type": "code",
   "execution_count": 19,
   "metadata": {},
   "outputs": [
    {
     "name": "stdout",
     "output_type": "stream",
     "text": [
      "timestamp_ms,sender_name,content,type,videos,audio_files,photos,gifs,reactions,files,partner\r\n",
      "2020-02-13 05:15:28.715000+00:00,Jenő Rejtő,Lorem lorim.. foo bar 😡😡😡,Generic,,,,,,,Foo Bar\r\n",
      "2020-02-13 05:15:38.715000+00:00,Foo Bar,Ut akar ... consequat. oO wow :P xd :D,Generic,,,,,\"[{'reaction': '❤', 'actor': 'Jenő Rejtő'}]\",,Foo Bar\r\n",
      "2020-02-14 00:42:08.145000+00:00,Jenő Rejtő,,Generic,,,[{'uri': 'messages/inbox/FooBar_n5fd6gG50h/photos/blueberry-5417154_960_720.jpg'}],,,,Foo Bar\r\n",
      "2020-02-14 03:28:48.047000+00:00,Foo Bar,,Generic,,,,,,[{'uri': 'messages/inbox/FooBar_n5fd6gG50h/files/1810.04805.pdf'}],Foo Bar\r\n",
      "2020-02-14 11:48:48.047000+00:00,Jenő Rejtő,Duis duia .. ! xdddddd :D,Generic,,,,,,,Foo Bar\r\n",
      "2020-02-14 14:35:28.047000+00:00,Foo Bar,Excepteur...laborum. :D,Generic,,,,,,,Foo Bar\r\n",
      "2020-02-14 17:22:08.145000+00:00,Jenő Rejtő,,Generic,,,,[{'uri': 'messages/inbox/FooBar_n5fd6gG50h/gifs/97999627_1419172538270405_8596479473619042304_n_2963870430335255.gif'}],\"[{'reaction': '😮', 'actor': 'Foo Bar'}]\",,Foo Bar\r\n",
      "2020-02-17 23:08:48.047000+00:00,Jenő Rejtő,What the hack? xdddddd :D,Generic,,,,,,,Foo Bar\r\n",
      "2020-02-18 07:28:48.145000+00:00,Foo Bar,,Generic,,,,[{'uri': 'messages/inbox/FooBar_n5fd6gG50h/gifs/19349964_1624604560892442_7457726181358436352_n_487109582171361.gif'}],\"[{'reaction': '❤', 'actor': 'Jenő Rejtő'}]\",,Foo Bar\r\n",
      "2020-02-26 12:42:08.145000+00:00,Jenő Rejtő,,Generic,,,[{'uri': 'messages/inbox/FooBar_n5fd6gG50h/photos/apple-5391076_960_720.jpg'}],,,,Foo Bar\r\n",
      "2020-03-09 10:48:48.047000+00:00,Foo Bar,,Generic,,\"[{'uri': 'messages/inbox/FooBar_n5fd6gG50h/audio/audioclip15905232600004598_2621787141481389.mp4', 'creation_timestamp': 1583750927}]\",,,,,Foo Bar\r\n",
      "2020-04-02 18:08:48.047000+00:00,Jenő Rejtő,Whet? Check this! :P,Generic,,,,,,,Foo Bar\r\n",
      "2020-04-25 21:42:08.047000+00:00,Jenő Rejtő,,Generic,\"[{'uri': 'messages/inbox/FooBar_n5fd6gG50h/videos/video1501528035_1573509826004448.mp4', 'creation_timestamp': 1587850940, 'thumbnail': {'uri': 'messages/inbox/FooBar_n5fd6gG50h/videos/thumbnails/20562500_1414664788613193_5052712665724834582_n.jpg'}}]\",,,,,,Foo Bar\r\n",
      "2020-05-03 10:15:28.123000+00:00,Foo Bar,OUT!,Generic,,,,,,,Foo Bar\r\n",
      "2020-08-08 18:22:08.321000+00:00,Jenő Rejtő,OUT! ❤,Generic,,,,,,,Foo Bar\r\n",
      "\r\n"
     ]
    }
   ],
   "source": [
    "!./miner/cli.py conversations --channels=\"Foo Bar;!;Teflon Musk\""
   ]
  },
  {
   "cell_type": "markdown",
   "metadata": {},
   "source": [
    "You can also filter out some columns by providing column names that you want in the output."
   ]
  },
  {
   "cell_type": "code",
   "execution_count": 20,
   "metadata": {},
   "outputs": [
    {
     "name": "stdout",
     "output_type": "stream",
     "text": [
      "timestamp_ms,sender_name,type,content\r\n",
      "2020-02-13 05:15:28.715000+00:00,Jenő Rejtő,Generic,Lorem lorim.. foo bar 😡😡😡\r\n",
      "2020-02-13 05:15:38.715000+00:00,Foo Bar,Generic,Ut akar ... consequat. oO wow :P xd :D\r\n",
      "2020-02-14 00:42:08.145000+00:00,Jenő Rejtő,Generic,\r\n",
      "2020-02-14 03:28:48.047000+00:00,Foo Bar,Generic,\r\n",
      "2020-02-14 11:48:48.047000+00:00,Jenő Rejtő,Generic,Duis duia .. ! xdddddd :D\r\n",
      "2020-02-14 14:35:28.047000+00:00,Foo Bar,Generic,Excepteur...laborum. :D\r\n",
      "2020-02-14 17:22:08.145000+00:00,Jenő Rejtő,Generic,\r\n",
      "2020-02-17 23:08:48.047000+00:00,Jenő Rejtő,Generic,What the hack? xdddddd :D\r\n",
      "2020-02-18 07:28:48.145000+00:00,Foo Bar,Generic,\r\n",
      "2020-02-26 12:42:08.145000+00:00,Jenő Rejtő,Generic,\r\n",
      "2020-03-09 10:48:48.047000+00:00,Foo Bar,Generic,\r\n",
      "2020-04-02 18:08:48.047000+00:00,Jenő Rejtő,Generic,Whet? Check this! :P\r\n",
      "2020-04-25 21:42:08.047000+00:00,Jenő Rejtő,Generic,\r\n",
      "2020-05-03 10:15:28.123000+00:00,Foo Bar,Generic,OUT!\r\n",
      "2020-08-08 18:22:08.321000+00:00,Jenő Rejtő,Generic,OUT! ❤\r\n",
      "\r\n"
     ]
    }
   ],
   "source": [
    "!./miner/cli.py conversations --channels=\"Foo Bar\" --cols='sender_name;!;type;!;content'"
   ]
  },
  {
   "cell_type": "markdown",
   "metadata": {},
   "source": [
    "As of the parameter `output`, it works the same as it works in the case of CLI node `friends`. There are 4 possibilities: format csv and json in file or on stdout."
   ]
  },
  {
   "cell_type": "markdown",
   "metadata": {},
   "source": [
    "### Messaging Analyzer\n",
    "Now we got to the most complex node in this CLI. So let's start with the help message. As you will see this only prints out information on the analyzer function's signature. "
   ]
  },
  {
   "cell_type": "code",
   "execution_count": 21,
   "metadata": {},
   "outputs": [
    {
     "name": "stdout",
     "output_type": "stream",
     "text": [
      "\u001b[1mNAME\u001b[0m\r\n",
      "    Facebook-Data-Miner analyzer --help\r\n",
      "\r\n",
      "\u001b[1mSYNOPSIS\u001b[0m\r\n",
      "    Facebook-Data-Miner analyzer --help - \u001b[4mCOMMAND\u001b[0m\r\n",
      "\r\n",
      "\u001b[1mCOMMANDS\u001b[0m\r\n",
      "    \u001b[1m\u001b[4mCOMMAND\u001b[0m\u001b[0m is one of the following:\r\n",
      "\r\n",
      "     get_who_i_have_private_convo_with_from_a_group\r\n",
      "\r\n",
      "     how_much_i_speak_in_private_with_group_members\r\n",
      "\r\n",
      "     is_priv_msg_first_then_group\r\n",
      "\r\n",
      "     people_i_have_group_convo_with\r\n",
      "\r\n",
      "     people_i_have_private_convo_with\r\n"
     ]
    }
   ],
   "source": [
    "!./miner/cli.py analyzer --help"
   ]
  },
  {
   "cell_type": "markdown",
   "metadata": {},
   "source": [
    "The function can have two distinct outcome based on wether you provide any value to the `kind` parameter. \n",
    "\n",
    "**If not**, then you will get the rather high level MessagingAnalyzer object's methods, which has functionalities that analyze messages both in private and group channels.\n",
    "\n",
    "**Otherwise**, if `kind` has the value `private` or `group`, you will get a facade object to the lower-level `{Private|Group}MessagingAnalyzer` and `{Private|Group}ConversationStats` objects. This facade has almost 50 methods, and a lot of them take parameters as well. We will cover all of the functions for the sake of completeness, and also because this notebook is a subject for tests. This will be a really long part of the notebook, but it contains most of the information. However if you want to skip to the [goodies](#report), like reports and plot, go ahead.\n",
    "\n",
    "Let's go with the first story. No value provided for `kind`."
   ]
  },
  {
   "cell_type": "code",
   "execution_count": 22,
   "metadata": {},
   "outputs": [
    {
     "name": "stdout",
     "output_type": "stream",
     "text": [
      "\u001b[1mNAME\u001b[0m\r\n",
      "    Facebook-Data-Miner analyzer\r\n",
      "\r\n",
      "\u001b[1mSYNOPSIS\u001b[0m\r\n",
      "    Facebook-Data-Miner analyzer - \u001b[4mCOMMAND\u001b[0m\r\n",
      "\r\n",
      "\u001b[1mCOMMANDS\u001b[0m\r\n",
      "    \u001b[1m\u001b[4mCOMMAND\u001b[0m\u001b[0m is one of the following:\r\n",
      "\r\n",
      "     get_who_i_have_private_convo_with_from_a_group\r\n",
      "\r\n",
      "     how_much_i_speak_in_private_with_group_members\r\n",
      "\r\n",
      "     is_priv_msg_first_then_group\r\n",
      "\r\n",
      "     people_i_have_group_convo_with\r\n",
      "\r\n",
      "     people_i_have_private_convo_with\r\n"
     ]
    }
   ],
   "source": [
    "!./miner/cli.py analyzer"
   ]
  },
  {
   "cell_type": "markdown",
   "metadata": {},
   "source": [
    "Let's go over these methods. \n",
    "\n",
    "**IMPORTANT NOTE**: as you have seen the `analyzer` function has quite a lot input parameters, which of course can be empty. To tell `Python Fire` that you don't want to fill those values, you have to use a separator. The default is a dash (`-`), but you can change this to almost any character (see [this](https://google.github.io/python-fire/guide/#calling-functions) for reference)."
   ]
  },
  {
   "cell_type": "code",
   "execution_count": 23,
   "metadata": {},
   "outputs": [
    {
     "name": "stdout",
     "output_type": "stream",
     "text": [
      "INFO: Showing help with the command 'Facebook-Data-Miner analyzer - people_i_have_group_convo_with -- --help'.\r\n",
      "\r\n",
      "\u001b[1mNAME\u001b[0m\r\n",
      "    Facebook-Data-Miner analyzer people_i_have_group_convo_with\r\n",
      "\r\n",
      "\u001b[1mSYNOPSIS\u001b[0m\r\n",
      "    Facebook-Data-Miner analyzer - people_i_have_group_convo_with -\r\n"
     ]
    }
   ],
   "source": [
    "!./miner/cli.py analyzer - people_i_have_group_convo_with --help # NOTE the single `-` after the analyzer"
   ]
  },
  {
   "cell_type": "markdown",
   "metadata": {},
   "source": [
    "Note also, that you can use `--help` with the functions as well. `Python Fire` will read the signature and the docstring of the function and create a help message from them."
   ]
  },
  {
   "cell_type": "code",
   "execution_count": 24,
   "metadata": {},
   "outputs": [
    {
     "name": "stdout",
     "output_type": "stream",
     "text": [
      "Tőke Hal\r\n",
      "Foo Bar\r\n",
      "Bugs Bunny\r\n",
      "Benedek Elek\r\n"
     ]
    }
   ],
   "source": [
    "!./miner/cli.py analyzer - people_i_have_private_convo_with"
   ]
  },
  {
   "cell_type": "code",
   "execution_count": 25,
   "metadata": {},
   "outputs": [
    {
     "name": "stdout",
     "output_type": "stream",
     "text": [
      "Tőke Hal\r\n",
      "Jenő Rejtő\r\n",
      "Dér Dénes\r\n",
      "Facebook User\r\n",
      "Donald Duck\r\n",
      "Foo Bar\r\n",
      "Bugs Bunny\r\n",
      "John Doe\r\n"
     ]
    }
   ],
   "source": [
    "!./miner/cli.py analyzer - people_i_have_group_convo_with"
   ]
  },
  {
   "cell_type": "code",
   "execution_count": 26,
   "metadata": {},
   "outputs": [
    {
     "name": "stdout",
     "output_type": "stream",
     "text": [
      "Bugs Bunny\r\n",
      "Foo Bar\r\n"
     ]
    }
   ],
   "source": [
    "!./miner/cli.py analyzer - get_who_i_have_private_convo_with_from_a_group --group_name=marathon"
   ]
  },
  {
   "cell_type": "code",
   "execution_count": 27,
   "metadata": {},
   "outputs": [
    {
     "name": "stdout",
     "output_type": "stream",
     "text": [
      "Bugs Bunny: 6\r\n",
      "Foo Bar:    15\r\n"
     ]
    }
   ],
   "source": [
    "!./miner/cli.py analyzer - how_much_i_speak_in_private_with_group_members --group_name=marathon"
   ]
  },
  {
   "cell_type": "code",
   "execution_count": 28,
   "metadata": {},
   "outputs": [
    {
     "name": "stdout",
     "output_type": "stream",
     "text": [
      "True\r\n"
     ]
    }
   ],
   "source": [
    "!./miner/cli.py analyzer - is_priv_msg_first_then_group --name='Foo Bar'"
   ]
  },
  {
   "cell_type": "markdown",
   "metadata": {},
   "source": [
    "#### Private and Group Messaging Analyzer\n",
    "Both `private` and `group` is created with the very same class, but since the minor differences in the inner structure of two  channels there are some methods that make more sense for one and less for the other one. But we will cover this soon.\n",
    "\n",
    "Now let's start with a help message."
   ]
  },
  {
   "cell_type": "code",
   "execution_count": 29,
   "metadata": {},
   "outputs": [
    {
     "name": "stdout",
     "output_type": "stream",
     "text": [
      "INFO: Showing help with the command 'Facebook-Data-Miner analyzer private - -- --help'.\n",
      "\n",
      "\u001b[1mNAME\u001b[0m\n",
      "    Facebook-Data-Miner analyzer private\n",
      "\n",
      "\u001b[1mSYNOPSIS\u001b[0m\n",
      "    Facebook-Data-Miner analyzer private - \u001b[4mCOMMAND\u001b[0m | \u001b[4mVALUE\u001b[0m\n",
      "\n",
      "\u001b[1mCOMMANDS\u001b[0m\n",
      "    \u001b[1m\u001b[4mCOMMAND\u001b[0m\u001b[0m is one of the following:\n",
      "\n",
      "     all_channels\n",
      "       @param name: name of the subject we are interested in. Anyone who is a participant in at least one conversation. @return: all the channels (max 1 private, and any number of group conversations) the subject is in.\n",
      "\n",
      "     audios\n",
      "\n",
      "     average_word_length\n",
      "       @return: average word length.\n",
      "\n",
      "     cc\n",
      "       @return: count of characters in this object.\n",
      "\n",
      "     channels\n",
      "       @return: all the channels in self.df.\n",
      "\n",
      "     contributors\n",
      "       @return: all the participants who sent a message in any channels at least once.\n",
      "\n",
      "     created_by_me\n",
      "       @return: returns True if the user created the channel, False otherwise.\n",
      "\n",
      "     creator\n",
      "       @return: returns the name of the contributor who started the channel.\n",
      "\n",
      "     end\n",
      "       @return: the timestamp of the last message ever sent in self.df.\n",
      "\n",
      "     files\n",
      "\n",
      "     get_grouped_time_series_data\n",
      "\n",
      "     gifs\n",
      "\n",
      "     is_group\n",
      "       @return: returns True if we are analyzing group messages, False otherwise.\n",
      "\n",
      "     max_channel_size\n",
      "       Makes more sense for groups.\n",
      "\n",
      "     mc\n",
      "       @return: count of messages in this object.\n",
      "\n",
      "     mean_channel_size\n",
      "       Makes more sense for groups.\n",
      "\n",
      "     media\n",
      "\n",
      "     media_mc\n",
      "       @return: count of media messages in this object.\n",
      "\n",
      "     message_language_map\n",
      "       @return: detected (with polyglot library) language per message.\n",
      "\n",
      "     message_language_ratio\n",
      "       @return: detected (with polyglot library) language ratio.\n",
      "\n",
      "     messages\n",
      "\n",
      "     min_channel_size\n",
      "       Makes more sense for groups.\n",
      "\n",
      "     most_used_msgs\n",
      "\n",
      "     most_used_words\n",
      "\n",
      "     number_of_channels\n",
      "       @return: number of channels in self.df.\n",
      "\n",
      "     number_of_contributors\n",
      "       @return: number of contributors.\n",
      "\n",
      "     number_of_convos_created_by_me\n",
      "       @return: number of conversations started by the user.\n",
      "\n",
      "     participant_to_channel_map\n",
      "       More useful for groups.\n",
      "\n",
      "     participants\n",
      "       @return: list of participants in self.data.\n",
      "\n",
      "     percentage_of_media_messages\n",
      "       @return: percentage of media messages compared to all messages.\n",
      "\n",
      "     percentage_of_text_messages\n",
      "       @return: percentage of text messages compared to all messages.\n",
      "\n",
      "     photos\n",
      "\n",
      "     ranking_by_statistic\n",
      "       @param by: attribute we are interested in. Can be any of the ConversationStats properties, but it has to be numeric. @param ranking: format of return value. Any of percent or absolute. @param top: used to limit the number of results for better readability. @return: dictionary containing ranking in any of percent or absolute values.\n",
      "\n",
      "     reacted_messages\n",
      "\n",
      "     start\n",
      "       @return: the timestamp of the first message ever sent in self.df.\n",
      "\n",
      "     stats_per_timeframe\n",
      "       @param timeframe: in which timeframe you want to group the messages. One of {y|m|d|h}. @return: numeric statistics like message, word, character, etc. broken down to the timeframe.\n",
      "\n",
      "     text\n",
      "\n",
      "     text_mc\n",
      "       @return: count of text messages in this object.\n",
      "\n",
      "     unique_mc\n",
      "       @return: unique messages in this object.\n",
      "\n",
      "     unique_wc\n",
      "       @return: unique words in all the messages this object.\n",
      "\n",
      "     videos\n",
      "\n",
      "     wc\n",
      "       @return: count of words in this object.\n",
      "\n",
      "     words\n",
      "\n",
      "\u001b[1mVALUES\u001b[0m\n",
      "    \u001b[1m\u001b[4mVALUE\u001b[0m\u001b[0m is one of the following:\n",
      "\n",
      "     percentage_of_reacted_messages\n"
     ]
    }
   ],
   "source": [
    "!./miner/cli.py analyzer private - --help"
   ]
  },
  {
   "cell_type": "markdown",
   "metadata": {},
   "source": [
    "And one for `group` as well, delete the `#` sign if you want to verify."
   ]
  },
  {
   "cell_type": "code",
   "execution_count": 30,
   "metadata": {},
   "outputs": [],
   "source": [
    "#!./miner/cli.py analyzer group --help"
   ]
  },
  {
   "cell_type": "markdown",
   "metadata": {},
   "source": [
    "Now as you can see both man pages look the same. \n",
    "\n",
    "As described above the facade we get exposes methods from both the higher-level MessagingAnalyzer and the lower-level ConversationStats. So in this section we will dive deep into these functionalities."
   ]
  },
  {
   "cell_type": "code",
   "execution_count": 31,
   "metadata": {},
   "outputs": [
    {
     "name": "stdout",
     "output_type": "stream",
     "text": [
      "False\r\n"
     ]
    }
   ],
   "source": [
    "!./miner/cli.py analyzer private - is_group"
   ]
  },
  {
   "cell_type": "code",
   "execution_count": 32,
   "metadata": {},
   "outputs": [
    {
     "name": "stdout",
     "output_type": "stream",
     "text": [
      "True\r\n"
     ]
    }
   ],
   "source": [
    "!./miner/cli.py analyzer group - is_group"
   ]
  },
  {
   "cell_type": "markdown",
   "metadata": {},
   "source": [
    "As we anticipated. Now all the channels in the two group. A channel is a conversation on Messenger with somebody or in a group."
   ]
  },
  {
   "cell_type": "code",
   "execution_count": 33,
   "metadata": {},
   "outputs": [
    {
     "name": "stdout",
     "output_type": "stream",
     "text": [
      "Bugs Bunny\r\n",
      "Tőke Hal\r\n",
      "Benedek Elek\r\n",
      "Foo Bar\r\n"
     ]
    }
   ],
   "source": [
    "!./miner/cli.py analyzer private - channels"
   ]
  },
  {
   "cell_type": "code",
   "execution_count": 34,
   "metadata": {},
   "outputs": [
    {
     "name": "stdout",
     "output_type": "stream",
     "text": [
      "Tőke Hal, Foo Bar, Donald Duck and 2 others\r\n",
      "Foo Bar, John Doe and Bugs Bunny\r\n",
      "marathon\r\n"
     ]
    }
   ],
   "source": [
    "!./miner/cli.py analyzer group - channels"
   ]
  },
  {
   "cell_type": "markdown",
   "metadata": {},
   "source": [
    "You can also get the number of these channels."
   ]
  },
  {
   "cell_type": "code",
   "execution_count": 35,
   "metadata": {},
   "outputs": [
    {
     "name": "stdout",
     "output_type": "stream",
     "text": [
      "3\r\n"
     ]
    }
   ],
   "source": [
    "!./miner/cli.py analyzer group - number_of_channels"
   ]
  },
  {
   "cell_type": "markdown",
   "metadata": {},
   "source": [
    " Now all the participants of these channels."
   ]
  },
  {
   "cell_type": "code",
   "execution_count": 36,
   "metadata": {},
   "outputs": [
    {
     "name": "stdout",
     "output_type": "stream",
     "text": [
      "Benedek Elek\r\n",
      "Bugs Bunny\r\n",
      "Foo Bar\r\n",
      "Jenő Rejtő\r\n",
      "Tőke Hal\r\n"
     ]
    }
   ],
   "source": [
    "!./miner/cli.py analyzer private - participants"
   ]
  },
  {
   "cell_type": "code",
   "execution_count": 37,
   "metadata": {},
   "outputs": [
    {
     "name": "stdout",
     "output_type": "stream",
     "text": [
      "Bugs Bunny\r\n",
      "Donald Duck\r\n",
      "Dér Dénes\r\n",
      "Facebook User\r\n",
      "Foo Bar\r\n",
      "Jenő Rejtő\r\n",
      "John Doe\r\n",
      "Tőke Hal\r\n"
     ]
    }
   ],
   "source": [
    "!./miner/cli.py analyzer group - participants"
   ]
  },
  {
   "cell_type": "markdown",
   "metadata": {},
   "source": [
    "These are all the people who are in the above channels. Not everyone of them contributed to the channels tho'. For this to show, we have to filter the group messages into one single channel, where test user `Teflon Musk` have not contributed."
   ]
  },
  {
   "cell_type": "code",
   "execution_count": 38,
   "metadata": {},
   "outputs": [
    {
     "name": "stdout",
     "output_type": "stream",
     "text": [
      "Bugs Bunny\r\n",
      "Donald Duck\r\n",
      "Foo Bar\r\n",
      "Jenő Rejtő\r\n"
     ]
    }
   ],
   "source": [
    "!./miner/cli.py analyzer group --channels=marathon - participants"
   ]
  },
  {
   "cell_type": "code",
   "execution_count": 39,
   "metadata": {},
   "outputs": [
    {
     "name": "stdout",
     "output_type": "stream",
     "text": [
      "Jenő Rejtő\r\n",
      "Foo Bar\r\n",
      "Donald Duck\r\n"
     ]
    }
   ],
   "source": [
    "!./miner/cli.py analyzer group --channels=marathon - contributors"
   ]
  },
  {
   "cell_type": "markdown",
   "metadata": {},
   "source": [
    "As you can see the number of contributors is only 3, as opposed to participants, which is 4. Note that you can use the `number_of_contributors` function as well.\n",
    "\n",
    "Next we have a `participant_to_channel_map` data structure, which holds information on, which people is in which channel. In `private` it's fairly straightforward (if not redundant), as the channel name and the particiapant is exactly the same, but for `group` this can be really useful information."
   ]
  },
  {
   "cell_type": "code",
   "execution_count": 40,
   "metadata": {},
   "outputs": [
    {
     "name": "stdout",
     "output_type": "stream",
     "text": [
      "Tőke Hal:     [\"Tőke Hal\"]\r\n",
      "Jenő Rejtő:   [\"Bugs Bunny\", \"Benedek Elek\", \"Foo Bar\", \"Tőke Hal\"]\r\n",
      "Foo Bar:      [\"Foo Bar\"]\r\n",
      "Bugs Bunny:   [\"Bugs Bunny\"]\r\n",
      "Benedek Elek: [\"Benedek Elek\"]\r\n"
     ]
    }
   ],
   "source": [
    "!./miner/cli.py analyzer private - participant_to_channel_map"
   ]
  },
  {
   "cell_type": "code",
   "execution_count": 41,
   "metadata": {},
   "outputs": [
    {
     "name": "stdout",
     "output_type": "stream",
     "text": [
      "Tőke Hal:      [\"Tőke Hal, Foo Bar, Donald Duck and 2 others\"]\r\n",
      "Jenő Rejtő:    [\"Foo Bar, John Doe and Bugs Bunny\", \"marathon\", \"Tőke Hal, Foo Bar, Donald Duck and 2 others\"]\r\n",
      "Dér Dénes:     [\"Tőke Hal, Foo Bar, Donald Duck and 2 others\"]\r\n",
      "Facebook User: [\"Tőke Hal, Foo Bar, Donald Duck and 2 others\"]\r\n",
      "Donald Duck:   [\"marathon\", \"Tőke Hal, Foo Bar, Donald Duck and 2 others\"]\r\n",
      "Foo Bar:       [\"Foo Bar, John Doe and Bugs Bunny\", \"marathon\", \"Tőke Hal, Foo Bar, Donald Duck and 2 others\"]\r\n",
      "Bugs Bunny:    [\"Foo Bar, John Doe and Bugs Bunny\", \"marathon\"]\r\n",
      "John Doe:      [\"Foo Bar, John Doe and Bugs Bunny\"]\r\n"
     ]
    }
   ],
   "source": [
    "!./miner/cli.py analyzer group - participant_to_channel_map"
   ]
  },
  {
   "cell_type": "markdown",
   "metadata": {},
   "source": [
    "Next let's check the number of conversations created by our test user."
   ]
  },
  {
   "cell_type": "code",
   "execution_count": 42,
   "metadata": {},
   "outputs": [
    {
     "name": "stdout",
     "output_type": "stream",
     "text": [
      "4\r\n"
     ]
    }
   ],
   "source": [
    "!./miner/cli.py analyzer private - number_of_convos_created_by_me"
   ]
  },
  {
   "cell_type": "code",
   "execution_count": 43,
   "metadata": {},
   "outputs": [
    {
     "name": "stdout",
     "output_type": "stream",
     "text": [
      "2\r\n"
     ]
    }
   ],
   "source": [
    "!./miner/cli.py analyzer group - number_of_convos_created_by_me"
   ]
  },
  {
   "cell_type": "markdown",
   "metadata": {},
   "source": [
    "We have the max-,mean-, and min_channel size. Again, for `private` all of this will be 2, but for `groups` it is more interesting."
   ]
  },
  {
   "cell_type": "code",
   "execution_count": 44,
   "metadata": {},
   "outputs": [
    {
     "name": "stdout",
     "output_type": "stream",
     "text": [
      "4\r\n"
     ]
    }
   ],
   "source": [
    "!./miner/cli.py analyzer group - min_channel_size"
   ]
  },
  {
   "cell_type": "code",
   "execution_count": 45,
   "metadata": {},
   "outputs": [
    {
     "name": "stdout",
     "output_type": "stream",
     "text": [
      "4.666666666666667\r\n"
     ]
    }
   ],
   "source": [
    "!./miner/cli.py analyzer group - mean_channel_size"
   ]
  },
  {
   "cell_type": "code",
   "execution_count": 46,
   "metadata": {},
   "outputs": [
    {
     "name": "stdout",
     "output_type": "stream",
     "text": [
      "6\r\n"
     ]
    }
   ],
   "source": [
    "!./miner/cli.py analyzer group - max_channel_size"
   ]
  },
  {
   "cell_type": "markdown",
   "metadata": {},
   "source": [
    "We can get all the channels for one conversation partner of ours, which is again a more useful feature for `group` convos."
   ]
  },
  {
   "cell_type": "code",
   "execution_count": 47,
   "metadata": {},
   "outputs": [
    {
     "name": "stdout",
     "output_type": "stream",
     "text": [
      "Tőke Hal, Foo Bar, Donald Duck and 2 others\r\n",
      "marathon\r\n",
      "Foo Bar, John Doe and Bugs Bunny\r\n"
     ]
    }
   ],
   "source": [
    "!./miner/cli.py analyzer group - all_channels --name='Foo Bar'"
   ]
  },
  {
   "cell_type": "code",
   "execution_count": 48,
   "metadata": {},
   "outputs": [
    {
     "name": "stdout",
     "output_type": "stream",
     "text": [
      "Foo Bar, John Doe and Bugs Bunny\r\n"
     ]
    }
   ],
   "source": [
    "!./miner/cli.py analyzer group - all_channels --name='John Doe'"
   ]
  },
  {
   "cell_type": "markdown",
   "metadata": {},
   "source": [
    "Another nice function is the `ranking_by_statistic`. You can rank the participants of the conversations by some statistics."
   ]
  },
  {
   "cell_type": "code",
   "execution_count": 49,
   "metadata": {},
   "outputs": [
    {
     "name": "stdout",
     "output_type": "stream",
     "text": [
      "Foo Bar:      48.38709677419355\r\n",
      "Tőke Hal:     22.580645161290324\r\n",
      "Bugs Bunny:   19.35483870967742\r\n",
      "Benedek Elek: 9.67741935483871\r\n"
     ]
    }
   ],
   "source": [
    "!./miner/cli.py analyzer private - ranking_by_statistic"
   ]
  },
  {
   "cell_type": "code",
   "execution_count": 50,
   "metadata": {},
   "outputs": [
    {
     "name": "stdout",
     "output_type": "stream",
     "text": [
      "Donald Duck:   33.333333333333336\r\n",
      "Jenő Rejtő:    22.22222222222222\r\n",
      "Foo Bar:       16.666666666666668\r\n",
      "Bugs Bunny:    5.555555555555555\r\n",
      "Dér Dénes:     5.555555555555555\r\n",
      "Facebook User: 5.555555555555555\r\n",
      "John Doe:      5.555555555555555\r\n",
      "Tőke Hal:      5.555555555555555\r\n"
     ]
    }
   ],
   "source": [
    "!./miner/cli.py analyzer group - ranking_by_statistic"
   ]
  },
  {
   "cell_type": "markdown",
   "metadata": {},
   "source": [
    "Note that this function has some parameters. Let's see the manual for this function."
   ]
  },
  {
   "cell_type": "code",
   "execution_count": 51,
   "metadata": {},
   "outputs": [
    {
     "name": "stdout",
     "output_type": "stream",
     "text": [
      "INFO: Showing help with the command 'Facebook-Data-Miner analyzer group - ranking_by_statistic -- --help'.\n",
      "\n",
      "\u001b[1mNAME\u001b[0m\n",
      "    Facebook-Data-Miner analyzer group ranking_by_statistic - @param by: attribute we are interested in. Can be any of the ConversationStats properties, but it has to be numeric. @param ranking: format of return value. Any of percent or absolute. @param top: used to limit the number of results for better readability. @return: dictionary containing ranking in any of percent or absolute values.\n",
      "\n",
      "\u001b[1mSYNOPSIS\u001b[0m\n",
      "    Facebook-Data-Miner analyzer group - ranking_by_statistic <flags>\n",
      "\n",
      "\u001b[1mDESCRIPTION\u001b[0m\n",
      "    @param by: attribute we are interested in. Can be any of the ConversationStats properties, but it has to be numeric. @param ranking: format of return value. Any of percent or absolute. @param top: used to limit the number of results for better readability. @return: dictionary containing ranking in any of percent or absolute values.\n",
      "\n",
      "\u001b[1mFLAGS\u001b[0m\n",
      "    --by=\u001b[4mBY\u001b[0m\n",
      "    --ranking=\u001b[4mRANKING\u001b[0m\n",
      "    --top=\u001b[4mTOP\u001b[0m\n"
     ]
    }
   ],
   "source": [
    "!./miner/cli.py analyzer group - ranking_by_statistic --help"
   ]
  },
  {
   "cell_type": "markdown",
   "metadata": {},
   "source": [
    "We can change the `by` parameter to word count (wc) or character count (cc)..."
   ]
  },
  {
   "cell_type": "code",
   "execution_count": 52,
   "metadata": {},
   "outputs": [
    {
     "name": "stdout",
     "output_type": "stream",
     "text": [
      "Benedek Elek: 41.76904176904177\r\n",
      "Foo Bar:      34.3980343980344\r\n",
      "Bugs Bunny:   12.285012285012286\r\n",
      "Tőke Hal:     11.547911547911548\r\n"
     ]
    }
   ],
   "source": [
    "!./miner/cli.py analyzer private - ranking_by_statistic --by=cc"
   ]
  },
  {
   "cell_type": "markdown",
   "metadata": {},
   "source": [
    "Note how this changes the ranking. \n",
    "\n",
    "The output shows ranking in percent, but we can change it to absolute count."
   ]
  },
  {
   "cell_type": "code",
   "execution_count": 53,
   "metadata": {},
   "outputs": [
    {
     "name": "stdout",
     "output_type": "stream",
     "text": [
      "Foo Bar:      34\r\n",
      "Benedek Elek: 32\r\n",
      "Bugs Bunny:   14\r\n",
      "Tőke Hal:     11\r\n"
     ]
    }
   ],
   "source": [
    "!./miner/cli.py  analyzer private - ranking_by_statistic --by=wc --ranking=count"
   ]
  },
  {
   "cell_type": "markdown",
   "metadata": {},
   "source": [
    "It is quite possible that if you want to try this out with your own data, you will have tons of entries here. Change the `top` parameter if you want to limit the number of outputs."
   ]
  },
  {
   "cell_type": "code",
   "execution_count": 54,
   "metadata": {},
   "outputs": [
    {
     "name": "stdout",
     "output_type": "stream",
     "text": [
      "Foo Bar:    8\r\n",
      "Tőke Hal:   7\r\n",
      "Bugs Bunny: 4\r\n"
     ]
    }
   ],
   "source": [
    "!./miner/cli.py analyzer private - ranking_by_statistic --by=text_mc --ranking=count --top=3"
   ]
  },
  {
   "cell_type": "markdown",
   "metadata": {},
   "source": [
    "#### Private and Group ConversationStats\n",
    "\n",
    "**TL;DR**:\n",
    "We access this object's methods through the same facade through we access the Analyzer object's methods, although there is quite a difference between the two. \n",
    "\n",
    "*A detailed description:*\n",
    "As the name suggests this class is a container for holding statsictical data/information about converations. The basic concept is that it does not know general conversation metadata, since it is only constructed by the messages and the metadata of unique messages (who sent it, what kind of messages is it, when was it sent). This object is created by `MessagingAnalyzer` class by passing in the DataFrame as input. The DataFrame is created from all the conversations that the analyzer holds (remember you can filter them, down to a single conversation). \n",
    "\n",
    "So to sum it up, `MessagingAnalyzer` knows about the channels and all the metadata of the conversations, while `ConversationStats` only knows about the messages themselves.\n",
    "\n",
    "We expose `ConversationStats`' interesting properties and methods, so let's discover them."
   ]
  },
  {
   "cell_type": "code",
   "execution_count": 55,
   "metadata": {},
   "outputs": [
    {
     "name": "stdout",
     "output_type": "stream",
     "text": [
      "WARNING:root:Too many `channels` to calculate this.\r\n",
      "\r\n"
     ]
    }
   ],
   "source": [
    "!./miner/cli.py  analyzer private - creator"
   ]
  },
  {
   "cell_type": "markdown",
   "metadata": {},
   "source": [
    "You got a warning, because this method only makes sense if there is only one conversation under analysis. So we should filter the private conversations first."
   ]
  },
  {
   "cell_type": "code",
   "execution_count": 56,
   "metadata": {},
   "outputs": [
    {
     "name": "stdout",
     "output_type": "stream",
     "text": [
      "\r\n"
     ]
    }
   ],
   "source": [
    "!./miner/cli.py  analyzer private --channels='Teflon Musk' - creator"
   ]
  },
  {
   "cell_type": "code",
   "execution_count": 57,
   "metadata": {},
   "outputs": [
    {
     "name": "stdout",
     "output_type": "stream",
     "text": [
      "Jenő Rejtő\r\n"
     ]
    }
   ],
   "source": [
    "!./miner/cli.py analyzer group --channels=marathon - creator"
   ]
  },
  {
   "cell_type": "markdown",
   "metadata": {},
   "source": [
    "You can get the the timestamp of the first and the last message sent. Remember if you don't filter the the messaging data, you will get the first message ever sent by or to you, and the last message before downloading your Facebook data that was sent by or to you."
   ]
  },
  {
   "cell_type": "code",
   "execution_count": 58,
   "metadata": {},
   "outputs": [
    {
     "name": "stdout",
     "output_type": "stream",
     "text": [
      "2011-07-17 13:00:06.580000+00:00\r\n"
     ]
    }
   ],
   "source": [
    "!./miner/cli.py analyzer group - start"
   ]
  },
  {
   "cell_type": "code",
   "execution_count": 59,
   "metadata": {},
   "outputs": [],
   "source": [
    "!./miner/cli.py  analyzer group --participants=\"Teflon Musk\" - start"
   ]
  },
  {
   "cell_type": "code",
   "execution_count": 60,
   "metadata": {},
   "outputs": [
    {
     "name": "stdout",
     "output_type": "stream",
     "text": [
      "2018-01-10 21:08:26.047000+00:00\r\n"
     ]
    }
   ],
   "source": [
    "!./miner/cli.py  analyzer private --senders=\"Benedek Elek\" - end"
   ]
  },
  {
   "cell_type": "markdown",
   "metadata": {},
   "source": [
    "You can get all the `messages` as well, be it `text` or `media`, but you can also get these separately. Since these are pandas DataFrames, you can pipe them into an output file, just as it was possible with `friends` or `conversations`."
   ]
  },
  {
   "cell_type": "code",
   "execution_count": 61,
   "metadata": {},
   "outputs": [
    {
     "name": "stdout",
     "output_type": "stream",
     "text": [
      "timestamp_ms,sender_name,content,type,partner,videos,audio_files,photos,gifs,reactions,files\r\n",
      "2014-09-24 15:02:08.715000+00:00,Jenő Rejtő,are you the real Bugs Bunny?,Generic,Bugs Bunny,,,,,,\r\n",
      "2014-11-09 18:56:46.047000+00:00,Jenő Rejtő,older stuff,Generic,Tőke Hal,,,,,,\r\n",
      "2014-11-09 19:13:26.047000+00:00,Tőke Hal,testing multiple files,Generic,Tőke Hal,,,,,,\r\n",
      "2014-11-09 22:13:48.715000+00:00,Jenő Rejtő,yo,Generic,Tőke Hal,,,,,,\r\n",
      "2014-11-09 22:13:48.715000+00:00,Jenő Rejtő,are you the real Bugs Bunny?,Generic,Bugs Bunny,,,,,,\r\n",
      "2014-11-10 11:20:06.047000+00:00,Tőke Hal,yo,Generic,Tőke Hal,,,,,,\r\n",
      "2014-11-10 11:21:46.047000+00:00,Tőke Hal,zup,Generic,Tőke Hal,,,,,,\r\n",
      "2014-11-10 11:21:46.047000+00:00,Bugs Bunny,no,Generic,Bugs Bunny,,,,,,\r\n",
      "2014-11-10 11:26:46.047000+00:00,Bugs Bunny,no,Generic,Bugs Bunny,,,,,,\r\n",
      "2014-11-10 11:30:45.145000+00:00,Jenő Rejtő,not much,Generic,Tőke Hal,,,,,,\r\n",
      "2014-11-22 01:17:25.145000+00:00,Jenő Rejtő,,Generic,Bugs Bunny,,,[{'uri': 'messages/inbox/TeflonMusk_fSD454F/photos/index.jpeg'}],,,\r\n",
      "2014-12-03 15:07:25.145000+00:00,Jenő Rejtő,not,Generic,Tőke Hal,,,,,,\r\n",
      "2014-12-26 19:01:46.047000+00:00,Bugs Bunny,,Generic,Bugs Bunny,,,,,,[{'uri': 'messages/inbox/TeflonMusk_fSD454F/files/1810.04805.pdf'}]\r\n",
      "2018-01-10 08:00:28.715000+00:00,Jenő Rejtő,\"yo Legyen az, hogy most megprobalok ekezet nelkul irni. Seems pretty easy. I need some english words in here. Right? A magyar szavak felismereset probalom tesztelni ezzekkel a mondatokkal.\",Generic,Benedek Elek,,,,,,\r\n",
      "2018-01-10 21:08:26.047000+00:00,Benedek Elek,zup,Generic,Benedek Elek,,,,,,\r\n",
      "2018-01-10 21:17:25.145000+00:00,Jenő Rejtő,not much,Generic,Benedek Elek,,,,,,\r\n",
      "2020-02-13 05:15:28.715000+00:00,Jenő Rejtő,Lorem lorim.. foo bar 😡😡😡,Generic,Foo Bar,,,,,,\r\n",
      "2020-02-13 05:15:38.715000+00:00,Foo Bar,Ut akar ... consequat. oO wow :P xd :D,Generic,Foo Bar,,,,,\"[{'reaction': '❤', 'actor': 'Jenő Rejtő'}]\",\r\n",
      "2020-02-14 00:42:08.145000+00:00,Jenő Rejtő,,Generic,Foo Bar,,,[{'uri': 'messages/inbox/FooBar_n5fd6gG50h/photos/blueberry-5417154_960_720.jpg'}],,,\r\n",
      "2020-02-14 03:28:48.047000+00:00,Foo Bar,,Generic,Foo Bar,,,,,,[{'uri': 'messages/inbox/FooBar_n5fd6gG50h/files/1810.04805.pdf'}]\r\n",
      "2020-02-14 11:48:48.047000+00:00,Jenő Rejtő,Duis duia .. ! xdddddd :D,Generic,Foo Bar,,,,,,\r\n",
      "2020-02-14 14:35:28.047000+00:00,Foo Bar,Excepteur...laborum. :D,Generic,Foo Bar,,,,,,\r\n",
      "2020-02-14 17:22:08.145000+00:00,Jenő Rejtő,,Generic,Foo Bar,,,,[{'uri': 'messages/inbox/FooBar_n5fd6gG50h/gifs/97999627_1419172538270405_8596479473619042304_n_2963870430335255.gif'}],\"[{'reaction': '😮', 'actor': 'Foo Bar'}]\",\r\n",
      "2020-02-17 23:08:48.047000+00:00,Jenő Rejtő,What the hack? xdddddd :D,Generic,Foo Bar,,,,,,\r\n",
      "2020-02-18 07:28:48.145000+00:00,Foo Bar,,Generic,Foo Bar,,,,[{'uri': 'messages/inbox/FooBar_n5fd6gG50h/gifs/19349964_1624604560892442_7457726181358436352_n_487109582171361.gif'}],\"[{'reaction': '❤', 'actor': 'Jenő Rejtő'}]\",\r\n",
      "2020-02-26 12:42:08.145000+00:00,Jenő Rejtő,,Generic,Foo Bar,,,[{'uri': 'messages/inbox/FooBar_n5fd6gG50h/photos/apple-5391076_960_720.jpg'}],,,\r\n",
      "2020-03-09 10:48:48.047000+00:00,Foo Bar,,Generic,Foo Bar,,\"[{'uri': 'messages/inbox/FooBar_n5fd6gG50h/audio/audioclip15905232600004598_2621787141481389.mp4', 'creation_timestamp': 1583750927}]\",,,,\r\n",
      "2020-04-02 18:08:48.047000+00:00,Jenő Rejtő,Whet? Check this! :P,Generic,Foo Bar,,,,,,\r\n",
      "2020-04-25 21:42:08.047000+00:00,Jenő Rejtő,,Generic,Foo Bar,\"[{'uri': 'messages/inbox/FooBar_n5fd6gG50h/videos/video1501528035_1573509826004448.mp4', 'creation_timestamp': 1587850940, 'thumbnail': {'uri': 'messages/inbox/FooBar_n5fd6gG50h/videos/thumbnails/20562500_1414664788613193_5052712665724834582_n.jpg'}}]\",,,,,\r\n",
      "2020-05-03 10:15:28.123000+00:00,Foo Bar,OUT!,Generic,Foo Bar,,,,,,\r\n",
      "2020-08-08 18:22:08.321000+00:00,Jenő Rejtő,OUT! ❤,Generic,Foo Bar,,,,,,\r\n",
      "\r\n"
     ]
    }
   ],
   "source": [
    "!./miner/cli.py  analyzer private - messages"
   ]
  },
  {
   "cell_type": "code",
   "execution_count": 62,
   "metadata": {},
   "outputs": [
    {
     "name": "stdout",
     "output_type": "stream",
     "text": [
      "timestamp_ms,sender_name,content,type,partner,photos,gifs\r\n",
      "2011-07-17 13:00:06.580000+00:00,Donald Duck,test,Generic,\"Tőke Hal, Foo Bar, Donald Duck and 2 others\",,\r\n",
      "2011-07-17 13:00:13.721000+00:00,Foo Bar,what do you test,Generic,\"Tőke Hal, Foo Bar, Donald Duck and 2 others\",,\r\n",
      "2011-07-17 13:00:32.011000+00:00,Tőke Hal,basic group messages,Generic,\"Tőke Hal, Foo Bar, Donald Duck and 2 others\",,\r\n",
      "2011-07-17 13:00:32.012000+00:00,Dér Dénes,blabla,Generic,\"Tőke Hal, Foo Bar, Donald Duck and 2 others\",,\r\n",
      "2011-07-17 13:02:54.237000+00:00,Facebook User,ok,Generic,\"Tőke Hal, Foo Bar, Donald Duck and 2 others\",,\r\n",
      "2018-04-19 10:31:42.152000+00:00,Jenő Rejtő,marathon?,Generic,marathon,,\r\n",
      "2018-04-19 10:32:21.074000+00:00,Foo Bar,yapp yapp :D,Generic,marathon,,\r\n",
      "2018-04-19 10:32:35.273000+00:00,Jenő Rejtő,You named the group marathon.,Generic,marathon,,\r\n",
      "2018-04-19 11:35:37.066000+00:00,Donald Duck,,Generic,marathon,,[{'uri': 'messages/inbox/marathon_sfFSFiD76/gifs/21297336_10214236646047101_8870179296803553280_n_2116299178397271.gif'}]\r\n",
      "2018-04-19 11:35:49.717000+00:00,Donald Duck,i start today,Generic,marathon,,\r\n",
      "2018-04-19 11:37:39.673000+00:00,Donald Duck,,Generic,marathon,\"[{'uri': 'messages/inbox/marathon_sfFSFiD76/photos/index.jpeg', 'creation_timestamp': 1524137857}]\",\r\n",
      "2018-04-19 11:38:02.444000+00:00,Donald Duck,we could go but running is free,Generic,marathon,,\r\n",
      "2018-04-19 11:38:32.776000+00:00,Jenő Rejtő,hmmm,Generic,marathon,,\r\n",
      "2018-04-19 12:52:39.709000+00:00,Donald Duck,:D,Generic,marathon,,\r\n",
      "\r\n"
     ]
    }
   ],
   "source": [
    "!./miner/cli.py  analyzer group --participants=\"Donald Duck\" - messages"
   ]
  },
  {
   "cell_type": "code",
   "execution_count": 63,
   "metadata": {},
   "outputs": [
    {
     "name": "stdout",
     "output_type": "stream",
     "text": [
      "timestamp_ms,sender_name,content,type,partner,photos,gifs\r\n",
      "2011-07-17 13:00:06.580000+00:00,Donald Duck,test,Generic,\"Tőke Hal, Foo Bar, Donald Duck and 2 others\",,\r\n",
      "2018-04-19 11:35:37.066000+00:00,Donald Duck,,Generic,marathon,,[{'uri': 'messages/inbox/marathon_sfFSFiD76/gifs/21297336_10214236646047101_8870179296803553280_n_2116299178397271.gif'}]\r\n",
      "2018-04-19 11:35:49.717000+00:00,Donald Duck,i start today,Generic,marathon,,\r\n",
      "2018-04-19 11:37:39.673000+00:00,Donald Duck,,Generic,marathon,\"[{'uri': 'messages/inbox/marathon_sfFSFiD76/photos/index.jpeg', 'creation_timestamp': 1524137857}]\",\r\n",
      "2018-04-19 11:38:02.444000+00:00,Donald Duck,we could go but running is free,Generic,marathon,,\r\n",
      "2018-04-19 12:52:39.709000+00:00,Donald Duck,:D,Generic,marathon,,\r\n",
      "\r\n"
     ]
    }
   ],
   "source": [
    "!./miner/cli.py  analyzer group --senders=\"Donald Duck\" - messages"
   ]
  },
  {
   "cell_type": "markdown",
   "metadata": {},
   "source": [
    "See, we can filter for `participants` and for `senders`. \n",
    "\n",
    "Filtering for the former means, we want all the messages that was sent in a channel where the subject was a participant. \n",
    "\n",
    "Filtering for the latter means we only want the subject's messages.\n",
    "\n",
    "Now let's get the text and media messages only."
   ]
  },
  {
   "cell_type": "code",
   "execution_count": 64,
   "metadata": {},
   "outputs": [
    {
     "name": "stdout",
     "output_type": "stream",
     "text": [
      "timestamp_ms,content\r\n",
      "2020-02-13 05:15:28.715000+00:00,Lorem lorim.. foo bar 😡😡😡\r\n",
      "2020-02-13 05:15:38.715000+00:00,Ut akar ... consequat. oO wow :P xd :D\r\n",
      "2020-02-14 11:48:48.047000+00:00,Duis duia .. ! xdddddd :D\r\n",
      "2020-02-14 14:35:28.047000+00:00,Excepteur...laborum. :D\r\n",
      "2020-02-17 23:08:48.047000+00:00,What the hack? xdddddd :D\r\n",
      "2020-04-02 18:08:48.047000+00:00,Whet? Check this! :P\r\n",
      "2020-05-03 10:15:28.123000+00:00,OUT!\r\n",
      "2020-08-08 18:22:08.321000+00:00,OUT! ❤\r\n",
      "\r\n"
     ]
    }
   ],
   "source": [
    "!./miner/cli.py  analyzer private --channels=\"Foo Bar\" - text"
   ]
  },
  {
   "cell_type": "code",
   "execution_count": 65,
   "metadata": {},
   "outputs": [
    {
     "name": "stdout",
     "output_type": "stream",
     "text": [
      "timestamp_ms,photos,gifs,files,videos,audio_files\r\n",
      "2020-02-14 00:42:08.145000+00:00,[{'uri': 'messages/inbox/FooBar_n5fd6gG50h/photos/blueberry-5417154_960_720.jpg'}],,,,\r\n",
      "2020-02-14 03:28:48.047000+00:00,,,[{'uri': 'messages/inbox/FooBar_n5fd6gG50h/files/1810.04805.pdf'}],,\r\n",
      "2020-02-14 17:22:08.145000+00:00,,[{'uri': 'messages/inbox/FooBar_n5fd6gG50h/gifs/97999627_1419172538270405_8596479473619042304_n_2963870430335255.gif'}],,,\r\n",
      "2020-02-18 07:28:48.145000+00:00,,[{'uri': 'messages/inbox/FooBar_n5fd6gG50h/gifs/19349964_1624604560892442_7457726181358436352_n_487109582171361.gif'}],,,\r\n",
      "2020-02-26 12:42:08.145000+00:00,[{'uri': 'messages/inbox/FooBar_n5fd6gG50h/photos/apple-5391076_960_720.jpg'}],,,,\r\n",
      "2020-03-09 10:48:48.047000+00:00,,,,,\"[{'uri': 'messages/inbox/FooBar_n5fd6gG50h/audio/audioclip15905232600004598_2621787141481389.mp4', 'creation_timestamp': 1583750927}]\"\r\n",
      "2020-04-25 21:42:08.047000+00:00,,,,\"[{'uri': 'messages/inbox/FooBar_n5fd6gG50h/videos/video1501528035_1573509826004448.mp4', 'creation_timestamp': 1587850940, 'thumbnail': {'uri': 'messages/inbox/FooBar_n5fd6gG50h/videos/thumbnails/20562500_1414664788613193_5052712665724834582_n.jpg'}}]\",\r\n",
      "\r\n"
     ]
    }
   ],
   "source": [
    "!./miner/cli.py  analyzer private --channels=\"Foo Bar\" - media"
   ]
  },
  {
   "cell_type": "markdown",
   "metadata": {},
   "source": [
    "Note that you can also filter by dates. The input flags are `start`, `end`, `period`.\n",
    "\n",
    "In [the other notebook](facebook-data-miner.ipynb) this is described as.\n",
    "> Filter by `start` and `end` is pretty intuitive. You can use both datetime objects and strings (however note that you can only use strings in this format `%Y-%m-%d` as defined in [ISO_8601](https://en.wikipedia.org/wiki/ISO_8601)). Feel free to play areound with these filter parameters.\n",
    "> Filtering by `period` is less intuitive. `period` in this context means a year, a month, a day, an hour. It is not so flexible, but pretty comfortable to use. You have to use `period` with either `start` or `end`. With `start` it's like the following equation `from start to start+period` and with `end` it's like `from end-period to end`."
   ]
  },
  {
   "cell_type": "code",
   "execution_count": 66,
   "metadata": {},
   "outputs": [
    {
     "name": "stdout",
     "output_type": "stream",
     "text": [
      "timestamp_ms,sender_name,content,type,partner,videos,audio_files,photos,gifs,reactions,files\r\n",
      "2018-01-10 08:00:28.715000+00:00,Jenő Rejtő,\"yo Legyen az, hogy most megprobalok ekezet nelkul irni. Seems pretty easy. I need some english words in here. Right? A magyar szavak felismereset probalom tesztelni ezzekkel a mondatokkal.\",Generic,Benedek Elek,,,,,,\r\n",
      "2018-01-10 21:08:26.047000+00:00,Benedek Elek,zup,Generic,Benedek Elek,,,,,,\r\n",
      "2018-01-10 21:17:25.145000+00:00,Jenő Rejtő,not much,Generic,Benedek Elek,,,,,,\r\n",
      "2020-02-13 05:15:28.715000+00:00,Jenő Rejtő,Lorem lorim.. foo bar 😡😡😡,Generic,Foo Bar,,,,,,\r\n",
      "2020-02-13 05:15:38.715000+00:00,Foo Bar,Ut akar ... consequat. oO wow :P xd :D,Generic,Foo Bar,,,,,\"[{'reaction': '❤', 'actor': 'Jenő Rejtő'}]\",\r\n",
      "2020-02-14 00:42:08.145000+00:00,Jenő Rejtő,,Generic,Foo Bar,,,[{'uri': 'messages/inbox/FooBar_n5fd6gG50h/photos/blueberry-5417154_960_720.jpg'}],,,\r\n",
      "2020-02-14 03:28:48.047000+00:00,Foo Bar,,Generic,Foo Bar,,,,,,[{'uri': 'messages/inbox/FooBar_n5fd6gG50h/files/1810.04805.pdf'}]\r\n",
      "2020-02-14 11:48:48.047000+00:00,Jenő Rejtő,Duis duia .. ! xdddddd :D,Generic,Foo Bar,,,,,,\r\n",
      "2020-02-14 14:35:28.047000+00:00,Foo Bar,Excepteur...laborum. :D,Generic,Foo Bar,,,,,,\r\n",
      "2020-02-14 17:22:08.145000+00:00,Jenő Rejtő,,Generic,Foo Bar,,,,[{'uri': 'messages/inbox/FooBar_n5fd6gG50h/gifs/97999627_1419172538270405_8596479473619042304_n_2963870430335255.gif'}],\"[{'reaction': '😮', 'actor': 'Foo Bar'}]\",\r\n",
      "2020-02-17 23:08:48.047000+00:00,Jenő Rejtő,What the hack? xdddddd :D,Generic,Foo Bar,,,,,,\r\n",
      "2020-02-18 07:28:48.145000+00:00,Foo Bar,,Generic,Foo Bar,,,,[{'uri': 'messages/inbox/FooBar_n5fd6gG50h/gifs/19349964_1624604560892442_7457726181358436352_n_487109582171361.gif'}],\"[{'reaction': '❤', 'actor': 'Jenő Rejtő'}]\",\r\n",
      "2020-02-26 12:42:08.145000+00:00,Jenő Rejtő,,Generic,Foo Bar,,,[{'uri': 'messages/inbox/FooBar_n5fd6gG50h/photos/apple-5391076_960_720.jpg'}],,,\r\n",
      "2020-03-09 10:48:48.047000+00:00,Foo Bar,,Generic,Foo Bar,,\"[{'uri': 'messages/inbox/FooBar_n5fd6gG50h/audio/audioclip15905232600004598_2621787141481389.mp4', 'creation_timestamp': 1583750927}]\",,,,\r\n",
      "2020-04-02 18:08:48.047000+00:00,Jenő Rejtő,Whet? Check this! :P,Generic,Foo Bar,,,,,,\r\n",
      "2020-04-25 21:42:08.047000+00:00,Jenő Rejtő,,Generic,Foo Bar,\"[{'uri': 'messages/inbox/FooBar_n5fd6gG50h/videos/video1501528035_1573509826004448.mp4', 'creation_timestamp': 1587850940, 'thumbnail': {'uri': 'messages/inbox/FooBar_n5fd6gG50h/videos/thumbnails/20562500_1414664788613193_5052712665724834582_n.jpg'}}]\",,,,,\r\n",
      "2020-05-03 10:15:28.123000+00:00,Foo Bar,OUT!,Generic,Foo Bar,,,,,,\r\n",
      "2020-08-08 18:22:08.321000+00:00,Jenő Rejtő,OUT! ❤,Generic,Foo Bar,,,,,,\r\n",
      "\r\n"
     ]
    }
   ],
   "source": [
    "!./miner/cli.py  analyzer private --start=\"2018-01-01\" - messages"
   ]
  },
  {
   "cell_type": "code",
   "execution_count": 67,
   "metadata": {},
   "outputs": [
    {
     "name": "stdout",
     "output_type": "stream",
     "text": [
      "timestamp_ms,sender_name,content,type,partner,photos,gifs,reactions,files\r\n",
      "2014-09-24 15:02:08.715000+00:00,Jenő Rejtő,are you the real Bugs Bunny?,Generic,Bugs Bunny,,,,\r\n",
      "2014-11-09 18:56:46.047000+00:00,Jenő Rejtő,older stuff,Generic,Tőke Hal,,,,\r\n",
      "2014-11-09 19:13:26.047000+00:00,Tőke Hal,testing multiple files,Generic,Tőke Hal,,,,\r\n",
      "2014-11-09 22:13:48.715000+00:00,Jenő Rejtő,yo,Generic,Tőke Hal,,,,\r\n",
      "2014-11-09 22:13:48.715000+00:00,Jenő Rejtő,are you the real Bugs Bunny?,Generic,Bugs Bunny,,,,\r\n",
      "2014-11-10 11:20:06.047000+00:00,Tőke Hal,yo,Generic,Tőke Hal,,,,\r\n",
      "2014-11-10 11:21:46.047000+00:00,Tőke Hal,zup,Generic,Tőke Hal,,,,\r\n",
      "2014-11-10 11:21:46.047000+00:00,Bugs Bunny,no,Generic,Bugs Bunny,,,,\r\n",
      "2014-11-10 11:26:46.047000+00:00,Bugs Bunny,no,Generic,Bugs Bunny,,,,\r\n",
      "2014-11-10 11:30:45.145000+00:00,Jenő Rejtő,not much,Generic,Tőke Hal,,,,\r\n",
      "2014-11-22 01:17:25.145000+00:00,Jenő Rejtő,,Generic,Bugs Bunny,[{'uri': 'messages/inbox/TeflonMusk_fSD454F/photos/index.jpeg'}],,,\r\n",
      "2014-12-03 15:07:25.145000+00:00,Jenő Rejtő,not,Generic,Tőke Hal,,,,\r\n",
      "2014-12-26 19:01:46.047000+00:00,Bugs Bunny,,Generic,Bugs Bunny,,,,[{'uri': 'messages/inbox/TeflonMusk_fSD454F/files/1810.04805.pdf'}]\r\n",
      "2018-01-10 08:00:28.715000+00:00,Jenő Rejtő,\"yo Legyen az, hogy most megprobalok ekezet nelkul irni. Seems pretty easy. I need some english words in here. Right? A magyar szavak felismereset probalom tesztelni ezzekkel a mondatokkal.\",Generic,Benedek Elek,,,,\r\n",
      "2018-01-10 21:08:26.047000+00:00,Benedek Elek,zup,Generic,Benedek Elek,,,,\r\n",
      "2018-01-10 21:17:25.145000+00:00,Jenő Rejtő,not much,Generic,Benedek Elek,,,,\r\n",
      "2020-02-13 05:15:28.715000+00:00,Jenő Rejtő,Lorem lorim.. foo bar 😡😡😡,Generic,Foo Bar,,,,\r\n",
      "2020-02-13 05:15:38.715000+00:00,Foo Bar,Ut akar ... consequat. oO wow :P xd :D,Generic,Foo Bar,,,\"[{'reaction': '❤', 'actor': 'Jenő Rejtő'}]\",\r\n",
      "2020-02-14 00:42:08.145000+00:00,Jenő Rejtő,,Generic,Foo Bar,[{'uri': 'messages/inbox/FooBar_n5fd6gG50h/photos/blueberry-5417154_960_720.jpg'}],,,\r\n",
      "2020-02-14 03:28:48.047000+00:00,Foo Bar,,Generic,Foo Bar,,,,[{'uri': 'messages/inbox/FooBar_n5fd6gG50h/files/1810.04805.pdf'}]\r\n",
      "2020-02-14 11:48:48.047000+00:00,Jenő Rejtő,Duis duia .. ! xdddddd :D,Generic,Foo Bar,,,,\r\n",
      "2020-02-14 14:35:28.047000+00:00,Foo Bar,Excepteur...laborum. :D,Generic,Foo Bar,,,,\r\n",
      "2020-02-14 17:22:08.145000+00:00,Jenő Rejtő,,Generic,Foo Bar,,[{'uri': 'messages/inbox/FooBar_n5fd6gG50h/gifs/97999627_1419172538270405_8596479473619042304_n_2963870430335255.gif'}],\"[{'reaction': '😮', 'actor': 'Foo Bar'}]\",\r\n",
      "\r\n"
     ]
    }
   ],
   "source": [
    "!./miner/cli.py  analyzer private --end=\"2020-02-15\" - messages"
   ]
  },
  {
   "cell_type": "markdown",
   "metadata": {},
   "source": [
    "Write these outputs to file like this."
   ]
  },
  {
   "cell_type": "code",
   "execution_count": 68,
   "metadata": {},
   "outputs": [
    {
     "name": "stdout",
     "output_type": "stream",
     "text": [
      "Data was written to /home/levente/projects/facebook-data-miner/out.csv\r\n"
     ]
    }
   ],
   "source": [
    "!./miner/cli.py  analyzer private - messages --output=$BASE_PATH/out.csv"
   ]
  },
  {
   "cell_type": "code",
   "execution_count": 69,
   "metadata": {},
   "outputs": [
    {
     "name": "stdout",
     "output_type": "stream",
     "text": [
      "timestamp_ms,sender_name,content,type,partner,videos,audio_files,photos,gifs,reactions,files\r\n",
      "2014-09-24 15:02:08.715000+00:00,Jenő Rejtő,are you the real Bugs Bunny?,Generic,Bugs Bunny,,,,,,\r\n",
      "2014-11-09 18:56:46.047000+00:00,Jenő Rejtő,older stuff,Generic,Tőke Hal,,,,,,\r\n",
      "2014-11-09 19:13:26.047000+00:00,Tőke Hal,testing multiple files,Generic,Tőke Hal,,,,,,\r\n",
      "2014-11-09 22:13:48.715000+00:00,Jenő Rejtő,yo,Generic,Tőke Hal,,,,,,\r\n",
      "2014-11-09 22:13:48.715000+00:00,Jenő Rejtő,are you the real Bugs Bunny?,Generic,Bugs Bunny,,,,,,\r\n",
      "2014-11-10 11:20:06.047000+00:00,Tőke Hal,yo,Generic,Tőke Hal,,,,,,\r\n",
      "2014-11-10 11:21:46.047000+00:00,Tőke Hal,zup,Generic,Tőke Hal,,,,,,\r\n",
      "2014-11-10 11:21:46.047000+00:00,Bugs Bunny,no,Generic,Bugs Bunny,,,,,,\r\n",
      "2014-11-10 11:26:46.047000+00:00,Bugs Bunny,no,Generic,Bugs Bunny,,,,,,\r\n",
      "2014-11-10 11:30:45.145000+00:00,Jenő Rejtő,not much,Generic,Tőke Hal,,,,,,\r\n",
      "2014-11-22 01:17:25.145000+00:00,Jenő Rejtő,,Generic,Bugs Bunny,,,[{'uri': 'messages/inbox/TeflonMusk_fSD454F/photos/index.jpeg'}],,,\r\n",
      "2014-12-03 15:07:25.145000+00:00,Jenő Rejtő,not,Generic,Tőke Hal,,,,,,\r\n",
      "2014-12-26 19:01:46.047000+00:00,Bugs Bunny,,Generic,Bugs Bunny,,,,,,[{'uri': 'messages/inbox/TeflonMusk_fSD454F/files/1810.04805.pdf'}]\r\n",
      "2018-01-10 08:00:28.715000+00:00,Jenő Rejtő,\"yo Legyen az, hogy most megprobalok ekezet nelkul irni. Seems pretty easy. I need some english words in here. Right? A magyar szavak felismereset probalom tesztelni ezzekkel a mondatokkal.\",Generic,Benedek Elek,,,,,,\r\n",
      "2018-01-10 21:08:26.047000+00:00,Benedek Elek,zup,Generic,Benedek Elek,,,,,,\r\n",
      "2018-01-10 21:17:25.145000+00:00,Jenő Rejtő,not much,Generic,Benedek Elek,,,,,,\r\n",
      "2020-02-13 05:15:28.715000+00:00,Jenő Rejtő,Lorem lorim.. foo bar 😡😡😡,Generic,Foo Bar,,,,,,\r\n",
      "2020-02-13 05:15:38.715000+00:00,Foo Bar,Ut akar ... consequat. oO wow :P xd :D,Generic,Foo Bar,,,,,\"[{'reaction': '❤', 'actor': 'Jenő Rejtő'}]\",\r\n",
      "2020-02-14 00:42:08.145000+00:00,Jenő Rejtő,,Generic,Foo Bar,,,[{'uri': 'messages/inbox/FooBar_n5fd6gG50h/photos/blueberry-5417154_960_720.jpg'}],,,\r\n",
      "2020-02-14 03:28:48.047000+00:00,Foo Bar,,Generic,Foo Bar,,,,,,[{'uri': 'messages/inbox/FooBar_n5fd6gG50h/files/1810.04805.pdf'}]\r\n",
      "2020-02-14 11:48:48.047000+00:00,Jenő Rejtő,Duis duia .. ! xdddddd :D,Generic,Foo Bar,,,,,,\r\n",
      "2020-02-14 14:35:28.047000+00:00,Foo Bar,Excepteur...laborum. :D,Generic,Foo Bar,,,,,,\r\n",
      "2020-02-14 17:22:08.145000+00:00,Jenő Rejtő,,Generic,Foo Bar,,,,[{'uri': 'messages/inbox/FooBar_n5fd6gG50h/gifs/97999627_1419172538270405_8596479473619042304_n_2963870430335255.gif'}],\"[{'reaction': '😮', 'actor': 'Foo Bar'}]\",\r\n",
      "2020-02-17 23:08:48.047000+00:00,Jenő Rejtő,What the hack? xdddddd :D,Generic,Foo Bar,,,,,,\r\n",
      "2020-02-18 07:28:48.145000+00:00,Foo Bar,,Generic,Foo Bar,,,,[{'uri': 'messages/inbox/FooBar_n5fd6gG50h/gifs/19349964_1624604560892442_7457726181358436352_n_487109582171361.gif'}],\"[{'reaction': '❤', 'actor': 'Jenő Rejtő'}]\",\r\n",
      "2020-02-26 12:42:08.145000+00:00,Jenő Rejtő,,Generic,Foo Bar,,,[{'uri': 'messages/inbox/FooBar_n5fd6gG50h/photos/apple-5391076_960_720.jpg'}],,,\r\n",
      "2020-03-09 10:48:48.047000+00:00,Foo Bar,,Generic,Foo Bar,,\"[{'uri': 'messages/inbox/FooBar_n5fd6gG50h/audio/audioclip15905232600004598_2621787141481389.mp4', 'creation_timestamp': 1583750927}]\",,,,\r\n",
      "2020-04-02 18:08:48.047000+00:00,Jenő Rejtő,Whet? Check this! :P,Generic,Foo Bar,,,,,,\r\n",
      "2020-04-25 21:42:08.047000+00:00,Jenő Rejtő,,Generic,Foo Bar,\"[{'uri': 'messages/inbox/FooBar_n5fd6gG50h/videos/video1501528035_1573509826004448.mp4', 'creation_timestamp': 1587850940, 'thumbnail': {'uri': 'messages/inbox/FooBar_n5fd6gG50h/videos/thumbnails/20562500_1414664788613193_5052712665724834582_n.jpg'}}]\",,,,,\r\n",
      "2020-05-03 10:15:28.123000+00:00,Foo Bar,OUT!,Generic,Foo Bar,,,,,,\r\n",
      "2020-08-08 18:22:08.321000+00:00,Jenő Rejtő,OUT! ❤,Generic,Foo Bar,,,,,,\r\n"
     ]
    }
   ],
   "source": [
    "!cat $BASE_PATH/out.csv"
   ]
  },
  {
   "cell_type": "code",
   "execution_count": 70,
   "metadata": {},
   "outputs": [],
   "source": [
    "!rm $BASE_PATH/out.csv # clear-up"
   ]
  },
  {
   "cell_type": "markdown",
   "metadata": {},
   "source": [
    "You can even get a mapping on which messages are in which langauge. We use the [polyglot](https://pypi.org/project/polyglot/) package for this."
   ]
  },
  {
   "cell_type": "code",
   "execution_count": 71,
   "metadata": {},
   "outputs": [
    {
     "name": "stdout",
     "output_type": "stream",
     "text": [
      "are you the real Bugs Bunny?:                                                                                                                                                                 {\"lang\": \"English\", \"confidence\": 96.0}\r\n",
      "older stuff:                                                                                                                                                                                  {\"lang\": \"English\", \"confidence\": 92.0}\r\n",
      "testing multiple files:                                                                                                                                                                       {\"lang\": \"English\", \"confidence\": 95.0}\r\n",
      "yo:                                                                                                                                                                                           null\r\n",
      "zup:                                                                                                                                                                                          {\"lang\": \"Slovenian\", \"confidence\": 80.0}\r\n",
      "no:                                                                                                                                                                                           null\r\n",
      "not much:                                                                                                                                                                                     {\"lang\": \"English\", \"confidence\": 90.0}\r\n",
      "not:                                                                                                                                                                                          {\"lang\": \"English\", \"confidence\": 80.0}\r\n",
      "yo Legyen az, hogy most megprobalok ekezet nelkul irni. Seems pretty easy. I need some english words in here. Right? A magyar szavak felismereset probalom tesztelni ezzekkel a mondatokkal.: {\"lang\": \"English\", \"confidence\": 50.0}\r\n",
      "Lorem lorim.. foo bar 😡😡😡:                                                                                                                                                                    {\"lang\": \"English\", \"confidence\": 95.0}\r\n",
      "Ut akar ... consequat. oO wow :P xd :D:                                                                                                                                                       {\"lang\": \"Latin\", \"confidence\": 96.0}\r\n",
      "Duis duia .. ! xdddddd :D:                                                                                                                                                                    {\"lang\": \"Latin\", \"confidence\": 95.0}\r\n",
      "Excepteur...laborum. :D:                                                                                                                                                                      {\"lang\": \"Latin\", \"confidence\": 95.0}\r\n",
      "What the hack? xdddddd :D:                                                                                                                                                                    {\"lang\": \"English\", \"confidence\": 96.0}\r\n",
      "Whet? Check this! :P:                                                                                                                                                                         {\"lang\": \"English\", \"confidence\": 94.0}\r\n",
      "OUT!:                                                                                                                                                                                         {\"lang\": \"English\", \"confidence\": 80.0}\r\n",
      "OUT! ❤:                                                                                                                                                                                       {\"lang\": \"English\", \"confidence\": 80.0}\r\n"
     ]
    }
   ],
   "source": [
    "!./miner/cli.py analyzer private - message_language_map"
   ]
  },
  {
   "cell_type": "markdown",
   "metadata": {},
   "source": [
    "Get the percent of the messages?  No problem."
   ]
  },
  {
   "cell_type": "code",
   "execution_count": 72,
   "metadata": {},
   "outputs": [
    {
     "name": "stdout",
     "output_type": "stream",
     "text": [
      "English:      64.70588235294117\r\n",
      "Latin:        17.647058823529413\r\n",
      "Not detected: 11.764705882352942\r\n",
      "Slovenian:    5.882352941176471\r\n"
     ]
    }
   ],
   "source": [
    "!./miner/cli.py analyzer private - message_language_ratio percent"
   ]
  },
  {
   "cell_type": "markdown",
   "metadata": {},
   "source": [
    "Or the count?"
   ]
  },
  {
   "cell_type": "code",
   "execution_count": 73,
   "metadata": {},
   "outputs": [
    {
     "name": "stdout",
     "output_type": "stream",
     "text": [
      "English:      11\r\n",
      "Latin:        3\r\n",
      "Not detected: 2\r\n",
      "Slovenian:    1\r\n"
     ]
    }
   ],
   "source": [
    "!./miner/cli.py analyzer private - message_language_ratio count"
   ]
  },
  {
   "cell_type": "markdown",
   "metadata": {},
   "source": [
    "Then you can also get all the messages that has reaction on it."
   ]
  },
  {
   "cell_type": "code",
   "execution_count": 74,
   "metadata": {},
   "outputs": [
    {
     "name": "stdout",
     "output_type": "stream",
     "text": [
      "timestamp_ms,sender_name,content,type,partner,videos,audio_files,photos,gifs,reactions,files\r\n",
      "2020-02-13 05:15:38.715000+00:00,Foo Bar,Ut akar ... consequat. oO wow :P xd :D,Generic,Foo Bar,,,,,\"[{'reaction': '❤', 'actor': 'Jenő Rejtő'}]\",\r\n",
      "2020-02-14 17:22:08.145000+00:00,Jenő Rejtő,,Generic,Foo Bar,,,,[{'uri': 'messages/inbox/FooBar_n5fd6gG50h/gifs/97999627_1419172538270405_8596479473619042304_n_2963870430335255.gif'}],\"[{'reaction': '😮', 'actor': 'Foo Bar'}]\",\r\n",
      "2020-02-18 07:28:48.145000+00:00,Foo Bar,,Generic,Foo Bar,,,,[{'uri': 'messages/inbox/FooBar_n5fd6gG50h/gifs/19349964_1624604560892442_7457726181358436352_n_487109582171361.gif'}],\"[{'reaction': '❤', 'actor': 'Jenő Rejtő'}]\",\r\n",
      "\r\n"
     ]
    }
   ],
   "source": [
    "!./miner/cli.py analyzer private - reacted_messages"
   ]
  },
  {
   "cell_type": "markdown",
   "metadata": {},
   "source": [
    "And the ratio of the reacted messages?"
   ]
  },
  {
   "cell_type": "code",
   "execution_count": 75,
   "metadata": {},
   "outputs": [
    {
     "name": "stdout",
     "output_type": "stream",
     "text": [
      "9.67741935483871\r\n"
     ]
    }
   ],
   "source": [
    "!./miner/cli.py analyzer private - percentage_of_reacted_messages"
   ]
  },
  {
   "cell_type": "markdown",
   "metadata": {},
   "source": [
    "The facade exposes low-level statistics, like `message`, `word`, `character`, `text message` and `media message` **counts**. Let's see them."
   ]
  },
  {
   "cell_type": "code",
   "execution_count": 76,
   "metadata": {},
   "outputs": [
    {
     "name": "stdout",
     "output_type": "stream",
     "text": [
      "31\r\n"
     ]
    }
   ],
   "source": [
    "!./miner/cli.py analyzer private - mc"
   ]
  },
  {
   "cell_type": "code",
   "execution_count": 77,
   "metadata": {},
   "outputs": [
    {
     "name": "stdout",
     "output_type": "stream",
     "text": [
      "40\r\n"
     ]
    }
   ],
   "source": [
    "!./miner/cli.py analyzer group - wc"
   ]
  },
  {
   "cell_type": "code",
   "execution_count": 78,
   "metadata": {},
   "outputs": [
    {
     "name": "stdout",
     "output_type": "stream",
     "text": [
      "43\r\n"
     ]
    }
   ],
   "source": [
    "!./miner/cli.py analyzer group --channels=\"Tőke Hal, Foo Bar, Donald Duck and 2 others\" - cc"
   ]
  },
  {
   "cell_type": "code",
   "execution_count": 79,
   "metadata": {},
   "outputs": [
    {
     "name": "stdout",
     "output_type": "stream",
     "text": [
      "8\r\n"
     ]
    }
   ],
   "source": [
    "!./miner/cli.py analyzer private --start=\"2018-08-05\" - text_mc"
   ]
  },
  {
   "cell_type": "code",
   "execution_count": 80,
   "metadata": {},
   "outputs": [
    {
     "name": "stdout",
     "output_type": "stream",
     "text": [
      "9\r\n"
     ]
    }
   ],
   "source": [
    "!./miner/cli.py analyzer private - media_mc"
   ]
  },
  {
   "cell_type": "markdown",
   "metadata": {},
   "source": [
    "You can get the number of unique messages or words."
   ]
  },
  {
   "cell_type": "code",
   "execution_count": 81,
   "metadata": {},
   "outputs": [
    {
     "name": "stdout",
     "output_type": "stream",
     "text": [
      "17\r\n"
     ]
    }
   ],
   "source": [
    "!./miner/cli.py analyzer private - unique_mc"
   ]
  },
  {
   "cell_type": "code",
   "execution_count": 82,
   "metadata": {},
   "outputs": [
    {
     "name": "stdout",
     "output_type": "stream",
     "text": [
      "70\r\n"
     ]
    }
   ],
   "source": [
    "!./miner/cli.py analyzer private - unique_wc"
   ]
  },
  {
   "cell_type": "markdown",
   "metadata": {},
   "source": [
    "Or get the most used messages and words in messenger."
   ]
  },
  {
   "cell_type": "code",
   "execution_count": 83,
   "metadata": {},
   "outputs": [
    {
     "name": "stdout",
     "output_type": "stream",
     "text": [
      ",unique_values,counts\r\n",
      "0,not much,2\r\n",
      "1,are you the real Bugs Bunny?,2\r\n",
      "2,older stuff,1\r\n",
      "3,yo,1\r\n",
      "4,Whet? Check this! :P,1\r\n",
      "5,OUT! ❤,1\r\n",
      "6,What the hack? xdddddd :D,1\r\n",
      "7,Duis duia .. ! xdddddd :D,1\r\n",
      "8,Lorem lorim.. foo bar 😡😡😡,1\r\n",
      "9,\"yo Legyen az, hogy most megprobalok ekezet nelkul irni. Seems pretty easy. I need some english words in here. Right? A magyar szavak felismereset probalom tesztelni ezzekkel a mondatokkal.\",1\r\n",
      "10,not,1\r\n",
      "\r\n"
     ]
    }
   ],
   "source": [
    "!./miner/cli.py analyzer private --senders=me --period='y' - most_used_msgs"
   ]
  },
  {
   "cell_type": "code",
   "execution_count": 84,
   "metadata": {},
   "outputs": [
    {
     "name": "stdout",
     "output_type": "stream",
     "text": [
      ",unique_values,counts\r\n",
      "0,not much,2\r\n",
      "1,are you the real Bugs Bunny?,2\r\n",
      "2,yo,1\r\n",
      "3,\"yo Legyen az, hogy most megprobalok ekezet nelkul irni. Seems pretty easy. I need some english words in here. Right? A magyar szavak felismereset probalom tesztelni ezzekkel a mondatokkal.\",1\r\n",
      "4,What the hack? xdddddd :D,1\r\n",
      "5,Duis duia .. ! xdddddd :D,1\r\n",
      "6,Whet? Check this! :P,1\r\n",
      "7,not,1\r\n",
      "8,OUT! ❤,1\r\n",
      "9,older stuff,1\r\n",
      "10,Lorem lorim.. foo bar 😡😡😡,1\r\n",
      "\r\n"
     ]
    }
   ],
   "source": [
    "!./miner/cli.py analyzer private --senders=me - most_used_msgs"
   ]
  },
  {
   "cell_type": "code",
   "execution_count": 85,
   "metadata": {},
   "outputs": [
    {
     "name": "stdout",
     "output_type": "stream",
     "text": [
      ",unique_values,counts\r\n",
      "0,test,3\r\n",
      "1,what,2\r\n",
      "2,group,2\r\n",
      "3,yapp,2\r\n",
      "4,ok,2\r\n",
      "5,do,2\r\n",
      "6,you,2\r\n",
      "7,basic,2\r\n",
      "8,messages,2\r\n",
      "9,:d,2\r\n",
      "10,is,1\r\n",
      "11,could,1\r\n",
      "12,start,1\r\n",
      "13,but,1\r\n",
      "14,we,1\r\n",
      "15,today,1\r\n",
      "16,go,1\r\n",
      "17,running,1\r\n",
      "18,i,1\r\n",
      "19,free,1\r\n",
      "20,blabla,1\r\n",
      "\r\n"
     ]
    }
   ],
   "source": [
    "!./miner/cli.py analyzer group --senders=partner - most_used_words"
   ]
  },
  {
   "cell_type": "markdown",
   "metadata": {},
   "source": [
    "You can also access all the types of media messages:\n",
    "- photos,\n",
    "- videos,\n",
    "- gifs,\n",
    "- audios,\n",
    "- files.\n",
    "\n",
    "Use any of them in the following format."
   ]
  },
  {
   "cell_type": "code",
   "execution_count": 86,
   "metadata": {},
   "outputs": [
    {
     "name": "stdout",
     "output_type": "stream",
     "text": [
      "timestamp_ms,photos\r\n",
      "2014-11-22 01:17:25.145000+00:00,[{'uri': 'messages/inbox/TeflonMusk_fSD454F/photos/index.jpeg'}]\r\n",
      "2020-02-14 00:42:08.145000+00:00,[{'uri': 'messages/inbox/FooBar_n5fd6gG50h/photos/blueberry-5417154_960_720.jpg'}]\r\n",
      "2020-02-26 12:42:08.145000+00:00,[{'uri': 'messages/inbox/FooBar_n5fd6gG50h/photos/apple-5391076_960_720.jpg'}]\r\n",
      "\r\n"
     ]
    }
   ],
   "source": [
    "!./miner/cli.py analyzer private - photos"
   ]
  },
  {
   "cell_type": "markdown",
   "metadata": {},
   "source": [
    "Speaking of media, you can also see the percentage of media messages and its opposite, percentage of text messages."
   ]
  },
  {
   "cell_type": "code",
   "execution_count": 87,
   "metadata": {},
   "outputs": [
    {
     "name": "stdout",
     "output_type": "stream",
     "text": [
      "70.96774193548387\r\n"
     ]
    }
   ],
   "source": [
    "!./miner/cli.py analyzer private - percentage_of_text_messages"
   ]
  },
  {
   "cell_type": "code",
   "execution_count": 88,
   "metadata": {},
   "outputs": [
    {
     "name": "stdout",
     "output_type": "stream",
     "text": [
      "11.111111111111114\r\n"
     ]
    }
   ],
   "source": [
    "!./miner/cli.py analyzer group - percentage_of_media_messages"
   ]
  },
  {
   "cell_type": "markdown",
   "metadata": {},
   "source": [
    "What is your average word length?"
   ]
  },
  {
   "cell_type": "code",
   "execution_count": 89,
   "metadata": {},
   "outputs": [
    {
     "name": "stdout",
     "output_type": "stream",
     "text": [
      "5.25\r\n"
     ]
    }
   ],
   "source": [
    "!./miner/cli.py analyzer group --senders=me - average_word_length"
   ]
  },
  {
   "cell_type": "markdown",
   "metadata": {},
   "source": [
    "Ok, we arrived at the last two features. These are rather itneresting.\n",
    "\n",
    "First let's group the low level-stats by time."
   ]
  },
  {
   "cell_type": "code",
   "execution_count": 90,
   "metadata": {},
   "outputs": [
    {
     "name": "stdout",
     "output_type": "stream",
     "text": [
      "timestamp,mc,text_mc,media_mc,wc,cc\r\n",
      "2014-01-01,13,11,2,25,97\r\n",
      "2018-01-01,3,3,0,32,170\r\n",
      "2020-01-01,15,8,7,34,140\r\n",
      "\r\n"
     ]
    }
   ],
   "source": [
    "!./miner/cli.py analyzer private  - get_grouped_time_series_data --timeframe=y"
   ]
  },
  {
   "cell_type": "code",
   "execution_count": 91,
   "metadata": {},
   "outputs": [
    {
     "name": "stdout",
     "output_type": "stream",
     "text": [
      "timestamp,mc,text_mc,media_mc,wc,cc\r\n",
      "2014-09-01,1,1,0,6,23\r\n",
      "2014-11-01,10,9,1,18,71\r\n",
      "2014-12-01,2,1,1,1,3\r\n",
      "2018-01-01,3,3,0,32,170\r\n",
      "2020-02-01,10,5,5,27,114\r\n",
      "2020-03-01,1,0,1,0,0\r\n",
      "2020-04-01,2,1,1,4,17\r\n",
      "2020-05-01,1,1,0,1,4\r\n",
      "2020-08-01,1,1,0,2,5\r\n",
      "\r\n"
     ]
    }
   ],
   "source": [
    "!./miner/cli.py analyzer private  - get_grouped_time_series_data --timeframe=m"
   ]
  },
  {
   "cell_type": "code",
   "execution_count": 92,
   "metadata": {},
   "outputs": [
    {
     "name": "stdout",
     "output_type": "stream",
     "text": [
      "timestamp,mc,text_mc,media_mc,wc,cc\r\n",
      "2014-09-24,1,1,0,6,23\r\n",
      "2014-11-09,4,4,0,12,55\r\n",
      "2014-11-10,5,5,0,6,16\r\n",
      "2014-11-22,1,0,1,0,0\r\n",
      "2014-12-03,1,1,0,1,3\r\n",
      "2014-12-26,1,0,1,0,0\r\n",
      "2018-01-10,3,3,0,32,170\r\n",
      "2020-02-13,2,2,0,14,51\r\n",
      "2020-02-14,5,2,3,8,42\r\n",
      "2020-02-17,1,1,0,5,21\r\n",
      "2020-02-18,1,0,1,0,0\r\n",
      "2020-02-26,1,0,1,0,0\r\n",
      "2020-03-09,1,0,1,0,0\r\n",
      "2020-04-02,1,1,0,4,17\r\n",
      "2020-04-25,1,0,1,0,0\r\n",
      "2020-05-03,1,1,0,1,4\r\n",
      "2020-08-08,1,1,0,2,5\r\n",
      "\r\n"
     ]
    }
   ],
   "source": [
    "!./miner/cli.py analyzer private  - get_grouped_time_series_data --timeframe=d"
   ]
  },
  {
   "cell_type": "code",
   "execution_count": 93,
   "metadata": {},
   "outputs": [
    {
     "name": "stdout",
     "output_type": "stream",
     "text": [
      "timestamp,mc,text_mc,media_mc,wc,cc\r\n",
      "2014-09-24 15:00:00,1,1,0,6,23\r\n",
      "2014-11-09 18:00:00,1,1,0,2,10\r\n",
      "2014-11-09 19:00:00,1,1,0,3,20\r\n",
      "2014-11-09 22:00:00,2,2,0,7,25\r\n",
      "2014-11-10 11:00:00,5,5,0,6,16\r\n",
      "2014-11-22 01:00:00,1,0,1,0,0\r\n",
      "2014-12-03 15:00:00,1,1,0,1,3\r\n",
      "2014-12-26 19:00:00,1,0,1,0,0\r\n",
      "2018-01-10 08:00:00,1,1,0,29,160\r\n",
      "2018-01-10 21:00:00,2,2,0,3,10\r\n",
      "2020-02-13 05:00:00,2,2,0,14,51\r\n",
      "2020-02-14 00:00:00,1,0,1,0,0\r\n",
      "2020-02-14 03:00:00,1,0,1,0,0\r\n",
      "2020-02-14 11:00:00,1,1,0,6,20\r\n",
      "2020-02-14 14:00:00,1,1,0,2,22\r\n",
      "2020-02-14 17:00:00,1,0,1,0,0\r\n",
      "2020-02-17 23:00:00,1,1,0,5,21\r\n",
      "2020-02-18 07:00:00,1,0,1,0,0\r\n",
      "2020-02-26 12:00:00,1,0,1,0,0\r\n",
      "2020-03-09 10:00:00,1,0,1,0,0\r\n",
      "2020-04-02 18:00:00,1,1,0,4,17\r\n",
      "2020-04-25 21:00:00,1,0,1,0,0\r\n",
      "2020-05-03 10:00:00,1,1,0,1,4\r\n",
      "2020-08-08 18:00:00,1,1,0,2,5\r\n",
      "\r\n"
     ]
    }
   ],
   "source": [
    "!./miner/cli.py  analyzer private  - get_grouped_time_series_data --timeframe=h"
   ]
  },
  {
   "cell_type": "markdown",
   "metadata": {},
   "source": [
    "Then, let's examine in which timeframes were/are you the most active? Note the pattern."
   ]
  },
  {
   "cell_type": "code",
   "execution_count": 94,
   "metadata": {},
   "outputs": [
    {
     "name": "stdout",
     "output_type": "stream",
     "text": [
      "2009: 0\r\n",
      "2010: 0\r\n",
      "2011: 0\r\n",
      "2012: 0\r\n",
      "2013: 0\r\n",
      "2014: 13\r\n",
      "2015: 0\r\n",
      "2016: 0\r\n",
      "2017: 0\r\n",
      "2018: 3\r\n",
      "2019: 0\r\n",
      "2020: 15\r\n"
     ]
    }
   ],
   "source": [
    "!./miner/cli.py analyzer private  - stats_per_timeframe --timeframe=y"
   ]
  },
  {
   "cell_type": "code",
   "execution_count": 95,
   "metadata": {},
   "outputs": [
    {
     "name": "stdout",
     "output_type": "stream",
     "text": [
      "january:   3\r\n",
      "february:  10\r\n",
      "march:     1\r\n",
      "april:     2\r\n",
      "may:       1\r\n",
      "june:      0\r\n",
      "july:      0\r\n",
      "august:    1\r\n",
      "september: 1\r\n",
      "october:   0\r\n",
      "november:  10\r\n",
      "december:  2\r\n"
     ]
    }
   ],
   "source": [
    "!./miner/cli.py analyzer private  - stats_per_timeframe --timeframe=m"
   ]
  },
  {
   "cell_type": "code",
   "execution_count": 96,
   "metadata": {},
   "outputs": [
    {
     "name": "stdout",
     "output_type": "stream",
     "text": [
      "monday:    7\r\n",
      "tuesday:   1\r\n",
      "wednesday: 6\r\n",
      "thursday:  3\r\n",
      "friday:    6\r\n",
      "saturday:  3\r\n",
      "sunday:    5\r\n"
     ]
    }
   ],
   "source": [
    "!./miner/cli.py analyzer private  - stats_per_timeframe --timeframe=d"
   ]
  },
  {
   "cell_type": "code",
   "execution_count": 97,
   "metadata": {},
   "outputs": [
    {
     "name": "stdout",
     "output_type": "stream",
     "text": [
      "0:  1\r\n",
      "1:  1\r\n",
      "2:  0\r\n",
      "3:  1\r\n",
      "4:  0\r\n",
      "5:  2\r\n",
      "6:  0\r\n",
      "7:  1\r\n",
      "8:  1\r\n",
      "9:  0\r\n",
      "10: 2\r\n",
      "11: 6\r\n",
      "12: 1\r\n",
      "13: 0\r\n",
      "14: 1\r\n",
      "15: 2\r\n",
      "16: 0\r\n",
      "17: 1\r\n",
      "18: 3\r\n",
      "19: 2\r\n",
      "20: 0\r\n",
      "21: 3\r\n",
      "22: 2\r\n",
      "23: 1\r\n"
     ]
    }
   ],
   "source": [
    "!./miner/cli.py analyzer private  - stats_per_timeframe --timeframe=h"
   ]
  },
  {
   "cell_type": "markdown",
   "metadata": {},
   "source": [
    "### People\n",
    "People in an acstracted class which combines the people from the messaging system and your friends. It is a one-method interface."
   ]
  },
  {
   "cell_type": "code",
   "execution_count": 98,
   "metadata": {},
   "outputs": [
    {
     "name": "stdout",
     "output_type": "stream",
     "text": [
      ",name,friend,message_dir,media_dir\r\n",
      "0,Guy Fawkes,True,,\r\n",
      "1,Daisy Duck,True,,\r\n",
      "2,Bugs Bunny,True,teflonmusk_fsd454f,TeflonMusk_fSD454F\r\n",
      "3,Dér Dénes,True,,\r\n",
      "4,Tőke Hal,True,tokehal_sdf7fs9d876,\r\n",
      "5,Foo Bar,True,foobar_n5fd6gG50h,FooBar_n5fd6gG50h\r\n",
      "6,Szett Droxler,True,,\r\n",
      "7,Donald Duck,True,,\r\n",
      "8,John Doe,True,,\r\n",
      "9,Benedek Elek,,benedekelek_s4f65sdg,\r\n",
      "10,Jenő Rejtő,,,\r\n",
      "11,Facebook User,,,\r\n",
      "\r\n"
     ]
    }
   ],
   "source": [
    "!./miner/cli.py people"
   ]
  },
  {
   "cell_type": "markdown",
   "metadata": {},
   "source": [
    "You can add an `--output` flag to write this in a file as usual."
   ]
  },
  {
   "cell_type": "markdown",
   "metadata": {},
   "source": [
    "### Report\n",
    "<a id='report'>The</a> `report` node of the interface creates nicely formatted tables. Let's see what's in the box."
   ]
  },
  {
   "cell_type": "code",
   "execution_count": 99,
   "metadata": {},
   "outputs": [
    {
     "name": "stdout",
     "output_type": "stream",
     "text": [
      "\u001b[1mNAME\u001b[0m\r\n",
      "    Facebook-Data-Miner report\r\n",
      "\r\n",
      "\u001b[1mSYNOPSIS\u001b[0m\r\n",
      "    Facebook-Data-Miner report \u001b[4mCOMMAND\u001b[0m\r\n",
      "\r\n",
      "\u001b[1mCOMMANDS\u001b[0m\r\n",
      "    \u001b[1m\u001b[4mCOMMAND\u001b[0m\u001b[0m is one of the following:\r\n",
      "\r\n",
      "     basic_stats\r\n",
      "\r\n",
      "     stats_per_timeframe\r\n"
     ]
    }
   ],
   "source": [
    "!./miner/cli.py report"
   ]
  },
  {
   "cell_type": "code",
   "execution_count": 100,
   "metadata": {},
   "outputs": [
    {
     "name": "stdout",
     "output_type": "stream",
     "text": [
      "+---------+--------------+---------------+------+-----------+----------------+-------------+\r\n",
      "| Message | Text message | Media message | Word | Character | Unique message | Unique word |\r\n",
      "+---------+--------------+---------------+------+-----------+----------------+-------------+\r\n",
      "|    31   |      22      |       9       |  91  |    407    |       17       |      70     |\r\n",
      "+---------+--------------+---------------+------+-----------+----------------+-------------+\r\n"
     ]
    }
   ],
   "source": [
    "!./miner/cli.py report basic_stats"
   ]
  },
  {
   "cell_type": "markdown",
   "metadata": {},
   "source": [
    "We have seent his already, but this output looks more concise and prettier of course.\n",
    "\n",
    "The following tables would be familiar as well."
   ]
  },
  {
   "cell_type": "code",
   "execution_count": 101,
   "metadata": {},
   "outputs": [
    {
     "name": "stdout",
     "output_type": "stream",
     "text": [
      "+-----------+------+------+------+------+------+------+------+------+------+------+------+------+\r\n",
      "|           | 2009 | 2010 | 2011 | 2012 | 2013 | 2014 | 2015 | 2016 | 2017 | 2018 | 2019 | 2020 |\r\n",
      "+-----------+------+------+------+------+------+------+------+------+------+------+------+------+\r\n",
      "|  Message  |  0   |  0   |  0   |  0   |  0   |  13  |  0   |  0   |  0   |  3   |  0   |  15  |\r\n",
      "|    Word   |  0   |  0   |  0   |  0   |  0   |  25  |  0   |  0   |  0   |  32  |  0   |  34  |\r\n",
      "| Character |  0   |  0   |  0   |  0   |  0   |  97  |  0   |  0   |  0   | 170  |  0   | 140  |\r\n",
      "+-----------+------+------+------+------+------+------+------+------+------+------+------+------+\r\n"
     ]
    }
   ],
   "source": [
    "!./miner/cli.py report stats_per_timeframe --timeframe=y"
   ]
  },
  {
   "cell_type": "code",
   "execution_count": 102,
   "metadata": {},
   "outputs": [
    {
     "name": "stdout",
     "output_type": "stream",
     "text": [
      "+-----------+---------+----------+-------+-------+-----+------+------+--------+-----------+---------+----------+----------+\r\n",
      "|           | january | february | march | april | may | june | july | august | september | october | november | december |\r\n",
      "+-----------+---------+----------+-------+-------+-----+------+------+--------+-----------+---------+----------+----------+\r\n",
      "|  Message  |    3    |    10    |   1   |   2   |  1  |  0   |  0   |   1    |     1     |    0    |    10    |    2     |\r\n",
      "|    Word   |    32   |    27    |   0   |   4   |  1  |  0   |  0   |   2    |     6     |    0    |    18    |    1     |\r\n",
      "| Character |   170   |   114    |   0   |   17  |  4  |  0   |  0   |   5    |     23    |    0    |    71    |    3     |\r\n",
      "+-----------+---------+----------+-------+-------+-----+------+------+--------+-----------+---------+----------+----------+\r\n"
     ]
    }
   ],
   "source": [
    "!./miner/cli.py report stats_per_timeframe --timeframe=m"
   ]
  },
  {
   "cell_type": "code",
   "execution_count": 103,
   "metadata": {},
   "outputs": [
    {
     "name": "stdout",
     "output_type": "stream",
     "text": [
      "+-----------+--------+---------+-----------+----------+--------+----------+--------+\r\n",
      "|           | monday | tuesday | wednesday | thursday | friday | saturday | sunday |\r\n",
      "+-----------+--------+---------+-----------+----------+--------+----------+--------+\r\n",
      "|  Message  |   7    |    1    |     6     |    3     |   6    |    3     |   5    |\r\n",
      "|    Word   |   11   |    0    |     39    |    18    |   8    |    2     |   13   |\r\n",
      "| Character |   37   |    0    |    196    |    68    |   42   |    5     |   59   |\r\n",
      "+-----------+--------+---------+-----------+----------+--------+----------+--------+\r\n"
     ]
    }
   ],
   "source": [
    "!./miner/cli.py report stats_per_timeframe --timeframe=d"
   ]
  },
  {
   "cell_type": "code",
   "execution_count": 104,
   "metadata": {},
   "outputs": [
    {
     "name": "stdout",
     "output_type": "stream",
     "text": [
      "+-----------+---+---+---+---+---+----+---+---+-----+---+----+----+----+----+----+----+----+----+----+----+----+----+----+----+\r\n",
      "|           | 0 | 1 | 2 | 3 | 4 | 5  | 6 | 7 |  8  | 9 | 10 | 11 | 12 | 13 | 14 | 15 | 16 | 17 | 18 | 19 | 20 | 21 | 22 | 23 |\r\n",
      "+-----------+---+---+---+---+---+----+---+---+-----+---+----+----+----+----+----+----+----+----+----+----+----+----+----+----+\r\n",
      "|  Message  | 1 | 1 | 0 | 1 | 0 | 2  | 0 | 1 |  1  | 0 | 2  | 6  | 1  | 0  | 1  | 2  | 0  | 1  | 3  | 2  | 0  | 3  | 2  | 1  |\r\n",
      "|    Word   | 0 | 0 | 0 | 0 | 0 | 14 | 0 | 0 |  29 | 0 | 1  | 12 | 0  | 0  | 2  | 7  | 0  | 0  | 8  | 3  | 0  | 3  | 7  | 5  |\r\n",
      "| Character | 0 | 0 | 0 | 0 | 0 | 51 | 0 | 0 | 160 | 0 | 4  | 36 | 0  | 0  | 22 | 26 | 0  | 0  | 32 | 20 | 0  | 10 | 25 | 21 |\r\n",
      "+-----------+---+---+---+---+---+----+---+---+-----+---+----+----+----+----+----+----+----+----+----+----+----+----+----+----+\r\n"
     ]
    }
   ],
   "source": [
    "!./miner/cli.py report stats_per_timeframe --timeframe=h"
   ]
  },
  {
   "cell_type": "markdown",
   "metadata": {},
   "source": [
    "### Plot\n",
    "\n",
    "We can also create some plots with the plot node. See the possible comamnds you can use below.\n",
    "\n",
    "**NOTE**: since we are calling shell commands from the terminal (and possibly also because of Python Fire) the plots will not show up. There will be another notebook covering these plots."
   ]
  },
  {
   "cell_type": "code",
   "execution_count": 105,
   "metadata": {},
   "outputs": [
    {
     "name": "stdout",
     "output_type": "stream",
     "text": [
      "\u001b[1mNAME\u001b[0m\r\n",
      "    Facebook-Data-Miner plot\r\n",
      "\r\n",
      "\u001b[1mSYNOPSIS\u001b[0m\r\n",
      "    Facebook-Data-Miner plot \u001b[4mCOMMAND\u001b[0m\r\n",
      "\r\n",
      "\u001b[1mCOMMANDS\u001b[0m\r\n",
      "    \u001b[1m\u001b[4mCOMMAND\u001b[0m\u001b[0m is one of the following:\r\n",
      "\r\n",
      "     plot_convo_type_ratio\r\n",
      "\r\n",
      "     plot_msg_type_ratio\r\n",
      "\r\n",
      "     plot_ranking_of_friends_by_stats\r\n",
      "\r\n",
      "     plot_stat_count_over_time_series\r\n",
      "\r\n",
      "     plot_stat_count_per_time_period\r\n"
     ]
    }
   ],
   "source": [
    "!./miner/cli.py plot"
   ]
  }
 ],
 "metadata": {
  "kernelspec": {
   "display_name": "Python 3",
   "language": "python",
   "name": "python3"
  },
  "language_info": {
   "codemirror_mode": {
    "name": "ipython",
    "version": 3
   },
   "file_extension": ".py",
   "mimetype": "text/x-python",
   "name": "python",
   "nbconvert_exporter": "python",
   "pygments_lexer": "ipython3",
   "version": "3.8.2"
  }
 },
 "nbformat": 4,
 "nbformat_minor": 4
}
