{
 "cells": [
  {
   "cell_type": "markdown",
   "metadata": {},
   "source": [
    "# Facebook Data Miner Command-Line Interface\n",
    "\n",
    "This notebook has basically two main purposes:\n",
    "1. show-off the CLI by examples,\n",
    "2. serve as a reference for testing the CLI.\n",
    "\n",
    "The application has a well-defined CLI. The combinations of all the functions we wanted to expose was far too much to use [Click](https://click.palletsprojects.com/en/7.x/) and its deorators. Instead we went for the simple-stupid [Python Fire](https://google.github.io/python-fire/guide/). I call it simple-stupid, because beside the functions that we wanted to expose and some face classes the only thing we had to do is to pass the application's main entrypoint to Python Fire like this:\n",
    "```\n",
    "app = App(DATA_PATH)c\n",
    "Fire(app, name='Facebook-Data-Miner')\n",
    "```"
   ]
  },
  {
   "cell_type": "markdown",
   "metadata": {},
   "source": [
    "Let's set up first the correct working directory. This is needed for the CLI  to work. In a shell environment you usually want to do something like the following in the root folder of this project:\n",
    "```\n",
    "export PYTHONPATH=\"$PWD\"\n",
    "```"
   ]
  },
  {
   "cell_type": "code",
   "execution_count": 1,
   "metadata": {},
   "outputs": [],
   "source": [
    "import os\n",
    "BASE_PATH = None"
   ]
  },
  {
   "cell_type": "code",
   "execution_count": 2,
   "metadata": {},
   "outputs": [
    {
     "data": {
      "text/plain": [
       "'/home/levente/projects/facebook-data-miner'"
      ]
     },
     "execution_count": 2,
     "metadata": {},
     "output_type": "execute_result"
    }
   ],
   "source": [
    "if not BASE_PATH:\n",
    "    BASE_PATH = os.path.dirname(os.path.abspath(os.getcwd()))\n",
    "BASE_PATH"
   ]
  },
  {
   "cell_type": "code",
   "execution_count": 3,
   "metadata": {},
   "outputs": [
    {
     "name": "stdout",
     "output_type": "stream",
     "text": [
      "OK! Changed to: /home/levente/projects/facebook-data-miner directory.\n"
     ]
    }
   ],
   "source": [
    "try:\n",
    "\tos.chdir(BASE_PATH)\n",
    "\tprint(f\"OK! Changed to: {os.getcwd()} directory.\")\n",
    "except:\n",
    "\tprint(f\"WARNING! Couldn't change directory. Current is: {os.getcwd()}\")"
   ]
  },
  {
   "cell_type": "markdown",
   "metadata": {},
   "source": [
    "## Features of the CLI"
   ]
  },
  {
   "cell_type": "markdown",
   "metadata": {},
   "source": [
    "Now we can start with the CLI tool. Python Fire takes an object and lets the user to call all of the objects public method (in Python that means: methods without a starting underscore).\n",
    "\n",
    "In this notebook we will cover the following groups of methods:\n",
    "- friends,\n",
    "- conversations,\n",
    "- analyzer,\n",
    "- people,\n",
    "- report,\n",
    "- plot.\n",
    "\n",
    "This means you can get detailed information for these groups once you add these keywords after the file's name you are calling: that is `./miner/app.py`. Let's get the help for the main entrypoint (NOTE: Python Fire pipes the output of the `help` into an interactive file reader, thus the output will be cut after one screen)."
   ]
  },
  {
   "cell_type": "code",
   "execution_count": 4,
   "metadata": {},
   "outputs": [
    {
     "name": "stdout",
     "output_type": "stream",
     "text": [
      "INFO: Showing help with the command 'Facebook-Data-Miner -- --help'.\n",
      "\n",
      "\u001b[1mNAME\u001b[0m\n",
      "    Facebook-Data-Miner - Entrypoint.\n",
      "\n",
      "\u001b[1mSYNOPSIS\u001b[0m\n",
      "    Facebook-Data-Miner \u001b[4mCOMMAND\u001b[0m\n",
      "\n",
      "\u001b[1mDESCRIPTION\u001b[0m\n",
      "    Entrypoint.\n",
      "\n",
      "\u001b[1mCOMMANDS\u001b[0m\n",
      "    \u001b[1m\u001b[4mCOMMAND\u001b[0m\u001b[0m is one of the following:\n",
      "\n",
      "     analyzer\n",
      "\n",
      "     conversations\n",
      "       @param kind: @param channels: @param cols: @param output: @return:\n",
      "\n",
      "     friends\n",
      "       Mi van\n",
      "\n",
      "     people\n",
      "\n",
      "     plot\n",
      "\n",
      "     profile_information\n",
      "\n",
      "     report\n"
     ]
    }
   ],
   "source": [
    "!./miner/app.py --help"
   ]
  },
  {
   "cell_type": "markdown",
   "metadata": {},
   "source": [
    "### Friends"
   ]
  },
  {
   "cell_type": "code",
   "execution_count": 5,
   "metadata": {},
   "outputs": [
    {
     "name": "stdout",
     "output_type": "stream",
     "text": [
      "INFO: Showing help with the command 'Facebook-Data-Miner friends -- --help'.\n",
      "\n",
      "\u001b[1mNAME\u001b[0m\n",
      "    Facebook-Data-Miner friends - Mi van\n",
      "\n",
      "\u001b[1mSYNOPSIS\u001b[0m\n",
      "    Facebook-Data-Miner friends <flags>\n",
      "\n",
      "\u001b[1mDESCRIPTION\u001b[0m\n",
      "    @param sort: a\n",
      "    @param dates: b\n",
      "    @param output: c\n",
      "    @return: list of friends, sorted by @sort, with dates of making friend if @dates is True,\n",
      "    saved in a csv or json file if @output is a valid path.\n",
      "\n",
      "\u001b[1mFLAGS\u001b[0m\n",
      "    --sort=\u001b[4mSORT\u001b[0m\n",
      "    --dates=\u001b[4mDATES\u001b[0m\n",
      "    --output=\u001b[4mOUTPUT\u001b[0m\n"
     ]
    }
   ],
   "source": [
    "!./miner/app.py friends --help"
   ]
  },
  {
   "cell_type": "markdown",
   "metadata": {},
   "source": [
    "As you can see friends does not have further executable commands you can follow it up with. The description should be quite clear about what these params/flags can do. Let's just first use it without flags."
   ]
  },
  {
   "cell_type": "code",
   "execution_count": 6,
   "metadata": {},
   "outputs": [
    {
     "name": "stdout",
     "output_type": "stream",
     "text": [
      "timestamp,name\n",
      "2020-02-06 15:25:00,Guy Fawkes\n",
      "2020-02-06 15:26:40,Daisy Duck\n",
      "2020-02-06 15:29:01,Teflon Musk\n",
      "2020-02-12 17:01:52,Dér Dénes\n",
      "2020-02-21 14:07:59,Tőke Hal\n",
      "2020-03-14 21:54:52,Foo Bar\n",
      "2020-03-15 20:18:28,Szett Droxler\n",
      "2020-04-09 21:42:05,Donald Duck\n",
      "2020-05-28 15:41:59,John Doe\n",
      "\n"
     ]
    }
   ],
   "source": [
    "!./miner/app.py friends"
   ]
  },
  {
   "cell_type": "code",
   "execution_count": 7,
   "metadata": {},
   "outputs": [
    {
     "name": "stdout",
     "output_type": "stream",
     "text": [
      "timestamp,name\n",
      "2020-02-06 15:26:40,Daisy Duck\n",
      "2020-04-09 21:42:05,Donald Duck\n",
      "2020-02-12 17:01:52,Dér Dénes\n",
      "2020-03-14 21:54:52,Foo Bar\n",
      "2020-02-06 15:25:00,Guy Fawkes\n",
      "2020-05-28 15:41:59,John Doe\n",
      "2020-03-15 20:18:28,Szett Droxler\n",
      "2020-02-06 15:29:01,Teflon Musk\n",
      "2020-02-21 14:07:59,Tőke Hal\n",
      "\n"
     ]
    }
   ],
   "source": [
    "!./miner/app.py friends --sort=name"
   ]
  },
  {
   "cell_type": "code",
   "execution_count": 8,
   "metadata": {},
   "outputs": [
    {
     "name": "stdout",
     "output_type": "stream",
     "text": [
      ",name\n",
      "0,Daisy Duck\n",
      "1,Donald Duck\n",
      "2,Dér Dénes\n",
      "3,Foo Bar\n",
      "4,Guy Fawkes\n",
      "5,John Doe\n",
      "6,Szett Droxler\n",
      "7,Teflon Musk\n",
      "8,Tőke Hal\n",
      "\n"
     ]
    }
   ],
   "source": [
    "!./miner/app.py friends --sort=name --dates=False"
   ]
  },
  {
   "cell_type": "markdown",
   "metadata": {},
   "source": [
    "Notice that this ouput is formatted as a CSV. You can aslo format it as a `json`. Just pass `json` as the value of the `--output` flag."
   ]
  },
  {
   "cell_type": "code",
   "execution_count": 9,
   "metadata": {},
   "outputs": [
    {
     "name": "stdout",
     "output_type": "stream",
     "text": [
      "{\"name\":{\"1581002800000\":\"Daisy Duck\",\"1586468525000\":\"Donald Duck\",\"1581526912000\":\"D\\u00e9r D\\u00e9nes\",\"1584222892000\":\"Foo Bar\",\"1581002700000\":\"Guy Fawkes\",\"1590680519000\":\"John Doe\",\"1584303508000\":\"Szett Droxler\",\"1581002941000\":\"Teflon Musk\",\"1582294079000\":\"T\\u0151ke Hal\"}}\n"
     ]
    }
   ],
   "source": [
    "!./miner/app.py friends --sort=name --output=json"
   ]
  },
  {
   "cell_type": "markdown",
   "metadata": {},
   "source": [
    "We can also write this to an `output` file instead of `stdout`."
   ]
  },
  {
   "cell_type": "code",
   "execution_count": 10,
   "metadata": {},
   "outputs": [
    {
     "name": "stdout",
     "output_type": "stream",
     "text": [
      "Data was written to /home/levente/projects/facebook-data-miner/notebooks/out.csv\n"
     ]
    }
   ],
   "source": [
    "!./miner/app.py friends --sort=name --output=$PWD/notebooks/out.csv # TODO"
   ]
  },
  {
   "cell_type": "code",
   "execution_count": 11,
   "metadata": {},
   "outputs": [
    {
     "name": "stdout",
     "output_type": "stream",
     "text": [
      "timestamp,name\n",
      "2020-02-06 15:26:40,Daisy Duck\n",
      "2020-04-09 21:42:05,Donald Duck\n",
      "2020-02-12 17:01:52,Dér Dénes\n",
      "2020-03-14 21:54:52,Foo Bar\n",
      "2020-02-06 15:25:00,Guy Fawkes\n",
      "2020-05-28 15:41:59,John Doe\n",
      "2020-03-15 20:18:28,Szett Droxler\n",
      "2020-02-06 15:29:01,Teflon Musk\n",
      "2020-02-21 14:07:59,Tőke Hal\n"
     ]
    }
   ],
   "source": [
    "!cat $PWD/notebooks/out.csv"
   ]
  },
  {
   "cell_type": "markdown",
   "metadata": {},
   "source": [
    "Or you can write it to a json, just add a filename that ends with `.json`."
   ]
  },
  {
   "cell_type": "code",
   "execution_count": 12,
   "metadata": {},
   "outputs": [
    {
     "name": "stdout",
     "output_type": "stream",
     "text": [
      "Data was written to /home/levente/projects/facebook-data-miner/notebooks/out.json\n"
     ]
    }
   ],
   "source": [
    "!./miner/app.py friends --sort=name --output=$PWD/notebooks/out.json # TODO"
   ]
  },
  {
   "cell_type": "code",
   "execution_count": 13,
   "metadata": {},
   "outputs": [
    {
     "name": "stdout",
     "output_type": "stream",
     "text": [
      "{\"name\":{\"1581002800000\":\"Daisy Duck\",\"1586468525000\":\"Donald Duck\",\"1581526912000\":\"D\\u00e9r D\\u00e9nes\",\"1584222892000\":\"Foo Bar\",\"1581002700000\":\"Guy Fawkes\",\"1590680519000\":\"John Doe\",\"1584303508000\":\"Szett Droxler\",\"1581002941000\":\"Teflon Musk\",\"1582294079000\":\"T\\u0151ke Hal\"}}"
     ]
    }
   ],
   "source": [
    "!cat $PWD/notebooks/out.json"
   ]
  },
  {
   "cell_type": "markdown",
   "metadata": {},
   "source": [
    "Let's clear up."
   ]
  },
  {
   "cell_type": "code",
   "execution_count": 14,
   "metadata": {},
   "outputs": [],
   "source": [
    "!rm $PWD/notebooks/out.csv\n",
    "!rm $PWD/notebooks/out.json"
   ]
  },
  {
   "cell_type": "markdown",
   "metadata": {},
   "source": [
    "### Conversations\n",
    "Conversations is also an interface that points to a single function. So let's dive into it."
   ]
  },
  {
   "cell_type": "code",
   "execution_count": 15,
   "metadata": {},
   "outputs": [
    {
     "name": "stdout",
     "output_type": "stream",
     "text": [
      "INFO: Showing help with the command 'Facebook-Data-Miner conversations -- --help'.\n",
      "\n",
      "\u001b[1mNAME\u001b[0m\n",
      "    Facebook-Data-Miner conversations - @param kind: @param channels: @param cols: @param output: @return:\n",
      "\n",
      "\u001b[1mSYNOPSIS\u001b[0m\n",
      "    Facebook-Data-Miner conversations <flags>\n",
      "\n",
      "\u001b[1mDESCRIPTION\u001b[0m\n",
      "    @param kind: @param channels: @param cols: @param output: @return:\n",
      "\n",
      "\u001b[1mFLAGS\u001b[0m\n",
      "    --kind=\u001b[4mKIND\u001b[0m\n",
      "    --channels=\u001b[4mCHANNELS\u001b[0m\n",
      "    --cols=\u001b[4mCOLS\u001b[0m\n",
      "    --output=\u001b[4mOUTPUT\u001b[0m\n"
     ]
    }
   ],
   "source": [
    "!./miner/app.py conversations --help"
   ]
  },
  {
   "cell_type": "code",
   "execution_count": 16,
   "metadata": {},
   "outputs": [
    {
     "name": "stdout",
     "output_type": "stream",
     "text": [
      "timestamp_ms,sender_name,content,type,partner,videos,audio_files,photos,gifs,reactions,files\n",
      "2014-09-24 17:02:08.715,Levente Csőke,are you the real teflon musk?,Generic,Teflon Musk,,,,,,\n",
      "2014-11-09 19:56:46.047,Levente Csőke,older stuff,Generic,Tőke Hal,,,,,,\n",
      "2014-11-09 20:13:26.047,Tőke Hal,testing multiple files,Generic,Tőke Hal,,,,,,\n",
      "2014-11-09 23:13:48.715,Levente Csőke,yo,Generic,Tőke Hal,,,,,,\n",
      "2014-11-09 23:13:48.715,Levente Csőke,are you the real teflon musk?,Generic,Teflon Musk,,,,,,\n",
      "2014-11-10 12:20:06.047,Tőke Hal,yo,Generic,Tőke Hal,,,,,,\n",
      "2014-11-10 12:21:46.047,Tőke Hal,zup,Generic,Tőke Hal,,,,,,\n",
      "2014-11-10 12:21:46.047,Teflon Musk,no,Generic,Teflon Musk,,,,,,\n",
      "2014-11-10 12:26:46.047,Teflon Musk,no,Generic,Teflon Musk,,,,,,\n",
      "2014-11-10 12:30:45.145,Levente Csőke,not much,Generic,Tőke Hal,,,,,,\n",
      "2014-11-22 02:17:25.145,Levente Csőke,,Generic,Teflon Musk,,,[{'uri': 'messages/inbox/TeflonMusk_fSD454F/photos/index.jpeg'}],,,\n",
      "2014-12-03 16:07:25.145,Levente Csőke,not,Generic,Tőke Hal,,,,,,\n",
      "2014-12-26 20:01:46.047,Teflon Musk,,Generic,Teflon Musk,,,,,,[{'uri': 'messages/inbox/TeflonMusk_fSD454F/files/1810.04805.pdf'}]\n",
      "2018-01-10 09:00:28.715,Levente Csőke,\"yo Legyen az, hogy most megprobalok ekezet nelkul irni. Seems pretty easy. I need some english words in here. Right? A magyar szavak felismereset probalom tesztelni ezzekkel a mondatokkal.\",Generic,Benedek Elek,,,,,,\n",
      "2018-01-10 22:08:26.047,Benedek Elek,zup,Generic,Benedek Elek,,,,,,\n",
      "2018-01-10 22:17:25.145,Levente Csőke,not much,Generic,Benedek Elek,,,,,,\n",
      "2020-02-13 06:15:28.715,Levente Csőke,Lorem lorim.. foo bar 😡😡😡,Generic,Foo Bar,,,,,,\n",
      "2020-02-13 06:15:38.715,Foo Bar,Ut akar ... consequat. oO wow :P xd :D,Generic,Foo Bar,,,,,\"[{'reaction': '❤', 'actor': 'Levente Csőke'}]\",\n",
      "2020-02-14 01:42:08.145,Levente Csőke,,Generic,Foo Bar,,,[{'uri': 'messages/inbox/FooBar_n5fd6gG50h/photos/blueberry-5417154_960_720.jpg'}],,,\n",
      "2020-02-14 04:28:48.047,Foo Bar,,Generic,Foo Bar,,,,,,[{'uri': 'messages/inbox/FooBar_n5fd6gG50h/files/1810.04805.pdf'}]\n",
      "2020-02-14 12:48:48.047,Levente Csőke,Duis duia .. ! xdddddd :D,Generic,Foo Bar,,,,,,\n",
      "2020-02-14 15:35:28.047,Foo Bar,Excepteur...laborum. :D,Generic,Foo Bar,,,,,,\n",
      "2020-02-14 18:22:08.145,Levente Csőke,,Generic,Foo Bar,,,,[{'uri': 'messages/inbox/FooBar_n5fd6gG50h/gifs/97999627_1419172538270405_8596479473619042304_n_2963870430335255.gif'}],\"[{'reaction': '😮', 'actor': 'Foo Bar'}]\",\n",
      "2020-02-18 00:08:48.047,Levente Csőke,What the hack? xdddddd :D,Generic,Foo Bar,,,,,,\n",
      "2020-02-18 08:28:48.145,Foo Bar,,Generic,Foo Bar,,,,[{'uri': 'messages/inbox/FooBar_n5fd6gG50h/gifs/19349964_1624604560892442_7457726181358436352_n_487109582171361.gif'}],\"[{'reaction': '❤', 'actor': 'Levente Csőke'}]\",\n",
      "2020-02-26 13:42:08.145,Levente Csőke,,Generic,Foo Bar,,,[{'uri': 'messages/inbox/FooBar_n5fd6gG50h/photos/apple-5391076_960_720.jpg'}],,,\n",
      "2020-03-09 11:48:48.047,Foo Bar,,Generic,Foo Bar,,\"[{'uri': 'messages/inbox/FooBar_n5fd6gG50h/audio/audioclip15905232600004598_2621787141481389.mp4', 'creation_timestamp': 1583750927}]\",,,,\n",
      "2020-04-02 20:08:48.047,Levente Csőke,Whet? Check this! :P,Generic,Foo Bar,,,,,,\n",
      "2020-04-25 23:42:08.047,Levente Csőke,,Generic,Foo Bar,\"[{'uri': 'messages/inbox/FooBar_n5fd6gG50h/videos/video1501528035_1573509826004448.mp4', 'creation_timestamp': 1587850940, 'thumbnail': {'uri': 'messages/inbox/FooBar_n5fd6gG50h/videos/thumbnails/20562500_1414664788613193_5052712665724834582_n.jpg'}}]\",,,,,\n",
      "2020-05-03 12:15:28.123,Foo Bar,OUT!,Generic,Foo Bar,,,,,,\n",
      "2020-08-08 20:22:08.321,Levente Csőke,OUT! ❤,Generic,Foo Bar,,,,,,\n",
      "\n"
     ]
    }
   ],
   "source": [
    "!./miner/app.py conversations"
   ]
  },
  {
   "cell_type": "markdown",
   "metadata": {},
   "source": [
    "As you can see calling this node of the interfacer prints out all the data private conversation data we have. We don's see, but the parameter `kind` itnernally defaults to `private`. We can change this to `group`."
   ]
  },
  {
   "cell_type": "code",
   "execution_count": 17,
   "metadata": {},
   "outputs": [
    {
     "name": "stdout",
     "output_type": "stream",
     "text": [
      "timestamp_ms,sender_name,content,type,partner,photos,gifs\n",
      "2011-07-17 15:00:08.580,Donald Duck,test,Generic,\"Tőke Hal, Foo Bar, Donald Duck and 2 others\",,\n",
      "2011-07-17 15:00:08.580,Levente Csőke,test,Generic,\"Foo Bar, John Doe and Teflon Musk\",,\n",
      "2011-07-17 15:00:13.721,Foo Bar,what do you test,Generic,\"Tőke Hal, Foo Bar, Donald Duck and 2 others\",,\n",
      "2011-07-17 15:00:13.721,Foo Bar,what do you test,Generic,\"Foo Bar, John Doe and Teflon Musk\",,\n",
      "2011-07-17 15:00:32.011,Tőke Hal,basic group messages,Generic,\"Tőke Hal, Foo Bar, Donald Duck and 2 others\",,\n",
      "2011-07-17 15:00:32.012,Dér Dénes,blabla,Generic,\"Tőke Hal, Foo Bar, Donald Duck and 2 others\",,\n",
      "2011-07-17 15:00:32.012,Teflon Musk,basic group messages,Generic,\"Foo Bar, John Doe and Teflon Musk\",,\n",
      "2011-07-17 15:02:54.237,John Doe,ok,Generic,\"Foo Bar, John Doe and Teflon Musk\",,\n",
      "2011-07-17 15:02:54.237,Facebook User,ok,Generic,\"Tőke Hal, Foo Bar, Donald Duck and 2 others\",,\n",
      "2018-04-19 12:31:42.152,Levente Csőke,marathon?,Generic,marathon,,\n",
      "2018-04-19 12:32:21.074,Foo Bar,yapp yapp :D,Generic,marathon,,\n",
      "2018-04-19 12:32:35.273,Levente Csőke,You named the group marathon.,Generic,marathon,,\n",
      "2018-04-19 13:35:37.066,Donald Duck,,Generic,marathon,,[{'uri': 'messages/inbox/marathon_sfFSFiD76/gifs/21297336_10214236646047101_8870179296803553280_n_2116299178397271.gif'}]\n",
      "2018-04-19 13:35:49.717,Donald Duck,i start today,Generic,marathon,,\n",
      "2018-04-19 13:37:39.673,Donald Duck,,Generic,marathon,\"[{'uri': 'messages/inbox/marathon_sfFSFiD76/photos/index.jpeg', 'creation_timestamp': 1524137857}]\",\n",
      "2018-04-19 13:38:02.444,Donald Duck,we could go but running is free,Generic,marathon,,\n",
      "2018-04-19 13:38:32.776,Levente Csőke,hmmm,Generic,marathon,,\n",
      "2018-04-19 14:52:39.709,Donald Duck,:D,Generic,marathon,,\n",
      "\n"
     ]
    }
   ],
   "source": [
    "!./miner/app.py conversations --kind=group"
   ]
  },
  {
   "cell_type": "markdown",
   "metadata": {},
   "source": [
    "You can also filter the conversations to some specific channels."
   ]
  },
  {
   "cell_type": "code",
   "execution_count": 18,
   "metadata": {},
   "outputs": [
    {
     "name": "stdout",
     "output_type": "stream",
     "text": [
      "timestamp_ms,sender_name,files,type,photos,content,partner,videos,audio_files,gifs,reactions\n",
      "2014-09-24 17:02:08.715,Levente Csőke,,Generic,,are you the real teflon musk?,Teflon Musk,,,,\n",
      "2014-11-09 23:13:48.715,Levente Csőke,,Generic,,are you the real teflon musk?,Teflon Musk,,,,\n",
      "2014-11-10 12:21:46.047,Teflon Musk,,Generic,,no,Teflon Musk,,,,\n",
      "2014-11-10 12:26:46.047,Teflon Musk,,Generic,,no,Teflon Musk,,,,\n",
      "2014-11-22 02:17:25.145,Levente Csőke,,Generic,[{'uri': 'messages/inbox/TeflonMusk_fSD454F/photos/index.jpeg'}],,Teflon Musk,,,,\n",
      "2014-12-26 20:01:46.047,Teflon Musk,[{'uri': 'messages/inbox/TeflonMusk_fSD454F/files/1810.04805.pdf'}],Generic,,,Teflon Musk,,,,\n",
      "2020-02-13 06:15:28.715,Levente Csőke,,Generic,,Lorem lorim.. foo bar 😡😡😡,Foo Bar,,,,\n",
      "2020-02-13 06:15:38.715,Foo Bar,,Generic,,Ut akar ... consequat. oO wow :P xd :D,Foo Bar,,,,\"[{'reaction': '❤', 'actor': 'Levente Csőke'}]\"\n",
      "2020-02-14 01:42:08.145,Levente Csőke,,Generic,[{'uri': 'messages/inbox/FooBar_n5fd6gG50h/photos/blueberry-5417154_960_720.jpg'}],,Foo Bar,,,,\n",
      "2020-02-14 04:28:48.047,Foo Bar,[{'uri': 'messages/inbox/FooBar_n5fd6gG50h/files/1810.04805.pdf'}],Generic,,,Foo Bar,,,,\n",
      "2020-02-14 12:48:48.047,Levente Csőke,,Generic,,Duis duia .. ! xdddddd :D,Foo Bar,,,,\n",
      "2020-02-14 15:35:28.047,Foo Bar,,Generic,,Excepteur...laborum. :D,Foo Bar,,,,\n",
      "2020-02-14 18:22:08.145,Levente Csőke,,Generic,,,Foo Bar,,,[{'uri': 'messages/inbox/FooBar_n5fd6gG50h/gifs/97999627_1419172538270405_8596479473619042304_n_2963870430335255.gif'}],\"[{'reaction': '😮', 'actor': 'Foo Bar'}]\"\n",
      "2020-02-18 00:08:48.047,Levente Csőke,,Generic,,What the hack? xdddddd :D,Foo Bar,,,,\n",
      "2020-02-18 08:28:48.145,Foo Bar,,Generic,,,Foo Bar,,,[{'uri': 'messages/inbox/FooBar_n5fd6gG50h/gifs/19349964_1624604560892442_7457726181358436352_n_487109582171361.gif'}],\"[{'reaction': '❤', 'actor': 'Levente Csőke'}]\"\n",
      "2020-02-26 13:42:08.145,Levente Csőke,,Generic,[{'uri': 'messages/inbox/FooBar_n5fd6gG50h/photos/apple-5391076_960_720.jpg'}],,Foo Bar,,,,\n",
      "2020-03-09 11:48:48.047,Foo Bar,,Generic,,,Foo Bar,,\"[{'uri': 'messages/inbox/FooBar_n5fd6gG50h/audio/audioclip15905232600004598_2621787141481389.mp4', 'creation_timestamp': 1583750927}]\",,\n",
      "2020-04-02 20:08:48.047,Levente Csőke,,Generic,,Whet? Check this! :P,Foo Bar,,,,\n",
      "2020-04-25 23:42:08.047,Levente Csőke,,Generic,,,Foo Bar,\"[{'uri': 'messages/inbox/FooBar_n5fd6gG50h/videos/video1501528035_1573509826004448.mp4', 'creation_timestamp': 1587850940, 'thumbnail': {'uri': 'messages/inbox/FooBar_n5fd6gG50h/videos/thumbnails/20562500_1414664788613193_5052712665724834582_n.jpg'}}]\",,,\n",
      "2020-05-03 12:15:28.123,Foo Bar,,Generic,,OUT!,Foo Bar,,,,\n",
      "2020-08-08 20:22:08.321,Levente Csőke,,Generic,,OUT! ❤,Foo Bar,,,,\n",
      "\n"
     ]
    }
   ],
   "source": [
    "!./miner/app.py conversations --channels=\"Foo Bar,Teflon Musk\""
   ]
  },
  {
   "cell_type": "markdown",
   "metadata": {},
   "source": [
    "You can also filter out some columns by providing column names that you want in the output."
   ]
  },
  {
   "cell_type": "code",
   "execution_count": 19,
   "metadata": {},
   "outputs": [
    {
     "name": "stdout",
     "output_type": "stream",
     "text": [
      "timestamp_ms,sender_name,content\n",
      "2020-02-13 06:15:28.715,Levente Csőke,Lorem lorim.. foo bar 😡😡😡\n",
      "2020-02-13 06:15:38.715,Foo Bar,Ut akar ... consequat. oO wow :P xd :D\n",
      "2020-02-14 01:42:08.145,Levente Csőke,\n",
      "2020-02-14 04:28:48.047,Foo Bar,\n",
      "2020-02-14 12:48:48.047,Levente Csőke,Duis duia .. ! xdddddd :D\n",
      "2020-02-14 15:35:28.047,Foo Bar,Excepteur...laborum. :D\n",
      "2020-02-14 18:22:08.145,Levente Csőke,\n",
      "2020-02-18 00:08:48.047,Levente Csőke,What the hack? xdddddd :D\n",
      "2020-02-18 08:28:48.145,Foo Bar,\n",
      "2020-02-26 13:42:08.145,Levente Csőke,\n",
      "2020-03-09 11:48:48.047,Foo Bar,\n",
      "2020-04-02 20:08:48.047,Levente Csőke,Whet? Check this! :P\n",
      "2020-04-25 23:42:08.047,Levente Csőke,\n",
      "2020-05-03 12:15:28.123,Foo Bar,OUT!\n",
      "2020-08-08 20:22:08.321,Levente Csőke,OUT! ❤\n",
      "\n"
     ]
    }
   ],
   "source": [
    "!./miner/app.py conversations --channels=\"Foo Bar\" --cols='sender_name,content'"
   ]
  },
  {
   "cell_type": "markdown",
   "metadata": {},
   "source": [
    "As of the parameter `output`, it works the same as it works in the case of CLI node `friends`. There are 4 possibilities: format csv and json in file or on stdout."
   ]
  },
  {
   "cell_type": "markdown",
   "metadata": {},
   "source": [
    "### Messaging Analyzer\n",
    "Now we got to the most complex node in this CLI. So let's start with the help message. As you will see this only prints out information on the analyzer function's signature. "
   ]
  },
  {
   "cell_type": "code",
   "execution_count": 20,
   "metadata": {},
   "outputs": [
    {
     "name": "stdout",
     "output_type": "stream",
     "text": [
      "INFO: Showing help with the command 'Facebook-Data-Miner analyzer -- --help'.\n",
      "\n",
      "\u001b[1mNAME\u001b[0m\n",
      "    Facebook-Data-Miner analyzer\n",
      "\n",
      "\u001b[1mSYNOPSIS\u001b[0m\n",
      "    Facebook-Data-Miner analyzer <flags>\n",
      "\n",
      "\u001b[1mFLAGS\u001b[0m\n",
      "    --kind=\u001b[4mKIND\u001b[0m\n",
      "    --channels=\u001b[4mCHANNELS\u001b[0m\n",
      "    --participants=\u001b[4mPARTICIPANTS\u001b[0m\n",
      "    --senders=\u001b[4mSENDERS\u001b[0m\n",
      "    --start=\u001b[4mSTART\u001b[0m\n",
      "    --end=\u001b[4mEND\u001b[0m\n",
      "    --period=\u001b[4mPERIOD\u001b[0m\n"
     ]
    }
   ],
   "source": [
    "!./miner/app.py analyzer --help"
   ]
  },
  {
   "cell_type": "markdown",
   "metadata": {},
   "source": [
    "The function can have two distinct outcome based on wether you provide any value to the `kind` parameter. \n",
    "\n",
    "**If not**, then you will get the rather high level MessagingAnalyzer object's methods, which has functionalities that analyze messages both in private and group channels.\n",
    "\n",
    "**Otherwise**, if `kind` has the value `private` or `group`, you will get a facade object to the lower-level `{Private|Group}MessagingAnalyzer` and `{Private|Group}ConversationStats` objects. This facade has almost 50 methods, and a lot of them take parameters as well. We will cover all of the functions for the sake of completeness, and also because this notebook is a subject for tests. This will be a really long part of the notebook, but it contains most of the information. However if you want to skip to the [goodies](#report), like reports and plot, go ahead.\n",
    "\n",
    "Let's go with the first story. No value provided for `kind`."
   ]
  },
  {
   "cell_type": "code",
   "execution_count": 21,
   "metadata": {},
   "outputs": [
    {
     "name": "stdout",
     "output_type": "stream",
     "text": [
      "\u001b[1mNAME\u001b[0m\n",
      "    Facebook-Data-Miner analyzer\n",
      "\n",
      "\u001b[1mSYNOPSIS\u001b[0m\n",
      "    Facebook-Data-Miner analyzer - \u001b[4mCOMMAND\u001b[0m\n",
      "\n",
      "\u001b[1mCOMMANDS\u001b[0m\n",
      "    \u001b[1m\u001b[4mCOMMAND\u001b[0m\u001b[0m is one of the following:\n",
      "\n",
      "     get_who_i_have_private_convo_with_from_a_group\n",
      "\n",
      "     how_much_i_speak_in_private_with_group_members\n",
      "\n",
      "     is_priv_msg_first_then_group\n",
      "\n",
      "     people_i_have_group_convo_with\n",
      "\n",
      "     people_i_have_private_convo_with\n"
     ]
    }
   ],
   "source": [
    "!./miner/app.py analyzer"
   ]
  },
  {
   "cell_type": "markdown",
   "metadata": {},
   "source": [
    "Let's go over these methods. \n",
    "\n",
    "**IMPORTANT NOTE**: as you have seen the `analyzer` function has quite a lot input parameters, which of course can be empty. To tell `Python Fire` that you don't want to fill those values, you have to use a separator. The default is a dash (`-`), but you can change this to almost any character (see [this](https://google.github.io/python-fire/guide/#calling-functions) for reference)."
   ]
  },
  {
   "cell_type": "code",
   "execution_count": 22,
   "metadata": {},
   "outputs": [
    {
     "name": "stdout",
     "output_type": "stream",
     "text": [
      "INFO: Showing help with the command 'Facebook-Data-Miner analyzer - -- --help'.\n",
      "\n",
      "\u001b[1mNAME\u001b[0m\n",
      "    Facebook-Data-Miner analyzer\n",
      "\n",
      "\u001b[1mSYNOPSIS\u001b[0m\n",
      "    Facebook-Data-Miner analyzer - \u001b[4mCOMMAND\u001b[0m\n",
      "\n",
      "\u001b[1mCOMMANDS\u001b[0m\n",
      "    \u001b[1m\u001b[4mCOMMAND\u001b[0m\u001b[0m is one of the following:\n",
      "\n",
      "     get_who_i_have_private_convo_with_from_a_group\n",
      "\n",
      "     how_much_i_speak_in_private_with_group_members\n",
      "\n",
      "     is_priv_msg_first_then_group\n",
      "\n",
      "     people_i_have_group_convo_with\n",
      "\n",
      "     people_i_have_private_convo_with\n"
     ]
    }
   ],
   "source": [
    "!./miner/app.py analyzer - all_interactions --help # NOTE the single `-` after the analyzer"
   ]
  },
  {
   "cell_type": "markdown",
   "metadata": {},
   "source": [
    "Note also, that you can use `--help` with the functions as well. `Python Fire` will read the signature and the docstring of the function and create a help message from them."
   ]
  },
  {
   "cell_type": "code",
   "execution_count": 23,
   "metadata": {},
   "outputs": [
    {
     "name": "stdout",
     "output_type": "stream",
     "text": [
      "Tőke Hal\n",
      "Foo Bar\n",
      "Teflon Musk\n",
      "Benedek Elek\n"
     ]
    }
   ],
   "source": [
    "!./miner/app.py analyzer - people_i_have_private_convo_with"
   ]
  },
  {
   "cell_type": "code",
   "execution_count": 24,
   "metadata": {},
   "outputs": [
    {
     "name": "stdout",
     "output_type": "stream",
     "text": [
      "Tőke Hal\n",
      "Levente Csőke\n",
      "Dér Dénes\n",
      "Facebook User\n",
      "Donald Duck\n",
      "Foo Bar\n",
      "Teflon Musk\n",
      "John Doe\n"
     ]
    }
   ],
   "source": [
    "!./miner/app.py analyzer - people_i_have_group_convo_with"
   ]
  },
  {
   "cell_type": "code",
   "execution_count": 25,
   "metadata": {},
   "outputs": [
    {
     "name": "stdout",
     "output_type": "stream",
     "text": [
      "WARNING:root:None of the filter parameters (['Teflon Musk']) you specified exist in this df's `sender_name` column.\n",
      "Foo Bar\n",
      "Teflon Musk\n"
     ]
    }
   ],
   "source": [
    "# TODO warning because of teflons musk is in the group, but hasnt contributed\n",
    "!./miner/app.py analyzer - get_who_i_have_private_convo_with_from_a_group --group_name=marathon"
   ]
  },
  {
   "cell_type": "code",
   "execution_count": 26,
   "metadata": {},
   "outputs": [
    {
     "name": "stdout",
     "output_type": "stream",
     "text": [
      "WARNING:root:None of the filter parameters (['Teflon Musk']) you specified exist in this df's `sender_name` column.\n",
      "Foo Bar:     15\n",
      "Teflon Musk: 6\n"
     ]
    }
   ],
   "source": [
    "# TODO same error\n",
    "!./miner/app.py analyzer - how_much_i_speak_in_private_with_group_members --group_name=marathon"
   ]
  },
  {
   "cell_type": "code",
   "execution_count": 27,
   "metadata": {},
   "outputs": [
    {
     "name": "stdout",
     "output_type": "stream",
     "text": [
      "WARNING:root:None of the filter parameters (['Teflon Musk']) you specified exist in this df's `sender_name` column.\n",
      "True\n"
     ]
    }
   ],
   "source": [
    "# TODO same error\n",
    "!./miner/app.py analyzer - is_priv_msg_first_then_group --name='Foo Bar'"
   ]
  },
  {
   "cell_type": "markdown",
   "metadata": {},
   "source": [
    "#### Private and Group Messaging Analyzer\n",
    "Both `private` and `group` is created with the very same class, but since the minor differences in the inner structure of two  channels there are some methods that make more sense for one and less for the other one. But we will cover this soon.\n",
    "\n",
    "Now let's start with a help message."
   ]
  },
  {
   "cell_type": "code",
   "execution_count": 28,
   "metadata": {},
   "outputs": [
    {
     "name": "stdout",
     "output_type": "stream",
     "text": [
      "INFO: Showing help with the command 'Facebook-Data-Miner analyzer private - -- --help'.\n",
      "\n",
      "\u001b[1mNAME\u001b[0m\n",
      "    Facebook-Data-Miner analyzer private\n",
      "\n",
      "\u001b[1mSYNOPSIS\u001b[0m\n",
      "    Facebook-Data-Miner analyzer private - \u001b[4mCOMMAND\u001b[0m\n",
      "\n",
      "\u001b[1mCOMMANDS\u001b[0m\n",
      "    \u001b[1m\u001b[4mCOMMAND\u001b[0m\u001b[0m is one of the following:\n",
      "\n",
      "     all_channels\n",
      "       @param name: a partner name. @return: all channels for this partner (private and groups).\n",
      "\n",
      "     audios\n",
      "\n",
      "     average_word_length\n",
      "\n",
      "     cc\n",
      "\n",
      "     channels\n",
      "\n",
      "     contributors\n",
      "       @return:\n",
      "\n",
      "     created_by_me\n",
      "\n",
      "     creator\n",
      "\n",
      "     end\n",
      "\n",
      "     files\n",
      "\n",
      "     get_grouped_time_series_data\n",
      "\n",
      "     gifs\n",
      "\n",
      "     group_convo_map\n",
      "\n",
      "     is_group\n",
      "\n",
      "     max_channel_size\n",
      "\n",
      "     mc\n",
      "\n",
      "     mean_channel_size\n",
      "\n",
      "     media\n",
      "\n",
      "     media_mc\n",
      "\n",
      "     media_message_extractor\n",
      "\n",
      "     message_language_map\n",
      "       TODO better error handling TODO better WARNING:polyglot.detect.base:Detector is not able to detect the language reliably. WARNING:polyglot.detect.base:Detector is not able to detect the language reliably. WARNING:polyglot.detect.base:Detector is not able to detect the language reliably. WARNING:polyglot.detect.base:Detector is not able to detect the language reliably. WARNING:polyglot.detect.base:Detector is not able to detect the language reliably. WARNING:polyglot.detect.base:Detector is not able to detect the language reliably. WARNING:polyglot.detect.base:Detector is not able to detect the language reliably. test:                            Prediction is reliable: False Language 1: name: English     code: en       confidence:  83.0 read bytes:  1228 Language 2: name: un          code: un       confidence:   0.0 read bytes:     0 Language 3: name: un          code: un       confidence:   0.0 read bytes:     0 what do you test:                Prediction is reliable: True Language 1: name: English     code: en       confidence:  94.0 read bytes:  2048 Language 2: name: un          code: un       confidence:   0.0 read bytes:     0 Language 3: name: un          code: un       confidence:   0.0 read bytes:     0 basic group messages:            Prediction is reliable: True Language 1: name: English     code: en       confidence:  95.0 read bytes:  1511 Language 2: name: un          code: un       confidence:   0.0 read bytes:     0 Language 3: name: un          code: un       confidence:   0.0 read bytes:     0 blabla:                          Prediction is reliable: False Language 1: name: French      code: fr       confidence:  87.0 read bytes:  1462 Language 2: name: un          code: un       confidence:   0.0 read bytes:     0 Language 3: name: un          code: un       confidence:   0.0 read bytes:     0 ok:                              null marathon?:                       Prediction is reliable: False Language 1: name: Hungarian   code: hu       confidence:  90.0 read bytes:   455 Language 2: name: un          code: un       confidence:   0.0 read bytes:     0 Language 3: name: un          code: un       confidence:   0.0 read bytes:     0 yapp yapp :D:                    Prediction is reliable: False Language 1: name: Wolof       code: wo       confidence:  92.0 read bytes:   341 Language 2: name: un          code: un       confidence:   0.0 read bytes:     0 Language 3: name: un          code: un       confidence:   0.0 read bytes:     0 You named the group marathon.:   Prediction is reliable: True Language 1: name: English     code: en       confidence:  96.0 read bytes:  1412 Language 2: name: un          code: un       confidence:   0.0 read bytes:     0 Language 3: name: un          code: un       confidence:   0.0 read bytes:     0 i start today:                   Prediction is reliable: False Language 1: name: English     code: en       confidence:  93.0 read bytes:  1389 Language 2: name: un          code: un       confidence:   0.0 read bytes:     0 Language 3: name: un          code: un       confidence:   0.0 read bytes:     0 we could go but running is free: Prediction is reliable: True Language 1: name: English     code: en       confidence:  96.0 read bytes:  1504 Language 2: name: un          code: un       confidence:   0.0 read bytes:     0 Language 3: name: un          code: un       confidence:   0.0 read bytes:     0 hmmm:                            Prediction is reliable: False Language 1: name: English     code: en       confidence:  83.0 read bytes:   204 Language 2: name: un          code: un       confidence:   0.0 read bytes:     0 Language 3: name: un          code: un       confidence:   0.0 read bytes:     0 :D: @return:\n",
      "\n",
      "     messages\n",
      "\n",
      "     min_channel_size\n",
      "\n",
      "     most_used_msgs\n",
      "\n",
      "     most_used_words\n",
      "\n",
      "     number_of_channels\n",
      "\n",
      "     number_of_contributors\n",
      "\n",
      "     number_of_convos_created_by_me\n",
      "\n",
      "     participants\n",
      "\n",
      "     percentage_of_media_messages\n",
      "\n",
      "     percentage_of_text_messages\n",
      "\n",
      "     photos\n",
      "\n",
      "     ranking_by_statistic\n",
      "\n",
      "     reacted_messages\n",
      "\n",
      "     start\n",
      "\n",
      "     stat_per_period\n",
      "\n",
      "     text\n",
      "\n",
      "     text_mc\n",
      "\n",
      "     unique_mc\n",
      "\n",
      "     unique_wc\n",
      "\n",
      "     videos\n",
      "\n",
      "     wc\n",
      "\n",
      "     words\n"
     ]
    }
   ],
   "source": [
    "!./miner/app.py analyzer private --help"
   ]
  },
  {
   "cell_type": "markdown",
   "metadata": {},
   "source": [
    "And one for `group` as well."
   ]
  },
  {
   "cell_type": "code",
   "execution_count": 29,
   "metadata": {},
   "outputs": [
    {
     "name": "stdout",
     "output_type": "stream",
     "text": [
      "INFO: Showing help with the command 'Facebook-Data-Miner analyzer group - -- --help'.\n",
      "\n",
      "\u001b[1mNAME\u001b[0m\n",
      "    Facebook-Data-Miner analyzer group\n",
      "\n",
      "\u001b[1mSYNOPSIS\u001b[0m\n",
      "    Facebook-Data-Miner analyzer group - \u001b[4mCOMMAND\u001b[0m\n",
      "\n",
      "\u001b[1mCOMMANDS\u001b[0m\n",
      "    \u001b[1m\u001b[4mCOMMAND\u001b[0m\u001b[0m is one of the following:\n",
      "\n",
      "     all_channels\n",
      "       @param name: a partner name. @return: all channels for this partner (private and groups).\n",
      "\n",
      "     audios\n",
      "\n",
      "     average_word_length\n",
      "\n",
      "     cc\n",
      "\n",
      "     channels\n",
      "\n",
      "     contributors\n",
      "       @return:\n",
      "\n",
      "     created_by_me\n",
      "\n",
      "     creator\n",
      "\n",
      "     end\n",
      "\n",
      "     files\n",
      "\n",
      "     get_grouped_time_series_data\n",
      "\n",
      "     gifs\n",
      "\n",
      "     group_convo_map\n",
      "\n",
      "     is_group\n",
      "\n",
      "     max_channel_size\n",
      "\n",
      "     mc\n",
      "\n",
      "     mean_channel_size\n",
      "\n",
      "     media\n",
      "\n",
      "     media_mc\n",
      "\n",
      "     media_message_extractor\n",
      "\n",
      "     message_language_map\n",
      "       TODO better error handling TODO better WARNING:polyglot.detect.base:Detector is not able to detect the language reliably. WARNING:polyglot.detect.base:Detector is not able to detect the language reliably. WARNING:polyglot.detect.base:Detector is not able to detect the language reliably. WARNING:polyglot.detect.base:Detector is not able to detect the language reliably. WARNING:polyglot.detect.base:Detector is not able to detect the language reliably. WARNING:polyglot.detect.base:Detector is not able to detect the language reliably. WARNING:polyglot.detect.base:Detector is not able to detect the language reliably. test:                            Prediction is reliable: False Language 1: name: English     code: en       confidence:  83.0 read bytes:  1228 Language 2: name: un          code: un       confidence:   0.0 read bytes:     0 Language 3: name: un          code: un       confidence:   0.0 read bytes:     0 what do you test:                Prediction is reliable: True Language 1: name: English     code: en       confidence:  94.0 read bytes:  2048 Language 2: name: un          code: un       confidence:   0.0 read bytes:     0 Language 3: name: un          code: un       confidence:   0.0 read bytes:     0 basic group messages:            Prediction is reliable: True Language 1: name: English     code: en       confidence:  95.0 read bytes:  1511 Language 2: name: un          code: un       confidence:   0.0 read bytes:     0 Language 3: name: un          code: un       confidence:   0.0 read bytes:     0 blabla:                          Prediction is reliable: False Language 1: name: French      code: fr       confidence:  87.0 read bytes:  1462 Language 2: name: un          code: un       confidence:   0.0 read bytes:     0 Language 3: name: un          code: un       confidence:   0.0 read bytes:     0 ok:                              null marathon?:                       Prediction is reliable: False Language 1: name: Hungarian   code: hu       confidence:  90.0 read bytes:   455 Language 2: name: un          code: un       confidence:   0.0 read bytes:     0 Language 3: name: un          code: un       confidence:   0.0 read bytes:     0 yapp yapp :D:                    Prediction is reliable: False Language 1: name: Wolof       code: wo       confidence:  92.0 read bytes:   341 Language 2: name: un          code: un       confidence:   0.0 read bytes:     0 Language 3: name: un          code: un       confidence:   0.0 read bytes:     0 You named the group marathon.:   Prediction is reliable: True Language 1: name: English     code: en       confidence:  96.0 read bytes:  1412 Language 2: name: un          code: un       confidence:   0.0 read bytes:     0 Language 3: name: un          code: un       confidence:   0.0 read bytes:     0 i start today:                   Prediction is reliable: False Language 1: name: English     code: en       confidence:  93.0 read bytes:  1389 Language 2: name: un          code: un       confidence:   0.0 read bytes:     0 Language 3: name: un          code: un       confidence:   0.0 read bytes:     0 we could go but running is free: Prediction is reliable: True Language 1: name: English     code: en       confidence:  96.0 read bytes:  1504 Language 2: name: un          code: un       confidence:   0.0 read bytes:     0 Language 3: name: un          code: un       confidence:   0.0 read bytes:     0 hmmm:                            Prediction is reliable: False Language 1: name: English     code: en       confidence:  83.0 read bytes:   204 Language 2: name: un          code: un       confidence:   0.0 read bytes:     0 Language 3: name: un          code: un       confidence:   0.0 read bytes:     0 :D: @return:\n",
      "\n",
      "     messages\n",
      "\n",
      "     min_channel_size\n",
      "\n",
      "     most_used_msgs\n",
      "\n",
      "     most_used_words\n",
      "\n",
      "     number_of_channels\n",
      "\n",
      "     number_of_contributors\n",
      "\n",
      "     number_of_convos_created_by_me\n",
      "\n",
      "     participants\n",
      "\n",
      "     percentage_of_media_messages\n",
      "\n",
      "     percentage_of_text_messages\n",
      "\n",
      "     photos\n",
      "\n",
      "     ranking_by_statistic\n",
      "\n",
      "     reacted_messages\n",
      "\n",
      "     start\n",
      "\n",
      "     stat_per_period\n",
      "\n",
      "     text\n",
      "\n",
      "     text_mc\n",
      "\n",
      "     unique_mc\n",
      "\n",
      "     unique_wc\n",
      "\n",
      "     videos\n",
      "\n",
      "     wc\n",
      "\n",
      "     words\n"
     ]
    }
   ],
   "source": [
    "!./miner/app.py analyzer group --help"
   ]
  },
  {
   "cell_type": "markdown",
   "metadata": {},
   "source": [
    "Now as you can see both man pages look the same. \n",
    "\n",
    "As described above the facade we get exposes methods from both the higher-level MessagingAnalyzer and the lower-level ConversationStats. So in this section we will dive deep into these functionalities."
   ]
  },
  {
   "cell_type": "code",
   "execution_count": 30,
   "metadata": {},
   "outputs": [
    {
     "name": "stdout",
     "output_type": "stream",
     "text": [
      "False\n"
     ]
    }
   ],
   "source": [
    "!./miner/app.py analyzer private - is_group"
   ]
  },
  {
   "cell_type": "code",
   "execution_count": 31,
   "metadata": {},
   "outputs": [
    {
     "name": "stdout",
     "output_type": "stream",
     "text": [
      "True\n"
     ]
    }
   ],
   "source": [
    "!./miner/app.py analyzer group - is_group"
   ]
  },
  {
   "cell_type": "markdown",
   "metadata": {},
   "source": [
    "As we anticipated. Now all the channels in the two group. A channel is a conversation on Messenger with somebody or in a group."
   ]
  },
  {
   "cell_type": "code",
   "execution_count": 32,
   "metadata": {},
   "outputs": [
    {
     "name": "stdout",
     "output_type": "stream",
     "text": [
      "Teflon Musk\n",
      "Tőke Hal\n",
      "Benedek Elek\n",
      "Foo Bar\n"
     ]
    }
   ],
   "source": [
    "!./miner/app.py analyzer private - channels"
   ]
  },
  {
   "cell_type": "code",
   "execution_count": 33,
   "metadata": {},
   "outputs": [
    {
     "name": "stdout",
     "output_type": "stream",
     "text": [
      "Tőke Hal, Foo Bar, Donald Duck and 2 others\n",
      "Foo Bar, John Doe and Teflon Musk\n",
      "marathon\n"
     ]
    }
   ],
   "source": [
    "!./miner/app.py analyzer group - channels"
   ]
  },
  {
   "cell_type": "markdown",
   "metadata": {},
   "source": [
    "You can also get the number of these channels."
   ]
  },
  {
   "cell_type": "code",
   "execution_count": 34,
   "metadata": {},
   "outputs": [
    {
     "name": "stdout",
     "output_type": "stream",
     "text": [
      "3\n"
     ]
    }
   ],
   "source": [
    "!./miner/app.py analyzer group - number_of_channels"
   ]
  },
  {
   "cell_type": "markdown",
   "metadata": {},
   "source": [
    " Now all the participants of these channels."
   ]
  },
  {
   "cell_type": "code",
   "execution_count": 35,
   "metadata": {},
   "outputs": [
    {
     "name": "stdout",
     "output_type": "stream",
     "text": [
      "Benedek Elek\n",
      "Foo Bar\n",
      "Levente Csőke\n",
      "Teflon Musk\n",
      "Tőke Hal\n"
     ]
    }
   ],
   "source": [
    "!./miner/app.py analyzer private - participants"
   ]
  },
  {
   "cell_type": "code",
   "execution_count": 36,
   "metadata": {},
   "outputs": [
    {
     "name": "stdout",
     "output_type": "stream",
     "text": [
      "Donald Duck\n",
      "Dér Dénes\n",
      "Facebook User\n",
      "Foo Bar\n",
      "John Doe\n",
      "Levente Csőke\n",
      "Teflon Musk\n",
      "Tőke Hal\n"
     ]
    }
   ],
   "source": [
    "!./miner/app.py analyzer group - participants"
   ]
  },
  {
   "cell_type": "markdown",
   "metadata": {},
   "source": [
    "These are all the people who are in the above channels. Not everyone of them contributed to the channels tho'. For this to show, we have to filter the group messages into one single channel, where test user `Teflon Musk` have not contributed."
   ]
  },
  {
   "cell_type": "code",
   "execution_count": 37,
   "metadata": {},
   "outputs": [
    {
     "name": "stdout",
     "output_type": "stream",
     "text": [
      "WARNING:root:None of the filter parameters (['Teflon Musk']) you specified exist in this df's `sender_name` column.\n",
      "Donald Duck\n",
      "Foo Bar\n",
      "Levente Csőke\n",
      "Teflon Musk\n"
     ]
    }
   ],
   "source": [
    "!./miner/app.py analyzer group --channels=marathon - participants"
   ]
  },
  {
   "cell_type": "code",
   "execution_count": 38,
   "metadata": {},
   "outputs": [
    {
     "name": "stdout",
     "output_type": "stream",
     "text": [
      "WARNING:root:None of the filter parameters (['Teflon Musk']) you specified exist in this df's `sender_name` column.\n",
      "Levente Csőke\n",
      "Foo Bar\n",
      "Donald Duck\n"
     ]
    }
   ],
   "source": [
    "#TODO\n",
    "!./miner/app.py analyzer group --channels=marathon - contributors"
   ]
  },
  {
   "cell_type": "markdown",
   "metadata": {},
   "source": [
    "As you can see the number of contributors is only 3, as opposed to participants, which is 4. Note that you can use the `number_of_contributors` function as well.\n",
    "\n",
    "Next we have a `group_convo_map` data structure, which holds information on, which people is in which channel. In `private` it's fairly straightforward (if not redundant), as the channel name and the particiapant is exactly the same, but for `group` this can be really useful information."
   ]
  },
  {
   "cell_type": "code",
   "execution_count": 39,
   "metadata": {},
   "outputs": [
    {
     "name": "stdout",
     "output_type": "stream",
     "text": [
      "Tőke Hal:      [\"Tőke Hal\"]\n",
      "Levente Csőke: [\"Benedek Elek\", \"Teflon Musk\", \"Foo Bar\", \"Tőke Hal\"]\n",
      "Foo Bar:       [\"Foo Bar\"]\n",
      "Teflon Musk:   [\"Teflon Musk\"]\n",
      "Benedek Elek:  [\"Benedek Elek\"]\n"
     ]
    }
   ],
   "source": [
    "!./miner/app.py analyzer private - group_convo_map"
   ]
  },
  {
   "cell_type": "code",
   "execution_count": 40,
   "metadata": {},
   "outputs": [
    {
     "name": "stdout",
     "output_type": "stream",
     "text": [
      "Tőke Hal:      [\"Tőke Hal, Foo Bar, Donald Duck and 2 others\"]\n",
      "Levente Csőke: [\"Foo Bar, John Doe and Teflon Musk\", \"Tőke Hal, Foo Bar, Donald Duck and 2 others\", \"marathon\"]\n",
      "Dér Dénes:     [\"Tőke Hal, Foo Bar, Donald Duck and 2 others\"]\n",
      "Facebook User: [\"Tőke Hal, Foo Bar, Donald Duck and 2 others\"]\n",
      "Donald Duck:   [\"Tőke Hal, Foo Bar, Donald Duck and 2 others\", \"marathon\"]\n",
      "Foo Bar:       [\"Foo Bar, John Doe and Teflon Musk\", \"Tőke Hal, Foo Bar, Donald Duck and 2 others\", \"marathon\"]\n",
      "Teflon Musk:   [\"Foo Bar, John Doe and Teflon Musk\", \"marathon\"]\n",
      "John Doe:      [\"Foo Bar, John Doe and Teflon Musk\"]\n"
     ]
    }
   ],
   "source": [
    "!./miner/app.py analyzer group - group_convo_map"
   ]
  },
  {
   "cell_type": "markdown",
   "metadata": {},
   "source": [
    "Next let's check the number of conversations created by our test user."
   ]
  },
  {
   "cell_type": "code",
   "execution_count": 41,
   "metadata": {},
   "outputs": [
    {
     "name": "stdout",
     "output_type": "stream",
     "text": [
      "4\n"
     ]
    }
   ],
   "source": [
    "!./miner/app.py analyzer private - number_of_convos_created_by_me"
   ]
  },
  {
   "cell_type": "code",
   "execution_count": 42,
   "metadata": {},
   "outputs": [
    {
     "name": "stdout",
     "output_type": "stream",
     "text": [
      "2\n"
     ]
    }
   ],
   "source": [
    "!./miner/app.py analyzer group - number_of_convos_created_by_me"
   ]
  },
  {
   "cell_type": "markdown",
   "metadata": {},
   "source": [
    "We have the max-,mean-, and min_channel size. Again, for `private` all of this will be 2, but for `groups` it is more interesting."
   ]
  },
  {
   "cell_type": "code",
   "execution_count": 43,
   "metadata": {},
   "outputs": [
    {
     "name": "stdout",
     "output_type": "stream",
     "text": [
      "4\n"
     ]
    }
   ],
   "source": [
    "!./miner/app.py analyzer group - min_channel_size"
   ]
  },
  {
   "cell_type": "code",
   "execution_count": 44,
   "metadata": {},
   "outputs": [
    {
     "name": "stdout",
     "output_type": "stream",
     "text": [
      "4.666666666666667\n"
     ]
    }
   ],
   "source": [
    "!./miner/app.py analyzer group - mean_channel_size"
   ]
  },
  {
   "cell_type": "code",
   "execution_count": 45,
   "metadata": {},
   "outputs": [
    {
     "name": "stdout",
     "output_type": "stream",
     "text": [
      "6\n"
     ]
    }
   ],
   "source": [
    "!./miner/app.py analyzer group - max_channel_size"
   ]
  },
  {
   "cell_type": "markdown",
   "metadata": {},
   "source": [
    "We can get all the channels for one conversation partner of ours, which is again a more useful feature for `group` convos."
   ]
  },
  {
   "cell_type": "code",
   "execution_count": 46,
   "metadata": {},
   "outputs": [
    {
     "name": "stdout",
     "output_type": "stream",
     "text": [
      "Tőke Hal, Foo Bar, Donald Duck and 2 others\n",
      "Foo Bar, John Doe and Teflon Musk\n",
      "marathon\n"
     ]
    }
   ],
   "source": [
    "!./miner/app.py analyzer group - all_channels --name='Foo Bar'"
   ]
  },
  {
   "cell_type": "code",
   "execution_count": 47,
   "metadata": {},
   "outputs": [
    {
     "name": "stdout",
     "output_type": "stream",
     "text": [
      "Foo Bar, John Doe and Teflon Musk\n"
     ]
    }
   ],
   "source": [
    "!./miner/app.py analyzer group - all_channels --name='John Doe'"
   ]
  },
  {
   "cell_type": "markdown",
   "metadata": {},
   "source": [
    "Another nice function is the `ranking_by_statistic`. You can rank the participants of the conversations by some statistics."
   ]
  },
  {
   "cell_type": "code",
   "execution_count": 48,
   "metadata": {},
   "outputs": [
    {
     "name": "stdout",
     "output_type": "stream",
     "text": [
      "Foo Bar:      48.38709677419355\n",
      "Tőke Hal:     22.580645161290324\n",
      "Teflon Musk:  19.35483870967742\n",
      "Benedek Elek: 9.67741935483871\n"
     ]
    }
   ],
   "source": [
    "!./miner/app.py analyzer private - ranking_by_statistic"
   ]
  },
  {
   "cell_type": "code",
   "execution_count": 49,
   "metadata": {},
   "outputs": [
    {
     "name": "stdout",
     "output_type": "stream",
     "text": [
      "Donald Duck:   33.333333333333336\n",
      "Levente Csőke: 22.22222222222222\n",
      "Foo Bar:       16.666666666666668\n",
      "Dér Dénes:     5.555555555555555\n",
      "Facebook User: 5.555555555555555\n",
      "John Doe:      5.555555555555555\n",
      "Teflon Musk:   5.555555555555555\n",
      "Tőke Hal:      5.555555555555555\n"
     ]
    }
   ],
   "source": [
    "!./miner/app.py analyzer group - ranking_by_statistic"
   ]
  },
  {
   "cell_type": "markdown",
   "metadata": {},
   "source": [
    "Note that this function has some parameters. Let's see the manual for this function."
   ]
  },
  {
   "cell_type": "code",
   "execution_count": 50,
   "metadata": {},
   "outputs": [
    {
     "name": "stdout",
     "output_type": "stream",
     "text": [
      "INFO: Showing help with the command 'Facebook-Data-Miner analyzer group - ranking_by_statistic -- --help'.\n",
      "\n",
      "\u001b[1mNAME\u001b[0m\n",
      "    Facebook-Data-Miner analyzer group ranking_by_statistic\n",
      "\n",
      "\u001b[1mSYNOPSIS\u001b[0m\n",
      "    Facebook-Data-Miner analyzer group - ranking_by_statistic <flags>\n",
      "\n",
      "\u001b[1mFLAGS\u001b[0m\n",
      "    --by=\u001b[4mBY\u001b[0m\n",
      "    --ranking=\u001b[4mRANKING\u001b[0m\n",
      "    --top=\u001b[4mTOP\u001b[0m\n"
     ]
    }
   ],
   "source": [
    "!./miner/app.py analyzer group - ranking_by_statistic --help"
   ]
  },
  {
   "cell_type": "markdown",
   "metadata": {},
   "source": [
    "We can change the `by` parameter to word count (wc) or character count (cc)..."
   ]
  },
  {
   "cell_type": "code",
   "execution_count": 51,
   "metadata": {},
   "outputs": [
    {
     "name": "stdout",
     "output_type": "stream",
     "text": [
      "Benedek Elek: 41.56479217603912\n",
      "Foo Bar:      34.229828850855746\n",
      "Teflon Musk:  12.71393643031785\n",
      "Tőke Hal:     11.491442542787286\n"
     ]
    }
   ],
   "source": [
    "!./miner/app.py analyzer private - ranking_by_statistic --by=cc"
   ]
  },
  {
   "cell_type": "markdown",
   "metadata": {},
   "source": [
    "Note how this changes the ranking. \n",
    "\n",
    "The output shows ranking in percent, but we can change it to absolute count."
   ]
  },
  {
   "cell_type": "code",
   "execution_count": 52,
   "metadata": {},
   "outputs": [
    {
     "name": "stdout",
     "output_type": "stream",
     "text": [
      "Foo Bar:      34\n",
      "Benedek Elek: 32\n",
      "Teflon Musk:  14\n",
      "Tőke Hal:     11\n"
     ]
    }
   ],
   "source": [
    "!./miner/app.py analyzer private - ranking_by_statistic --by=wc --ranking=count"
   ]
  },
  {
   "cell_type": "markdown",
   "metadata": {},
   "source": [
    "It is quite possible that if you want to try this out with your own data, you will have tons of entries here. Change the `top` parameter if you want to limit the number of outputs."
   ]
  },
  {
   "cell_type": "code",
   "execution_count": 53,
   "metadata": {},
   "outputs": [
    {
     "name": "stdout",
     "output_type": "stream",
     "text": [
      "Foo Bar:     8\n",
      "Tőke Hal:    7\n",
      "Teflon Musk: 4\n"
     ]
    }
   ],
   "source": [
    "!./miner/app.py analyzer private - ranking_by_statistic --by=text_mc --ranking=count --top=3"
   ]
  },
  {
   "cell_type": "markdown",
   "metadata": {},
   "source": [
    "#### Private and Group ConversationStats\n",
    "\n",
    "**TL;DR**:\n",
    "We access this object's methods through the same facade through we access the Analyzer object's methods, although there is quite a difference between the two. \n",
    "\n",
    "*A detailed description:*\n",
    "As the name suggests this class is a container for holding statsictical data/information about converations. The basic concept is that it does not know general conversation metadata, since it is only constructed by the messages and the metadata of unique messages (who sent it, what kind of messages is it, when was it sent). This object is created by `MessagingAnalyzer` class by passing in the DataFrame as input. The DataFrame is created from all the conversations that the analyzer holds (remember you can filter them, down to a single conversation). \n",
    "\n",
    "So to sum it up, `MessagingAnalyzer` knows about the channels and all the metadata of the conversations, while `ConversationStats` only knows about the messages themselves.\n",
    "\n",
    "We expose `ConversationStats`' interesting properties and methods, so let's discover them."
   ]
  },
  {
   "cell_type": "code",
   "execution_count": 54,
   "metadata": {},
   "outputs": [
    {
     "name": "stdout",
     "output_type": "stream",
     "text": [
      "WARNING:root:Too many `channels` to calculate this.\n",
      "\n"
     ]
    }
   ],
   "source": [
    "!./miner/app.py analyzer private - creator"
   ]
  },
  {
   "cell_type": "markdown",
   "metadata": {},
   "source": [
    "You got a warning, because this method only makes sense if there is only one conversation under analysis. So we should filter the private conversations first."
   ]
  },
  {
   "cell_type": "code",
   "execution_count": 55,
   "metadata": {},
   "outputs": [
    {
     "name": "stdout",
     "output_type": "stream",
     "text": [
      "Levente Csőke\n"
     ]
    }
   ],
   "source": [
    "!./miner/app.py analyzer private --channels='Teflon Musk' - creator"
   ]
  },
  {
   "cell_type": "code",
   "execution_count": 56,
   "metadata": {},
   "outputs": [
    {
     "name": "stdout",
     "output_type": "stream",
     "text": [
      "WARNING:root:None of the filter parameters (['Teflon Musk']) you specified exist in this df's `sender_name` column.\n",
      "Levente Csőke\n"
     ]
    }
   ],
   "source": [
    "!./miner/app.py analyzer group --channels=marathon - creator #TODO warn"
   ]
  },
  {
   "cell_type": "markdown",
   "metadata": {},
   "source": [
    "You can get the the timestamp of the first and the last message sent. Remember if you don't filter the the messaging data, you will get the first message ever sent by or to you, and the last message before downloading your Facebook data that was sent by or to you."
   ]
  },
  {
   "cell_type": "code",
   "execution_count": 57,
   "metadata": {},
   "outputs": [
    {
     "name": "stdout",
     "output_type": "stream",
     "text": [
      "2011-07-17 15:00:08.580000\n"
     ]
    }
   ],
   "source": [
    "!./miner/app.py analyzer group - start"
   ]
  },
  {
   "cell_type": "code",
   "execution_count": 58,
   "metadata": {},
   "outputs": [
    {
     "name": "stdout",
     "output_type": "stream",
     "text": [
      "WARNING:root:None of the filter parameters (['Teflon Musk']) you specified exist in this df's `sender_name` column.\n",
      "2011-07-17 15:00:08.580000\n"
     ]
    }
   ],
   "source": [
    "# TODO why same as non-filtered start\n",
    "# TODO warn\n",
    "!./miner/app.py analyzer group --participants=\"Donald Duck\" - start"
   ]
  },
  {
   "cell_type": "code",
   "execution_count": 59,
   "metadata": {},
   "outputs": [
    {
     "name": "stdout",
     "output_type": "stream",
     "text": [
      "2014-12-26 20:01:46.047000\n"
     ]
    }
   ],
   "source": [
    "!./miner/app.py analyzer private --senders=\"Teflon Musk\" - end"
   ]
  },
  {
   "cell_type": "markdown",
   "metadata": {},
   "source": [
    "You can get all the `messages` as well, be it `text` or `media`, but you can also get these separately. Since these are pandas DataFrames, you can pipe them into an output file, just as it was possible with `friends` or `conversations`."
   ]
  },
  {
   "cell_type": "code",
   "execution_count": 60,
   "metadata": {},
   "outputs": [
    {
     "name": "stdout",
     "output_type": "stream",
     "text": [
      "timestamp_ms,content\n",
      "2014-09-24 17:02:08.715,are you the real teflon musk?\n",
      "2014-11-09 19:56:46.047,older stuff\n",
      "2014-11-09 20:13:26.047,testing multiple files\n",
      "2014-11-09 23:13:48.715,yo\n",
      "2014-11-09 23:13:48.715,are you the real teflon musk?\n",
      "2014-11-10 12:20:06.047,yo\n",
      "2014-11-10 12:21:46.047,zup\n",
      "2014-11-10 12:21:46.047,no\n",
      "2014-11-10 12:26:46.047,no\n",
      "2014-11-10 12:30:45.145,not much\n",
      "2014-12-03 16:07:25.145,not\n",
      "2018-01-10 09:00:28.715,\"yo Legyen az, hogy most megprobalok ekezet nelkul irni. Seems pretty easy. I need some english words in here. Right? A magyar szavak felismereset probalom tesztelni ezzekkel a mondatokkal.\"\n",
      "2018-01-10 22:08:26.047,zup\n",
      "2018-01-10 22:17:25.145,not much\n",
      "2020-02-13 06:15:28.715,Lorem lorim.. foo bar 😡😡😡\n",
      "2020-02-13 06:15:38.715,Ut akar ... consequat. oO wow :P xd :D\n",
      "2020-02-14 12:48:48.047,Duis duia .. ! xdddddd :D\n",
      "2020-02-14 15:35:28.047,Excepteur...laborum. :D\n",
      "2020-02-18 00:08:48.047,What the hack? xdddddd :D\n",
      "2020-04-02 20:08:48.047,Whet? Check this! :P\n",
      "2020-05-03 12:15:28.123,OUT!\n",
      "2020-08-08 20:22:08.321,OUT! ❤\n",
      "\n"
     ]
    }
   ],
   "source": [
    "!./miner/app.py analyzer private - messages"
   ]
  },
  {
   "cell_type": "code",
   "execution_count": 61,
   "metadata": {},
   "outputs": [
    {
     "name": "stdout",
     "output_type": "stream",
     "text": [
      "WARNING:root:None of the filter parameters (['Teflon Musk']) you specified exist in this df's `sender_name` column.\n",
      "timestamp_ms,content\n",
      "2011-07-17 15:00:08.580,test\n",
      "2011-07-17 15:00:13.721,what do you test\n",
      "2011-07-17 15:00:32.011,basic group messages\n",
      "2011-07-17 15:00:32.012,blabla\n",
      "2011-07-17 15:02:54.237,ok\n",
      "2018-04-19 12:31:42.152,marathon?\n",
      "2018-04-19 12:32:21.074,yapp yapp :D\n",
      "2018-04-19 12:32:35.273,You named the group marathon.\n",
      "2018-04-19 13:35:49.717,i start today\n",
      "2018-04-19 13:38:02.444,we could go but running is free\n",
      "2018-04-19 13:38:32.776,hmmm\n",
      "2018-04-19 14:52:39.709,:D\n",
      "\n"
     ]
    }
   ],
   "source": [
    "!./miner/app.py analyzer group --participants=\"Donald Duck\" - messages"
   ]
  },
  {
   "cell_type": "code",
   "execution_count": 62,
   "metadata": {},
   "outputs": [
    {
     "name": "stdout",
     "output_type": "stream",
     "text": [
      "timestamp_ms,content\n",
      "2011-07-17 15:00:08.580,test\n",
      "2018-04-19 13:35:49.717,i start today\n",
      "2018-04-19 13:38:02.444,we could go but running is free\n",
      "2018-04-19 14:52:39.709,:D\n",
      "\n"
     ]
    }
   ],
   "source": [
    "!./miner/app.py analyzer group --senders=\"Donald Duck\" - messages"
   ]
  },
  {
   "cell_type": "markdown",
   "metadata": {},
   "source": [
    "See, we can filter for `participants` and for `senders`. \n",
    "\n",
    "Filtering for the former means, we want all the messages that was sent in a channel where the subject was a participant. \n",
    "\n",
    "Filtering for the latter means we only want the subject's messages.\n",
    "\n",
    "Now let's get the text and media messages only. # TODOOOOOOOOOOOOO"
   ]
  },
  {
   "cell_type": "code",
   "execution_count": 63,
   "metadata": {},
   "outputs": [
    {
     "name": "stdout",
     "output_type": "stream",
     "text": [
      "timestamp_ms,content\n",
      "2020-02-13 06:15:28.715,Lorem lorim.. foo bar 😡😡😡\n",
      "2020-02-13 06:15:38.715,Ut akar ... consequat. oO wow :P xd :D\n",
      "2020-02-14 12:48:48.047,Duis duia .. ! xdddddd :D\n",
      "2020-02-14 15:35:28.047,Excepteur...laborum. :D\n",
      "2020-02-18 00:08:48.047,What the hack? xdddddd :D\n",
      "2020-04-02 20:08:48.047,Whet? Check this! :P\n",
      "2020-05-03 12:15:28.123,OUT!\n",
      "2020-08-08 20:22:08.321,OUT! ❤\n",
      "\n"
     ]
    }
   ],
   "source": [
    "!./miner/app.py analyzer private --channels=\"Foo Bar\" - text"
   ]
  },
  {
   "cell_type": "code",
   "execution_count": 64,
   "metadata": {},
   "outputs": [
    {
     "name": "stdout",
     "output_type": "stream",
     "text": [
      "Traceback (most recent call last):\n",
      "  File \"./miner/app.py\", line 114, in <module>\n",
      "    Fire(app, name='Facebook-Data-Miner')\n",
      "  File \"/home/levente/anaconda3/envs/fb/lib/python3.8/site-packages/fire/core.py\", line 138, in Fire\n",
      "    component_trace = _Fire(component, args, parsed_flag_args, context, name)\n",
      "  File \"/home/levente/anaconda3/envs/fb/lib/python3.8/site-packages/fire/core.py\", line 463, in _Fire\n",
      "    component, remaining_args = _CallAndUpdateTrace(\n",
      "  File \"/home/levente/anaconda3/envs/fb/lib/python3.8/site-packages/fire/core.py\", line 672, in _CallAndUpdateTrace\n",
      "    component = fn(*varargs, **kwargs)\n",
      "  File \"/home/levente/projects/facebook-data-miner/miner/visualizer/adapters.py\", line 13, in wrapper\n",
      "    res = func(*args, **kwargs)\n",
      "  File \"/home/levente/projects/facebook-data-miner/miner/visualizer/adapters.py\", line 142, in media\n",
      "    return self._stats.media\n",
      "  File \"/home/levente/projects/facebook-data-miner/miner/message/conversation_stats.py\", line 93, in media\n",
      "    return self.df[self.df.content.isna()][\n",
      "  File \"/home/levente/anaconda3/envs/fb/lib/python3.8/site-packages/pandas/core/generic.py\", line 1478, in __nonzero__\n",
      "    raise ValueError(\n",
      "ValueError: The truth value of a DataFrame is ambiguous. Use a.empty, a.bool(), a.item(), a.any() or a.all().\n"
     ]
    }
   ],
   "source": [
    "# TODO error\n",
    "!./miner/app.py analyzer private --channels=\"Foo Bar\" - media"
   ]
  },
  {
   "cell_type": "code",
   "execution_count": 65,
   "metadata": {},
   "outputs": [],
   "source": [
    "# TODO finish this"
   ]
  },
  {
   "cell_type": "markdown",
   "metadata": {},
   "source": [
    "Note that you can also filter by dates. The input flags are `start`, `end`, `period`.\n",
    "\n",
    "In [the other notebook](facebook-data-miner.ipynb) this is described as.\n",
    "> Filter by `start` and `end` is pretty intuitive. You can use both datetime objects and strings (however note that you can only use strings in this format `%Y-%m-%d` as defined in [ISO_8601](https://en.wikipedia.org/wiki/ISO_8601)). Feel free to play areound with these filter parameters.\n",
    "> Filtering by `period` is less intuitive. `period` in this context means a year, a month, a day, an hour. It is not so flexible, but pretty comfortable to use. You have to use `period` with either `start` or `end`. With `start` it's like the following equation `from start to start+period` and with `end` it's like `from end-period to end`."
   ]
  },
  {
   "cell_type": "code",
   "execution_count": 66,
   "metadata": {},
   "outputs": [
    {
     "name": "stdout",
     "output_type": "stream",
     "text": [
      "/home/levente/anaconda3/envs/fb/lib/python3.8/site-packages/pandas/core/frame.py:3990: SettingWithCopyWarning: \n",
      "A value is trying to be set on a copy of a slice from a DataFrame\n",
      "\n",
      "See the caveats in the documentation: https://pandas.pydata.org/pandas-docs/stable/user_guide/indexing.html#returning-a-view-versus-a-copy\n",
      "  return super().drop(\n",
      "timestamp_ms,content\n",
      "2018-01-10 09:00:28.715,\"yo Legyen az, hogy most megprobalok ekezet nelkul irni. Seems pretty easy. I need some english words in here. Right? A magyar szavak felismereset probalom tesztelni ezzekkel a mondatokkal.\"\n",
      "2018-01-10 22:08:26.047,zup\n",
      "2018-01-10 22:17:25.145,not much\n",
      "2020-02-13 06:15:28.715,Lorem lorim.. foo bar 😡😡😡\n",
      "2020-02-13 06:15:38.715,Ut akar ... consequat. oO wow :P xd :D\n",
      "2020-02-14 12:48:48.047,Duis duia .. ! xdddddd :D\n",
      "2020-02-14 15:35:28.047,Excepteur...laborum. :D\n",
      "2020-02-18 00:08:48.047,What the hack? xdddddd :D\n",
      "2020-04-02 20:08:48.047,Whet? Check this! :P\n",
      "2020-05-03 12:15:28.123,OUT!\n",
      "2020-08-08 20:22:08.321,OUT! ❤\n",
      "\n"
     ]
    }
   ],
   "source": [
    "# TODO SettingWithCopyWarning warning\n",
    "!./miner/app.py analyzer private --start=\"2018-01-01\" - messages"
   ]
  },
  {
   "cell_type": "code",
   "execution_count": 67,
   "metadata": {},
   "outputs": [
    {
     "name": "stdout",
     "output_type": "stream",
     "text": [
      "/home/levente/anaconda3/envs/fb/lib/python3.8/site-packages/pandas/core/frame.py:3990: SettingWithCopyWarning: \n",
      "A value is trying to be set on a copy of a slice from a DataFrame\n",
      "\n",
      "See the caveats in the documentation: https://pandas.pydata.org/pandas-docs/stable/user_guide/indexing.html#returning-a-view-versus-a-copy\n",
      "  return super().drop(\n",
      "timestamp_ms,content\n",
      "2014-09-24 17:02:08.715,are you the real teflon musk?\n",
      "2014-11-09 19:56:46.047,older stuff\n",
      "2014-11-09 20:13:26.047,testing multiple files\n",
      "2014-11-09 23:13:48.715,yo\n",
      "2014-11-09 23:13:48.715,are you the real teflon musk?\n",
      "2014-11-10 12:20:06.047,yo\n",
      "2014-11-10 12:21:46.047,zup\n",
      "2014-11-10 12:21:46.047,no\n",
      "2014-11-10 12:26:46.047,no\n",
      "2014-11-10 12:30:45.145,not much\n",
      "2014-12-03 16:07:25.145,not\n",
      "2018-01-10 09:00:28.715,\"yo Legyen az, hogy most megprobalok ekezet nelkul irni. Seems pretty easy. I need some english words in here. Right? A magyar szavak felismereset probalom tesztelni ezzekkel a mondatokkal.\"\n",
      "2018-01-10 22:08:26.047,zup\n",
      "2018-01-10 22:17:25.145,not much\n",
      "2020-02-13 06:15:28.715,Lorem lorim.. foo bar 😡😡😡\n",
      "2020-02-13 06:15:38.715,Ut akar ... consequat. oO wow :P xd :D\n",
      "2020-02-14 12:48:48.047,Duis duia .. ! xdddddd :D\n",
      "2020-02-14 15:35:28.047,Excepteur...laborum. :D\n",
      "\n"
     ]
    }
   ],
   "source": [
    "!./miner/app.py analyzer private --end=\"2020-02-15\" - messages"
   ]
  },
  {
   "cell_type": "markdown",
   "metadata": {},
   "source": [
    "Write these outputs to file like this."
   ]
  },
  {
   "cell_type": "code",
   "execution_count": 68,
   "metadata": {},
   "outputs": [
    {
     "name": "stdout",
     "output_type": "stream",
     "text": [
      "Data was written to /home/levente/projects/facebook-data-miner/out.csv\n"
     ]
    }
   ],
   "source": [
    "!./miner/app.py analyzer private - messages --output=$BASE_PATH/out.csv"
   ]
  },
  {
   "cell_type": "code",
   "execution_count": 69,
   "metadata": {},
   "outputs": [
    {
     "name": "stdout",
     "output_type": "stream",
     "text": [
      "timestamp_ms,content\n",
      "2014-09-24 17:02:08.715,are you the real teflon musk?\n",
      "2014-11-09 19:56:46.047,older stuff\n",
      "2014-11-09 20:13:26.047,testing multiple files\n",
      "2014-11-09 23:13:48.715,yo\n",
      "2014-11-09 23:13:48.715,are you the real teflon musk?\n",
      "2014-11-10 12:20:06.047,yo\n",
      "2014-11-10 12:21:46.047,zup\n",
      "2014-11-10 12:21:46.047,no\n",
      "2014-11-10 12:26:46.047,no\n",
      "2014-11-10 12:30:45.145,not much\n",
      "2014-12-03 16:07:25.145,not\n",
      "2018-01-10 09:00:28.715,\"yo Legyen az, hogy most megprobalok ekezet nelkul irni. Seems pretty easy. I need some english words in here. Right? A magyar szavak felismereset probalom tesztelni ezzekkel a mondatokkal.\"\n",
      "2018-01-10 22:08:26.047,zup\n",
      "2018-01-10 22:17:25.145,not much\n",
      "2020-02-13 06:15:28.715,Lorem lorim.. foo bar 😡😡😡\n",
      "2020-02-13 06:15:38.715,Ut akar ... consequat. oO wow :P xd :D\n",
      "2020-02-14 12:48:48.047,Duis duia .. ! xdddddd :D\n",
      "2020-02-14 15:35:28.047,Excepteur...laborum. :D\n",
      "2020-02-18 00:08:48.047,What the hack? xdddddd :D\n",
      "2020-04-02 20:08:48.047,Whet? Check this! :P\n",
      "2020-05-03 12:15:28.123,OUT!\n",
      "2020-08-08 20:22:08.321,OUT! ❤\n"
     ]
    }
   ],
   "source": [
    "!cat $BASE_PATH/out.csv"
   ]
  },
  {
   "cell_type": "code",
   "execution_count": 70,
   "metadata": {},
   "outputs": [],
   "source": [
    "!rm $BASE_PATH/out.csv # clear-up"
   ]
  },
  {
   "cell_type": "markdown",
   "metadata": {},
   "source": [
    "Get all the messages that has reaction on it? No problem."
   ]
  },
  {
   "cell_type": "code",
   "execution_count": 71,
   "metadata": {},
   "outputs": [
    {
     "name": "stdout",
     "output_type": "stream",
     "text": [
      "timestamp_ms,sender_name,content,type,partner,videos,audio_files,photos,gifs,reactions,files\n",
      "2020-02-13 06:15:38.715,Foo Bar,Ut akar ... consequat. oO wow :P xd :D,Generic,Foo Bar,,,,,\"[{'reaction': '❤', 'actor': 'Levente Csőke'}]\",\n",
      "2020-02-14 18:22:08.145,Levente Csőke,,Generic,Foo Bar,,,,[{'uri': 'messages/inbox/FooBar_n5fd6gG50h/gifs/97999627_1419172538270405_8596479473619042304_n_2963870430335255.gif'}],\"[{'reaction': '😮', 'actor': 'Foo Bar'}]\",\n",
      "2020-02-18 08:28:48.145,Foo Bar,,Generic,Foo Bar,,,,[{'uri': 'messages/inbox/FooBar_n5fd6gG50h/gifs/19349964_1624604560892442_7457726181358436352_n_487109582171361.gif'}],\"[{'reaction': '❤', 'actor': 'Levente Csőke'}]\",\n",
      "\n"
     ]
    }
   ],
   "source": [
    "!./miner/app.py analyzer private - reacted_messages"
   ]
  },
  {
   "cell_type": "markdown",
   "metadata": {},
   "source": [
    "The facade exposes low-level statistics, like `message`, `word`, `character`, `text message` and `media message` **counts**. Let's see them."
   ]
  },
  {
   "cell_type": "code",
   "execution_count": 72,
   "metadata": {},
   "outputs": [
    {
     "name": "stdout",
     "output_type": "stream",
     "text": [
      "31\n"
     ]
    }
   ],
   "source": [
    "!./miner/app.py analyzer private - mc"
   ]
  },
  {
   "cell_type": "code",
   "execution_count": 73,
   "metadata": {},
   "outputs": [
    {
     "name": "stdout",
     "output_type": "stream",
     "text": [
      "40\n"
     ]
    }
   ],
   "source": [
    "!./miner/app.py analyzer group - wc"
   ]
  },
  {
   "cell_type": "code",
   "execution_count": 74,
   "metadata": {},
   "outputs": [
    {
     "name": "stdout",
     "output_type": "stream",
     "text": [
      "0\n"
     ]
    }
   ],
   "source": [
    "# TODO does not work\n",
    "!./miner/app.py analyzer private --channels=\"Tőke Hal, Foo Bar, Donald Duck and 2 others\" - cc"
   ]
  },
  {
   "cell_type": "code",
   "execution_count": 75,
   "metadata": {},
   "outputs": [
    {
     "name": "stdout",
     "output_type": "stream",
     "text": [
      "/home/levente/anaconda3/envs/fb/lib/python3.8/site-packages/pandas/core/frame.py:3990: SettingWithCopyWarning: \n",
      "A value is trying to be set on a copy of a slice from a DataFrame\n",
      "\n",
      "See the caveats in the documentation: https://pandas.pydata.org/pandas-docs/stable/user_guide/indexing.html#returning-a-view-versus-a-copy\n",
      "  return super().drop(\n",
      "8\n"
     ]
    }
   ],
   "source": [
    "# TODO SettingWithCopyWarning warning \n",
    "!./miner/app.py analyzer private --start=\"2018-08-05\" - text_mc"
   ]
  },
  {
   "cell_type": "code",
   "execution_count": 76,
   "metadata": {},
   "outputs": [
    {
     "name": "stdout",
     "output_type": "stream",
     "text": [
      "9\n"
     ]
    }
   ],
   "source": [
    "!./miner/app.py analyzer private - media_mc"
   ]
  },
  {
   "cell_type": "markdown",
   "metadata": {},
   "source": [
    "You can get the number of unique messages or words."
   ]
  },
  {
   "cell_type": "code",
   "execution_count": 77,
   "metadata": {},
   "outputs": [
    {
     "name": "stdout",
     "output_type": "stream",
     "text": [
      "17\n"
     ]
    }
   ],
   "source": [
    "!./miner/app.py analyzer private - unique_mc"
   ]
  },
  {
   "cell_type": "code",
   "execution_count": 78,
   "metadata": {},
   "outputs": [
    {
     "name": "stdout",
     "output_type": "stream",
     "text": [
      "70\n"
     ]
    }
   ],
   "source": [
    "!./miner/app.py analyzer private - unique_wc"
   ]
  },
  {
   "cell_type": "markdown",
   "metadata": {},
   "source": [
    "Or get the most used messages and words in messenger."
   ]
  },
  {
   "cell_type": "code",
   "execution_count": 79,
   "metadata": {},
   "outputs": [
    {
     "name": "stdout",
     "output_type": "stream",
     "text": [
      ",content\n",
      "are you the real teflon musk?,2\n",
      "not much,2\n",
      "What the hack? xdddddd :D,1\n",
      "Lorem lorim.. foo bar 😡😡😡,1\n",
      "yo,1\n",
      "Duis duia .. ! xdddddd :D,1\n",
      "not,1\n",
      "\"yo Legyen az, hogy most megprobalok ekezet nelkul irni. Seems pretty easy. I need some english words in here. Right? A magyar szavak felismereset probalom tesztelni ezzekkel a mondatokkal.\",1\n",
      "older stuff,1\n",
      "OUT! ❤,1\n",
      "Whet? Check this! :P,1\n",
      "\n"
     ]
    }
   ],
   "source": [
    "!./miner/app.py analyzer private --senders=me - most_used_msgs"
   ]
  },
  {
   "cell_type": "code",
   "execution_count": 80,
   "metadata": {},
   "outputs": [
    {
     "name": "stdout",
     "output_type": "stream",
     "text": [
      ",content\n",
      "basic group messages,2\n",
      "ok,2\n",
      "what do you test,2\n",
      "test,1\n",
      ":D,1\n",
      "blabla,1\n",
      "yapp yapp :D,1\n",
      "i start today,1\n",
      "we could go but running is free,1\n",
      "\n"
     ]
    }
   ],
   "source": [
    "!./miner/app.py analyzer group --senders=partner - most_used_msgs"
   ]
  },
  {
   "cell_type": "markdown",
   "metadata": {},
   "source": [
    "You can also access all the types of media messages:\n",
    "- photos,\n",
    "- videos,\n",
    "- gifs,\n",
    "- audios,\n",
    "- files.\n",
    "\n",
    "Use any of them in the following format."
   ]
  },
  {
   "cell_type": "code",
   "execution_count": 81,
   "metadata": {},
   "outputs": [
    {
     "name": "stdout",
     "output_type": "stream",
     "text": [
      "timestamp_ms,photos\n",
      "2014-11-22 02:17:25.145,[{'uri': 'messages/inbox/TeflonMusk_fSD454F/photos/index.jpeg'}]\n",
      "2020-02-14 01:42:08.145,[{'uri': 'messages/inbox/FooBar_n5fd6gG50h/photos/blueberry-5417154_960_720.jpg'}]\n",
      "2020-02-26 13:42:08.145,[{'uri': 'messages/inbox/FooBar_n5fd6gG50h/photos/apple-5391076_960_720.jpg'}]\n",
      "\n"
     ]
    }
   ],
   "source": [
    "!./miner/app.py analyzer private - photos"
   ]
  },
  {
   "cell_type": "markdown",
   "metadata": {},
   "source": [
    "Speaking of media, you can also see the percentage of media messages and its opposite, percentage of text messages."
   ]
  },
  {
   "cell_type": "code",
   "execution_count": 82,
   "metadata": {},
   "outputs": [
    {
     "name": "stdout",
     "output_type": "stream",
     "text": [
      "70.96774193548387\n"
     ]
    }
   ],
   "source": [
    "!./miner/app.py analyzer private - percentage_of_text_messages"
   ]
  },
  {
   "cell_type": "code",
   "execution_count": 83,
   "metadata": {},
   "outputs": [
    {
     "name": "stdout",
     "output_type": "stream",
     "text": [
      "11.111111111111114\n"
     ]
    }
   ],
   "source": [
    "!./miner/app.py analyzer group - percentage_of_media_messages"
   ]
  },
  {
   "cell_type": "markdown",
   "metadata": {},
   "source": [
    "What is your average word length?"
   ]
  },
  {
   "cell_type": "code",
   "execution_count": 84,
   "metadata": {},
   "outputs": [
    {
     "name": "stdout",
     "output_type": "stream",
     "text": [
      "5.25\n"
     ]
    }
   ],
   "source": [
    "!./miner/app.py analyzer group --senders=me - average_word_length"
   ]
  },
  {
   "cell_type": "markdown",
   "metadata": {},
   "source": [
    "Ok, we arrived at the last two features. These are rather itneresting.\n",
    "\n",
    "First let's group the low level-stats by time."
   ]
  },
  {
   "cell_type": "code",
   "execution_count": 85,
   "metadata": {},
   "outputs": [
    {
     "name": "stdout",
     "output_type": "stream",
     "text": [
      "timestamp,mc,text_mc,media_mc,wc,cc\n",
      "2014-01-01,13,11,2,25,99\n",
      "2018-01-01,3,3,0,32,170\n",
      "2020-01-01,15,8,7,34,140\n",
      "\n"
     ]
    }
   ],
   "source": [
    "!./miner/app.py analyzer private  - get_grouped_time_series_data --period=y"
   ]
  },
  {
   "cell_type": "code",
   "execution_count": 86,
   "metadata": {},
   "outputs": [
    {
     "name": "stdout",
     "output_type": "stream",
     "text": [
      "timestamp,mc,text_mc,media_mc,wc,cc\n",
      "2014-09-01,1,1,0,6,24\n",
      "2014-11-01,10,9,1,18,72\n",
      "2014-12-01,2,1,1,1,3\n",
      "2018-01-01,3,3,0,32,170\n",
      "2020-02-01,10,5,5,27,114\n",
      "2020-03-01,1,0,1,0,0\n",
      "2020-04-01,2,1,1,4,17\n",
      "2020-05-01,1,1,0,1,4\n",
      "2020-08-01,1,1,0,2,5\n",
      "\n"
     ]
    }
   ],
   "source": [
    "!./miner/app.py analyzer private  - get_grouped_time_series_data --period=m"
   ]
  },
  {
   "cell_type": "code",
   "execution_count": 87,
   "metadata": {},
   "outputs": [
    {
     "name": "stdout",
     "output_type": "stream",
     "text": [
      "timestamp,mc,text_mc,media_mc,wc,cc\n",
      "2014-09-24,1,1,0,6,24\n",
      "2014-11-09,4,4,0,12,56\n",
      "2014-11-10,5,5,0,6,16\n",
      "2014-11-22,1,0,1,0,0\n",
      "2014-12-03,1,1,0,1,3\n",
      "2014-12-26,1,0,1,0,0\n",
      "2018-01-10,3,3,0,32,170\n",
      "2020-02-13,2,2,0,14,51\n",
      "2020-02-14,5,2,3,8,42\n",
      "2020-02-18,2,1,1,5,21\n",
      "2020-02-26,1,0,1,0,0\n",
      "2020-03-09,1,0,1,0,0\n",
      "2020-04-02,1,1,0,4,17\n",
      "2020-04-25,1,0,1,0,0\n",
      "2020-05-03,1,1,0,1,4\n",
      "2020-08-08,1,1,0,2,5\n",
      "\n"
     ]
    }
   ],
   "source": [
    "!./miner/app.py analyzer private  - get_grouped_time_series_data --period=d"
   ]
  },
  {
   "cell_type": "code",
   "execution_count": 88,
   "metadata": {},
   "outputs": [
    {
     "name": "stdout",
     "output_type": "stream",
     "text": [
      "timestamp,mc,text_mc,media_mc,wc,cc\n",
      "2014-09-24 17:00:00,1,1,0,6,24\n",
      "2014-11-09 19:00:00,1,1,0,2,10\n",
      "2014-11-09 20:00:00,1,1,0,3,20\n",
      "2014-11-09 23:00:00,2,2,0,7,26\n",
      "2014-11-10 12:00:00,5,5,0,6,16\n",
      "2014-11-22 02:00:00,1,0,1,0,0\n",
      "2014-12-03 16:00:00,1,1,0,1,3\n",
      "2014-12-26 20:00:00,1,0,1,0,0\n",
      "2018-01-10 09:00:00,1,1,0,29,160\n",
      "2018-01-10 22:00:00,2,2,0,3,10\n",
      "2020-02-13 06:00:00,2,2,0,14,51\n",
      "2020-02-14 01:00:00,1,0,1,0,0\n",
      "2020-02-14 04:00:00,1,0,1,0,0\n",
      "2020-02-14 12:00:00,1,1,0,6,20\n",
      "2020-02-14 15:00:00,1,1,0,2,22\n",
      "2020-02-14 18:00:00,1,0,1,0,0\n",
      "2020-02-18 00:00:00,1,1,0,5,21\n",
      "2020-02-18 08:00:00,1,0,1,0,0\n",
      "2020-02-26 13:00:00,1,0,1,0,0\n",
      "2020-03-09 11:00:00,1,0,1,0,0\n",
      "2020-04-02 20:00:00,1,1,0,4,17\n",
      "2020-04-25 23:00:00,1,0,1,0,0\n",
      "2020-05-03 12:00:00,1,1,0,1,4\n",
      "2020-08-08 20:00:00,1,1,0,2,5\n",
      "\n"
     ]
    }
   ],
   "source": [
    "!./miner/app.py analyzer private  - get_grouped_time_series_data --period=h"
   ]
  },
  {
   "cell_type": "markdown",
   "metadata": {},
   "source": [
    "Then, let's examine in which periods were/are you the most active?\n",
    " \n",
    "Here period means something different. Note the pattern."
   ]
  },
  {
   "cell_type": "code",
   "execution_count": 89,
   "metadata": {},
   "outputs": [
    {
     "name": "stdout",
     "output_type": "stream",
     "text": [
      "2009: 0\n",
      "2010: 0\n",
      "2011: 0\n",
      "2012: 0\n",
      "2013: 0\n",
      "2014: 13\n",
      "2015: 0\n",
      "2016: 0\n",
      "2017: 0\n",
      "2018: 3\n",
      "2019: 0\n",
      "2020: 15\n"
     ]
    }
   ],
   "source": [
    "!./miner/app.py analyzer private  - stat_per_period --period=y"
   ]
  },
  {
   "cell_type": "code",
   "execution_count": 90,
   "metadata": {},
   "outputs": [
    {
     "name": "stdout",
     "output_type": "stream",
     "text": [
      "january:   3\n",
      "february:  10\n",
      "march:     1\n",
      "april:     2\n",
      "may:       1\n",
      "june:      0\n",
      "july:      0\n",
      "august:    1\n",
      "september: 1\n",
      "october:   0\n",
      "november:  10\n",
      "december:  2\n"
     ]
    }
   ],
   "source": [
    "!./miner/app.py analyzer private  - stat_per_period --period=m"
   ]
  },
  {
   "cell_type": "code",
   "execution_count": 91,
   "metadata": {},
   "outputs": [
    {
     "name": "stdout",
     "output_type": "stream",
     "text": [
      "monday:    6\n",
      "tuesday:   2\n",
      "wednesday: 6\n",
      "thursday:  3\n",
      "friday:    6\n",
      "saturday:  3\n",
      "sunday:    5\n"
     ]
    }
   ],
   "source": [
    "!./miner/app.py analyzer private  - stat_per_period --period=d"
   ]
  },
  {
   "cell_type": "code",
   "execution_count": 92,
   "metadata": {},
   "outputs": [
    {
     "name": "stdout",
     "output_type": "stream",
     "text": [
      "0:  1\n",
      "1:  1\n",
      "2:  1\n",
      "3:  0\n",
      "4:  1\n",
      "5:  0\n",
      "6:  2\n",
      "7:  0\n",
      "8:  1\n",
      "9:  1\n",
      "10: 0\n",
      "11: 1\n",
      "12: 7\n",
      "13: 1\n",
      "14: 0\n",
      "15: 1\n",
      "16: 1\n",
      "17: 1\n",
      "18: 1\n",
      "19: 1\n",
      "20: 4\n",
      "21: 0\n",
      "22: 2\n",
      "23: 3\n"
     ]
    }
   ],
   "source": [
    "!./miner/app.py analyzer private  - stat_per_period --period=h"
   ]
  },
  {
   "cell_type": "markdown",
   "metadata": {},
   "source": [
    "### People\n",
    "People in an acstracted class which combines the people from the messaging system and your friends. It is a one-method interface."
   ]
  },
  {
   "cell_type": "code",
   "execution_count": 93,
   "metadata": {},
   "outputs": [
    {
     "name": "stdout",
     "output_type": "stream",
     "text": [
      ",name,friend,message_dir,media_dir\n",
      "0,Guy Fawkes,True,,\n",
      "1,Daisy Duck,True,,\n",
      "2,Teflon Musk,True,teflonmusk_fsd454f,TeflonMusk_fSD454F\n",
      "3,Dér Dénes,True,,\n",
      "4,Tőke Hal,True,tokehal_sdf7fs9d876,\n",
      "5,Foo Bar,True,foobar_n5fd6gG50h,FooBar_n5fd6gG50h\n",
      "6,Szett Droxler,True,,\n",
      "7,Donald Duck,True,,\n",
      "8,John Doe,True,,\n",
      "9,Benedek Elek,,benedekelek_s4f65sdg,\n",
      "10,Levente Csőke,,,\n",
      "11,Facebook User,,,\n",
      "\n"
     ]
    }
   ],
   "source": [
    "!./miner/app.py people"
   ]
  },
  {
   "cell_type": "markdown",
   "metadata": {},
   "source": [
    "You can add an `--output` flag to write this in a file as usual."
   ]
  },
  {
   "cell_type": "markdown",
   "metadata": {},
   "source": [
    "### Report\n",
    "<a id='report'>The</a> `report` node of the interface creates nicely formatted tables. Let's see what's in the box."
   ]
  },
  {
   "cell_type": "code",
   "execution_count": 94,
   "metadata": {},
   "outputs": [
    {
     "name": "stdout",
     "output_type": "stream",
     "text": [
      "\u001b[1mNAME\u001b[0m\n",
      "    Facebook-Data-Miner report\n",
      "\n",
      "\u001b[1mSYNOPSIS\u001b[0m\n",
      "    Facebook-Data-Miner report \u001b[4mCOMMAND\u001b[0m\n",
      "\n",
      "\u001b[1mCOMMANDS\u001b[0m\n",
      "    \u001b[1m\u001b[4mCOMMAND\u001b[0m\u001b[0m is one of the following:\n",
      "\n",
      "     basic_stats\n",
      "\n",
      "     stats_per_period\n"
     ]
    }
   ],
   "source": [
    "!./miner/app.py report"
   ]
  },
  {
   "cell_type": "code",
   "execution_count": 95,
   "metadata": {},
   "outputs": [
    {
     "name": "stdout",
     "output_type": "stream",
     "text": [
      "+---------+--------------+---------------+------+-----------+----------------+-------------+\n",
      "| Message | Text message | Media message | Word | Character | Unique message | Unique word |\n",
      "+---------+--------------+---------------+------+-----------+----------------+-------------+\n",
      "|    31   |      22      |       9       |  91  |    409    |       17       |      70     |\n",
      "+---------+--------------+---------------+------+-----------+----------------+-------------+\n"
     ]
    }
   ],
   "source": [
    "!./miner/app.py report basic_stats"
   ]
  },
  {
   "cell_type": "markdown",
   "metadata": {},
   "source": [
    "We have seent his already, but this output looks more concise and prettier of course.\n",
    "\n",
    "The following tables would be familiar as well."
   ]
  },
  {
   "cell_type": "code",
   "execution_count": 96,
   "metadata": {},
   "outputs": [
    {
     "name": "stdout",
     "output_type": "stream",
     "text": [
      "+-----------+------+------+------+------+------+------+------+------+------+------+------+------+\n",
      "|           | 2009 | 2010 | 2011 | 2012 | 2013 | 2014 | 2015 | 2016 | 2017 | 2018 | 2019 | 2020 |\n",
      "+-----------+------+------+------+------+------+------+------+------+------+------+------+------+\n",
      "|  Message  |  0   |  0   |  0   |  0   |  0   |  13  |  0   |  0   |  0   |  3   |  0   |  15  |\n",
      "|    Word   |  0   |  0   |  0   |  0   |  0   |  25  |  0   |  0   |  0   |  32  |  0   |  34  |\n",
      "| Character |  0   |  0   |  0   |  0   |  0   |  99  |  0   |  0   |  0   | 170  |  0   | 140  |\n",
      "+-----------+------+------+------+------+------+------+------+------+------+------+------+------+\n"
     ]
    }
   ],
   "source": [
    "!./miner/app.py report stats_per_period --period=y"
   ]
  },
  {
   "cell_type": "code",
   "execution_count": 97,
   "metadata": {},
   "outputs": [
    {
     "name": "stdout",
     "output_type": "stream",
     "text": [
      "+-----------+---------+----------+-------+-------+-----+------+------+--------+-----------+---------+----------+----------+\n",
      "|           | january | february | march | april | may | june | july | august | september | october | november | december |\n",
      "+-----------+---------+----------+-------+-------+-----+------+------+--------+-----------+---------+----------+----------+\n",
      "|  Message  |    3    |    10    |   1   |   2   |  1  |  0   |  0   |   1    |     1     |    0    |    10    |    2     |\n",
      "|    Word   |    32   |    27    |   0   |   4   |  1  |  0   |  0   |   2    |     6     |    0    |    18    |    1     |\n",
      "| Character |   170   |   114    |   0   |   17  |  4  |  0   |  0   |   5    |     24    |    0    |    72    |    3     |\n",
      "+-----------+---------+----------+-------+-------+-----+------+------+--------+-----------+---------+----------+----------+\n"
     ]
    }
   ],
   "source": [
    "!./miner/app.py report stats_per_period --period=m"
   ]
  },
  {
   "cell_type": "code",
   "execution_count": 98,
   "metadata": {},
   "outputs": [
    {
     "name": "stdout",
     "output_type": "stream",
     "text": [
      "+-----------+--------+---------+-----------+----------+--------+----------+--------+\n",
      "|           | monday | tuesday | wednesday | thursday | friday | saturday | sunday |\n",
      "+-----------+--------+---------+-----------+----------+--------+----------+--------+\n",
      "|  Message  |   6    |    2    |     6     |    3     |   6    |    3     |   5    |\n",
      "|    Word   |   6    |    5    |     39    |    18    |   8    |    2     |   13   |\n",
      "| Character |   16   |    21   |    197    |    68    |   42   |    5     |   60   |\n",
      "+-----------+--------+---------+-----------+----------+--------+----------+--------+\n"
     ]
    }
   ],
   "source": [
    "!./miner/app.py report stats_per_period --period=d"
   ]
  },
  {
   "cell_type": "code",
   "execution_count": 99,
   "metadata": {},
   "outputs": [
    {
     "name": "stdout",
     "output_type": "stream",
     "text": [
      "+-----------+----+---+---+---+---+---+----+---+---+-----+----+----+----+----+----+----+----+----+----+----+----+----+----+----+\n",
      "|           | 0  | 1 | 2 | 3 | 4 | 5 | 6  | 7 | 8 |  9  | 10 | 11 | 12 | 13 | 14 | 15 | 16 | 17 | 18 | 19 | 20 | 21 | 22 | 23 |\n",
      "+-----------+----+---+---+---+---+---+----+---+---+-----+----+----+----+----+----+----+----+----+----+----+----+----+----+----+\n",
      "|  Message  | 1  | 1 | 1 | 0 | 1 | 0 | 2  | 0 | 1 |  1  | 0  | 1  | 7  | 1  | 0  | 1  | 1  | 1  | 1  | 1  | 4  | 0  | 2  | 3  |\n",
      "|    Word   | 5  | 0 | 0 | 0 | 0 | 0 | 14 | 0 | 0 |  29 | 0  | 0  | 13 | 0  | 0  | 2  | 1  | 6  | 0  | 2  | 9  | 0  | 3  | 7  |\n",
      "| Character | 21 | 0 | 0 | 0 | 0 | 0 | 51 | 0 | 0 | 160 | 0  | 0  | 40 | 0  | 0  | 22 | 3  | 24 | 0  | 10 | 42 | 0  | 10 | 26 |\n",
      "+-----------+----+---+---+---+---+---+----+---+---+-----+----+----+----+----+----+----+----+----+----+----+----+----+----+----+\n"
     ]
    }
   ],
   "source": [
    "!./miner/app.py report stats_per_period --period=h"
   ]
  },
  {
   "cell_type": "markdown",
   "metadata": {},
   "source": [
    "### Plot\n",
    "\n",
    "We can also create some plots with the plot node. See the possible comamnds you can use below.\n",
    "\n",
    "**NOTE**: since we are calling shell commands from the terminal (and possibly also because of Python Fire) the plots will not show up. There will be another notebook covering these plots."
   ]
  },
  {
   "cell_type": "code",
   "execution_count": 100,
   "metadata": {},
   "outputs": [
    {
     "name": "stdout",
     "output_type": "stream",
     "text": [
      "\u001b[1mNAME\u001b[0m\n",
      "    Facebook-Data-Miner plot\n",
      "\n",
      "\u001b[1mSYNOPSIS\u001b[0m\n",
      "    Facebook-Data-Miner plot \u001b[4mCOMMAND\u001b[0m\n",
      "\n",
      "\u001b[1mCOMMANDS\u001b[0m\n",
      "    \u001b[1m\u001b[4mCOMMAND\u001b[0m\u001b[0m is one of the following:\n",
      "\n",
      "     plot_convo_type_ratio\n",
      "\n",
      "     plot_msg_type_ratio\n",
      "\n",
      "     plot_ranking_of_friends_by_stats\n",
      "\n",
      "     plot_stat_count_over_time_series\n",
      "\n",
      "     plot_stat_count_per_time_period\n"
     ]
    }
   ],
   "source": [
    "!./miner/app.py plot"
   ]
  }
 ],
 "metadata": {
  "kernelspec": {
   "display_name": "Python 3",
   "language": "python",
   "name": "python3"
  },
  "language_info": {
   "codemirror_mode": {
    "name": "ipython",
    "version": 3
   },
   "file_extension": ".py",
   "mimetype": "text/x-python",
   "name": "python",
   "nbconvert_exporter": "python",
   "pygments_lexer": "ipython3",
   "version": "3.8.3"
  }
 },
 "nbformat": 4,
 "nbformat_minor": 4
}
